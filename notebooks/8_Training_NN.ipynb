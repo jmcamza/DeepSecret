{
 "cells": [
  {
   "cell_type": "code",
   "execution_count": 1,
   "metadata": {},
   "outputs": [
    {
     "name": "stdout",
     "output_type": "stream",
     "text": [
      "Initializing...\n",
      "\\\n",
      "    ____                 _____                     __ \n",
      "   / __ \\___  ___  ____ / ___/___  _____________  / /_\n",
      "  / / / / _ \\/ _ \\/ __ \\\\__ \\/ _ \\/ ___/ ___/ _ \\/ __/\n",
      " / /_/ /  __/  __/ /_/ /__/ /  __/ /__/ /  /  __/ /_  \n",
      "/_____/\\___/\\___/ .___/____/\\___/\\___/_/   \\___/\\__/  \n",
      "               /_/                 \n"
     ]
    }
   ],
   "source": [
    "###########   Intro      ##################################\n",
    "\n",
    "print(\"Initializing...\")\n",
    "print(r\"\"\"\\\n",
    "    ____                 _____                     __ \n",
    "   / __ \\___  ___  ____ / ___/___  _____________  / /_\n",
    "  / / / / _ \\/ _ \\/ __ \\\\__ \\/ _ \\/ ___/ ___/ _ \\/ __/\n",
    " / /_/ /  __/  __/ /_/ /__/ /  __/ /__/ /  /  __/ /_  \n",
    "/_____/\\___/\\___/ .___/____/\\___/\\___/_/   \\___/\\__/  \n",
    "               /_/                 \"\"\")"
   ]
  },
  {
   "cell_type": "code",
   "execution_count": 2,
   "metadata": {},
   "outputs": [
    {
     "name": "stdout",
     "output_type": "stream",
     "text": [
      "Importing libraries...\n",
      "Import sucessfull...\n"
     ]
    }
   ],
   "source": [
    "\n",
    "################## Import libraries ####################\n",
    "\n",
    "print(\"Importing libraries...\")\n",
    "\n",
    "#Specify GPU modules to use\n",
    "import os\n",
    "os.environ['TF_CPP_MIN_LOG_LEVEL']='2'\n",
    "os.environ[\"CUDA_VISIBLE_DEVICES\"]=\"0\"\n",
    "\n",
    "import pandas as pd\n",
    "import numpy as np\n",
    "import tensorflow as tf\n",
    "import timeit\n",
    "from matplotlib import pyplot as plt\n",
    "from scipy.stats import linregress\n",
    "import shap\n",
    "import threading, queue\n",
    "\n",
    "import random\n",
    "random.seed(7)\n",
    "\n",
    "print(\"Import sucessfull...\")"
   ]
  },
  {
   "cell_type": "code",
   "execution_count": 3,
   "metadata": {},
   "outputs": [
    {
     "name": "stdout",
     "output_type": "stream",
     "text": [
      "Loading dataset\n",
      "Importing RNAseq dataset...\n",
      "X_train shape: (25028, 18952)\n",
      "y_train shape: (25028, 1)\n",
      "X_test shape: (25028, 18952)\n",
      "y_test shape: (25028, 1)\n",
      "X_out shape: (12515, 18952)\n",
      "y_out shape: (12515, 1)\n",
      "Dataset loaded\n"
     ]
    }
   ],
   "source": [
    "######################  Loading data     #######################################\n",
    "print(\"Loading dataset\")\n",
    "print(\"Importing RNAseq dataset...\")\n",
    "\n",
    "dataset_name = \"qnorm_100_nos\"\n",
    "\n",
    "## Import train split\n",
    "dataset_file1=np.load(\"results_clean_v11_X_train_%s.npy\"%dataset_name,allow_pickle=True)\n",
    "genes=np.load(\"genes_clean_v11_train_%s.npy\"%dataset_name,allow_pickle=True)\n",
    "samples=np.load(\"samples_clean_v11_train_%s.npy\"%dataset_name,allow_pickle=True)\n",
    "X_train=pd.DataFrame(dataset_file1,index=samples,columns=genes)\n",
    "\n",
    "## Import test split\n",
    "dataset_file=np.load(\"results_clean_v11_X_test_%s.npy\"%dataset_name,allow_pickle=True)\n",
    "genes=np.load(\"genes_clean_v11_test_%s.npy\"%dataset_name,allow_pickle=True)\n",
    "samples=np.load(\"samples_clean_v11_test_%s.npy\"%dataset_name,allow_pickle=True)\n",
    "X_test=pd.DataFrame(dataset_file,index=samples,columns=genes)\n",
    "\n",
    "## Import hold-out split\n",
    "dataset_file=np.load(\"results_clean_v11_out_%s.npy\"%dataset_name,allow_pickle=True)\n",
    "genes=np.load(\"genes_clean_v11_out_%s.npy\"%dataset_name,allow_pickle=True)\n",
    "samples=np.load(\"samples_clean_v11_out_%s.npy\"%dataset_name,allow_pickle=True)\n",
    "X_out=pd.DataFrame(dataset_file,index=samples,columns=genes)\n",
    "\n",
    "## Import response variables\n",
    "y_train=np.load(\"results_clean_v11_y_train_%s.npy\"%dataset_name,allow_pickle=True)\n",
    "y_test=np.load(\"results_clean_v11_y_test_%s.npy\"%dataset_name,allow_pickle=True)\n",
    "y_out=np.load(\"results_clean_v11_yout_%s.npy\"%dataset_name,allow_pickle=True)\n",
    "\n",
    "\n",
    "print(\"X_train shape: %s\"%(str(X_train.shape)))\n",
    "print(\"y_train shape: %s\"%(str(y_train.shape)))\n",
    "print(\"X_test shape: %s\"%(str(X_test.shape)))\n",
    "print(\"y_test shape: %s\"%(str(y_test.shape)))\n",
    "\n",
    "print(\"X_out shape: %s\"%(str(X_out.shape)))\n",
    "print(\"y_out shape: %s\"%(str(y_out.shape)))\n",
    "\n",
    "print(\"Dataset loaded\")\n"
   ]
  },
  {
   "cell_type": "code",
   "execution_count": 4,
   "metadata": {},
   "outputs": [
    {
     "name": "stdout",
     "output_type": "stream",
     "text": [
      "Loading hyperparameters...\n",
      "Hyperparameters loaded\n"
     ]
    }
   ],
   "source": [
    "\n",
    "################################### Definition of Hyperparameters ##################################\n",
    "\n",
    "print(\"Loading hyperparameters...\")\n",
    "\n",
    "model_name = \"3-layers_drop_final\"\n",
    "iteration = \"1\"\n",
    "\n",
    "nodes = X_train.shape[1]\n",
    "factor = 1\n",
    "initializer = \"he_normal\"\n",
    "act_fun = \"relu\"\n",
    "out_nodes = 1\n",
    "out_fun = \"linear\"\n",
    "loss_fun = \"mean_squared_error\"\n",
    "optim = \"Adam\"\n",
    "\n",
    "batch_size = 1024\n",
    "epochs = 20\n",
    "\n",
    "print(\"Hyperparameters loaded\")"
   ]
  },
  {
   "cell_type": "code",
   "execution_count": 5,
   "metadata": {},
   "outputs": [
    {
     "name": "stdout",
     "output_type": "stream",
     "text": [
      "Defining Neural Network model...\n",
      "Model: \"3-layers_drop_final\"\n",
      "_________________________________________________________________\n",
      "Layer (type)                 Output Shape              Param #   \n",
      "=================================================================\n",
      "Input (Dense)                (None, 18952)             359197256 \n",
      "_________________________________________________________________\n",
      "dropout (Dropout)            (None, 18952)             0         \n",
      "_________________________________________________________________\n",
      "layer_1 (Dense)              (None, 18952)             359197256 \n",
      "_________________________________________________________________\n",
      "dropout_1 (Dropout)          (None, 18952)             0         \n",
      "_________________________________________________________________\n",
      "Output (Dense)               (None, 1)                 18953     \n",
      "=================================================================\n",
      "Total params: 718,413,465\n",
      "Trainable params: 718,413,465\n",
      "Non-trainable params: 0\n",
      "_________________________________________________________________\n",
      "Neural Network model defined\n"
     ]
    }
   ],
   "source": [
    "####################### Model definition ######################################\n",
    "\n",
    "print(\"Defining Neural Network model...\")\n",
    "\n",
    "model = tf.keras.Sequential(name=model_name)\n",
    "model.add(tf.keras.layers.Dense(units=nodes, input_dim=nodes, kernel_initializer=initializer, activation=act_fun, name=\"Input\"))\n",
    "model.add(tf.keras.layers.Dropout(0.5))\n",
    "model.add(tf.keras.layers.Dense(units=int(nodes*factor), kernel_initializer=initializer, activation=act_fun, name=\"layer_1\"))\n",
    "model.add(tf.keras.layers.Dropout(0.5))\n",
    "model.add(tf.keras.layers.Dense(out_nodes,activation=out_fun,name=\"Output\"))\n",
    "model.compile(loss=loss_fun, optimizer=optim)\n",
    "    \n",
    "model.summary()\n",
    "\n",
    "print(\"Neural Network model defined\")"
   ]
  },
  {
   "cell_type": "code",
   "execution_count": 6,
   "metadata": {},
   "outputs": [
    {
     "name": "stdout",
     "output_type": "stream",
     "text": [
      "Training...\n",
      "Epoch 1/20\n",
      "25/25 [==============================] - 20s 778ms/step - loss: 13701491870.9808 - val_loss: 4010878.0000\n",
      "Epoch 2/20\n",
      "25/25 [==============================] - 12s 485ms/step - loss: 2583501.7596 - val_loss: 1277705.6250\n",
      "Epoch 3/20\n",
      "25/25 [==============================] - 12s 487ms/step - loss: 1188060.7308 - val_loss: 676586.0625\n",
      "Epoch 4/20\n",
      "25/25 [==============================] - 12s 485ms/step - loss: 724107.9111 - val_loss: 340028.3125\n",
      "Epoch 5/20\n",
      "25/25 [==============================] - 12s 482ms/step - loss: 461726.0024 - val_loss: 256472.8281\n",
      "Epoch 6/20\n",
      "25/25 [==============================] - 12s 491ms/step - loss: 373960.0096 - val_loss: 237587.5625\n",
      "Epoch 7/20\n",
      "25/25 [==============================] - 12s 496ms/step - loss: 329419.8978 - val_loss: 209332.6562\n",
      "Epoch 8/20\n",
      "25/25 [==============================] - 12s 491ms/step - loss: 279242.7933 - val_loss: 185188.0938\n",
      "Epoch 9/20\n",
      "25/25 [==============================] - 12s 494ms/step - loss: 251011.0385 - val_loss: 190505.4531\n",
      "Epoch 10/20\n",
      "25/25 [==============================] - 12s 498ms/step - loss: 231506.8161 - val_loss: 201267.5781\n",
      "Epoch 11/20\n",
      "25/25 [==============================] - 12s 494ms/step - loss: 219522.1424 - val_loss: 179664.8281\n",
      "Epoch 12/20\n",
      "25/25 [==============================] - 12s 493ms/step - loss: 203131.0583 - val_loss: 190341.3125\n",
      "Epoch 13/20\n",
      "25/25 [==============================] - 13s 508ms/step - loss: 194720.5913 - val_loss: 173000.4844\n",
      "Epoch 14/20\n",
      "25/25 [==============================] - 12s 490ms/step - loss: 168522.2332 - val_loss: 169805.6719\n",
      "Epoch 15/20\n",
      "25/25 [==============================] - 12s 496ms/step - loss: 179207.0950 - val_loss: 151108.6094\n",
      "Epoch 16/20\n",
      "25/25 [==============================] - 12s 493ms/step - loss: 168977.5751 - val_loss: 153583.9062\n",
      "Epoch 17/20\n",
      "25/25 [==============================] - 12s 490ms/step - loss: 154134.5385 - val_loss: 150676.9062\n",
      "Epoch 18/20\n",
      "25/25 [==============================] - 12s 488ms/step - loss: 149607.7386 - val_loss: 150975.0938\n",
      "Epoch 19/20\n",
      "25/25 [==============================] - 12s 493ms/step - loss: 147358.8245 - val_loss: 156600.0312\n",
      "Epoch 20/20\n",
      "25/25 [==============================] - 12s 499ms/step - loss: 140411.1923 - val_loss: 156638.6250\n",
      "Training...done\n",
      "Training time: 4.264124676763701 minutes\n"
     ]
    }
   ],
   "source": [
    "#Start training\n",
    "print(\"Training...\")\n",
    "tic=timeit.default_timer()\n",
    "\n",
    "history = model.fit(X_train, y_train, validation_data=(X_test, y_test),batch_size=batch_size,epochs=epochs)\n",
    "toc=timeit.default_timer()\n",
    "\n",
    "print(\"Training...done\")\n",
    "print(\"Training time: \"+str((toc-tic)/60)+ \" minutes\")"
   ]
  },
  {
   "cell_type": "code",
   "execution_count": 7,
   "metadata": {},
   "outputs": [
    {
     "data": {
      "image/png": "[encoded data removed]",
      "text/plain": [
       "<Figure size 288x648 with 1 Axes>"
      ]
     },
     "metadata": {
      "needs_background": "light"
     },
     "output_type": "display_data"
    }
   ],
   "source": [
    "# Plot Loss over epochs\n",
    "font = {'family': 'serif',\n",
    "        'color':  'darkred',\n",
    "        'weight': 'normal',\n",
    "        'size': 16,\n",
    "        }\n",
    "font2 = {'color':  'black',\n",
    "        'weight': 'normal',\n",
    "        'size': 10,\n",
    "        }\n",
    "plt.figure(figsize=(4,9))\n",
    "plt.title('Batch size: {}'.format(str(batch_size)),fontsize=16)\n",
    "plt.plot(history.history['loss'], label='Train')\n",
    "plt.plot(history.history['val_loss'], label='Test')\n",
    "plt.xlabel(\"epochs\",fontdict=font)\n",
    "plt.ylabel(\"Loss (MSE)\",fontdict=font)\n",
    "plt.ylim(0,1e6)\n",
    "plt.xlim(0,25)\n",
    "plt.xticks(fontsize=16)\n",
    "plt.yticks(fontsize=16)\n",
    "plt.legend(loc=\"upper left\",fontsize=16)\n",
    "plt.savefig(\"training_loss_%s_%s_%sb_%se_%s.svg\"%(dataset_name,model_name,batch_size,epochs,iteration))"
   ]
  },
  {
   "cell_type": "code",
   "execution_count": 8,
   "metadata": {},
   "outputs": [
    {
     "name": "stdout",
     "output_type": "stream",
     "text": [
      "392/392 [==============================] - 3s 9ms/step - loss: 156617.5312\n"
     ]
    }
   ],
   "source": [
    "#Evaluation on hold-out set\n",
    "eval_loss=model.evaluate(x=X_out,y=y_out)"
   ]
  },
  {
   "cell_type": "code",
   "execution_count": 9,
   "metadata": {},
   "outputs": [
    {
     "name": "stdout",
     "output_type": "stream",
     "text": [
      "Evaluating model...\n"
     ]
    },
    {
     "data": {
      "image/png": "[encoded data removed]",
      "text/plain": [
       "<Figure size 432x288 with 1 Axes>"
      ]
     },
     "metadata": {
      "needs_background": "light"
     },
     "output_type": "display_data"
    }
   ],
   "source": [
    "# Plot hold-out evaluation\n",
    "print(\"Evaluating model...\")\n",
    "\n",
    "y_pred=model.predict(X_out)\n",
    "y_pred=np.reshape(y_pred,(len(y_pred),))\n",
    "\n",
    "plt.title('Model evaluation hold-out set, batch size: {}'.format(str(batch_size)),fontsize=16)\n",
    "plt.scatter(y_out, y_pred)\n",
    "plt.plot([0, 10000], [0,10000], 'k--', lw=4)\n",
    "plt.ylim(0,10000)\n",
    "plt.xlim(0,10000)\n",
    "plt.xlabel(\"Measured\",fontdict=font)\n",
    "plt.ylabel(\"Predicted\",fontdict=font)\n",
    "plt.xticks(fontsize=12)\n",
    "plt.yticks(fontsize=12)\n",
    "plt.savefig(\"hold_out_accuracy_%s_%s_%sb_%se_%s.svg\"%(dataset_name,model_name,batch_size,epochs,iteration))\n"
   ]
  },
  {
   "cell_type": "code",
   "execution_count": 10,
   "metadata": {},
   "outputs": [
    {
     "data": {
      "text/plain": [
       "(12515, 18952)"
      ]
     },
     "execution_count": 10,
     "metadata": {},
     "output_type": "execute_result"
    }
   ],
   "source": [
    "X_out.shape"
   ]
  },
  {
   "cell_type": "code",
   "execution_count": 11,
   "metadata": {},
   "outputs": [
    {
     "data": {
      "text/plain": [
       "(12515,)"
      ]
     },
     "execution_count": 11,
     "metadata": {},
     "output_type": "execute_result"
    }
   ],
   "source": [
    "y_pred.shape"
   ]
  },
  {
   "cell_type": "code",
   "execution_count": 12,
   "metadata": {},
   "outputs": [
    {
     "data": {
      "text/plain": [
       "(12515, 1)"
      ]
     },
     "execution_count": 12,
     "metadata": {},
     "output_type": "execute_result"
    }
   ],
   "source": [
    "y_out.shape"
   ]
  },
  {
   "cell_type": "code",
   "execution_count": 13,
   "metadata": {},
   "outputs": [],
   "source": [
    "y_out=np.reshape(y_out,(len(y_out),))"
   ]
  },
  {
   "cell_type": "code",
   "execution_count": 14,
   "metadata": {},
   "outputs": [
    {
     "data": {
      "text/plain": [
       "array([ 529,  398, 1250, ...,  257, 2281,  852])"
      ]
     },
     "execution_count": 14,
     "metadata": {},
     "output_type": "execute_result"
    }
   ],
   "source": [
    "y_out"
   ]
  },
  {
   "cell_type": "code",
   "execution_count": 15,
   "metadata": {},
   "outputs": [],
   "source": [
    "predictions=pd.DataFrame([y_pred,y_out]).T\n",
    "predictions.columns=[\"y_pred\",\"y_out\"]\n",
    "predictions.to_csv(\"predictions_%s_%s_%sb_%se_%s.csv\"%(dataset_name,model_name,batch_size,epochs,iteration))"
   ]
  },
  {
   "cell_type": "code",
   "execution_count": 16,
   "metadata": {},
   "outputs": [
    {
     "data": {
      "text/html": [
       "<div>\n",
       "<style scoped>\n",
       "    .dataframe tbody tr th:only-of-type {\n",
       "        vertical-align: middle;\n",
       "    }\n",
       "\n",
       "    .dataframe tbody tr th {\n",
       "        vertical-align: top;\n",
       "    }\n",
       "\n",
       "    .dataframe thead th {\n",
       "        text-align: right;\n",
       "    }\n",
       "</style>\n",
       "<table border=\"1\" class=\"dataframe\">\n",
       "  <thead>\n",
       "    <tr style=\"text-align: right;\">\n",
       "      <th></th>\n",
       "      <th>y_pred</th>\n",
       "      <th>y_out</th>\n",
       "    </tr>\n",
       "  </thead>\n",
       "  <tbody>\n",
       "    <tr>\n",
       "      <th>0</th>\n",
       "      <td>444.148315</td>\n",
       "      <td>529.0</td>\n",
       "    </tr>\n",
       "    <tr>\n",
       "      <th>1</th>\n",
       "      <td>301.409729</td>\n",
       "      <td>398.0</td>\n",
       "    </tr>\n",
       "    <tr>\n",
       "      <th>2</th>\n",
       "      <td>1185.752563</td>\n",
       "      <td>1250.0</td>\n",
       "    </tr>\n",
       "    <tr>\n",
       "      <th>3</th>\n",
       "      <td>420.034485</td>\n",
       "      <td>443.0</td>\n",
       "    </tr>\n",
       "    <tr>\n",
       "      <th>4</th>\n",
       "      <td>1827.962524</td>\n",
       "      <td>1405.0</td>\n",
       "    </tr>\n",
       "    <tr>\n",
       "      <th>5</th>\n",
       "      <td>2869.338135</td>\n",
       "      <td>3104.0</td>\n",
       "    </tr>\n",
       "    <tr>\n",
       "      <th>6</th>\n",
       "      <td>3193.208496</td>\n",
       "      <td>3633.0</td>\n",
       "    </tr>\n",
       "    <tr>\n",
       "      <th>7</th>\n",
       "      <td>228.929123</td>\n",
       "      <td>278.0</td>\n",
       "    </tr>\n",
       "    <tr>\n",
       "      <th>8</th>\n",
       "      <td>555.450806</td>\n",
       "      <td>417.0</td>\n",
       "    </tr>\n",
       "    <tr>\n",
       "      <th>9</th>\n",
       "      <td>398.463715</td>\n",
       "      <td>521.0</td>\n",
       "    </tr>\n",
       "  </tbody>\n",
       "</table>\n",
       "</div>"
      ],
      "text/plain": [
       "        y_pred   y_out\n",
       "0   444.148315   529.0\n",
       "1   301.409729   398.0\n",
       "2  1185.752563  1250.0\n",
       "3   420.034485   443.0\n",
       "4  1827.962524  1405.0\n",
       "5  2869.338135  3104.0\n",
       "6  3193.208496  3633.0\n",
       "7   228.929123   278.0\n",
       "8   555.450806   417.0\n",
       "9   398.463715   521.0"
      ]
     },
     "execution_count": 16,
     "metadata": {},
     "output_type": "execute_result"
    }
   ],
   "source": [
    "predictions[0:10]"
   ]
  },
  {
   "cell_type": "code",
   "execution_count": 17,
   "metadata": {},
   "outputs": [
    {
     "data": {
      "text/plain": [
       "array([ 444.14832,  301.40973, 1185.7526 , ...,  235.67815, 3671.903  ,\n",
       "        946.97437], dtype=float32)"
      ]
     },
     "execution_count": 17,
     "metadata": {},
     "output_type": "execute_result"
    }
   ],
   "source": [
    "y_pred"
   ]
  },
  {
   "cell_type": "code",
   "execution_count": 18,
   "metadata": {},
   "outputs": [
    {
     "data": {
      "text/plain": [
       "array([ 529,  398, 1250, ...,  257, 2281,  852])"
      ]
     },
     "execution_count": 18,
     "metadata": {},
     "output_type": "execute_result"
    }
   ],
   "source": [
    "y_out"
   ]
  },
  {
   "cell_type": "code",
   "execution_count": 23,
   "metadata": {},
   "outputs": [
    {
     "name": "stdout",
     "output_type": "stream",
     "text": [
      "Successful training!\n",
      "R²: 0.9065146314810718 p_val: 0.0\n"
     ]
    }
   ],
   "source": [
    "print(\"Successful training!\")\n",
    "slope, intercept, r_value, p_value, std_err = linregress(y_pred, y_out)\n",
    "print(\"R²: \" + str(r_value**2)+ \" p_val: \"+str(p_value))\n",
    "##Print r2 score\n",
    "file=open(\"r_scores.txt\",\"a\")\n",
    "file.write( \"{0}_{1}_{2}b_{3}e_{7} score: r2:{4}, std_err:{5}, p_val:{6}, eval_loss:{8}\".format(dataset_name,model_name,batch_size,epochs,str(r_value**2),str(std_err),str(p_value),iteration,str(eval_loss))+\"\\n\")\n",
    "file.close()"
   ]
  },
  {
   "cell_type": "code",
   "execution_count": 24,
   "metadata": {},
   "outputs": [],
   "source": [
    "#saving the model training history\n",
    "pd.DataFrame(history.history).to_csv(\"history_{0}_{1}_{2}b_{3}e_{4}.csv\".format(dataset_name,model_name,batch_size,epochs,iteration))"
   ]
  },
  {
   "cell_type": "code",
   "execution_count": 25,
   "metadata": {},
   "outputs": [
    {
     "name": "stdout",
     "output_type": "stream",
     "text": [
      "WARNING:tensorflow:AutoGraph could not transform <function TFDeep.phi_symbolic.<locals>.grad_graph at 0x7fb9ee0370d0> and will run it as-is.\n",
      "Please report this to the TensorFlow team. When filing the bug, set the verbosity to 10 (on Linux, `export AUTOGRAPH_VERBOSITY=10`) and attach the full output.\n",
      "Cause: module 'gast' has no attribute 'Index'\n",
      "To silence this warning, decorate the function with @tf.autograph.experimental.do_not_convert\n",
      "WARNING: AutoGraph could not transform <function TFDeep.phi_symbolic.<locals>.grad_graph at 0x7fb9ee0370d0> and will run it as-is.\n",
      "Please report this to the TensorFlow team. When filing the bug, set the verbosity to 10 (on Linux, `export AUTOGRAPH_VERBOSITY=10`) and attach the full output.\n",
      "Cause: module 'gast' has no attribute 'Index'\n",
      "To silence this warning, decorate the function with @tf.autograph.experimental.do_not_convert\n"
     ]
    },
    {
     "name": "stderr",
     "output_type": "stream",
     "text": [
      "keras is no longer supported, please use tf.keras instead.\n",
      "Your TensorFlow version is newer than 2.4.0 and so graph support has been removed in eager mode and some static graphs may not be supported. See PR #1483 for discussion.\n",
      "`tf.keras.backend.set_learning_phase` is deprecated and will be removed after 2020-10-11. To update it, simply pass a True/False value to the `training` argument of the `__call__` method of your layer or model.\n"
     ]
    }
   ],
   "source": [
    "# select backgroud for shap\n",
    "background = X_train.iloc[np.random.choice(X_test.shape[0], 100, replace=False)]\n",
    "# DeepExplainer to explain predictions of the model\n",
    "explainer = shap.DeepExplainer(model, background.values)\n",
    "# compute shap values\n",
    "shap_values = explainer.shap_values(X_test[:100].values)\n"
   ]
  },
  {
   "cell_type": "code",
   "execution_count": 32,
   "metadata": {},
   "outputs": [
    {
     "data": {
      "image/png": "[encoded data removed]",
      "text/plain": [
       "<Figure size 576x1260 with 1 Axes>"
      ]
     },
     "metadata": {
      "needs_background": "light"
     },
     "output_type": "display_data"
    }
   ],
   "source": [
    "shap.summary_plot(shap_values[0],X_test[:100],max_display=40,plot_type=\"bar\",show=False)\n",
    "plt.savefig(\"shap_final.png\")"
   ]
  },
  {
   "cell_type": "code",
   "execution_count": 33,
   "metadata": {},
   "outputs": [
    {
     "data": {
      "image/png": "[encoded data removed]",
      "text/plain": [
       "<Figure size 576x1260 with 2 Axes>"
      ]
     },
     "metadata": {
      "needs_background": "light"
     },
     "output_type": "display_data"
    }
   ],
   "source": [
    "shap.summary_plot(shap_values[0],X_test[:100],max_display=40,show=False)\n",
    "plt.savefig(\"shap_final_force\")"
   ]
  },
  {
   "cell_type": "code",
   "execution_count": 34,
   "metadata": {},
   "outputs": [
    {
     "data": {
      "text/html": [
       "<div>\n",
       "<style scoped>\n",
       "    .dataframe tbody tr th:only-of-type {\n",
       "        vertical-align: middle;\n",
       "    }\n",
       "\n",
       "    .dataframe tbody tr th {\n",
       "        vertical-align: top;\n",
       "    }\n",
       "\n",
       "    .dataframe thead th {\n",
       "        text-align: right;\n",
       "    }\n",
       "</style>\n",
       "<table border=\"1\" class=\"dataframe\">\n",
       "  <thead>\n",
       "    <tr style=\"text-align: right;\">\n",
       "      <th></th>\n",
       "      <th>col_name</th>\n",
       "      <th>feature_importance_vals</th>\n",
       "    </tr>\n",
       "  </thead>\n",
       "  <tbody>\n",
       "    <tr>\n",
       "      <th>15498</th>\n",
       "      <td>SSR4</td>\n",
       "      <td>3528.308905</td>\n",
       "    </tr>\n",
       "    <tr>\n",
       "      <th>9715</th>\n",
       "      <td>MT-CO3</td>\n",
       "      <td>2605.941193</td>\n",
       "    </tr>\n",
       "    <tr>\n",
       "      <th>9716</th>\n",
       "      <td>MT-CYB</td>\n",
       "      <td>2370.207520</td>\n",
       "    </tr>\n",
       "    <tr>\n",
       "      <th>9714</th>\n",
       "      <td>MT-CO2</td>\n",
       "      <td>2223.755232</td>\n",
       "    </tr>\n",
       "    <tr>\n",
       "      <th>16367</th>\n",
       "      <td>TM4SF4</td>\n",
       "      <td>2210.219185</td>\n",
       "    </tr>\n",
       "  </tbody>\n",
       "</table>\n",
       "</div>"
      ],
      "text/plain": [
       "      col_name  feature_importance_vals\n",
       "15498     SSR4              3528.308905\n",
       "9715    MT-CO3              2605.941193\n",
       "9716    MT-CYB              2370.207520\n",
       "9714    MT-CO2              2223.755232\n",
       "16367   TM4SF4              2210.219185"
      ]
     },
     "execution_count": 34,
     "metadata": {},
     "output_type": "execute_result"
    }
   ],
   "source": [
    "vals= np.abs(shap_values).mean(0)\n",
    "feature_importance = pd.DataFrame(list(zip(X_test.columns, sum(vals))), columns=['col_name','feature_importance_vals'])\n",
    "feature_importance.sort_values(by=['feature_importance_vals'], ascending=False,inplace=True)\n",
    "feature_importance.head()"
   ]
  },
  {
   "cell_type": "code",
   "execution_count": 35,
   "metadata": {},
   "outputs": [],
   "source": [
    "feature_importance.to_csv(\"shaps__{0}_{1}_{2}b_{3}e_{4}.csv\".format(dataset_name,model_name,batch_size,epochs,iteration))"
   ]
  },
  {
   "cell_type": "code",
   "execution_count": 37,
   "metadata": {},
   "outputs": [],
   "source": [
    "############## Saving model ###############\n",
    "#model.save(\"TPM_qnorm_nos_100_3x1layers_1024b\")"
   ]
  },
  {
   "cell_type": "markdown",
   "metadata": {},
   "source": [
    "### Extracting feature importances from Neural Network"
   ]
  },
  {
   "cell_type": "code",
   "execution_count": 39,
   "metadata": {},
   "outputs": [],
   "source": [
    "##generate random list of samples\n",
    "n_samps = 100\n",
    "samples=X_train.index.values\n",
    "samples=random.sample(samples,k=int(n_samps))"
   ]
  },
  {
   "cell_type": "code",
   "execution_count": 40,
   "metadata": {},
   "outputs": [],
   "source": [
    "subset=X_train.loc[samples].copy()"
   ]
  },
  {
   "cell_type": "code",
   "execution_count": 41,
   "metadata": {},
   "outputs": [
    {
     "data": {
      "text/html": [
       "<div>\n",
       "<style scoped>\n",
       "    .dataframe tbody tr th:only-of-type {\n",
       "        vertical-align: middle;\n",
       "    }\n",
       "\n",
       "    .dataframe tbody tr th {\n",
       "        vertical-align: top;\n",
       "    }\n",
       "\n",
       "    .dataframe thead th {\n",
       "        text-align: right;\n",
       "    }\n",
       "</style>\n",
       "<table border=\"1\" class=\"dataframe\">\n",
       "  <thead>\n",
       "    <tr style=\"text-align: right;\">\n",
       "      <th></th>\n",
       "      <th>A1CF</th>\n",
       "      <th>A3GALT2</th>\n",
       "      <th>A4GALT</th>\n",
       "      <th>A4GNT</th>\n",
       "      <th>AAAS</th>\n",
       "      <th>AACS</th>\n",
       "      <th>AADAC</th>\n",
       "      <th>AADACL3</th>\n",
       "      <th>AADACL4</th>\n",
       "      <th>AADAT</th>\n",
       "      <th>...</th>\n",
       "      <th>ZWILCH</th>\n",
       "      <th>ZWINT</th>\n",
       "      <th>ZXDA</th>\n",
       "      <th>ZXDB</th>\n",
       "      <th>ZXDC</th>\n",
       "      <th>ZYG11A</th>\n",
       "      <th>ZYG11B</th>\n",
       "      <th>ZYX</th>\n",
       "      <th>ZZEF1</th>\n",
       "      <th>ZZZ3</th>\n",
       "    </tr>\n",
       "  </thead>\n",
       "  <tbody>\n",
       "    <tr>\n",
       "      <th>GSM2749296</th>\n",
       "      <td>1</td>\n",
       "      <td>1</td>\n",
       "      <td>1</td>\n",
       "      <td>1</td>\n",
       "      <td>1</td>\n",
       "      <td>42</td>\n",
       "      <td>1</td>\n",
       "      <td>1</td>\n",
       "      <td>1</td>\n",
       "      <td>1</td>\n",
       "      <td>...</td>\n",
       "      <td>93</td>\n",
       "      <td>1</td>\n",
       "      <td>1</td>\n",
       "      <td>1</td>\n",
       "      <td>1</td>\n",
       "      <td>1</td>\n",
       "      <td>1</td>\n",
       "      <td>1</td>\n",
       "      <td>1</td>\n",
       "      <td>70</td>\n",
       "    </tr>\n",
       "    <tr>\n",
       "      <th>GSM3530277</th>\n",
       "      <td>0</td>\n",
       "      <td>0</td>\n",
       "      <td>3</td>\n",
       "      <td>0</td>\n",
       "      <td>5</td>\n",
       "      <td>12</td>\n",
       "      <td>0</td>\n",
       "      <td>0</td>\n",
       "      <td>0</td>\n",
       "      <td>0</td>\n",
       "      <td>...</td>\n",
       "      <td>0</td>\n",
       "      <td>0</td>\n",
       "      <td>0</td>\n",
       "      <td>0</td>\n",
       "      <td>10</td>\n",
       "      <td>0</td>\n",
       "      <td>5</td>\n",
       "      <td>183</td>\n",
       "      <td>14</td>\n",
       "      <td>5</td>\n",
       "    </tr>\n",
       "    <tr>\n",
       "      <th>GSM5374079</th>\n",
       "      <td>0</td>\n",
       "      <td>0</td>\n",
       "      <td>0</td>\n",
       "      <td>0</td>\n",
       "      <td>98</td>\n",
       "      <td>9</td>\n",
       "      <td>0</td>\n",
       "      <td>0</td>\n",
       "      <td>0</td>\n",
       "      <td>0</td>\n",
       "      <td>...</td>\n",
       "      <td>12</td>\n",
       "      <td>126</td>\n",
       "      <td>0</td>\n",
       "      <td>1</td>\n",
       "      <td>5</td>\n",
       "      <td>4</td>\n",
       "      <td>5</td>\n",
       "      <td>232</td>\n",
       "      <td>7</td>\n",
       "      <td>15</td>\n",
       "    </tr>\n",
       "    <tr>\n",
       "      <th>GSM2652563</th>\n",
       "      <td>0</td>\n",
       "      <td>0</td>\n",
       "      <td>0</td>\n",
       "      <td>0</td>\n",
       "      <td>76</td>\n",
       "      <td>24</td>\n",
       "      <td>0</td>\n",
       "      <td>0</td>\n",
       "      <td>0</td>\n",
       "      <td>10</td>\n",
       "      <td>...</td>\n",
       "      <td>62</td>\n",
       "      <td>297</td>\n",
       "      <td>6</td>\n",
       "      <td>5</td>\n",
       "      <td>6</td>\n",
       "      <td>0</td>\n",
       "      <td>9</td>\n",
       "      <td>10</td>\n",
       "      <td>5</td>\n",
       "      <td>21</td>\n",
       "    </tr>\n",
       "    <tr>\n",
       "      <th>GSM4963877</th>\n",
       "      <td>0</td>\n",
       "      <td>0</td>\n",
       "      <td>16</td>\n",
       "      <td>0</td>\n",
       "      <td>16</td>\n",
       "      <td>12</td>\n",
       "      <td>0</td>\n",
       "      <td>0</td>\n",
       "      <td>0</td>\n",
       "      <td>0</td>\n",
       "      <td>...</td>\n",
       "      <td>128</td>\n",
       "      <td>84</td>\n",
       "      <td>8</td>\n",
       "      <td>0</td>\n",
       "      <td>21</td>\n",
       "      <td>0</td>\n",
       "      <td>0</td>\n",
       "      <td>69</td>\n",
       "      <td>10</td>\n",
       "      <td>0</td>\n",
       "    </tr>\n",
       "  </tbody>\n",
       "</table>\n",
       "<p>5 rows × 18952 columns</p>\n",
       "</div>"
      ],
      "text/plain": [
       "            A1CF  A3GALT2  A4GALT  A4GNT  AAAS  AACS  AADAC  AADACL3  AADACL4  \\\n",
       "GSM2749296     1        1       1      1     1    42      1        1        1   \n",
       "GSM3530277     0        0       3      0     5    12      0        0        0   \n",
       "GSM5374079     0        0       0      0    98     9      0        0        0   \n",
       "GSM2652563     0        0       0      0    76    24      0        0        0   \n",
       "GSM4963877     0        0      16      0    16    12      0        0        0   \n",
       "\n",
       "            AADAT  ...  ZWILCH  ZWINT  ZXDA  ZXDB  ZXDC  ZYG11A  ZYG11B  ZYX  \\\n",
       "GSM2749296      1  ...      93      1     1     1     1       1       1    1   \n",
       "GSM3530277      0  ...       0      0     0     0    10       0       5  183   \n",
       "GSM5374079      0  ...      12    126     0     1     5       4       5  232   \n",
       "GSM2652563     10  ...      62    297     6     5     6       0       9   10   \n",
       "GSM4963877      0  ...     128     84     8     0    21       0       0   69   \n",
       "\n",
       "            ZZEF1  ZZZ3  \n",
       "GSM2749296      1    70  \n",
       "GSM3530277     14     5  \n",
       "GSM5374079      7    15  \n",
       "GSM2652563      5    21  \n",
       "GSM4963877     10     0  \n",
       "\n",
       "[5 rows x 18952 columns]"
      ]
     },
     "execution_count": 41,
     "metadata": {},
     "output_type": "execute_result"
    }
   ],
   "source": [
    "subset.head()"
   ]
  },
  {
   "cell_type": "code",
   "execution_count": 42,
   "metadata": {},
   "outputs": [],
   "source": [
    "impact=pd.DataFrame(index=subset.index.values, columns=subset.columns.values)"
   ]
  },
  {
   "cell_type": "code",
   "execution_count": 43,
   "metadata": {},
   "outputs": [
    {
     "data": {
      "text/html": [
       "<div>\n",
       "<style scoped>\n",
       "    .dataframe tbody tr th:only-of-type {\n",
       "        vertical-align: middle;\n",
       "    }\n",
       "\n",
       "    .dataframe tbody tr th {\n",
       "        vertical-align: top;\n",
       "    }\n",
       "\n",
       "    .dataframe thead th {\n",
       "        text-align: right;\n",
       "    }\n",
       "</style>\n",
       "<table border=\"1\" class=\"dataframe\">\n",
       "  <thead>\n",
       "    <tr style=\"text-align: right;\">\n",
       "      <th></th>\n",
       "      <th>A1CF</th>\n",
       "      <th>A3GALT2</th>\n",
       "      <th>A4GALT</th>\n",
       "      <th>A4GNT</th>\n",
       "      <th>AAAS</th>\n",
       "      <th>AACS</th>\n",
       "      <th>AADAC</th>\n",
       "      <th>AADACL3</th>\n",
       "      <th>AADACL4</th>\n",
       "      <th>AADAT</th>\n",
       "      <th>...</th>\n",
       "      <th>ZWILCH</th>\n",
       "      <th>ZWINT</th>\n",
       "      <th>ZXDA</th>\n",
       "      <th>ZXDB</th>\n",
       "      <th>ZXDC</th>\n",
       "      <th>ZYG11A</th>\n",
       "      <th>ZYG11B</th>\n",
       "      <th>ZYX</th>\n",
       "      <th>ZZEF1</th>\n",
       "      <th>ZZZ3</th>\n",
       "    </tr>\n",
       "  </thead>\n",
       "  <tbody>\n",
       "    <tr>\n",
       "      <th>GSM2749296</th>\n",
       "      <td>NaN</td>\n",
       "      <td>NaN</td>\n",
       "      <td>NaN</td>\n",
       "      <td>NaN</td>\n",
       "      <td>NaN</td>\n",
       "      <td>NaN</td>\n",
       "      <td>NaN</td>\n",
       "      <td>NaN</td>\n",
       "      <td>NaN</td>\n",
       "      <td>NaN</td>\n",
       "      <td>...</td>\n",
       "      <td>NaN</td>\n",
       "      <td>NaN</td>\n",
       "      <td>NaN</td>\n",
       "      <td>NaN</td>\n",
       "      <td>NaN</td>\n",
       "      <td>NaN</td>\n",
       "      <td>NaN</td>\n",
       "      <td>NaN</td>\n",
       "      <td>NaN</td>\n",
       "      <td>NaN</td>\n",
       "    </tr>\n",
       "    <tr>\n",
       "      <th>GSM3530277</th>\n",
       "      <td>NaN</td>\n",
       "      <td>NaN</td>\n",
       "      <td>NaN</td>\n",
       "      <td>NaN</td>\n",
       "      <td>NaN</td>\n",
       "      <td>NaN</td>\n",
       "      <td>NaN</td>\n",
       "      <td>NaN</td>\n",
       "      <td>NaN</td>\n",
       "      <td>NaN</td>\n",
       "      <td>...</td>\n",
       "      <td>NaN</td>\n",
       "      <td>NaN</td>\n",
       "      <td>NaN</td>\n",
       "      <td>NaN</td>\n",
       "      <td>NaN</td>\n",
       "      <td>NaN</td>\n",
       "      <td>NaN</td>\n",
       "      <td>NaN</td>\n",
       "      <td>NaN</td>\n",
       "      <td>NaN</td>\n",
       "    </tr>\n",
       "    <tr>\n",
       "      <th>GSM5374079</th>\n",
       "      <td>NaN</td>\n",
       "      <td>NaN</td>\n",
       "      <td>NaN</td>\n",
       "      <td>NaN</td>\n",
       "      <td>NaN</td>\n",
       "      <td>NaN</td>\n",
       "      <td>NaN</td>\n",
       "      <td>NaN</td>\n",
       "      <td>NaN</td>\n",
       "      <td>NaN</td>\n",
       "      <td>...</td>\n",
       "      <td>NaN</td>\n",
       "      <td>NaN</td>\n",
       "      <td>NaN</td>\n",
       "      <td>NaN</td>\n",
       "      <td>NaN</td>\n",
       "      <td>NaN</td>\n",
       "      <td>NaN</td>\n",
       "      <td>NaN</td>\n",
       "      <td>NaN</td>\n",
       "      <td>NaN</td>\n",
       "    </tr>\n",
       "    <tr>\n",
       "      <th>GSM2652563</th>\n",
       "      <td>NaN</td>\n",
       "      <td>NaN</td>\n",
       "      <td>NaN</td>\n",
       "      <td>NaN</td>\n",
       "      <td>NaN</td>\n",
       "      <td>NaN</td>\n",
       "      <td>NaN</td>\n",
       "      <td>NaN</td>\n",
       "      <td>NaN</td>\n",
       "      <td>NaN</td>\n",
       "      <td>...</td>\n",
       "      <td>NaN</td>\n",
       "      <td>NaN</td>\n",
       "      <td>NaN</td>\n",
       "      <td>NaN</td>\n",
       "      <td>NaN</td>\n",
       "      <td>NaN</td>\n",
       "      <td>NaN</td>\n",
       "      <td>NaN</td>\n",
       "      <td>NaN</td>\n",
       "      <td>NaN</td>\n",
       "    </tr>\n",
       "    <tr>\n",
       "      <th>GSM4963877</th>\n",
       "      <td>NaN</td>\n",
       "      <td>NaN</td>\n",
       "      <td>NaN</td>\n",
       "      <td>NaN</td>\n",
       "      <td>NaN</td>\n",
       "      <td>NaN</td>\n",
       "      <td>NaN</td>\n",
       "      <td>NaN</td>\n",
       "      <td>NaN</td>\n",
       "      <td>NaN</td>\n",
       "      <td>...</td>\n",
       "      <td>NaN</td>\n",
       "      <td>NaN</td>\n",
       "      <td>NaN</td>\n",
       "      <td>NaN</td>\n",
       "      <td>NaN</td>\n",
       "      <td>NaN</td>\n",
       "      <td>NaN</td>\n",
       "      <td>NaN</td>\n",
       "      <td>NaN</td>\n",
       "      <td>NaN</td>\n",
       "    </tr>\n",
       "  </tbody>\n",
       "</table>\n",
       "<p>5 rows × 18952 columns</p>\n",
       "</div>"
      ],
      "text/plain": [
       "           A1CF A3GALT2 A4GALT A4GNT AAAS AACS AADAC AADACL3 AADACL4 AADAT  \\\n",
       "GSM2749296  NaN     NaN    NaN   NaN  NaN  NaN   NaN     NaN     NaN   NaN   \n",
       "GSM3530277  NaN     NaN    NaN   NaN  NaN  NaN   NaN     NaN     NaN   NaN   \n",
       "GSM5374079  NaN     NaN    NaN   NaN  NaN  NaN   NaN     NaN     NaN   NaN   \n",
       "GSM2652563  NaN     NaN    NaN   NaN  NaN  NaN   NaN     NaN     NaN   NaN   \n",
       "GSM4963877  NaN     NaN    NaN   NaN  NaN  NaN   NaN     NaN     NaN   NaN   \n",
       "\n",
       "            ... ZWILCH ZWINT ZXDA ZXDB ZXDC ZYG11A ZYG11B  ZYX ZZEF1 ZZZ3  \n",
       "GSM2749296  ...    NaN   NaN  NaN  NaN  NaN    NaN    NaN  NaN   NaN  NaN  \n",
       "GSM3530277  ...    NaN   NaN  NaN  NaN  NaN    NaN    NaN  NaN   NaN  NaN  \n",
       "GSM5374079  ...    NaN   NaN  NaN  NaN  NaN    NaN    NaN  NaN   NaN  NaN  \n",
       "GSM2652563  ...    NaN   NaN  NaN  NaN  NaN    NaN    NaN  NaN   NaN  NaN  \n",
       "GSM4963877  ...    NaN   NaN  NaN  NaN  NaN    NaN    NaN  NaN   NaN  NaN  \n",
       "\n",
       "[5 rows x 18952 columns]"
      ]
     },
     "execution_count": 43,
     "metadata": {},
     "output_type": "execute_result"
    }
   ],
   "source": [
    "impact.head()"
   ]
  },
  {
   "cell_type": "code",
   "execution_count": 44,
   "metadata": {},
   "outputs": [],
   "source": [
    "y_before=model.predict(subset)"
   ]
  },
  {
   "cell_type": "code",
   "execution_count": 45,
   "metadata": {},
   "outputs": [
    {
     "data": {
      "text/plain": [
       "array([[ 165.57925],\n",
       "       [ 702.491  ],\n",
       "       [ 207.66855],\n",
       "       [ 273.6529 ],\n",
       "       [ 294.99466],\n",
       "       [ 210.48572],\n",
       "       [4484.791  ],\n",
       "       [ 227.76685],\n",
       "       [4370.111  ],\n",
       "       [2699.2573 ]], dtype=float32)"
      ]
     },
     "execution_count": 45,
     "metadata": {},
     "output_type": "execute_result"
    }
   ],
   "source": [
    "y_before[0:10]"
   ]
  },
  {
   "cell_type": "code",
   "execution_count": 48,
   "metadata": {},
   "outputs": [
    {
     "name": "stdout",
     "output_type": "stream",
     "text": [
      "All gene requests sent\n",
      "All work completed\n",
      "Sorting time: 51.64975399713342 minutes\n"
     ]
    }
   ],
   "source": [
    "## Calculating residuals for a 10-fold overexpression of each gene\n",
    "\n",
    "tic=timeit.default_timer()\n",
    "\n",
    "q = queue.Queue()\n",
    "\n",
    "def over_exp():\n",
    "    while True:\n",
    "        gene = q.get()\n",
    "        y_before=model.predict(subset)\n",
    "        subset[gene]=subset[gene]*10\n",
    "        y_pred=model.predict(subset)\n",
    "        subset[gene]=subset[gene]//10\n",
    "        residual=y_pred-y_before\n",
    "        #print(\"working on gene:{0}\".format(gene))\n",
    "        impact[gene]=(np.reshape(residual,(len(residual),1)))\n",
    "        q.task_done()\n",
    "\n",
    "# turn-on the worker thread\n",
    "threading.Thread(target=over_exp, daemon=True).start()\n",
    "\n",
    "# send thirty task requests to the worker\n",
    "for gene in X_train.columns.values:\n",
    "    q.put(gene)\n",
    "print('All gene requests sent\\n', end='')\n",
    "\n",
    "# block until all tasks are done\n",
    "q.join()\n",
    "print('All work completed')\n",
    "toc=timeit.default_timer()\n",
    "print(\"Sorting time: \"+str((toc-tic)/60)+ \" minutes\")"
   ]
  },
  {
   "cell_type": "code",
   "execution_count": 49,
   "metadata": {},
   "outputs": [],
   "source": [
    "impact.to_csv(\"impact_factor_100_samples.csv\")"
   ]
  },
  {
   "cell_type": "code",
   "execution_count": 50,
   "metadata": {},
   "outputs": [],
   "source": [
    "y_after=model.predict(subset)"
   ]
  },
  {
   "cell_type": "code",
   "execution_count": 51,
   "metadata": {},
   "outputs": [
    {
     "data": {
      "text/plain": [
       "array([[ 165.57925],\n",
       "       [ 702.491  ],\n",
       "       [ 207.66855],\n",
       "       [ 273.6529 ],\n",
       "       [ 294.99466],\n",
       "       [ 210.48572],\n",
       "       [4484.791  ],\n",
       "       [ 227.76685],\n",
       "       [4370.111  ],\n",
       "       [2699.2573 ]], dtype=float32)"
      ]
     },
     "execution_count": 51,
     "metadata": {},
     "output_type": "execute_result"
    }
   ],
   "source": [
    "y_after[0:10]"
   ]
  },
  {
   "cell_type": "code",
   "execution_count": 141,
   "metadata": {},
   "outputs": [],
   "source": [
    "impact=impact.T"
   ]
  },
  {
   "cell_type": "code",
   "execution_count": 142,
   "metadata": {},
   "outputs": [
    {
     "data": {
      "text/html": [
       "<div>\n",
       "<style scoped>\n",
       "    .dataframe tbody tr th:only-of-type {\n",
       "        vertical-align: middle;\n",
       "    }\n",
       "\n",
       "    .dataframe tbody tr th {\n",
       "        vertical-align: top;\n",
       "    }\n",
       "\n",
       "    .dataframe thead th {\n",
       "        text-align: right;\n",
       "    }\n",
       "</style>\n",
       "<table border=\"1\" class=\"dataframe\">\n",
       "  <thead>\n",
       "    <tr style=\"text-align: right;\">\n",
       "      <th></th>\n",
       "      <th>A1CF</th>\n",
       "      <th>A3GALT2</th>\n",
       "      <th>A4GALT</th>\n",
       "      <th>A4GNT</th>\n",
       "      <th>AAAS</th>\n",
       "      <th>AACS</th>\n",
       "      <th>AADAC</th>\n",
       "      <th>AADACL3</th>\n",
       "      <th>AADACL4</th>\n",
       "      <th>AADAT</th>\n",
       "      <th>...</th>\n",
       "      <th>ZWILCH</th>\n",
       "      <th>ZWINT</th>\n",
       "      <th>ZXDA</th>\n",
       "      <th>ZXDB</th>\n",
       "      <th>ZXDC</th>\n",
       "      <th>ZYG11A</th>\n",
       "      <th>ZYG11B</th>\n",
       "      <th>ZYX</th>\n",
       "      <th>ZZEF1</th>\n",
       "      <th>ZZZ3</th>\n",
       "    </tr>\n",
       "  </thead>\n",
       "  <tbody>\n",
       "    <tr>\n",
       "      <th>GSM2749296</th>\n",
       "      <td>0.013428</td>\n",
       "      <td>-0.003204</td>\n",
       "      <td>0.002625</td>\n",
       "      <td>0.001022</td>\n",
       "      <td>0.003113</td>\n",
       "      <td>0.239258</td>\n",
       "      <td>0.006104</td>\n",
       "      <td>-0.003006</td>\n",
       "      <td>0.004288</td>\n",
       "      <td>-0.002502</td>\n",
       "      <td>...</td>\n",
       "      <td>0.242523</td>\n",
       "      <td>-0.002121</td>\n",
       "      <td>-0.000320</td>\n",
       "      <td>-0.002975</td>\n",
       "      <td>0.002090</td>\n",
       "      <td>0.000488</td>\n",
       "      <td>0.004532</td>\n",
       "      <td>0.000000</td>\n",
       "      <td>0.001694</td>\n",
       "      <td>0.262253</td>\n",
       "    </tr>\n",
       "    <tr>\n",
       "      <th>GSM3530277</th>\n",
       "      <td>0.000000</td>\n",
       "      <td>0.000000</td>\n",
       "      <td>0.334045</td>\n",
       "      <td>0.000000</td>\n",
       "      <td>0.009460</td>\n",
       "      <td>0.227173</td>\n",
       "      <td>0.000000</td>\n",
       "      <td>0.000000</td>\n",
       "      <td>0.000000</td>\n",
       "      <td>0.000000</td>\n",
       "      <td>...</td>\n",
       "      <td>0.000000</td>\n",
       "      <td>0.000000</td>\n",
       "      <td>0.000000</td>\n",
       "      <td>0.000000</td>\n",
       "      <td>-1.275452</td>\n",
       "      <td>0.000000</td>\n",
       "      <td>0.339478</td>\n",
       "      <td>-2.317505</td>\n",
       "      <td>-0.093262</td>\n",
       "      <td>0.148315</td>\n",
       "    </tr>\n",
       "    <tr>\n",
       "      <th>GSM5374079</th>\n",
       "      <td>0.000000</td>\n",
       "      <td>0.000000</td>\n",
       "      <td>0.000000</td>\n",
       "      <td>0.000000</td>\n",
       "      <td>0.020462</td>\n",
       "      <td>0.003998</td>\n",
       "      <td>0.000000</td>\n",
       "      <td>0.000000</td>\n",
       "      <td>0.000000</td>\n",
       "      <td>0.000000</td>\n",
       "      <td>...</td>\n",
       "      <td>0.042068</td>\n",
       "      <td>1.563828</td>\n",
       "      <td>0.000000</td>\n",
       "      <td>0.006516</td>\n",
       "      <td>0.061508</td>\n",
       "      <td>0.019379</td>\n",
       "      <td>-0.026047</td>\n",
       "      <td>0.359344</td>\n",
       "      <td>0.018311</td>\n",
       "      <td>-0.021210</td>\n",
       "    </tr>\n",
       "    <tr>\n",
       "      <th>GSM2652563</th>\n",
       "      <td>0.000000</td>\n",
       "      <td>0.000000</td>\n",
       "      <td>0.000000</td>\n",
       "      <td>0.000000</td>\n",
       "      <td>0.434204</td>\n",
       "      <td>0.210602</td>\n",
       "      <td>0.000000</td>\n",
       "      <td>0.000000</td>\n",
       "      <td>0.000000</td>\n",
       "      <td>-0.178528</td>\n",
       "      <td>...</td>\n",
       "      <td>-0.071899</td>\n",
       "      <td>-3.956970</td>\n",
       "      <td>-0.004730</td>\n",
       "      <td>-0.047150</td>\n",
       "      <td>-0.064270</td>\n",
       "      <td>0.000000</td>\n",
       "      <td>0.118896</td>\n",
       "      <td>-0.021790</td>\n",
       "      <td>0.011414</td>\n",
       "      <td>0.103607</td>\n",
       "    </tr>\n",
       "    <tr>\n",
       "      <th>GSM4963877</th>\n",
       "      <td>0.000000</td>\n",
       "      <td>0.000000</td>\n",
       "      <td>0.191864</td>\n",
       "      <td>0.000000</td>\n",
       "      <td>-0.010681</td>\n",
       "      <td>0.080566</td>\n",
       "      <td>0.000000</td>\n",
       "      <td>0.000000</td>\n",
       "      <td>0.000000</td>\n",
       "      <td>0.000000</td>\n",
       "      <td>...</td>\n",
       "      <td>-0.079681</td>\n",
       "      <td>-1.251160</td>\n",
       "      <td>0.007538</td>\n",
       "      <td>0.000000</td>\n",
       "      <td>-0.226044</td>\n",
       "      <td>0.000000</td>\n",
       "      <td>0.000000</td>\n",
       "      <td>-0.215546</td>\n",
       "      <td>0.030792</td>\n",
       "      <td>0.000000</td>\n",
       "    </tr>\n",
       "  </tbody>\n",
       "</table>\n",
       "<p>5 rows × 18952 columns</p>\n",
       "</div>"
      ],
      "text/plain": [
       "                A1CF   A3GALT2    A4GALT     A4GNT      AAAS      AACS  \\\n",
       "GSM2749296  0.013428 -0.003204  0.002625  0.001022  0.003113  0.239258   \n",
       "GSM3530277  0.000000  0.000000  0.334045  0.000000  0.009460  0.227173   \n",
       "GSM5374079  0.000000  0.000000  0.000000  0.000000  0.020462  0.003998   \n",
       "GSM2652563  0.000000  0.000000  0.000000  0.000000  0.434204  0.210602   \n",
       "GSM4963877  0.000000  0.000000  0.191864  0.000000 -0.010681  0.080566   \n",
       "\n",
       "               AADAC   AADACL3   AADACL4     AADAT  ...    ZWILCH     ZWINT  \\\n",
       "GSM2749296  0.006104 -0.003006  0.004288 -0.002502  ...  0.242523 -0.002121   \n",
       "GSM3530277  0.000000  0.000000  0.000000  0.000000  ...  0.000000  0.000000   \n",
       "GSM5374079  0.000000  0.000000  0.000000  0.000000  ...  0.042068  1.563828   \n",
       "GSM2652563  0.000000  0.000000  0.000000 -0.178528  ... -0.071899 -3.956970   \n",
       "GSM4963877  0.000000  0.000000  0.000000  0.000000  ... -0.079681 -1.251160   \n",
       "\n",
       "                ZXDA      ZXDB      ZXDC    ZYG11A    ZYG11B       ZYX  \\\n",
       "GSM2749296 -0.000320 -0.002975  0.002090  0.000488  0.004532  0.000000   \n",
       "GSM3530277  0.000000  0.000000 -1.275452  0.000000  0.339478 -2.317505   \n",
       "GSM5374079  0.000000  0.006516  0.061508  0.019379 -0.026047  0.359344   \n",
       "GSM2652563 -0.004730 -0.047150 -0.064270  0.000000  0.118896 -0.021790   \n",
       "GSM4963877  0.007538  0.000000 -0.226044  0.000000  0.000000 -0.215546   \n",
       "\n",
       "               ZZEF1      ZZZ3  \n",
       "GSM2749296  0.001694  0.262253  \n",
       "GSM3530277 -0.093262  0.148315  \n",
       "GSM5374079  0.018311 -0.021210  \n",
       "GSM2652563  0.011414  0.103607  \n",
       "GSM4963877  0.030792  0.000000  \n",
       "\n",
       "[5 rows x 18952 columns]"
      ]
     },
     "execution_count": 142,
     "metadata": {},
     "output_type": "execute_result"
    }
   ],
   "source": [
    "impact.head()"
   ]
  },
  {
   "cell_type": "code",
   "execution_count": 144,
   "metadata": {},
   "outputs": [],
   "source": [
    "impact.drop_duplicates(keep='first', inplace=True)"
   ]
  },
  {
   "cell_type": "code",
   "execution_count": 145,
   "metadata": {},
   "outputs": [],
   "source": [
    "impact=impact.T"
   ]
  },
  {
   "cell_type": "code",
   "execution_count": 146,
   "metadata": {},
   "outputs": [],
   "source": [
    "sorted_genes=pd.DataFrame(columns=impact.columns.values,index=None)"
   ]
  },
  {
   "cell_type": "code",
   "execution_count": 147,
   "metadata": {},
   "outputs": [
    {
     "data": {
      "text/html": [
       "<div>\n",
       "<style scoped>\n",
       "    .dataframe tbody tr th:only-of-type {\n",
       "        vertical-align: middle;\n",
       "    }\n",
       "\n",
       "    .dataframe tbody tr th {\n",
       "        vertical-align: top;\n",
       "    }\n",
       "\n",
       "    .dataframe thead th {\n",
       "        text-align: right;\n",
       "    }\n",
       "</style>\n",
       "<table border=\"1\" class=\"dataframe\">\n",
       "  <thead>\n",
       "    <tr style=\"text-align: right;\">\n",
       "      <th></th>\n",
       "      <th>GSM2749296</th>\n",
       "      <th>GSM3530277</th>\n",
       "      <th>GSM5374079</th>\n",
       "      <th>GSM2652563</th>\n",
       "      <th>GSM4963877</th>\n",
       "      <th>GSM2343454</th>\n",
       "      <th>GSM3546072</th>\n",
       "      <th>GSM5239594</th>\n",
       "      <th>GSM3544809</th>\n",
       "      <th>GSM3549159</th>\n",
       "      <th>...</th>\n",
       "      <th>GSM3548684</th>\n",
       "      <th>GSM5149794</th>\n",
       "      <th>GSM4861282</th>\n",
       "      <th>GSM2343652</th>\n",
       "      <th>GSM4330931</th>\n",
       "      <th>GSM4477119</th>\n",
       "      <th>GSM2932792</th>\n",
       "      <th>GSM5374161</th>\n",
       "      <th>GSM3546332</th>\n",
       "      <th>GSM4225919</th>\n",
       "    </tr>\n",
       "  </thead>\n",
       "  <tbody>\n",
       "  </tbody>\n",
       "</table>\n",
       "<p>0 rows × 99 columns</p>\n",
       "</div>"
      ],
      "text/plain": [
       "Empty DataFrame\n",
       "Columns: [GSM2749296, GSM3530277, GSM5374079, GSM2652563, GSM4963877, GSM2343454, GSM3546072, GSM5239594, GSM3544809, GSM3549159, GSM3545657, GSM3552640, GSM3549866, GSM3670781, GSM4552490, GSM3546315, GSM3449203, GSM3510867, GSM3350797, GSM3896229, GSM2494389, GSM1443858, GSM3980338, GSM4886004, GSM2159476, GSM3105600, GSM4572819, GSM2173883, GSM2028921, GSM1677100, GSM3449688, GSM2295876, GSM2026902, GSM2072576, GSM3550098, GSM1338320, GSM5252391, GSM3505152, GSM5386092, GSM2743909, GSM3545284, GSM4586064, GSM4501054, GSM4664622, GSM3432236, GSM3505303, GSM2309482, GSM3548698, GSM4100678, GSM5401664, GSM3416656, GSM4446845, GSM3545088, GSM4576754, GSM4776389, GSM4953210, GSM4572627, GSM2173081, GSM2454180, GSM4967547, GSM1431879, GSM2173151, GSM3033212, GSM2842846, GSM1896238, GSM3105536, GSM3899113, GSM3505431, GSM5136496, GSM2584708, GSM3130453, GSM3551914, GSM1646990, GSM2817833, GSM2173597, GSM1663103, GSM4217420, GSM4225767, GSM3548685, GSM3106188, GSM2610966, GSM3729263, GSM3724247, GSM2138679, GSM4367916, GSM2565603, GSM3551499, GSM3505220, GSM3323905, GSM3548684, GSM5149794, GSM4861282, GSM2343652, GSM4330931, GSM4477119, GSM2932792, GSM5374161, GSM3546332, GSM4225919]\n",
       "Index: []\n",
       "\n",
       "[0 rows x 99 columns]"
      ]
     },
     "execution_count": 147,
     "metadata": {},
     "output_type": "execute_result"
    }
   ],
   "source": [
    "sorted_genes"
   ]
  },
  {
   "cell_type": "code",
   "execution_count": 150,
   "metadata": {},
   "outputs": [],
   "source": [
    "for sample in sorted_genes.columns.values:\n",
    "    sorted_genes[sample]=impact[sample].sort_values(ascending=False).index.values"
   ]
  },
  {
   "cell_type": "code",
   "execution_count": 151,
   "metadata": {},
   "outputs": [
    {
     "data": {
      "text/html": [
       "<div>\n",
       "<style scoped>\n",
       "    .dataframe tbody tr th:only-of-type {\n",
       "        vertical-align: middle;\n",
       "    }\n",
       "\n",
       "    .dataframe tbody tr th {\n",
       "        vertical-align: top;\n",
       "    }\n",
       "\n",
       "    .dataframe thead th {\n",
       "        text-align: right;\n",
       "    }\n",
       "</style>\n",
       "<table border=\"1\" class=\"dataframe\">\n",
       "  <thead>\n",
       "    <tr style=\"text-align: right;\">\n",
       "      <th></th>\n",
       "      <th>GSM2749296</th>\n",
       "      <th>GSM3530277</th>\n",
       "      <th>GSM5374079</th>\n",
       "      <th>GSM2652563</th>\n",
       "      <th>GSM4963877</th>\n",
       "      <th>GSM2343454</th>\n",
       "      <th>GSM3546072</th>\n",
       "      <th>GSM5239594</th>\n",
       "      <th>GSM3544809</th>\n",
       "      <th>GSM3549159</th>\n",
       "      <th>...</th>\n",
       "      <th>GSM3548684</th>\n",
       "      <th>GSM5149794</th>\n",
       "      <th>GSM4861282</th>\n",
       "      <th>GSM2343652</th>\n",
       "      <th>GSM4330931</th>\n",
       "      <th>GSM4477119</th>\n",
       "      <th>GSM2932792</th>\n",
       "      <th>GSM5374161</th>\n",
       "      <th>GSM3546332</th>\n",
       "      <th>GSM4225919</th>\n",
       "    </tr>\n",
       "  </thead>\n",
       "  <tbody>\n",
       "    <tr>\n",
       "      <th>0</th>\n",
       "      <td>H4C3</td>\n",
       "      <td>FTH1</td>\n",
       "      <td>MT-CO2</td>\n",
       "      <td>MT-CYB</td>\n",
       "      <td>TPM4</td>\n",
       "      <td>MT-CO2</td>\n",
       "      <td>MT-CYB</td>\n",
       "      <td>ACTG1</td>\n",
       "      <td>SSR4</td>\n",
       "      <td>CD44</td>\n",
       "      <td>...</td>\n",
       "      <td>MT-CYB</td>\n",
       "      <td>MT-CO1</td>\n",
       "      <td>MT-ND4L</td>\n",
       "      <td>MT-CO3</td>\n",
       "      <td>EEF1A1</td>\n",
       "      <td>SSR4</td>\n",
       "      <td>EEF1A1</td>\n",
       "      <td>MT-CO2</td>\n",
       "      <td>SYCN</td>\n",
       "      <td>MIA3</td>\n",
       "    </tr>\n",
       "    <tr>\n",
       "      <th>1</th>\n",
       "      <td>MT-CO3</td>\n",
       "      <td>CD74</td>\n",
       "      <td>MT-CO3</td>\n",
       "      <td>MT-CO1</td>\n",
       "      <td>RPS3</td>\n",
       "      <td>MT-CO3</td>\n",
       "      <td>FAM240C</td>\n",
       "      <td>TMSB4X</td>\n",
       "      <td>MT-CO3</td>\n",
       "      <td>MT-CO3</td>\n",
       "      <td>...</td>\n",
       "      <td>MT-CO3</td>\n",
       "      <td>ACTG1</td>\n",
       "      <td>CLDN11</td>\n",
       "      <td>MT-CO2</td>\n",
       "      <td>MT-CO1</td>\n",
       "      <td>MT-CYB</td>\n",
       "      <td>RPL41</td>\n",
       "      <td>MT-CO1</td>\n",
       "      <td>MT-CYB</td>\n",
       "      <td>NSMAF</td>\n",
       "    </tr>\n",
       "    <tr>\n",
       "      <th>2</th>\n",
       "      <td>RPL41</td>\n",
       "      <td>TPT1</td>\n",
       "      <td>MT-CO1</td>\n",
       "      <td>MT-CO3</td>\n",
       "      <td>SLC3A2</td>\n",
       "      <td>MT-ND4L</td>\n",
       "      <td>MT-CO3</td>\n",
       "      <td>GNAS</td>\n",
       "      <td>MT-CO2</td>\n",
       "      <td>SYCN</td>\n",
       "      <td>...</td>\n",
       "      <td>MT-CO2</td>\n",
       "      <td>TMSB10</td>\n",
       "      <td>FTH1</td>\n",
       "      <td>MT-ND4L</td>\n",
       "      <td>TAGLN</td>\n",
       "      <td>MT-CO3</td>\n",
       "      <td>MT-CO1</td>\n",
       "      <td>MT-CO3</td>\n",
       "      <td>MT-CO3</td>\n",
       "      <td>BACE1</td>\n",
       "    </tr>\n",
       "    <tr>\n",
       "      <th>3</th>\n",
       "      <td>RPS8</td>\n",
       "      <td>ACTB</td>\n",
       "      <td>MT-ATP8</td>\n",
       "      <td>MT-CO2</td>\n",
       "      <td>SEPTIN7</td>\n",
       "      <td>MT-CO1</td>\n",
       "      <td>MT-ND2</td>\n",
       "      <td>ACTB</td>\n",
       "      <td>MT-CYB</td>\n",
       "      <td>SAT1</td>\n",
       "      <td>...</td>\n",
       "      <td>RPL41</td>\n",
       "      <td>TMSB4X</td>\n",
       "      <td>SAR1A</td>\n",
       "      <td>MT-CO1</td>\n",
       "      <td>MT-CO3</td>\n",
       "      <td>MT-CO1</td>\n",
       "      <td>MT-CO2</td>\n",
       "      <td>MT-ATP8</td>\n",
       "      <td>MT-ND2</td>\n",
       "      <td>MYH9</td>\n",
       "    </tr>\n",
       "    <tr>\n",
       "      <th>4</th>\n",
       "      <td>RPS4X</td>\n",
       "      <td>FAM83A</td>\n",
       "      <td>MT-ND4</td>\n",
       "      <td>MT-ND1</td>\n",
       "      <td>H4C14</td>\n",
       "      <td>MT-ATP6</td>\n",
       "      <td>MT-CO2</td>\n",
       "      <td>MT-CO2</td>\n",
       "      <td>RPL41</td>\n",
       "      <td>MT-CYB</td>\n",
       "      <td>...</td>\n",
       "      <td>MT-ND2</td>\n",
       "      <td>MT-CO2</td>\n",
       "      <td>FTL</td>\n",
       "      <td>MT-ND4</td>\n",
       "      <td>ACTG1</td>\n",
       "      <td>CD99</td>\n",
       "      <td>GPC3</td>\n",
       "      <td>MT-ND4</td>\n",
       "      <td>GALNT2</td>\n",
       "      <td>HMGCL</td>\n",
       "    </tr>\n",
       "    <tr>\n",
       "      <th>...</th>\n",
       "      <td>...</td>\n",
       "      <td>...</td>\n",
       "      <td>...</td>\n",
       "      <td>...</td>\n",
       "      <td>...</td>\n",
       "      <td>...</td>\n",
       "      <td>...</td>\n",
       "      <td>...</td>\n",
       "      <td>...</td>\n",
       "      <td>...</td>\n",
       "      <td>...</td>\n",
       "      <td>...</td>\n",
       "      <td>...</td>\n",
       "      <td>...</td>\n",
       "      <td>...</td>\n",
       "      <td>...</td>\n",
       "      <td>...</td>\n",
       "      <td>...</td>\n",
       "      <td>...</td>\n",
       "      <td>...</td>\n",
       "      <td>...</td>\n",
       "    </tr>\n",
       "    <tr>\n",
       "      <th>18947</th>\n",
       "      <td>TUBA1A</td>\n",
       "      <td>RPS2</td>\n",
       "      <td>ENO1</td>\n",
       "      <td>GAGE12F</td>\n",
       "      <td>AP1S1</td>\n",
       "      <td>RPS26</td>\n",
       "      <td>SELENOW</td>\n",
       "      <td>RPSA</td>\n",
       "      <td>HSPA1A</td>\n",
       "      <td>CHD2</td>\n",
       "      <td>...</td>\n",
       "      <td>NACA</td>\n",
       "      <td>RPL32</td>\n",
       "      <td>BICC1</td>\n",
       "      <td>RPS9</td>\n",
       "      <td>RPL4</td>\n",
       "      <td>NPM1</td>\n",
       "      <td>NME2</td>\n",
       "      <td>SLC6A8</td>\n",
       "      <td>VMP1</td>\n",
       "      <td>GPM6B</td>\n",
       "    </tr>\n",
       "    <tr>\n",
       "      <th>18948</th>\n",
       "      <td>SNRPD1</td>\n",
       "      <td>KDM6B</td>\n",
       "      <td>FXYD5</td>\n",
       "      <td>CKS2</td>\n",
       "      <td>MLPH</td>\n",
       "      <td>RPL18</td>\n",
       "      <td>ADSL</td>\n",
       "      <td>RPS3A</td>\n",
       "      <td>GAPDH</td>\n",
       "      <td>GET4</td>\n",
       "      <td>...</td>\n",
       "      <td>RPL23</td>\n",
       "      <td>TMEM175</td>\n",
       "      <td>LRRC75A</td>\n",
       "      <td>RPL11</td>\n",
       "      <td>LDHB</td>\n",
       "      <td>FXYD3</td>\n",
       "      <td>RPS16</td>\n",
       "      <td>EEF1B2</td>\n",
       "      <td>BLVRB</td>\n",
       "      <td>ZNF502</td>\n",
       "    </tr>\n",
       "    <tr>\n",
       "      <th>18949</th>\n",
       "      <td>UBE2T</td>\n",
       "      <td>NACA</td>\n",
       "      <td>EEF1B2</td>\n",
       "      <td>FOLH1</td>\n",
       "      <td>HMGN1</td>\n",
       "      <td>EEF1B2</td>\n",
       "      <td>LAMTOR5</td>\n",
       "      <td>RPS21</td>\n",
       "      <td>CRYBA2</td>\n",
       "      <td>CCNL1</td>\n",
       "      <td>...</td>\n",
       "      <td>SNRPB</td>\n",
       "      <td>RPL5</td>\n",
       "      <td>AREG</td>\n",
       "      <td>EEF1B2</td>\n",
       "      <td>RPS2</td>\n",
       "      <td>ITGAV</td>\n",
       "      <td>NQO1</td>\n",
       "      <td>ACTG1</td>\n",
       "      <td>PSMD5</td>\n",
       "      <td>BRD8</td>\n",
       "    </tr>\n",
       "    <tr>\n",
       "      <th>18950</th>\n",
       "      <td>RPSA</td>\n",
       "      <td>ZFP36</td>\n",
       "      <td>SLC6A8</td>\n",
       "      <td>RPS2</td>\n",
       "      <td>G6PD</td>\n",
       "      <td>ACTG1</td>\n",
       "      <td>PSMA2</td>\n",
       "      <td>BEX3</td>\n",
       "      <td>RPL26</td>\n",
       "      <td>ITGAV</td>\n",
       "      <td>...</td>\n",
       "      <td>GAPDH</td>\n",
       "      <td>USP7</td>\n",
       "      <td>DPYSL2</td>\n",
       "      <td>EEF1A1</td>\n",
       "      <td>RPL23</td>\n",
       "      <td>TMSB4X</td>\n",
       "      <td>RPS2</td>\n",
       "      <td>RPS9</td>\n",
       "      <td>PRDX5</td>\n",
       "      <td>MTHFD1</td>\n",
       "    </tr>\n",
       "    <tr>\n",
       "      <th>18951</th>\n",
       "      <td>TMSB4X</td>\n",
       "      <td>PTMA</td>\n",
       "      <td>MT-ND4L</td>\n",
       "      <td>MT-ND4L</td>\n",
       "      <td>PTMA</td>\n",
       "      <td>MT-ATP8</td>\n",
       "      <td>EHF</td>\n",
       "      <td>TMSB10</td>\n",
       "      <td>HSPB1</td>\n",
       "      <td>RPL26L1</td>\n",
       "      <td>...</td>\n",
       "      <td>COX8A</td>\n",
       "      <td>TUBA1A</td>\n",
       "      <td>RPL23</td>\n",
       "      <td>MT-ATP8</td>\n",
       "      <td>RACK1</td>\n",
       "      <td>CLDN4</td>\n",
       "      <td>RPL23</td>\n",
       "      <td>MT-ND4L</td>\n",
       "      <td>CLDN10</td>\n",
       "      <td>IGHVII-30-43</td>\n",
       "    </tr>\n",
       "  </tbody>\n",
       "</table>\n",
       "<p>18952 rows × 99 columns</p>\n",
       "</div>"
      ],
      "text/plain": [
       "      GSM2749296 GSM3530277 GSM5374079 GSM2652563 GSM4963877 GSM2343454  \\\n",
       "0           H4C3       FTH1     MT-CO2     MT-CYB       TPM4     MT-CO2   \n",
       "1         MT-CO3       CD74     MT-CO3     MT-CO1       RPS3     MT-CO3   \n",
       "2          RPL41       TPT1     MT-CO1     MT-CO3     SLC3A2    MT-ND4L   \n",
       "3           RPS8       ACTB    MT-ATP8     MT-CO2    SEPTIN7     MT-CO1   \n",
       "4          RPS4X     FAM83A     MT-ND4     MT-ND1      H4C14    MT-ATP6   \n",
       "...          ...        ...        ...        ...        ...        ...   \n",
       "18947     TUBA1A       RPS2       ENO1    GAGE12F      AP1S1      RPS26   \n",
       "18948     SNRPD1      KDM6B      FXYD5       CKS2       MLPH      RPL18   \n",
       "18949      UBE2T       NACA     EEF1B2      FOLH1      HMGN1     EEF1B2   \n",
       "18950       RPSA      ZFP36     SLC6A8       RPS2       G6PD      ACTG1   \n",
       "18951     TMSB4X       PTMA    MT-ND4L    MT-ND4L       PTMA    MT-ATP8   \n",
       "\n",
       "      GSM3546072 GSM5239594 GSM3544809 GSM3549159  ... GSM3548684 GSM5149794  \\\n",
       "0         MT-CYB      ACTG1       SSR4       CD44  ...     MT-CYB     MT-CO1   \n",
       "1        FAM240C     TMSB4X     MT-CO3     MT-CO3  ...     MT-CO3      ACTG1   \n",
       "2         MT-CO3       GNAS     MT-CO2       SYCN  ...     MT-CO2     TMSB10   \n",
       "3         MT-ND2       ACTB     MT-CYB       SAT1  ...      RPL41     TMSB4X   \n",
       "4         MT-CO2     MT-CO2      RPL41     MT-CYB  ...     MT-ND2     MT-CO2   \n",
       "...          ...        ...        ...        ...  ...        ...        ...   \n",
       "18947    SELENOW       RPSA     HSPA1A       CHD2  ...       NACA      RPL32   \n",
       "18948       ADSL      RPS3A      GAPDH       GET4  ...      RPL23    TMEM175   \n",
       "18949    LAMTOR5      RPS21     CRYBA2      CCNL1  ...      SNRPB       RPL5   \n",
       "18950      PSMA2       BEX3      RPL26      ITGAV  ...      GAPDH       USP7   \n",
       "18951        EHF     TMSB10      HSPB1    RPL26L1  ...      COX8A     TUBA1A   \n",
       "\n",
       "      GSM4861282 GSM2343652 GSM4330931 GSM4477119 GSM2932792 GSM5374161  \\\n",
       "0        MT-ND4L     MT-CO3     EEF1A1       SSR4     EEF1A1     MT-CO2   \n",
       "1         CLDN11     MT-CO2     MT-CO1     MT-CYB      RPL41     MT-CO1   \n",
       "2           FTH1    MT-ND4L      TAGLN     MT-CO3     MT-CO1     MT-CO3   \n",
       "3          SAR1A     MT-CO1     MT-CO3     MT-CO1     MT-CO2    MT-ATP8   \n",
       "4            FTL     MT-ND4      ACTG1       CD99       GPC3     MT-ND4   \n",
       "...          ...        ...        ...        ...        ...        ...   \n",
       "18947      BICC1       RPS9       RPL4       NPM1       NME2     SLC6A8   \n",
       "18948    LRRC75A      RPL11       LDHB      FXYD3      RPS16     EEF1B2   \n",
       "18949       AREG     EEF1B2       RPS2      ITGAV       NQO1      ACTG1   \n",
       "18950     DPYSL2     EEF1A1      RPL23     TMSB4X       RPS2       RPS9   \n",
       "18951      RPL23    MT-ATP8      RACK1      CLDN4      RPL23    MT-ND4L   \n",
       "\n",
       "      GSM3546332    GSM4225919  \n",
       "0           SYCN          MIA3  \n",
       "1         MT-CYB         NSMAF  \n",
       "2         MT-CO3         BACE1  \n",
       "3         MT-ND2          MYH9  \n",
       "4         GALNT2         HMGCL  \n",
       "...          ...           ...  \n",
       "18947       VMP1         GPM6B  \n",
       "18948      BLVRB        ZNF502  \n",
       "18949      PSMD5          BRD8  \n",
       "18950      PRDX5        MTHFD1  \n",
       "18951     CLDN10  IGHVII-30-43  \n",
       "\n",
       "[18952 rows x 99 columns]"
      ]
     },
     "execution_count": 151,
     "metadata": {},
     "output_type": "execute_result"
    }
   ],
   "source": [
    "sorted_genes"
   ]
  },
  {
   "cell_type": "code",
   "execution_count": 152,
   "metadata": {},
   "outputs": [],
   "source": [
    "sorted_genes.to_csv(\"sorted_candidates_99_samples.csv\")"
   ]
  },
  {
   "cell_type": "code",
   "execution_count": null,
   "metadata": {},
   "outputs": [],
   "source": []
  },
  {
   "cell_type": "code",
   "execution_count": null,
   "metadata": {},
   "outputs": [],
   "source": []
  },
  {
   "cell_type": "code",
   "execution_count": 81,
   "metadata": {},
   "outputs": [
    {
     "name": "stdout",
     "output_type": "stream",
     "text": [
      "Calculating residuals...\n",
      "running sample: GSM3447363\n",
      "y_pred_before: 236\n"
     ]
    },
    {
     "ename": "KeyboardInterrupt",
     "evalue": "",
     "output_type": "error",
     "traceback": [
      "\u001B[0;31m---------------------------------------------------------------------------\u001B[0m",
      "\u001B[0;31mKeyboardInterrupt\u001B[0m                         Traceback (most recent call last)",
      "\u001B[0;32m<ipython-input-81-9eb776aa22c0>\u001B[0m in \u001B[0;36m<module>\u001B[0;34m\u001B[0m\n\u001B[1;32m     34\u001B[0m     \u001B[0mcandidates\u001B[0m\u001B[0;34m=\u001B[0m\u001B[0mpd\u001B[0m\u001B[0;34m.\u001B[0m\u001B[0mDataFrame\u001B[0m\u001B[0;34m(\u001B[0m\u001B[0;34m)\u001B[0m\u001B[0;34m\u001B[0m\u001B[0;34m\u001B[0m\u001B[0m\n\u001B[1;32m     35\u001B[0m     \u001B[0;32mwith\u001B[0m \u001B[0mconcurrent\u001B[0m\u001B[0;34m.\u001B[0m\u001B[0mfutures\u001B[0m\u001B[0;34m.\u001B[0m\u001B[0mThreadPoolExecutor\u001B[0m\u001B[0;34m(\u001B[0m\u001B[0;34m)\u001B[0m \u001B[0;32mas\u001B[0m \u001B[0mexecutor\u001B[0m\u001B[0;34m:\u001B[0m\u001B[0;34m\u001B[0m\u001B[0;34m\u001B[0m\u001B[0m\n\u001B[0;32m---> 36\u001B[0;31m             \u001B[0mresults\u001B[0m\u001B[0;34m=\u001B[0m\u001B[0mexecutor\u001B[0m\u001B[0;34m.\u001B[0m\u001B[0mmap\u001B[0m\u001B[0;34m(\u001B[0m\u001B[0mmultiplex\u001B[0m\u001B[0;34m,\u001B[0m\u001B[0msamples\u001B[0m\u001B[0;34m)\u001B[0m\u001B[0;34m\u001B[0m\u001B[0;34m\u001B[0m\u001B[0m\n\u001B[0m\u001B[1;32m     37\u001B[0m \u001B[0;34m\u001B[0m\u001B[0m\n\u001B[1;32m     38\u001B[0m     \u001B[0mprint\u001B[0m\u001B[0;34m(\u001B[0m\u001B[0;34mf\"Saving residuals file {i+1}\"\u001B[0m\u001B[0;34m)\u001B[0m\u001B[0;34m\u001B[0m\u001B[0;34m\u001B[0m\u001B[0m\n",
      "\u001B[0;32m~/anaconda3/envs/ml/lib/python3.9/concurrent/futures/_base.py\u001B[0m in \u001B[0;36m__exit__\u001B[0;34m(self, exc_type, exc_val, exc_tb)\u001B[0m\n\u001B[1;32m    634\u001B[0m \u001B[0;34m\u001B[0m\u001B[0m\n\u001B[1;32m    635\u001B[0m     \u001B[0;32mdef\u001B[0m \u001B[0m__exit__\u001B[0m\u001B[0;34m(\u001B[0m\u001B[0mself\u001B[0m\u001B[0;34m,\u001B[0m \u001B[0mexc_type\u001B[0m\u001B[0;34m,\u001B[0m \u001B[0mexc_val\u001B[0m\u001B[0;34m,\u001B[0m \u001B[0mexc_tb\u001B[0m\u001B[0;34m)\u001B[0m\u001B[0;34m:\u001B[0m\u001B[0;34m\u001B[0m\u001B[0;34m\u001B[0m\u001B[0m\n\u001B[0;32m--> 636\u001B[0;31m         \u001B[0mself\u001B[0m\u001B[0;34m.\u001B[0m\u001B[0mshutdown\u001B[0m\u001B[0;34m(\u001B[0m\u001B[0mwait\u001B[0m\u001B[0;34m=\u001B[0m\u001B[0;32mTrue\u001B[0m\u001B[0;34m)\u001B[0m\u001B[0;34m\u001B[0m\u001B[0;34m\u001B[0m\u001B[0m\n\u001B[0m\u001B[1;32m    637\u001B[0m         \u001B[0;32mreturn\u001B[0m \u001B[0;32mFalse\u001B[0m\u001B[0;34m\u001B[0m\u001B[0;34m\u001B[0m\u001B[0m\n\u001B[1;32m    638\u001B[0m \u001B[0;34m\u001B[0m\u001B[0m\n",
      "\u001B[0;32m~/anaconda3/envs/ml/lib/python3.9/concurrent/futures/thread.py\u001B[0m in \u001B[0;36mshutdown\u001B[0;34m(self, wait, cancel_futures)\u001B[0m\n\u001B[1;32m    227\u001B[0m         \u001B[0;32mif\u001B[0m \u001B[0mwait\u001B[0m\u001B[0;34m:\u001B[0m\u001B[0;34m\u001B[0m\u001B[0;34m\u001B[0m\u001B[0m\n\u001B[1;32m    228\u001B[0m             \u001B[0;32mfor\u001B[0m \u001B[0mt\u001B[0m \u001B[0;32min\u001B[0m \u001B[0mself\u001B[0m\u001B[0;34m.\u001B[0m\u001B[0m_threads\u001B[0m\u001B[0;34m:\u001B[0m\u001B[0;34m\u001B[0m\u001B[0;34m\u001B[0m\u001B[0m\n\u001B[0;32m--> 229\u001B[0;31m                 \u001B[0mt\u001B[0m\u001B[0;34m.\u001B[0m\u001B[0mjoin\u001B[0m\u001B[0;34m(\u001B[0m\u001B[0;34m)\u001B[0m\u001B[0;34m\u001B[0m\u001B[0;34m\u001B[0m\u001B[0m\n\u001B[0m\u001B[1;32m    230\u001B[0m     \u001B[0mshutdown\u001B[0m\u001B[0;34m.\u001B[0m\u001B[0m__doc__\u001B[0m \u001B[0;34m=\u001B[0m \u001B[0m_base\u001B[0m\u001B[0;34m.\u001B[0m\u001B[0mExecutor\u001B[0m\u001B[0;34m.\u001B[0m\u001B[0mshutdown\u001B[0m\u001B[0;34m.\u001B[0m\u001B[0m__doc__\u001B[0m\u001B[0;34m\u001B[0m\u001B[0;34m\u001B[0m\u001B[0m\n",
      "\u001B[0;32m~/anaconda3/envs/ml/lib/python3.9/threading.py\u001B[0m in \u001B[0;36mjoin\u001B[0;34m(self, timeout)\u001B[0m\n\u001B[1;32m   1031\u001B[0m \u001B[0;34m\u001B[0m\u001B[0m\n\u001B[1;32m   1032\u001B[0m         \u001B[0;32mif\u001B[0m \u001B[0mtimeout\u001B[0m \u001B[0;32mis\u001B[0m \u001B[0;32mNone\u001B[0m\u001B[0;34m:\u001B[0m\u001B[0;34m\u001B[0m\u001B[0;34m\u001B[0m\u001B[0m\n\u001B[0;32m-> 1033\u001B[0;31m             \u001B[0mself\u001B[0m\u001B[0;34m.\u001B[0m\u001B[0m_wait_for_tstate_lock\u001B[0m\u001B[0;34m(\u001B[0m\u001B[0;34m)\u001B[0m\u001B[0;34m\u001B[0m\u001B[0;34m\u001B[0m\u001B[0m\n\u001B[0m\u001B[1;32m   1034\u001B[0m         \u001B[0;32melse\u001B[0m\u001B[0;34m:\u001B[0m\u001B[0;34m\u001B[0m\u001B[0;34m\u001B[0m\u001B[0m\n\u001B[1;32m   1035\u001B[0m             \u001B[0;31m# the behavior of a negative timeout isn't documented, but\u001B[0m\u001B[0;34m\u001B[0m\u001B[0;34m\u001B[0m\u001B[0;34m\u001B[0m\u001B[0m\n",
      "\u001B[0;32m~/anaconda3/envs/ml/lib/python3.9/threading.py\u001B[0m in \u001B[0;36m_wait_for_tstate_lock\u001B[0;34m(self, block, timeout)\u001B[0m\n\u001B[1;32m   1047\u001B[0m         \u001B[0;32mif\u001B[0m \u001B[0mlock\u001B[0m \u001B[0;32mis\u001B[0m \u001B[0;32mNone\u001B[0m\u001B[0;34m:\u001B[0m  \u001B[0;31m# already determined that the C code is done\u001B[0m\u001B[0;34m\u001B[0m\u001B[0;34m\u001B[0m\u001B[0m\n\u001B[1;32m   1048\u001B[0m             \u001B[0;32massert\u001B[0m \u001B[0mself\u001B[0m\u001B[0;34m.\u001B[0m\u001B[0m_is_stopped\u001B[0m\u001B[0;34m\u001B[0m\u001B[0;34m\u001B[0m\u001B[0m\n\u001B[0;32m-> 1049\u001B[0;31m         \u001B[0;32melif\u001B[0m \u001B[0mlock\u001B[0m\u001B[0;34m.\u001B[0m\u001B[0macquire\u001B[0m\u001B[0;34m(\u001B[0m\u001B[0mblock\u001B[0m\u001B[0;34m,\u001B[0m \u001B[0mtimeout\u001B[0m\u001B[0;34m)\u001B[0m\u001B[0;34m:\u001B[0m\u001B[0;34m\u001B[0m\u001B[0;34m\u001B[0m\u001B[0m\n\u001B[0m\u001B[1;32m   1050\u001B[0m             \u001B[0mlock\u001B[0m\u001B[0;34m.\u001B[0m\u001B[0mrelease\u001B[0m\u001B[0;34m(\u001B[0m\u001B[0;34m)\u001B[0m\u001B[0;34m\u001B[0m\u001B[0;34m\u001B[0m\u001B[0m\n\u001B[1;32m   1051\u001B[0m             \u001B[0mself\u001B[0m\u001B[0;34m.\u001B[0m\u001B[0m_stop\u001B[0m\u001B[0;34m(\u001B[0m\u001B[0;34m)\u001B[0m\u001B[0;34m\u001B[0m\u001B[0;34m\u001B[0m\u001B[0m\n",
      "\u001B[0;31mKeyboardInterrupt\u001B[0m: "
     ]
    }
   ],
   "source": [
    "tic=timeit.default_timer()\n",
    "\n",
    "##generating random list of samples\n",
    "\n",
    "\n",
    "def multiplex(sample):\n",
    "    print(f\"running sample: {sample}\")\n",
    "    residuals=[]\n",
    "    sample_rna=X_train.loc[sample].copy()\n",
    "    y_pred_before=int(model.predict(np.array(sample_rna).reshape(1,-1)))\n",
    "    #y_pred_before=regressor.predict(np.array(sample_rna).reshape(1,-1))\n",
    "    print(f\"y_pred_before: {y_pred_before}\")\n",
    "    for gene in genes:\n",
    "        sample_rna[gene]=sample_rna[gene]*10 #overexpression 10x\n",
    "        y_pred=int(model.predict(np.array(sample_rna).reshape(1,-1)))\n",
    "        #y_pred=regressor.predict(np.array(sample_rna).reshape(1,-1))\n",
    "        sample_rna[gene]=sample_rna[gene]/10 #restoring original value\n",
    "        residuals.append([gene,y_pred-y_pred_before])\n",
    "    gene_score=pd.DataFrame(residuals,columns=[\"gene_name\",\"residual\"])\n",
    "    sorted_genes=gene_score.sort_values(by=\"residual\",ascending=False).gene_name\n",
    "    candidates[sample]=sorted_genes.values\n",
    "\n",
    "\n",
    "print(\"Calculating residuals...\")\n",
    "\n",
    "for i in range(1,11,1):\n",
    "    n_samps=1\n",
    "    samples=np.load(\"samples_clean_v11_train_{0}.npy\".format(dataset_name),allow_pickle=True)\n",
    "    samples=choices(samples,k=int(n_samps))\n",
    "#np.save(\"random_samples_100.npy\",samples)\n",
    "#samples=list(np.load(\"random_samples_100.npy\",allow_pickle=True))\n",
    "#samples=[\"GSM2817834\"]\n",
    "\n",
    "    candidates=pd.DataFrame() \n",
    "    with concurrent.futures.ThreadPoolExecutor() as executor:\n",
    "            results=executor.map(multiplex,samples)\n",
    "        \n",
    "    print(f\"Saving residuals file {i+1}\")\n",
    "    candidates.to_csv(f\"candidates_table_tpm_{dataset_name}_{model_name}_{batch_size}b_{epochs}e-{i}.csv\",index=False)\n",
    "    print(f\"File created\")\n",
    "    \n",
    "toc=timeit.default_timer()\n",
    "print(\"Sorting time: \"+str((toc-tic)/60)+ \" minutes\")"
   ]
  },
  {
   "cell_type": "code",
   "execution_count": null,
   "metadata": {},
   "outputs": [],
   "source": []
  },
  {
   "cell_type": "markdown",
   "metadata": {},
   "source": [
    "## Multiplex KO prediction"
   ]
  },
  {
   "cell_type": "code",
   "execution_count": null,
   "metadata": {},
   "outputs": [],
   "source": []
  },
  {
   "cell_type": "code",
   "execution_count": null,
   "metadata": {},
   "outputs": [],
   "source": [
    "tic=timeit.default_timer()\n",
    "\n",
    "##generating random list of samples\n",
    "\n",
    "\n",
    "def multiplex(sample):\n",
    "    print(f\"running sample: {sample}\")\n",
    "    residuals=[]\n",
    "    sample_rna=X_train.loc[sample].copy()\n",
    "    y_pred_before=int(regressor.predict(np.array(sample_rna).reshape(1,-1)))\n",
    "    #y_pred_before=regressor.predict(np.array(sample_rna).reshape(1,-1))\n",
    "    print(f\"y_pred_before: {y_pred_before}\")\n",
    "    for gene in genes:\n",
    "        sample_rna[gene]=sample_rna[gene]*10\n",
    "        y_pred=int(regressor.predict(np.array(sample_rna).reshape(1,-1)))\n",
    "        #y_pred=regressor.predict(np.array(sample_rna).reshape(1,-1))\n",
    "        sample_rna[gene]=sample_rna[gene]/10\n",
    "        residuals.append([gene,y_pred-y_pred_before])\n",
    "    gene_score=pd.DataFrame(residuals,columns=[\"gene_name\",\"residual\"])\n",
    "    sorted_genes=gene_score.sort_values(by=\"residual\",ascending=False).gene_name\n",
    "    candidates[sample]=sorted_genes.values\n",
    "\n",
    "\n",
    "print(\"Calculating residuals...\")\n",
    "\n",
    "for i in range(2):\n",
    "    n_samps=1\n",
    "    samples=np.load(\"samples_clean_v10_train_tpm_50.npy\",allow_pickle=True)\n",
    "    samples=choices(samples,k=int(n_samps))\n",
    "#np.save(\"random_samples_100.npy\",samples)\n",
    "#samples=list(np.load(\"random_samples_100.npy\",allow_pickle=True))\n",
    "#samples=[\"GSM2817834\"]\n",
    "\n",
    "    candidates=pd.DataFrame() \n",
    "    with concurrent.futures.ThreadPoolExecutor() as executor:\n",
    "            results=executor.map(multiplex,samples)\n",
    "        \n",
    "    print(f\"Saving residuals file {i+1}\")\n",
    "    candidates.to_csv(f\"candidates_table_tpm_100_2layers_64b-{i+1}.csv\",index=False)\n",
    "    print(f\"File created\")\n",
    "    \n",
    "toc=timeit.default_timer()\n",
    "print(\"Sorting time: \"+str((toc-tic)/60)+ \" minutes\")"
   ]
  },
  {
   "cell_type": "code",
   "execution_count": null,
   "metadata": {},
   "outputs": [],
   "source": []
  },
  {
   "cell_type": "code",
   "execution_count": 14,
   "metadata": {},
   "outputs": [
    {
     "data": {
      "text/plain": [
       "['GSM2069477',\n",
       " 'GSM3577398',\n",
       " 'GSM2138846',\n",
       " 'GSM3033043',\n",
       " 'GSM2183982',\n",
       " 'GSM2678771',\n",
       " 'GSM3262231',\n",
       " 'GSM2395568',\n",
       " 'GSM2856927',\n",
       " 'GSM3737430']"
      ]
     },
     "execution_count": 14,
     "metadata": {},
     "output_type": "execute_result"
    }
   ],
   "source": [
    "samples"
   ]
  },
  {
   "cell_type": "code",
   "execution_count": null,
   "metadata": {},
   "outputs": [],
   "source": []
  },
  {
   "cell_type": "code",
   "execution_count": null,
   "metadata": {},
   "outputs": [],
   "source": [
    "n_samps=100\n",
    "##generating random list of samples\n",
    "samples=np.load(\"samples_qnorm_clean_v7_train_raw_100.npy\",allow_pickle=True)\n",
    "samples=choices(samples,k=int(n_samps))\n",
    "np.save(\"random_samples_100.npy\",samples)\n",
    "samples=list(np.load(\"random_samples_100.npy\",allow_pickle=True))\n",
    "for i in range (10):\n",
    "    samples=samples[i*10:(i+1)*10]"
   ]
  },
  {
   "cell_type": "code",
   "execution_count": 31,
   "metadata": {},
   "outputs": [
    {
     "data": {
      "text/html": [
       "<div>\n",
       "<style scoped>\n",
       "    .dataframe tbody tr th:only-of-type {\n",
       "        vertical-align: middle;\n",
       "    }\n",
       "\n",
       "    .dataframe tbody tr th {\n",
       "        vertical-align: top;\n",
       "    }\n",
       "\n",
       "    .dataframe thead th {\n",
       "        text-align: right;\n",
       "    }\n",
       "</style>\n",
       "<table border=\"1\" class=\"dataframe\">\n",
       "  <thead>\n",
       "    <tr style=\"text-align: right;\">\n",
       "      <th></th>\n",
       "      <th>GSM2132131</th>\n",
       "      <th>GSM1633866</th>\n",
       "    </tr>\n",
       "  </thead>\n",
       "  <tbody>\n",
       "    <tr>\n",
       "      <th>0</th>\n",
       "      <td>AC006987.5</td>\n",
       "      <td>AC011380.8</td>\n",
       "    </tr>\n",
       "    <tr>\n",
       "      <th>1</th>\n",
       "      <td>ABL1</td>\n",
       "      <td>AC073135.8</td>\n",
       "    </tr>\n",
       "    <tr>\n",
       "      <th>2</th>\n",
       "      <td>AC011043.1</td>\n",
       "      <td>AATK</td>\n",
       "    </tr>\n",
       "    <tr>\n",
       "      <th>3</th>\n",
       "      <td>AC004556.1</td>\n",
       "      <td>AC005517.3</td>\n",
       "    </tr>\n",
       "    <tr>\n",
       "      <th>4</th>\n",
       "      <td>ABCC1</td>\n",
       "      <td>AC073135.7</td>\n",
       "    </tr>\n",
       "  </tbody>\n",
       "</table>\n",
       "</div>"
      ],
      "text/plain": [
       "   GSM2132131  GSM1633866\n",
       "0  AC006987.5  AC011380.8\n",
       "1        ABL1  AC073135.8\n",
       "2  AC011043.1        AATK\n",
       "3  AC004556.1  AC005517.3\n",
       "4       ABCC1  AC073135.7"
      ]
     },
     "execution_count": 31,
     "metadata": {},
     "output_type": "execute_result"
    }
   ],
   "source": [
    "candidates.head()"
   ]
  },
  {
   "cell_type": "code",
   "execution_count": 22,
   "metadata": {},
   "outputs": [
    {
     "data": {
      "text/html": [
       "<div>\n",
       "<style scoped>\n",
       "    .dataframe tbody tr th:only-of-type {\n",
       "        vertical-align: middle;\n",
       "    }\n",
       "\n",
       "    .dataframe tbody tr th {\n",
       "        vertical-align: top;\n",
       "    }\n",
       "\n",
       "    .dataframe thead th {\n",
       "        text-align: right;\n",
       "    }\n",
       "</style>\n",
       "<table border=\"1\" class=\"dataframe\">\n",
       "  <thead>\n",
       "    <tr style=\"text-align: right;\">\n",
       "      <th></th>\n",
       "      <th>A1CF</th>\n",
       "      <th>A3GALT2</th>\n",
       "      <th>A4GALT</th>\n",
       "      <th>A4GNT</th>\n",
       "      <th>AAAS</th>\n",
       "      <th>AACS</th>\n",
       "      <th>AADAC</th>\n",
       "      <th>AADACL3</th>\n",
       "      <th>AADACL4</th>\n",
       "      <th>AADAT</th>\n",
       "      <th>...</th>\n",
       "      <th>BP-21201H5.1</th>\n",
       "      <th>BP-21264C1.1</th>\n",
       "      <th>BP-2168N6.1</th>\n",
       "      <th>BP-2168N6.3</th>\n",
       "      <th>BP-2171C21.2</th>\n",
       "      <th>BP-2171C21.4</th>\n",
       "      <th>BP-2171C21.5</th>\n",
       "      <th>BP-2171C21.6</th>\n",
       "      <th>BP-2189O9.2</th>\n",
       "      <th>YR211F11.2</th>\n",
       "    </tr>\n",
       "  </thead>\n",
       "  <tbody>\n",
       "    <tr>\n",
       "      <th>GSM1633866</th>\n",
       "      <td>14.226648</td>\n",
       "      <td>2853.403141</td>\n",
       "      <td>0.000000</td>\n",
       "      <td>0.0</td>\n",
       "      <td>874.265323</td>\n",
       "      <td>395.530069</td>\n",
       "      <td>0.0</td>\n",
       "      <td>0.0</td>\n",
       "      <td>0.0</td>\n",
       "      <td>0.000000</td>\n",
       "      <td>...</td>\n",
       "      <td>36.764706</td>\n",
       "      <td>5.797101</td>\n",
       "      <td>0.0</td>\n",
       "      <td>0.0</td>\n",
       "      <td>0.0</td>\n",
       "      <td>0.000000</td>\n",
       "      <td>68.181818</td>\n",
       "      <td>0.000000</td>\n",
       "      <td>10.386912</td>\n",
       "      <td>0.0</td>\n",
       "    </tr>\n",
       "    <tr>\n",
       "      <th>GSM2132131</th>\n",
       "      <td>1.778331</td>\n",
       "      <td>0.000000</td>\n",
       "      <td>873.593647</td>\n",
       "      <td>0.0</td>\n",
       "      <td>1231.108312</td>\n",
       "      <td>1420.379356</td>\n",
       "      <td>0.0</td>\n",
       "      <td>0.0</td>\n",
       "      <td>0.0</td>\n",
       "      <td>347.844199</td>\n",
       "      <td>...</td>\n",
       "      <td>542.279412</td>\n",
       "      <td>287.922705</td>\n",
       "      <td>0.0</td>\n",
       "      <td>0.0</td>\n",
       "      <td>0.0</td>\n",
       "      <td>4.692633</td>\n",
       "      <td>90.909091</td>\n",
       "      <td>168.776371</td>\n",
       "      <td>41.547650</td>\n",
       "      <td>0.0</td>\n",
       "    </tr>\n",
       "  </tbody>\n",
       "</table>\n",
       "<p>2 rows × 25420 columns</p>\n",
       "</div>"
      ],
      "text/plain": [
       "                 A1CF      A3GALT2      A4GALT  A4GNT         AAAS  \\\n",
       "GSM1633866  14.226648  2853.403141    0.000000    0.0   874.265323   \n",
       "GSM2132131   1.778331     0.000000  873.593647    0.0  1231.108312   \n",
       "\n",
       "                   AACS  AADAC  AADACL3  AADACL4       AADAT  ...  \\\n",
       "GSM1633866   395.530069    0.0      0.0      0.0    0.000000  ...   \n",
       "GSM2132131  1420.379356    0.0      0.0      0.0  347.844199  ...   \n",
       "\n",
       "            BP-21201H5.1  BP-21264C1.1  BP-2168N6.1  BP-2168N6.3  \\\n",
       "GSM1633866     36.764706      5.797101          0.0          0.0   \n",
       "GSM2132131    542.279412    287.922705          0.0          0.0   \n",
       "\n",
       "            BP-2171C21.2  BP-2171C21.4  BP-2171C21.5  BP-2171C21.6  \\\n",
       "GSM1633866           0.0      0.000000     68.181818      0.000000   \n",
       "GSM2132131           0.0      4.692633     90.909091    168.776371   \n",
       "\n",
       "            BP-2189O9.2  YR211F11.2  \n",
       "GSM1633866    10.386912         0.0  \n",
       "GSM2132131    41.547650         0.0  \n",
       "\n",
       "[2 rows x 25420 columns]"
      ]
     },
     "execution_count": 22,
     "metadata": {},
     "output_type": "execute_result"
    }
   ],
   "source": [
    "X_train.loc[samples]"
   ]
  },
  {
   "cell_type": "code",
   "execution_count": 27,
   "metadata": {},
   "outputs": [
    {
     "name": "stdout",
     "output_type": "stream",
     "text": [
      "running sample: GSM1633866\n"
     ]
    },
    {
     "ename": "KeyboardInterrupt",
     "evalue": "",
     "output_type": "error",
     "traceback": [
      "\u001B[0;31m---------------------------------------------------------------------------\u001B[0m",
      "\u001B[0;31mKeyboardInterrupt\u001B[0m                         Traceback (most recent call last)",
      "\u001B[0;32m<ipython-input-27-d6f0e9969065>\u001B[0m in \u001B[0;36m<module>\u001B[0;34m\u001B[0m\n\u001B[1;32m     17\u001B[0m     \u001B[0mresiduals\u001B[0m\u001B[0;34m=\u001B[0m\u001B[0;34m[\u001B[0m\u001B[0;34m]\u001B[0m\u001B[0;34m\u001B[0m\u001B[0;34m\u001B[0m\u001B[0m\n\u001B[1;32m     18\u001B[0m     \u001B[0;32mwith\u001B[0m \u001B[0mconcurrent\u001B[0m\u001B[0;34m.\u001B[0m\u001B[0mfutures\u001B[0m\u001B[0;34m.\u001B[0m\u001B[0mProcessPoolExecutor\u001B[0m\u001B[0;34m(\u001B[0m\u001B[0;34m)\u001B[0m \u001B[0;32mas\u001B[0m \u001B[0mexecutor\u001B[0m\u001B[0;34m:\u001B[0m\u001B[0;34m\u001B[0m\u001B[0;34m\u001B[0m\u001B[0m\n\u001B[0;32m---> 19\u001B[0;31m         \u001B[0mresults\u001B[0m\u001B[0;34m=\u001B[0m\u001B[0mexecutor\u001B[0m\u001B[0;34m.\u001B[0m\u001B[0mmap\u001B[0m\u001B[0;34m(\u001B[0m\u001B[0miterator\u001B[0m\u001B[0;34m,\u001B[0m\u001B[0;34m(\u001B[0m\u001B[0mgenes\u001B[0m\u001B[0;34m[\u001B[0m\u001B[0;36m0\u001B[0m\u001B[0;34m:\u001B[0m\u001B[0;36m1000\u001B[0m\u001B[0;34m]\u001B[0m\u001B[0;34m)\u001B[0m\u001B[0;34m)\u001B[0m\u001B[0;34m\u001B[0m\u001B[0;34m\u001B[0m\u001B[0m\n\u001B[0m\u001B[1;32m     20\u001B[0m         \u001B[0;31m#gene_score=pd.DataFrame(residuals,columns=[\"gene_name\",\"residual\"])\u001B[0m\u001B[0;34m\u001B[0m\u001B[0;34m\u001B[0m\u001B[0;34m\u001B[0m\u001B[0m\n\u001B[1;32m     21\u001B[0m         \u001B[0;31m#sorted_genes=gene_score.sort_values(by=\"residual\",ascending=False).gene_name\u001B[0m\u001B[0;34m\u001B[0m\u001B[0;34m\u001B[0m\u001B[0;34m\u001B[0m\u001B[0m\n",
      "\u001B[0;32m~/anaconda3/envs/ml/lib/python3.7/concurrent/futures/_base.py\u001B[0m in \u001B[0;36m__exit__\u001B[0;34m(self, exc_type, exc_val, exc_tb)\u001B[0m\n\u001B[1;32m    609\u001B[0m \u001B[0;34m\u001B[0m\u001B[0m\n\u001B[1;32m    610\u001B[0m     \u001B[0;32mdef\u001B[0m \u001B[0m__exit__\u001B[0m\u001B[0;34m(\u001B[0m\u001B[0mself\u001B[0m\u001B[0;34m,\u001B[0m \u001B[0mexc_type\u001B[0m\u001B[0;34m,\u001B[0m \u001B[0mexc_val\u001B[0m\u001B[0;34m,\u001B[0m \u001B[0mexc_tb\u001B[0m\u001B[0;34m)\u001B[0m\u001B[0;34m:\u001B[0m\u001B[0;34m\u001B[0m\u001B[0;34m\u001B[0m\u001B[0m\n\u001B[0;32m--> 611\u001B[0;31m         \u001B[0mself\u001B[0m\u001B[0;34m.\u001B[0m\u001B[0mshutdown\u001B[0m\u001B[0;34m(\u001B[0m\u001B[0mwait\u001B[0m\u001B[0;34m=\u001B[0m\u001B[0;32mTrue\u001B[0m\u001B[0;34m)\u001B[0m\u001B[0;34m\u001B[0m\u001B[0;34m\u001B[0m\u001B[0m\n\u001B[0m\u001B[1;32m    612\u001B[0m         \u001B[0;32mreturn\u001B[0m \u001B[0;32mFalse\u001B[0m\u001B[0;34m\u001B[0m\u001B[0;34m\u001B[0m\u001B[0m\n\u001B[1;32m    613\u001B[0m \u001B[0;34m\u001B[0m\u001B[0m\n",
      "\u001B[0;32m~/anaconda3/envs/ml/lib/python3.7/concurrent/futures/process.py\u001B[0m in \u001B[0;36mshutdown\u001B[0;34m(self, wait)\u001B[0m\n\u001B[1;32m    653\u001B[0m             \u001B[0mself\u001B[0m\u001B[0;34m.\u001B[0m\u001B[0m_queue_management_thread_wakeup\u001B[0m\u001B[0;34m.\u001B[0m\u001B[0mwakeup\u001B[0m\u001B[0;34m(\u001B[0m\u001B[0;34m)\u001B[0m\u001B[0;34m\u001B[0m\u001B[0;34m\u001B[0m\u001B[0m\n\u001B[1;32m    654\u001B[0m             \u001B[0;32mif\u001B[0m \u001B[0mwait\u001B[0m\u001B[0;34m:\u001B[0m\u001B[0;34m\u001B[0m\u001B[0;34m\u001B[0m\u001B[0m\n\u001B[0;32m--> 655\u001B[0;31m                 \u001B[0mself\u001B[0m\u001B[0;34m.\u001B[0m\u001B[0m_queue_management_thread\u001B[0m\u001B[0;34m.\u001B[0m\u001B[0mjoin\u001B[0m\u001B[0;34m(\u001B[0m\u001B[0;34m)\u001B[0m\u001B[0;34m\u001B[0m\u001B[0;34m\u001B[0m\u001B[0m\n\u001B[0m\u001B[1;32m    656\u001B[0m         \u001B[0;31m# To reduce the risk of opening too many files, remove references to\u001B[0m\u001B[0;34m\u001B[0m\u001B[0;34m\u001B[0m\u001B[0;34m\u001B[0m\u001B[0m\n\u001B[1;32m    657\u001B[0m         \u001B[0;31m# objects that use file descriptors.\u001B[0m\u001B[0;34m\u001B[0m\u001B[0;34m\u001B[0m\u001B[0;34m\u001B[0m\u001B[0m\n",
      "\u001B[0;32m~/anaconda3/envs/ml/lib/python3.7/threading.py\u001B[0m in \u001B[0;36mjoin\u001B[0;34m(self, timeout)\u001B[0m\n\u001B[1;32m   1030\u001B[0m \u001B[0;34m\u001B[0m\u001B[0m\n\u001B[1;32m   1031\u001B[0m         \u001B[0;32mif\u001B[0m \u001B[0mtimeout\u001B[0m \u001B[0;32mis\u001B[0m \u001B[0;32mNone\u001B[0m\u001B[0;34m:\u001B[0m\u001B[0;34m\u001B[0m\u001B[0;34m\u001B[0m\u001B[0m\n\u001B[0;32m-> 1032\u001B[0;31m             \u001B[0mself\u001B[0m\u001B[0;34m.\u001B[0m\u001B[0m_wait_for_tstate_lock\u001B[0m\u001B[0;34m(\u001B[0m\u001B[0;34m)\u001B[0m\u001B[0;34m\u001B[0m\u001B[0;34m\u001B[0m\u001B[0m\n\u001B[0m\u001B[1;32m   1033\u001B[0m         \u001B[0;32melse\u001B[0m\u001B[0;34m:\u001B[0m\u001B[0;34m\u001B[0m\u001B[0;34m\u001B[0m\u001B[0m\n\u001B[1;32m   1034\u001B[0m             \u001B[0;31m# the behavior of a negative timeout isn't documented, but\u001B[0m\u001B[0;34m\u001B[0m\u001B[0;34m\u001B[0m\u001B[0;34m\u001B[0m\u001B[0m\n",
      "\u001B[0;32m~/anaconda3/envs/ml/lib/python3.7/threading.py\u001B[0m in \u001B[0;36m_wait_for_tstate_lock\u001B[0;34m(self, block, timeout)\u001B[0m\n\u001B[1;32m   1046\u001B[0m         \u001B[0;32mif\u001B[0m \u001B[0mlock\u001B[0m \u001B[0;32mis\u001B[0m \u001B[0;32mNone\u001B[0m\u001B[0;34m:\u001B[0m  \u001B[0;31m# already determined that the C code is done\u001B[0m\u001B[0;34m\u001B[0m\u001B[0;34m\u001B[0m\u001B[0m\n\u001B[1;32m   1047\u001B[0m             \u001B[0;32massert\u001B[0m \u001B[0mself\u001B[0m\u001B[0;34m.\u001B[0m\u001B[0m_is_stopped\u001B[0m\u001B[0;34m\u001B[0m\u001B[0;34m\u001B[0m\u001B[0m\n\u001B[0;32m-> 1048\u001B[0;31m         \u001B[0;32melif\u001B[0m \u001B[0mlock\u001B[0m\u001B[0;34m.\u001B[0m\u001B[0macquire\u001B[0m\u001B[0;34m(\u001B[0m\u001B[0mblock\u001B[0m\u001B[0;34m,\u001B[0m \u001B[0mtimeout\u001B[0m\u001B[0;34m)\u001B[0m\u001B[0;34m:\u001B[0m\u001B[0;34m\u001B[0m\u001B[0;34m\u001B[0m\u001B[0m\n\u001B[0m\u001B[1;32m   1049\u001B[0m             \u001B[0mlock\u001B[0m\u001B[0;34m.\u001B[0m\u001B[0mrelease\u001B[0m\u001B[0;34m(\u001B[0m\u001B[0;34m)\u001B[0m\u001B[0;34m\u001B[0m\u001B[0;34m\u001B[0m\u001B[0m\n\u001B[1;32m   1050\u001B[0m             \u001B[0mself\u001B[0m\u001B[0;34m.\u001B[0m\u001B[0m_stop\u001B[0m\u001B[0;34m(\u001B[0m\u001B[0;34m)\u001B[0m\u001B[0;34m\u001B[0m\u001B[0;34m\u001B[0m\u001B[0m\n",
      "\u001B[0;31mKeyboardInterrupt\u001B[0m: "
     ]
    }
   ],
   "source": [
    "tic=timeit.default_timer()\n",
    "\n",
    "candidates=pd.DataFrame() \n",
    "\n",
    "def iterator(gene):\n",
    "    #sample_rna=X_train.loc[sample].copy()\n",
    "    y_pred_before=int(regressor.predict(np.array(sample_rna).reshape(1,-1)))\n",
    "    sample_rna[gene]=sample_rna[gene]*10\n",
    "    y_pred=regressor.predict(np.array(sample_rna).reshape(1,-1))\n",
    "    sample_rna[gene]=sample_rna[gene]/10\n",
    "    residuals.append((gene,y_pred-y_pred_before))\n",
    "    \n",
    "\n",
    "for sample in samples:\n",
    "    print(f\"running sample: {sample}\")\n",
    "    sample_rna=X_train.loc[sample].copy()\n",
    "    residuals=[]\n",
    "    with concurrent.futures.ThreadPoolExecutor() as executor:\n",
    "        results=executor.map(iterator,(genes[0:1000]))\n",
    "        #gene_score=pd.DataFrame(residuals,columns=[\"gene_name\",\"residual\"])\n",
    "        #sorted_genes=gene_score.sort_values(by=\"residual\",ascending=False).gene_name\n",
    "        #candidates[sample]=sorted_genes.values\n",
    "    \n",
    "toc=timeit.default_timer()\n",
    "print(\"Predicting time: \"+str((toc-tic)/60)+ \" minutes\")"
   ]
  },
  {
   "cell_type": "code",
   "execution_count": 10,
   "metadata": {},
   "outputs": [
    {
     "name": "stdout",
     "output_type": "stream",
     "text": [
      "processing sample GSM2915858\n"
     ]
    },
    {
     "ename": "NameError",
     "evalue": "name 'residuals' is not defined",
     "output_type": "error",
     "traceback": [
      "\u001B[0;31m---------------------------------------------------------------------------\u001B[0m",
      "\u001B[0;31mNameError\u001B[0m                                 Traceback (most recent call last)",
      "\u001B[0;32m<ipython-input-10-271edb8c82e8>\u001B[0m in \u001B[0;36m<module>\u001B[0;34m\u001B[0m\n\u001B[1;32m     23\u001B[0m \u001B[0;34m\u001B[0m\u001B[0m\n\u001B[1;32m     24\u001B[0m \u001B[0;32mfor\u001B[0m \u001B[0msample\u001B[0m \u001B[0;32min\u001B[0m \u001B[0msamples\u001B[0m\u001B[0;34m:\u001B[0m\u001B[0;34m\u001B[0m\u001B[0;34m\u001B[0m\u001B[0m\n\u001B[0;32m---> 25\u001B[0;31m     \u001B[0mpredictor\u001B[0m\u001B[0;34m(\u001B[0m\u001B[0msample\u001B[0m\u001B[0;34m)\u001B[0m\u001B[0;34m\u001B[0m\u001B[0;34m\u001B[0m\u001B[0m\n\u001B[0m\u001B[1;32m     26\u001B[0m \u001B[0;34m\u001B[0m\u001B[0m\n\u001B[1;32m     27\u001B[0m \u001B[0;34m\u001B[0m\u001B[0m\n",
      "\u001B[0;32m<ipython-input-10-271edb8c82e8>\u001B[0m in \u001B[0;36mpredictor\u001B[0;34m(sample)\u001B[0m\n\u001B[1;32m     16\u001B[0m     \u001B[0mresiduals\u001B[0m\u001B[0;34m=\u001B[0m\u001B[0;34m[\u001B[0m\u001B[0;34m]\u001B[0m\u001B[0;34m\u001B[0m\u001B[0;34m\u001B[0m\u001B[0m\n\u001B[1;32m     17\u001B[0m     \u001B[0mpool\u001B[0m\u001B[0;34m=\u001B[0m\u001B[0mThreadPool\u001B[0m\u001B[0;34m(\u001B[0m\u001B[0;34m)\u001B[0m\u001B[0;34m\u001B[0m\u001B[0;34m\u001B[0m\u001B[0m\n\u001B[0;32m---> 18\u001B[0;31m     \u001B[0mresults_pool\u001B[0m\u001B[0;34m=\u001B[0m\u001B[0mpool\u001B[0m\u001B[0;34m.\u001B[0m\u001B[0mmap\u001B[0m\u001B[0;34m(\u001B[0m\u001B[0miterator\u001B[0m\u001B[0;34m,\u001B[0m\u001B[0mgenes\u001B[0m\u001B[0;34m[\u001B[0m\u001B[0;36m0\u001B[0m\u001B[0;34m:\u001B[0m\u001B[0;36m100\u001B[0m\u001B[0;34m]\u001B[0m\u001B[0;34m)\u001B[0m\u001B[0;34m\u001B[0m\u001B[0;34m\u001B[0m\u001B[0m\n\u001B[0m\u001B[1;32m     19\u001B[0m     \u001B[0mgene_score\u001B[0m\u001B[0;34m=\u001B[0m\u001B[0mpd\u001B[0m\u001B[0;34m.\u001B[0m\u001B[0mDataFrame\u001B[0m\u001B[0;34m(\u001B[0m\u001B[0mresiduals\u001B[0m\u001B[0;34m,\u001B[0m\u001B[0mcolumns\u001B[0m\u001B[0;34m=\u001B[0m\u001B[0;34m[\u001B[0m\u001B[0;34m\"gene_name\"\u001B[0m\u001B[0;34m,\u001B[0m\u001B[0;34m\"residual\"\u001B[0m\u001B[0;34m]\u001B[0m\u001B[0;34m)\u001B[0m\u001B[0;34m\u001B[0m\u001B[0;34m\u001B[0m\u001B[0m\n\u001B[1;32m     20\u001B[0m     \u001B[0msorted_genes\u001B[0m\u001B[0;34m=\u001B[0m\u001B[0mgene_score\u001B[0m\u001B[0;34m.\u001B[0m\u001B[0msort_values\u001B[0m\u001B[0;34m(\u001B[0m\u001B[0mby\u001B[0m\u001B[0;34m=\u001B[0m\u001B[0;34m\"residual\"\u001B[0m\u001B[0;34m,\u001B[0m\u001B[0mascending\u001B[0m\u001B[0;34m=\u001B[0m\u001B[0;32mFalse\u001B[0m\u001B[0;34m)\u001B[0m\u001B[0;34m.\u001B[0m\u001B[0mgene_name\u001B[0m\u001B[0;34m\u001B[0m\u001B[0;34m\u001B[0m\u001B[0m\n",
      "\u001B[0;32m~/anaconda3/envs/ml/lib/python3.7/multiprocessing/pool.py\u001B[0m in \u001B[0;36mmap\u001B[0;34m(self, func, iterable, chunksize)\u001B[0m\n\u001B[1;32m    266\u001B[0m         \u001B[0;32min\u001B[0m \u001B[0ma\u001B[0m \u001B[0mlist\u001B[0m \u001B[0mthat\u001B[0m \u001B[0;32mis\u001B[0m \u001B[0mreturned\u001B[0m\u001B[0;34m.\u001B[0m\u001B[0;34m\u001B[0m\u001B[0;34m\u001B[0m\u001B[0m\n\u001B[1;32m    267\u001B[0m         '''\n\u001B[0;32m--> 268\u001B[0;31m         \u001B[0;32mreturn\u001B[0m \u001B[0mself\u001B[0m\u001B[0;34m.\u001B[0m\u001B[0m_map_async\u001B[0m\u001B[0;34m(\u001B[0m\u001B[0mfunc\u001B[0m\u001B[0;34m,\u001B[0m \u001B[0miterable\u001B[0m\u001B[0;34m,\u001B[0m \u001B[0mmapstar\u001B[0m\u001B[0;34m,\u001B[0m \u001B[0mchunksize\u001B[0m\u001B[0;34m)\u001B[0m\u001B[0;34m.\u001B[0m\u001B[0mget\u001B[0m\u001B[0;34m(\u001B[0m\u001B[0;34m)\u001B[0m\u001B[0;34m\u001B[0m\u001B[0;34m\u001B[0m\u001B[0m\n\u001B[0m\u001B[1;32m    269\u001B[0m \u001B[0;34m\u001B[0m\u001B[0m\n\u001B[1;32m    270\u001B[0m     \u001B[0;32mdef\u001B[0m \u001B[0mstarmap\u001B[0m\u001B[0;34m(\u001B[0m\u001B[0mself\u001B[0m\u001B[0;34m,\u001B[0m \u001B[0mfunc\u001B[0m\u001B[0;34m,\u001B[0m \u001B[0miterable\u001B[0m\u001B[0;34m,\u001B[0m \u001B[0mchunksize\u001B[0m\u001B[0;34m=\u001B[0m\u001B[0;32mNone\u001B[0m\u001B[0;34m)\u001B[0m\u001B[0;34m:\u001B[0m\u001B[0;34m\u001B[0m\u001B[0;34m\u001B[0m\u001B[0m\n",
      "\u001B[0;32m~/anaconda3/envs/ml/lib/python3.7/multiprocessing/pool.py\u001B[0m in \u001B[0;36mget\u001B[0;34m(self, timeout)\u001B[0m\n\u001B[1;32m    655\u001B[0m             \u001B[0;32mreturn\u001B[0m \u001B[0mself\u001B[0m\u001B[0;34m.\u001B[0m\u001B[0m_value\u001B[0m\u001B[0;34m\u001B[0m\u001B[0;34m\u001B[0m\u001B[0m\n\u001B[1;32m    656\u001B[0m         \u001B[0;32melse\u001B[0m\u001B[0;34m:\u001B[0m\u001B[0;34m\u001B[0m\u001B[0;34m\u001B[0m\u001B[0m\n\u001B[0;32m--> 657\u001B[0;31m             \u001B[0;32mraise\u001B[0m \u001B[0mself\u001B[0m\u001B[0;34m.\u001B[0m\u001B[0m_value\u001B[0m\u001B[0;34m\u001B[0m\u001B[0;34m\u001B[0m\u001B[0m\n\u001B[0m\u001B[1;32m    658\u001B[0m \u001B[0;34m\u001B[0m\u001B[0m\n\u001B[1;32m    659\u001B[0m     \u001B[0;32mdef\u001B[0m \u001B[0m_set\u001B[0m\u001B[0;34m(\u001B[0m\u001B[0mself\u001B[0m\u001B[0;34m,\u001B[0m \u001B[0mi\u001B[0m\u001B[0;34m,\u001B[0m \u001B[0mobj\u001B[0m\u001B[0;34m)\u001B[0m\u001B[0;34m:\u001B[0m\u001B[0;34m\u001B[0m\u001B[0;34m\u001B[0m\u001B[0m\n",
      "\u001B[0;32m~/anaconda3/envs/ml/lib/python3.7/multiprocessing/pool.py\u001B[0m in \u001B[0;36mworker\u001B[0;34m(inqueue, outqueue, initializer, initargs, maxtasks, wrap_exception)\u001B[0m\n\u001B[1;32m    119\u001B[0m         \u001B[0mjob\u001B[0m\u001B[0;34m,\u001B[0m \u001B[0mi\u001B[0m\u001B[0;34m,\u001B[0m \u001B[0mfunc\u001B[0m\u001B[0;34m,\u001B[0m \u001B[0margs\u001B[0m\u001B[0;34m,\u001B[0m \u001B[0mkwds\u001B[0m \u001B[0;34m=\u001B[0m \u001B[0mtask\u001B[0m\u001B[0;34m\u001B[0m\u001B[0;34m\u001B[0m\u001B[0m\n\u001B[1;32m    120\u001B[0m         \u001B[0;32mtry\u001B[0m\u001B[0;34m:\u001B[0m\u001B[0;34m\u001B[0m\u001B[0;34m\u001B[0m\u001B[0m\n\u001B[0;32m--> 121\u001B[0;31m             \u001B[0mresult\u001B[0m \u001B[0;34m=\u001B[0m \u001B[0;34m(\u001B[0m\u001B[0;32mTrue\u001B[0m\u001B[0;34m,\u001B[0m \u001B[0mfunc\u001B[0m\u001B[0;34m(\u001B[0m\u001B[0;34m*\u001B[0m\u001B[0margs\u001B[0m\u001B[0;34m,\u001B[0m \u001B[0;34m**\u001B[0m\u001B[0mkwds\u001B[0m\u001B[0;34m)\u001B[0m\u001B[0;34m)\u001B[0m\u001B[0;34m\u001B[0m\u001B[0;34m\u001B[0m\u001B[0m\n\u001B[0m\u001B[1;32m    122\u001B[0m         \u001B[0;32mexcept\u001B[0m \u001B[0mException\u001B[0m \u001B[0;32mas\u001B[0m \u001B[0me\u001B[0m\u001B[0;34m:\u001B[0m\u001B[0;34m\u001B[0m\u001B[0;34m\u001B[0m\u001B[0m\n\u001B[1;32m    123\u001B[0m             \u001B[0;32mif\u001B[0m \u001B[0mwrap_exception\u001B[0m \u001B[0;32mand\u001B[0m \u001B[0mfunc\u001B[0m \u001B[0;32mis\u001B[0m \u001B[0;32mnot\u001B[0m \u001B[0m_helper_reraises_exception\u001B[0m\u001B[0;34m:\u001B[0m\u001B[0;34m\u001B[0m\u001B[0;34m\u001B[0m\u001B[0m\n",
      "\u001B[0;32m~/anaconda3/envs/ml/lib/python3.7/multiprocessing/pool.py\u001B[0m in \u001B[0;36mmapstar\u001B[0;34m(args)\u001B[0m\n\u001B[1;32m     42\u001B[0m \u001B[0;34m\u001B[0m\u001B[0m\n\u001B[1;32m     43\u001B[0m \u001B[0;32mdef\u001B[0m \u001B[0mmapstar\u001B[0m\u001B[0;34m(\u001B[0m\u001B[0margs\u001B[0m\u001B[0;34m)\u001B[0m\u001B[0;34m:\u001B[0m\u001B[0;34m\u001B[0m\u001B[0;34m\u001B[0m\u001B[0m\n\u001B[0;32m---> 44\u001B[0;31m     \u001B[0;32mreturn\u001B[0m \u001B[0mlist\u001B[0m\u001B[0;34m(\u001B[0m\u001B[0mmap\u001B[0m\u001B[0;34m(\u001B[0m\u001B[0;34m*\u001B[0m\u001B[0margs\u001B[0m\u001B[0;34m)\u001B[0m\u001B[0;34m)\u001B[0m\u001B[0;34m\u001B[0m\u001B[0;34m\u001B[0m\u001B[0m\n\u001B[0m\u001B[1;32m     45\u001B[0m \u001B[0;34m\u001B[0m\u001B[0m\n\u001B[1;32m     46\u001B[0m \u001B[0;32mdef\u001B[0m \u001B[0mstarmapstar\u001B[0m\u001B[0;34m(\u001B[0m\u001B[0margs\u001B[0m\u001B[0;34m)\u001B[0m\u001B[0;34m:\u001B[0m\u001B[0;34m\u001B[0m\u001B[0;34m\u001B[0m\u001B[0m\n",
      "\u001B[0;32m<ipython-input-10-271edb8c82e8>\u001B[0m in \u001B[0;36miterator\u001B[0;34m(gene)\u001B[0m\n\u001B[1;32m      6\u001B[0m     \u001B[0msample_rna\u001B[0m\u001B[0;34m[\u001B[0m\u001B[0mgene\u001B[0m\u001B[0;34m]\u001B[0m\u001B[0;34m=\u001B[0m\u001B[0msample_rna\u001B[0m\u001B[0;34m[\u001B[0m\u001B[0mgene\u001B[0m\u001B[0;34m]\u001B[0m\u001B[0;34m*\u001B[0m\u001B[0;36m10\u001B[0m\u001B[0;34m\u001B[0m\u001B[0;34m\u001B[0m\u001B[0m\n\u001B[1;32m      7\u001B[0m     \u001B[0my_pred\u001B[0m\u001B[0;34m=\u001B[0m\u001B[0mregressor\u001B[0m\u001B[0;34m.\u001B[0m\u001B[0mpredict\u001B[0m\u001B[0;34m(\u001B[0m\u001B[0mnp\u001B[0m\u001B[0;34m.\u001B[0m\u001B[0marray\u001B[0m\u001B[0;34m(\u001B[0m\u001B[0msample_rna\u001B[0m\u001B[0;34m)\u001B[0m\u001B[0;34m.\u001B[0m\u001B[0mreshape\u001B[0m\u001B[0;34m(\u001B[0m\u001B[0;36m1\u001B[0m\u001B[0;34m,\u001B[0m\u001B[0;34m-\u001B[0m\u001B[0;36m1\u001B[0m\u001B[0;34m)\u001B[0m\u001B[0;34m)\u001B[0m\u001B[0;34m\u001B[0m\u001B[0;34m\u001B[0m\u001B[0m\n\u001B[0;32m----> 8\u001B[0;31m     \u001B[0mresiduals\u001B[0m\u001B[0;34m.\u001B[0m\u001B[0mappend\u001B[0m\u001B[0;34m(\u001B[0m\u001B[0;34m(\u001B[0m\u001B[0mgene\u001B[0m\u001B[0;34m,\u001B[0m\u001B[0my_pred\u001B[0m\u001B[0;34m-\u001B[0m\u001B[0my_pred_before\u001B[0m\u001B[0;34m)\u001B[0m\u001B[0;34m)\u001B[0m\u001B[0;34m\u001B[0m\u001B[0;34m\u001B[0m\u001B[0m\n\u001B[0m\u001B[1;32m      9\u001B[0m \u001B[0;34m\u001B[0m\u001B[0m\n\u001B[1;32m     10\u001B[0m \u001B[0;34m\u001B[0m\u001B[0m\n",
      "\u001B[0;31mNameError\u001B[0m: name 'residuals' is not defined"
     ]
    }
   ],
   "source": [
    "from multiprocessing.pool import ThreadPool\n",
    "\n",
    "def iterator(gene):\n",
    "    sample_rna=X_train.loc[sample].copy()\n",
    "    y_pred_before=int(regressor.predict(np.array(sample_rna).reshape(1,-1)))\n",
    "    sample_rna[gene]=sample_rna[gene]*10\n",
    "    y_pred=regressor.predict(np.array(sample_rna).reshape(1,-1))\n",
    "    residuals.append((gene,y_pred-y_pred_before))\n",
    "\n",
    "\n",
    "tic=timeit.default_timer()\n",
    "candidates=pd.DataFrame()\n",
    "\n",
    "def predictor(sample):\n",
    "    print(f\"processing sample {sample}\")\n",
    "    residuals=[]\n",
    "    pool=ThreadPool()\n",
    "    results_pool=pool.map(iterator,genes[0:100])\n",
    "    gene_score=pd.DataFrame(residuals,columns=[\"gene_name\",\"residual\"])\n",
    "    sorted_genes=gene_score.sort_values(by=\"residual\",ascending=False).gene_name\n",
    "    candidates[sample]=sorted_genes.values\n",
    "\n",
    "\n",
    "for sample in samples:\n",
    "    predictor(sample)\n",
    "\n",
    "\n",
    "toc=timeit.default_timer()\n",
    "\n",
    "print(\"Predicting time: \"+str((toc-tic)/60)+ \" minutes\")"
   ]
  },
  {
   "cell_type": "code",
   "execution_count": 36,
   "metadata": {},
   "outputs": [
    {
     "name": "stdout",
     "output_type": "stream",
     "text": [
      "Predicting time: 0.20427204145040984 minutes\n"
     ]
    }
   ],
   "source": [
    "from multiprocessing.pool import ThreadPool\n",
    "\n",
    "def iterator(gene):\n",
    "    sample_rna=X_train.loc[sample].copy()\n",
    "    y_pred_before=int(regressor.predict(np.array(sample_rna).reshape(1,-1)))\n",
    "    sample_rna[gene]=sample_rna[gene]*10\n",
    "    y_pred=regressor.predict(np.array(sample_rna).reshape(1,-1))\n",
    "    residuals.append((gene,y_pred-y_pred_before))\n",
    "\n",
    "\n",
    "tic=timeit.default_timer()\n",
    "candidates=pd.DataFrame()\n",
    "for sample in samples:\n",
    "    residuals=[]\n",
    "    pool=ThreadPool()\n",
    "    results_pool=pool.map(iterator,genes[0:100])\n",
    "    gene_score=pd.DataFrame(residuals,columns=[\"gene_name\",\"residual\"])\n",
    "    sorted_genes=gene_score.sort_values(by=\"residual\",ascending=False).gene_name\n",
    "    candidates[sample]=sorted_genes.values\n",
    "\n",
    "toc=timeit.default_timer()\n",
    "\n",
    "print(\"Predicting time: \"+str((toc-tic)/60)+ \" minutes\")"
   ]
  },
  {
   "cell_type": "code",
   "execution_count": null,
   "metadata": {},
   "outputs": [],
   "source": [
    "\n",
    "print(\"Saving residuals file...\")\n",
    "candidates.to_csv(\"candidates_table_QT50_raw.csv\")\n",
    "toc=timeit.default_timer()\n",
    "print(\"Predicting time: \"+str((toc-tic)/60)+ \" minutes\")\n",
    "\n",
    "print(\"Prediction of candidates successful!\")\n"
   ]
  },
  {
   "cell_type": "code",
   "execution_count": null,
   "metadata": {},
   "outputs": [],
   "source": []
  },
  {
   "cell_type": "code",
   "execution_count": null,
   "metadata": {},
   "outputs": [],
   "source": []
  }
 ],
 "metadata": {
  "kernelspec": {
   "display_name": "Python 3",
   "language": "python",
   "name": "python3"
  },
  "language_info": {
   "codemirror_mode": {
    "name": "ipython",
    "version": 3
   },
   "file_extension": ".py",
   "mimetype": "text/x-python",
   "name": "python",
   "nbconvert_exporter": "python",
   "pygments_lexer": "ipython3",
   "version": "3.8.8"
  }
 },
 "nbformat": 4,
 "nbformat_minor": 4
}