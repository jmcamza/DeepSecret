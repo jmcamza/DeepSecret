{
 "cells": [
  {
   "cell_type": "markdown",
   "metadata": {},
   "source": [
    "# Quantile Normalization"
   ]
  },
  {
   "cell_type": "code",
   "execution_count": 1,
   "metadata": {},
   "outputs": [],
   "source": [
    "#Importing libraries\n",
    "import pandas as pd\n",
    "import numpy as np\n",
    "from scipy import stats\n",
    "import matplotlib.pyplot as plt\n",
    "%matplotlib inline"
   ]
  },
  {
   "cell_type": "code",
   "execution_count": 2,
   "metadata": {},
   "outputs": [],
   "source": [
    "genes=np.load(\"genes_tpm_v11_clean_noutliers.npy\",allow_pickle=True)\n",
    "samples=np.load(\"samples_tpm_v11_clean_noutliers.npy\",allow_pickle=True)\n",
    "X=np.load(\"results_tpm_v11_clean_noutliers.npy\",allow_pickle=True)\n",
    "results=pd.DataFrame(X,index=genes,columns=samples)"
   ]
  },
  {
   "cell_type": "code",
   "execution_count": 3,
   "metadata": {},
   "outputs": [
    {
     "data": {
      "text/html": [
       "<div>\n",
       "<style scoped>\n",
       "    .dataframe tbody tr th:only-of-type {\n",
       "        vertical-align: middle;\n",
       "    }\n",
       "\n",
       "    .dataframe tbody tr th {\n",
       "        vertical-align: top;\n",
       "    }\n",
       "\n",
       "    .dataframe thead th {\n",
       "        text-align: right;\n",
       "    }\n",
       "</style>\n",
       "<table border=\"1\" class=\"dataframe\">\n",
       "  <thead>\n",
       "    <tr style=\"text-align: right;\">\n",
       "      <th></th>\n",
       "      <th>GSM741172</th>\n",
       "      <th>GSM741170</th>\n",
       "      <th>GSM741171</th>\n",
       "      <th>GSM907015</th>\n",
       "      <th>GSM1193921</th>\n",
       "      <th>GSM1098188</th>\n",
       "      <th>GSM1193928</th>\n",
       "      <th>GSM1048186</th>\n",
       "      <th>GSM1216828</th>\n",
       "      <th>GSM1241249</th>\n",
       "      <th>...</th>\n",
       "      <th>GSM5572862</th>\n",
       "      <th>GSM5577332</th>\n",
       "      <th>GSM5577333</th>\n",
       "      <th>GSM5577334</th>\n",
       "      <th>GSM5577335</th>\n",
       "      <th>GSM5577336</th>\n",
       "      <th>GSM5577337</th>\n",
       "      <th>GSM5580099</th>\n",
       "      <th>GSM5580100</th>\n",
       "      <th>GSM5580102</th>\n",
       "    </tr>\n",
       "  </thead>\n",
       "  <tbody>\n",
       "    <tr>\n",
       "      <th>A1BG</th>\n",
       "      <td>1.514984</td>\n",
       "      <td>1.316501</td>\n",
       "      <td>0.945544</td>\n",
       "      <td>12.863701</td>\n",
       "      <td>71.141045</td>\n",
       "      <td>0.738105</td>\n",
       "      <td>134.292114</td>\n",
       "      <td>10.272301</td>\n",
       "      <td>2.855723</td>\n",
       "      <td>0.000000</td>\n",
       "      <td>...</td>\n",
       "      <td>0.778685</td>\n",
       "      <td>6.074946</td>\n",
       "      <td>6.227352</td>\n",
       "      <td>5.103860</td>\n",
       "      <td>8.809099</td>\n",
       "      <td>7.493229</td>\n",
       "      <td>7.746690</td>\n",
       "      <td>42.761230</td>\n",
       "      <td>35.295048</td>\n",
       "      <td>35.235378</td>\n",
       "    </tr>\n",
       "    <tr>\n",
       "      <th>A1CF</th>\n",
       "      <td>0.208822</td>\n",
       "      <td>0.199274</td>\n",
       "      <td>0.138544</td>\n",
       "      <td>0.058604</td>\n",
       "      <td>0.301775</td>\n",
       "      <td>0.034464</td>\n",
       "      <td>1.374310</td>\n",
       "      <td>0.267306</td>\n",
       "      <td>13.903001</td>\n",
       "      <td>0.000000</td>\n",
       "      <td>...</td>\n",
       "      <td>0.163493</td>\n",
       "      <td>0.129097</td>\n",
       "      <td>0.266828</td>\n",
       "      <td>0.162259</td>\n",
       "      <td>0.165147</td>\n",
       "      <td>0.261044</td>\n",
       "      <td>0.246418</td>\n",
       "      <td>0.013703</td>\n",
       "      <td>0.031029</td>\n",
       "      <td>0.020903</td>\n",
       "    </tr>\n",
       "    <tr>\n",
       "      <th>A2M</th>\n",
       "      <td>61.154045</td>\n",
       "      <td>141.594360</td>\n",
       "      <td>62.881958</td>\n",
       "      <td>109.156868</td>\n",
       "      <td>0.000000</td>\n",
       "      <td>313.137146</td>\n",
       "      <td>0.000000</td>\n",
       "      <td>216.393066</td>\n",
       "      <td>22.510412</td>\n",
       "      <td>0.000000</td>\n",
       "      <td>...</td>\n",
       "      <td>0.000000</td>\n",
       "      <td>0.130720</td>\n",
       "      <td>0.426572</td>\n",
       "      <td>0.000000</td>\n",
       "      <td>0.507422</td>\n",
       "      <td>0.200596</td>\n",
       "      <td>0.000000</td>\n",
       "      <td>314.406342</td>\n",
       "      <td>426.812805</td>\n",
       "      <td>311.372803</td>\n",
       "    </tr>\n",
       "    <tr>\n",
       "      <th>A2ML1</th>\n",
       "      <td>0.373835</td>\n",
       "      <td>0.262869</td>\n",
       "      <td>0.266668</td>\n",
       "      <td>0.799892</td>\n",
       "      <td>0.655797</td>\n",
       "      <td>0.109945</td>\n",
       "      <td>0.366945</td>\n",
       "      <td>4.065595</td>\n",
       "      <td>0.190527</td>\n",
       "      <td>1.748747</td>\n",
       "      <td>...</td>\n",
       "      <td>0.112173</td>\n",
       "      <td>1.403640</td>\n",
       "      <td>2.326312</td>\n",
       "      <td>2.850472</td>\n",
       "      <td>3.334096</td>\n",
       "      <td>3.415315</td>\n",
       "      <td>2.629406</td>\n",
       "      <td>0.064991</td>\n",
       "      <td>0.255675</td>\n",
       "      <td>0.041696</td>\n",
       "    </tr>\n",
       "    <tr>\n",
       "      <th>A3GALT2</th>\n",
       "      <td>0.722773</td>\n",
       "      <td>1.094620</td>\n",
       "      <td>0.645631</td>\n",
       "      <td>0.000000</td>\n",
       "      <td>0.000000</td>\n",
       "      <td>0.458957</td>\n",
       "      <td>0.000000</td>\n",
       "      <td>4.969500</td>\n",
       "      <td>0.000000</td>\n",
       "      <td>0.000000</td>\n",
       "      <td>...</td>\n",
       "      <td>0.000000</td>\n",
       "      <td>0.457722</td>\n",
       "      <td>0.104935</td>\n",
       "      <td>0.179656</td>\n",
       "      <td>0.000000</td>\n",
       "      <td>0.313955</td>\n",
       "      <td>0.304647</td>\n",
       "      <td>0.000000</td>\n",
       "      <td>0.000000</td>\n",
       "      <td>0.151392</td>\n",
       "    </tr>\n",
       "  </tbody>\n",
       "</table>\n",
       "<p>5 rows × 62571 columns</p>\n",
       "</div>"
      ],
      "text/plain": [
       "         GSM741172   GSM741170  GSM741171   GSM907015  GSM1193921  GSM1098188  \\\n",
       "A1BG      1.514984    1.316501   0.945544   12.863701   71.141045    0.738105   \n",
       "A1CF      0.208822    0.199274   0.138544    0.058604    0.301775    0.034464   \n",
       "A2M      61.154045  141.594360  62.881958  109.156868    0.000000  313.137146   \n",
       "A2ML1     0.373835    0.262869   0.266668    0.799892    0.655797    0.109945   \n",
       "A3GALT2   0.722773    1.094620   0.645631    0.000000    0.000000    0.458957   \n",
       "\n",
       "         GSM1193928  GSM1048186  GSM1216828  GSM1241249  ...  GSM5572862  \\\n",
       "A1BG     134.292114   10.272301    2.855723    0.000000  ...    0.778685   \n",
       "A1CF       1.374310    0.267306   13.903001    0.000000  ...    0.163493   \n",
       "A2M        0.000000  216.393066   22.510412    0.000000  ...    0.000000   \n",
       "A2ML1      0.366945    4.065595    0.190527    1.748747  ...    0.112173   \n",
       "A3GALT2    0.000000    4.969500    0.000000    0.000000  ...    0.000000   \n",
       "\n",
       "         GSM5577332  GSM5577333  GSM5577334  GSM5577335  GSM5577336  \\\n",
       "A1BG       6.074946    6.227352    5.103860    8.809099    7.493229   \n",
       "A1CF       0.129097    0.266828    0.162259    0.165147    0.261044   \n",
       "A2M        0.130720    0.426572    0.000000    0.507422    0.200596   \n",
       "A2ML1      1.403640    2.326312    2.850472    3.334096    3.415315   \n",
       "A3GALT2    0.457722    0.104935    0.179656    0.000000    0.313955   \n",
       "\n",
       "         GSM5577337  GSM5580099  GSM5580100  GSM5580102  \n",
       "A1BG       7.746690   42.761230   35.295048   35.235378  \n",
       "A1CF       0.246418    0.013703    0.031029    0.020903  \n",
       "A2M        0.000000  314.406342  426.812805  311.372803  \n",
       "A2ML1      2.629406    0.064991    0.255675    0.041696  \n",
       "A3GALT2    0.304647    0.000000    0.000000    0.151392  \n",
       "\n",
       "[5 rows x 62571 columns]"
      ]
     },
     "execution_count": 3,
     "metadata": {},
     "output_type": "execute_result"
    }
   ],
   "source": [
    "results.head()"
   ]
  },
  {
   "cell_type": "code",
   "execution_count": 9,
   "metadata": {},
   "outputs": [
    {
     "data": {
      "text/plain": [
       "(20842, 62571)"
      ]
     },
     "execution_count": 9,
     "metadata": {},
     "output_type": "execute_result"
    }
   ],
   "source": [
    "results.shape"
   ]
  },
  {
   "cell_type": "code",
   "execution_count": 10,
   "metadata": {},
   "outputs": [],
   "source": [
    "secretome=pd.read_csv(\"secretome_included_V11.csv\",header=None,names=[\"gene\"])"
   ]
  },
  {
   "cell_type": "code",
   "execution_count": 11,
   "metadata": {},
   "outputs": [
    {
     "data": {
      "text/html": [
       "<div>\n",
       "<style scoped>\n",
       "    .dataframe tbody tr th:only-of-type {\n",
       "        vertical-align: middle;\n",
       "    }\n",
       "\n",
       "    .dataframe tbody tr th {\n",
       "        vertical-align: top;\n",
       "    }\n",
       "\n",
       "    .dataframe thead th {\n",
       "        text-align: right;\n",
       "    }\n",
       "</style>\n",
       "<table border=\"1\" class=\"dataframe\">\n",
       "  <thead>\n",
       "    <tr style=\"text-align: right;\">\n",
       "      <th></th>\n",
       "      <th>gene</th>\n",
       "    </tr>\n",
       "  </thead>\n",
       "  <tbody>\n",
       "    <tr>\n",
       "      <th>0</th>\n",
       "      <td>SERPINB5</td>\n",
       "    </tr>\n",
       "    <tr>\n",
       "      <th>1</th>\n",
       "      <td>IGHV6-1</td>\n",
       "    </tr>\n",
       "    <tr>\n",
       "      <th>2</th>\n",
       "      <td>CGB3</td>\n",
       "    </tr>\n",
       "    <tr>\n",
       "      <th>3</th>\n",
       "      <td>WNT7A</td>\n",
       "    </tr>\n",
       "    <tr>\n",
       "      <th>4</th>\n",
       "      <td>DEFB126</td>\n",
       "    </tr>\n",
       "  </tbody>\n",
       "</table>\n",
       "</div>"
      ],
      "text/plain": [
       "       gene\n",
       "0  SERPINB5\n",
       "1   IGHV6-1\n",
       "2      CGB3\n",
       "3     WNT7A\n",
       "4   DEFB126"
      ]
     },
     "execution_count": 11,
     "metadata": {},
     "output_type": "execute_result"
    }
   ],
   "source": [
    "secretome.head()"
   ]
  },
  {
   "cell_type": "code",
   "execution_count": 12,
   "metadata": {},
   "outputs": [
    {
     "data": {
      "text/plain": [
       "(1890, 1)"
      ]
     },
     "execution_count": 12,
     "metadata": {},
     "output_type": "execute_result"
    }
   ],
   "source": [
    "secretome.shape"
   ]
  },
  {
   "cell_type": "code",
   "execution_count": 13,
   "metadata": {},
   "outputs": [],
   "source": [
    "for gene in secretome.gene:\n",
    "    if gene not in results.index:\n",
    "        print(gene)"
   ]
  },
  {
   "cell_type": "code",
   "execution_count": 14,
   "metadata": {},
   "outputs": [],
   "source": [
    "results.drop(secretome.gene, axis=0,inplace=True)"
   ]
  },
  {
   "cell_type": "code",
   "execution_count": 15,
   "metadata": {},
   "outputs": [
    {
     "data": {
      "text/html": [
       "<div>\n",
       "<style scoped>\n",
       "    .dataframe tbody tr th:only-of-type {\n",
       "        vertical-align: middle;\n",
       "    }\n",
       "\n",
       "    .dataframe tbody tr th {\n",
       "        vertical-align: top;\n",
       "    }\n",
       "\n",
       "    .dataframe thead th {\n",
       "        text-align: right;\n",
       "    }\n",
       "</style>\n",
       "<table border=\"1\" class=\"dataframe\">\n",
       "  <thead>\n",
       "    <tr style=\"text-align: right;\">\n",
       "      <th></th>\n",
       "      <th>GSM741172</th>\n",
       "      <th>GSM741170</th>\n",
       "      <th>GSM741171</th>\n",
       "      <th>GSM907015</th>\n",
       "      <th>GSM1193921</th>\n",
       "      <th>GSM1098188</th>\n",
       "      <th>GSM1193928</th>\n",
       "      <th>GSM1048186</th>\n",
       "      <th>GSM1216828</th>\n",
       "      <th>GSM1241249</th>\n",
       "      <th>...</th>\n",
       "      <th>GSM5572862</th>\n",
       "      <th>GSM5577332</th>\n",
       "      <th>GSM5577333</th>\n",
       "      <th>GSM5577334</th>\n",
       "      <th>GSM5577335</th>\n",
       "      <th>GSM5577336</th>\n",
       "      <th>GSM5577337</th>\n",
       "      <th>GSM5580099</th>\n",
       "      <th>GSM5580100</th>\n",
       "      <th>GSM5580102</th>\n",
       "    </tr>\n",
       "  </thead>\n",
       "  <tbody>\n",
       "    <tr>\n",
       "      <th>A1CF</th>\n",
       "      <td>0.208822</td>\n",
       "      <td>0.199274</td>\n",
       "      <td>0.138544</td>\n",
       "      <td>0.058604</td>\n",
       "      <td>0.301775</td>\n",
       "      <td>0.034464</td>\n",
       "      <td>1.374310</td>\n",
       "      <td>0.267306</td>\n",
       "      <td>13.903001</td>\n",
       "      <td>0.000000</td>\n",
       "      <td>...</td>\n",
       "      <td>0.163493</td>\n",
       "      <td>0.129097</td>\n",
       "      <td>0.266828</td>\n",
       "      <td>0.162259</td>\n",
       "      <td>0.165147</td>\n",
       "      <td>0.261044</td>\n",
       "      <td>0.246418</td>\n",
       "      <td>0.013703</td>\n",
       "      <td>0.031029</td>\n",
       "      <td>0.020903</td>\n",
       "    </tr>\n",
       "    <tr>\n",
       "      <th>A3GALT2</th>\n",
       "      <td>0.722773</td>\n",
       "      <td>1.094620</td>\n",
       "      <td>0.645631</td>\n",
       "      <td>0.000000</td>\n",
       "      <td>0.000000</td>\n",
       "      <td>0.458957</td>\n",
       "      <td>0.000000</td>\n",
       "      <td>4.969500</td>\n",
       "      <td>0.000000</td>\n",
       "      <td>0.000000</td>\n",
       "      <td>...</td>\n",
       "      <td>0.000000</td>\n",
       "      <td>0.457722</td>\n",
       "      <td>0.104935</td>\n",
       "      <td>0.179656</td>\n",
       "      <td>0.000000</td>\n",
       "      <td>0.313955</td>\n",
       "      <td>0.304647</td>\n",
       "      <td>0.000000</td>\n",
       "      <td>0.000000</td>\n",
       "      <td>0.151392</td>\n",
       "    </tr>\n",
       "    <tr>\n",
       "      <th>A4GALT</th>\n",
       "      <td>36.032150</td>\n",
       "      <td>37.229839</td>\n",
       "      <td>33.279217</td>\n",
       "      <td>1.015697</td>\n",
       "      <td>142.980347</td>\n",
       "      <td>36.433231</td>\n",
       "      <td>183.780090</td>\n",
       "      <td>10.563320</td>\n",
       "      <td>2.462949</td>\n",
       "      <td>0.701296</td>\n",
       "      <td>...</td>\n",
       "      <td>18.059050</td>\n",
       "      <td>5.627535</td>\n",
       "      <td>7.101623</td>\n",
       "      <td>7.093668</td>\n",
       "      <td>7.457928</td>\n",
       "      <td>5.663228</td>\n",
       "      <td>7.826350</td>\n",
       "      <td>0.033709</td>\n",
       "      <td>0.000000</td>\n",
       "      <td>0.000000</td>\n",
       "    </tr>\n",
       "    <tr>\n",
       "      <th>A4GNT</th>\n",
       "      <td>0.030812</td>\n",
       "      <td>0.000000</td>\n",
       "      <td>0.000000</td>\n",
       "      <td>1.430780</td>\n",
       "      <td>0.492563</td>\n",
       "      <td>0.048803</td>\n",
       "      <td>0.495588</td>\n",
       "      <td>0.000000</td>\n",
       "      <td>0.030563</td>\n",
       "      <td>0.000000</td>\n",
       "      <td>...</td>\n",
       "      <td>0.000000</td>\n",
       "      <td>0.080976</td>\n",
       "      <td>0.055640</td>\n",
       "      <td>0.047948</td>\n",
       "      <td>0.247546</td>\n",
       "      <td>0.278913</td>\n",
       "      <td>0.000000</td>\n",
       "      <td>0.389952</td>\n",
       "      <td>0.440706</td>\n",
       "      <td>0.318720</td>\n",
       "    </tr>\n",
       "    <tr>\n",
       "      <th>AAAS</th>\n",
       "      <td>53.506466</td>\n",
       "      <td>53.790775</td>\n",
       "      <td>47.527954</td>\n",
       "      <td>25.903215</td>\n",
       "      <td>273.925598</td>\n",
       "      <td>45.429768</td>\n",
       "      <td>232.081818</td>\n",
       "      <td>51.678558</td>\n",
       "      <td>29.881355</td>\n",
       "      <td>19.422600</td>\n",
       "      <td>...</td>\n",
       "      <td>42.163074</td>\n",
       "      <td>101.262016</td>\n",
       "      <td>90.680084</td>\n",
       "      <td>89.193260</td>\n",
       "      <td>108.643570</td>\n",
       "      <td>118.603142</td>\n",
       "      <td>114.563354</td>\n",
       "      <td>43.215916</td>\n",
       "      <td>49.570923</td>\n",
       "      <td>31.762648</td>\n",
       "    </tr>\n",
       "  </tbody>\n",
       "</table>\n",
       "<p>5 rows × 62571 columns</p>\n",
       "</div>"
      ],
      "text/plain": [
       "         GSM741172  GSM741170  GSM741171  GSM907015  GSM1193921  GSM1098188  \\\n",
       "A1CF      0.208822   0.199274   0.138544   0.058604    0.301775    0.034464   \n",
       "A3GALT2   0.722773   1.094620   0.645631   0.000000    0.000000    0.458957   \n",
       "A4GALT   36.032150  37.229839  33.279217   1.015697  142.980347   36.433231   \n",
       "A4GNT     0.030812   0.000000   0.000000   1.430780    0.492563    0.048803   \n",
       "AAAS     53.506466  53.790775  47.527954  25.903215  273.925598   45.429768   \n",
       "\n",
       "         GSM1193928  GSM1048186  GSM1216828  GSM1241249  ...  GSM5572862  \\\n",
       "A1CF       1.374310    0.267306   13.903001    0.000000  ...    0.163493   \n",
       "A3GALT2    0.000000    4.969500    0.000000    0.000000  ...    0.000000   \n",
       "A4GALT   183.780090   10.563320    2.462949    0.701296  ...   18.059050   \n",
       "A4GNT      0.495588    0.000000    0.030563    0.000000  ...    0.000000   \n",
       "AAAS     232.081818   51.678558   29.881355   19.422600  ...   42.163074   \n",
       "\n",
       "         GSM5577332  GSM5577333  GSM5577334  GSM5577335  GSM5577336  \\\n",
       "A1CF       0.129097    0.266828    0.162259    0.165147    0.261044   \n",
       "A3GALT2    0.457722    0.104935    0.179656    0.000000    0.313955   \n",
       "A4GALT     5.627535    7.101623    7.093668    7.457928    5.663228   \n",
       "A4GNT      0.080976    0.055640    0.047948    0.247546    0.278913   \n",
       "AAAS     101.262016   90.680084   89.193260  108.643570  118.603142   \n",
       "\n",
       "         GSM5577337  GSM5580099  GSM5580100  GSM5580102  \n",
       "A1CF       0.246418    0.013703    0.031029    0.020903  \n",
       "A3GALT2    0.304647    0.000000    0.000000    0.151392  \n",
       "A4GALT     7.826350    0.033709    0.000000    0.000000  \n",
       "A4GNT      0.000000    0.389952    0.440706    0.318720  \n",
       "AAAS     114.563354   43.215916   49.570923   31.762648  \n",
       "\n",
       "[5 rows x 62571 columns]"
      ]
     },
     "execution_count": 15,
     "metadata": {},
     "output_type": "execute_result"
    }
   ],
   "source": [
    "results.head()"
   ]
  },
  {
   "cell_type": "code",
   "execution_count": 16,
   "metadata": {},
   "outputs": [
    {
     "data": {
      "text/plain": [
       "(18952, 62571)"
      ]
     },
     "execution_count": 16,
     "metadata": {},
     "output_type": "execute_result"
    }
   ],
   "source": [
    "results.shape"
   ]
  },
  {
   "cell_type": "markdown",
   "metadata": {},
   "source": [
    "### Looking at the distribution"
   ]
  },
  {
   "cell_type": "code",
   "execution_count": 17,
   "metadata": {},
   "outputs": [],
   "source": [
    "counts=np.asarray(results,dtype=int)"
   ]
  },
  {
   "cell_type": "code",
   "execution_count": 18,
   "metadata": {},
   "outputs": [
    {
     "data": {
      "text/plain": [
       "(18952, 62571)"
      ]
     },
     "execution_count": 18,
     "metadata": {},
     "output_type": "execute_result"
    }
   ],
   "source": [
    "counts.shape"
   ]
  },
  {
   "cell_type": "markdown",
   "metadata": {},
   "source": [
    "Picking 50 random samples to plot distributions"
   ]
  },
  {
   "cell_type": "code",
   "execution_count": 19,
   "metadata": {},
   "outputs": [],
   "source": [
    "#subset data for plotting\n",
    "np.random.seed(seed=1)\n",
    "\n",
    "#select 50 samples\n",
    "samples_index=np.random.choice(range(counts.shape[1]),size=50,replace=False)\n",
    "counts_subset=counts[:,samples_index]"
   ]
  },
  {
   "cell_type": "code",
   "execution_count": 20,
   "metadata": {},
   "outputs": [],
   "source": [
    "#plotting format function\n",
    "def reduce_xaxis_labels(ax,factor):\n",
    "    plt.setp(ax.xaxis.get_ticklabels(),visible=False)\n",
    "    for label in ax.xaxis.get_ticklabels()[factor-1::factor]:\n",
    "        label.set_visible(True)"
   ]
  },
  {
   "cell_type": "code",
   "execution_count": 21,
   "metadata": {},
   "outputs": [
    {
     "name": "stdout",
     "output_type": "stream",
     "text": [
      "CPU times: user 376 ms, sys: 18.6 ms, total: 394 ms\n",
      "Wall time: 660 ms\n"
     ]
    },
    {
     "data": {
      "image/png": "[encoded data removed]",
      "text/plain": [
       "<Figure size 720x216 with 1 Axes>"
      ]
     },
     "metadata": {
      "needs_background": "light"
     },
     "output_type": "display_data"
    }
   ],
   "source": [
    "%%time\n",
    "fig, ax = plt.subplots(figsize=(10, 3))\n",
    "\n",
    "ax.boxplot(counts_subset)\n",
    "ax.set_xlabel(\"RNA-seq Sample\")\n",
    "ax.set_ylabel(\"Gene expression counts\")\n",
    "reduce_xaxis_labels(ax, 5)"
   ]
  },
  {
   "cell_type": "code",
   "execution_count": 22,
   "metadata": {},
   "outputs": [
    {
     "name": "stdout",
     "output_type": "stream",
     "text": [
      "CPU times: user 394 ms, sys: 11.9 ms, total: 406 ms\n",
      "Wall time: 404 ms\n"
     ]
    },
    {
     "data": {
      "image/png": "[encoded data removed]",
      "text/plain": [
       "<Figure size 720x216 with 1 Axes>"
      ]
     },
     "metadata": {
      "needs_background": "light"
     },
     "output_type": "display_data"
    }
   ],
   "source": [
    "%%time\n",
    "fig,ax=plt.subplots(figsize=(10,3))\n",
    "\n",
    "ax.boxplot(np.log(counts_subset+1))\n",
    "ax.set_xlabel(\"RNA-seq Sample\")\n",
    "ax.set_ylabel(\"log gene expression counts\")\n",
    "reduce_xaxis_labels(ax,5)"
   ]
  },
  {
   "cell_type": "markdown",
   "metadata": {},
   "source": [
    "### Quantile normalization"
   ]
  },
  {
   "cell_type": "code",
   "execution_count": 23,
   "metadata": {},
   "outputs": [],
   "source": [
    "def quantile_norm(X):\n",
    "    \"\"\"Normalize the columns of dataframe X to make each have the same distribution\"\"\"\n",
    "    #compute quatiles\n",
    "    quantiles=np.mean(np.sort(X,axis=0),axis=1)\n",
    "    #compute column-wise ranks and each observation is replaced with its rank in that column\n",
    "    ranks=np.apply_along_axis(stats.rankdata,0,X)\n",
    "    #convert ranks to indices from 0 to M-1\n",
    "    rank_indices=ranks.astype(int)-1\n",
    "    #index the quantiles for each rank with the ranks matrix\n",
    "    Xn=quantiles[rank_indices]\n",
    "    return (Xn)"
   ]
  },
  {
   "cell_type": "code",
   "execution_count": 24,
   "metadata": {},
   "outputs": [],
   "source": [
    "#def quantile_norm_log(X):\n",
    " #   logX=np.log(X+1)\n",
    "  #  logXn=quantile_norm(logX)\n",
    "   # return logXn"
   ]
  },
  {
   "cell_type": "code",
   "execution_count": 25,
   "metadata": {},
   "outputs": [
    {
     "name": "stdout",
     "output_type": "stream",
     "text": [
      "CPU times: user 1 µs, sys: 5 µs, total: 6 µs\n",
      "Wall time: 10.5 µs\n"
     ]
    }
   ],
   "source": [
    "%time\n",
    "counts_qnorm=quantile_norm(counts)"
   ]
  },
  {
   "cell_type": "code",
   "execution_count": 26,
   "metadata": {},
   "outputs": [],
   "source": [
    "def plot_col_density(data):\n",
    "    #for each column produce density plot over all rows\n",
    "    #use gaussian smoothing to estimate the density\n",
    "    density_per_col=[stats.gaussian_kde(col) for col in data.T]\n",
    "    x=np.linspace(np.min(data),np.max(data),100)\n",
    "    \n",
    "    fig,ax=plt.subplots()\n",
    "    for density in density_per_col:\n",
    "        ax.plot(x,density(x))\n",
    "    ax.set_xlabel(\"log counts (per RNA-seq sample)\")\n",
    "    ax.set_ylabel(\"Density\")"
   ]
  },
  {
   "cell_type": "code",
   "execution_count": 27,
   "metadata": {},
   "outputs": [
    {
     "name": "stdout",
     "output_type": "stream",
     "text": [
      "CPU times: user 7.52 s, sys: 473 ms, total: 8 s\n",
      "Wall time: 842 ms\n"
     ]
    },
    {
     "data": {
      "image/png": "[encoded data removed]",
      "text/plain": [
       "<Figure size 432x288 with 1 Axes>"
      ]
     },
     "metadata": {
      "needs_background": "light"
     },
     "output_type": "display_data"
    }
   ],
   "source": [
    "%%time\n",
    "#before normalization\n",
    "log_counts=np.log(counts[:,:10]+1)\n",
    "plot_col_density(log_counts)"
   ]
  },
  {
   "cell_type": "code",
   "execution_count": 28,
   "metadata": {},
   "outputs": [
    {
     "name": "stdout",
     "output_type": "stream",
     "text": [
      "CPU times: user 5.4 s, sys: 326 ms, total: 5.73 s\n",
      "Wall time: 579 ms\n"
     ]
    },
    {
     "data": {
      "image/png": "[encoded data removed]",
      "text/plain": [
       "<Figure size 432x288 with 1 Axes>"
      ]
     },
     "metadata": {
      "needs_background": "light"
     },
     "output_type": "display_data"
    }
   ],
   "source": [
    "%%time\n",
    "#after normalization\n",
    "log_counts=np.log(counts_qnorm[:,:10]+1)\n",
    "plot_col_density(log_counts[:,:10])"
   ]
  },
  {
   "cell_type": "code",
   "execution_count": 29,
   "metadata": {},
   "outputs": [
    {
     "data": {
      "text/plain": [
       "(18952, 62571)"
      ]
     },
     "execution_count": 29,
     "metadata": {},
     "output_type": "execute_result"
    }
   ],
   "source": [
    "counts_qnorm.shape"
   ]
  },
  {
   "cell_type": "code",
   "execution_count": 30,
   "metadata": {},
   "outputs": [],
   "source": [
    "qnorm_df=pd.DataFrame(counts_qnorm, index=results.index, columns=results.columns, dtype=int)"
   ]
  },
  {
   "cell_type": "code",
   "execution_count": 31,
   "metadata": {},
   "outputs": [
    {
     "data": {
      "text/html": [
       "<div>\n",
       "<style scoped>\n",
       "    .dataframe tbody tr th:only-of-type {\n",
       "        vertical-align: middle;\n",
       "    }\n",
       "\n",
       "    .dataframe tbody tr th {\n",
       "        vertical-align: top;\n",
       "    }\n",
       "\n",
       "    .dataframe thead th {\n",
       "        text-align: right;\n",
       "    }\n",
       "</style>\n",
       "<table border=\"1\" class=\"dataframe\">\n",
       "  <thead>\n",
       "    <tr style=\"text-align: right;\">\n",
       "      <th></th>\n",
       "      <th>GSM741172</th>\n",
       "      <th>GSM741170</th>\n",
       "      <th>GSM741171</th>\n",
       "      <th>GSM907015</th>\n",
       "      <th>GSM1193921</th>\n",
       "      <th>GSM1098188</th>\n",
       "      <th>GSM1193928</th>\n",
       "      <th>GSM1048186</th>\n",
       "      <th>GSM1216828</th>\n",
       "      <th>GSM1241249</th>\n",
       "      <th>...</th>\n",
       "      <th>GSM5572862</th>\n",
       "      <th>GSM5577332</th>\n",
       "      <th>GSM5577333</th>\n",
       "      <th>GSM5577334</th>\n",
       "      <th>GSM5577335</th>\n",
       "      <th>GSM5577336</th>\n",
       "      <th>GSM5577337</th>\n",
       "      <th>GSM5580099</th>\n",
       "      <th>GSM5580100</th>\n",
       "      <th>GSM5580102</th>\n",
       "    </tr>\n",
       "  </thead>\n",
       "  <tbody>\n",
       "    <tr>\n",
       "      <th>A1CF</th>\n",
       "      <td>0</td>\n",
       "      <td>0</td>\n",
       "      <td>0</td>\n",
       "      <td>0</td>\n",
       "      <td>0</td>\n",
       "      <td>0</td>\n",
       "      <td>0</td>\n",
       "      <td>0</td>\n",
       "      <td>8</td>\n",
       "      <td>0</td>\n",
       "      <td>...</td>\n",
       "      <td>0</td>\n",
       "      <td>0</td>\n",
       "      <td>0</td>\n",
       "      <td>0</td>\n",
       "      <td>0</td>\n",
       "      <td>0</td>\n",
       "      <td>0</td>\n",
       "      <td>0</td>\n",
       "      <td>0</td>\n",
       "      <td>0</td>\n",
       "    </tr>\n",
       "    <tr>\n",
       "      <th>A3GALT2</th>\n",
       "      <td>0</td>\n",
       "      <td>0</td>\n",
       "      <td>0</td>\n",
       "      <td>0</td>\n",
       "      <td>0</td>\n",
       "      <td>0</td>\n",
       "      <td>0</td>\n",
       "      <td>0</td>\n",
       "      <td>0</td>\n",
       "      <td>0</td>\n",
       "      <td>...</td>\n",
       "      <td>0</td>\n",
       "      <td>0</td>\n",
       "      <td>0</td>\n",
       "      <td>0</td>\n",
       "      <td>0</td>\n",
       "      <td>0</td>\n",
       "      <td>0</td>\n",
       "      <td>0</td>\n",
       "      <td>0</td>\n",
       "      <td>0</td>\n",
       "    </tr>\n",
       "    <tr>\n",
       "      <th>A4GALT</th>\n",
       "      <td>23</td>\n",
       "      <td>23</td>\n",
       "      <td>23</td>\n",
       "      <td>1</td>\n",
       "      <td>8</td>\n",
       "      <td>22</td>\n",
       "      <td>11</td>\n",
       "      <td>3</td>\n",
       "      <td>0</td>\n",
       "      <td>0</td>\n",
       "      <td>...</td>\n",
       "      <td>19</td>\n",
       "      <td>1</td>\n",
       "      <td>2</td>\n",
       "      <td>2</td>\n",
       "      <td>2</td>\n",
       "      <td>1</td>\n",
       "      <td>2</td>\n",
       "      <td>0</td>\n",
       "      <td>0</td>\n",
       "      <td>0</td>\n",
       "    </tr>\n",
       "    <tr>\n",
       "      <th>A4GNT</th>\n",
       "      <td>0</td>\n",
       "      <td>0</td>\n",
       "      <td>0</td>\n",
       "      <td>1</td>\n",
       "      <td>0</td>\n",
       "      <td>0</td>\n",
       "      <td>0</td>\n",
       "      <td>0</td>\n",
       "      <td>0</td>\n",
       "      <td>0</td>\n",
       "      <td>...</td>\n",
       "      <td>0</td>\n",
       "      <td>0</td>\n",
       "      <td>0</td>\n",
       "      <td>0</td>\n",
       "      <td>0</td>\n",
       "      <td>0</td>\n",
       "      <td>0</td>\n",
       "      <td>0</td>\n",
       "      <td>0</td>\n",
       "      <td>0</td>\n",
       "    </tr>\n",
       "    <tr>\n",
       "      <th>AAAS</th>\n",
       "      <td>39</td>\n",
       "      <td>38</td>\n",
       "      <td>37</td>\n",
       "      <td>21</td>\n",
       "      <td>17</td>\n",
       "      <td>30</td>\n",
       "      <td>15</td>\n",
       "      <td>29</td>\n",
       "      <td>22</td>\n",
       "      <td>24</td>\n",
       "      <td>...</td>\n",
       "      <td>44</td>\n",
       "      <td>74</td>\n",
       "      <td>63</td>\n",
       "      <td>61</td>\n",
       "      <td>88</td>\n",
       "      <td>96</td>\n",
       "      <td>93</td>\n",
       "      <td>34</td>\n",
       "      <td>40</td>\n",
       "      <td>25</td>\n",
       "    </tr>\n",
       "  </tbody>\n",
       "</table>\n",
       "<p>5 rows × 62571 columns</p>\n",
       "</div>"
      ],
      "text/plain": [
       "         GSM741172  GSM741170  GSM741171  GSM907015  GSM1193921  GSM1098188  \\\n",
       "A1CF             0          0          0          0           0           0   \n",
       "A3GALT2          0          0          0          0           0           0   \n",
       "A4GALT          23         23         23          1           8          22   \n",
       "A4GNT            0          0          0          1           0           0   \n",
       "AAAS            39         38         37         21          17          30   \n",
       "\n",
       "         GSM1193928  GSM1048186  GSM1216828  GSM1241249  ...  GSM5572862  \\\n",
       "A1CF              0           0           8           0  ...           0   \n",
       "A3GALT2           0           0           0           0  ...           0   \n",
       "A4GALT           11           3           0           0  ...          19   \n",
       "A4GNT             0           0           0           0  ...           0   \n",
       "AAAS             15          29          22          24  ...          44   \n",
       "\n",
       "         GSM5577332  GSM5577333  GSM5577334  GSM5577335  GSM5577336  \\\n",
       "A1CF              0           0           0           0           0   \n",
       "A3GALT2           0           0           0           0           0   \n",
       "A4GALT            1           2           2           2           1   \n",
       "A4GNT             0           0           0           0           0   \n",
       "AAAS             74          63          61          88          96   \n",
       "\n",
       "         GSM5577337  GSM5580099  GSM5580100  GSM5580102  \n",
       "A1CF              0           0           0           0  \n",
       "A3GALT2           0           0           0           0  \n",
       "A4GALT            2           0           0           0  \n",
       "A4GNT             0           0           0           0  \n",
       "AAAS             93          34          40          25  \n",
       "\n",
       "[5 rows x 62571 columns]"
      ]
     },
     "execution_count": 31,
     "metadata": {},
     "output_type": "execute_result"
    }
   ],
   "source": [
    "qnorm_df.head()"
   ]
  },
  {
   "cell_type": "code",
   "execution_count": 32,
   "metadata": {
    "scrolled": true
   },
   "outputs": [
    {
     "data": {
      "image/png": "[encoded data removed]",
      "text/plain": [
       "<Figure size 720x216 with 1 Axes>"
      ]
     },
     "metadata": {
      "needs_background": "light"
     },
     "output_type": "display_data"
    }
   ],
   "source": [
    "#select 50 samples\n",
    "counts_subset_qnorm=counts_qnorm[:,samples_index]\n",
    "\n",
    "fig,ax=plt.subplots(figsize=(10,3))\n",
    "\n",
    "ax.boxplot(np.log(counts_subset_qnorm+1))\n",
    "ax.set_xlabel(\"RNA-seq Sample\")\n",
    "ax.set_ylabel(\"log gene expression counts\")\n",
    "reduce_xaxis_labels(ax,5)"
   ]
  },
  {
   "cell_type": "code",
   "execution_count": 19,
   "metadata": {},
   "outputs": [],
   "source": [
    "#qnorm_df.to_csv(\"results_clean_qnorm_v10.csv\")"
   ]
  },
  {
   "cell_type": "code",
   "execution_count": 33,
   "metadata": {},
   "outputs": [],
   "source": [
    "np.save(\"genes_qnorm_v11_clean_noutliers_nosecret.npy\",qnorm_df.index.values)\n",
    "np.save(\"samples_qnorm_v11_clean_noutliers_nosecret.npy\",qnorm_df.columns.values)\n",
    "np.save(\"results_qnorm_v11_clean_noutliers_nosecret.npy\", qnorm_df.values)"
   ]
  },
  {
   "cell_type": "code",
   "execution_count": null,
   "metadata": {},
   "outputs": [],
   "source": []
  },
  {
   "cell_type": "markdown",
   "metadata": {},
   "source": [
    "## Calculating Secretory Index for each sample"
   ]
  },
  {
   "cell_type": "markdown",
   "metadata": {},
   "source": [
    "Making a new dataframe to hold the secretory sums of all samples"
   ]
  },
  {
   "cell_type": "code",
   "execution_count": 21,
   "metadata": {},
   "outputs": [],
   "source": [
    "secretome_included=(pd.read_csv(\"secretome_included_V10.csv\",header=None))[0].tolist()"
   ]
  },
  {
   "cell_type": "code",
   "execution_count": 22,
   "metadata": {},
   "outputs": [
    {
     "data": {
      "text/plain": [
       "['IGKV1-13',\n",
       " 'FGF16',\n",
       " 'IGHV3-23',\n",
       " 'LAMB3',\n",
       " 'DEFB103B',\n",
       " 'IGHV1-18',\n",
       " 'DEFB128',\n",
       " 'SPOCK3',\n",
       " 'IAPP',\n",
       " 'CILP']"
      ]
     },
     "execution_count": 22,
     "metadata": {},
     "output_type": "execute_result"
    }
   ],
   "source": [
    "secretome_included[0:10]"
   ]
  },
  {
   "cell_type": "code",
   "execution_count": 23,
   "metadata": {},
   "outputs": [],
   "source": [
    "secreted_sum=pd.DataFrame(index=qnorm_df.columns,data=qnorm_df.loc[secretome_included,:].sum(axis=0),columns=[\"secreted\"])"
   ]
  },
  {
   "cell_type": "code",
   "execution_count": 24,
   "metadata": {},
   "outputs": [
    {
     "data": {
      "text/html": [
       "<div>\n",
       "<style scoped>\n",
       "    .dataframe tbody tr th:only-of-type {\n",
       "        vertical-align: middle;\n",
       "    }\n",
       "\n",
       "    .dataframe tbody tr th {\n",
       "        vertical-align: top;\n",
       "    }\n",
       "\n",
       "    .dataframe thead th {\n",
       "        text-align: right;\n",
       "    }\n",
       "</style>\n",
       "<table border=\"1\" class=\"dataframe\">\n",
       "  <thead>\n",
       "    <tr style=\"text-align: right;\">\n",
       "      <th></th>\n",
       "      <th>secreted</th>\n",
       "    </tr>\n",
       "  </thead>\n",
       "  <tbody>\n",
       "    <tr>\n",
       "      <th>GSM741172</th>\n",
       "      <td>78212</td>\n",
       "    </tr>\n",
       "    <tr>\n",
       "      <th>GSM741170</th>\n",
       "      <td>75657</td>\n",
       "    </tr>\n",
       "    <tr>\n",
       "      <th>GSM741171</th>\n",
       "      <td>79408</td>\n",
       "    </tr>\n",
       "    <tr>\n",
       "      <th>GSM907015</th>\n",
       "      <td>217949</td>\n",
       "    </tr>\n",
       "    <tr>\n",
       "      <th>GSM1193921</th>\n",
       "      <td>39684</td>\n",
       "    </tr>\n",
       "  </tbody>\n",
       "</table>\n",
       "</div>"
      ],
      "text/plain": [
       "            secreted\n",
       "GSM741172      78212\n",
       "GSM741170      75657\n",
       "GSM741171      79408\n",
       "GSM907015     217949\n",
       "GSM1193921     39684"
      ]
     },
     "execution_count": 24,
     "metadata": {},
     "output_type": "execute_result"
    }
   ],
   "source": [
    "secreted_sum.head()"
   ]
  },
  {
   "cell_type": "code",
   "execution_count": 25,
   "metadata": {},
   "outputs": [],
   "source": [
    "secreted_sum.to_csv(\"secretome_sum_V10_qnorm.csv\")"
   ]
  },
  {
   "cell_type": "code",
   "execution_count": 26,
   "metadata": {},
   "outputs": [],
   "source": [
    "total_depth=results.sum(axis=0)"
   ]
  },
  {
   "cell_type": "code",
   "execution_count": 27,
   "metadata": {},
   "outputs": [
    {
     "data": {
      "text/plain": [
       "GSM741172     9.581772e+05\n",
       "GSM741170     9.565647e+05\n",
       "GSM741171     9.554932e+05\n",
       "GSM907015     9.581006e+05\n",
       "GSM1193921    8.621464e+06\n",
       "                  ...     \n",
       "GSM4780603    9.515668e+05\n",
       "GSM4780605    9.516551e+05\n",
       "GSM4780607    9.516910e+05\n",
       "GSM4780609    9.515454e+05\n",
       "GSM4780610    9.523717e+05\n",
       "Length: 50723, dtype: float32"
      ]
     },
     "execution_count": 27,
     "metadata": {},
     "output_type": "execute_result"
    }
   ],
   "source": [
    "total_depth"
   ]
  },
  {
   "cell_type": "code",
   "execution_count": 28,
   "metadata": {},
   "outputs": [],
   "source": [
    "si=(secreted_sum.secreted/pd.Series(total_depth))*1000000"
   ]
  },
  {
   "cell_type": "code",
   "execution_count": 29,
   "metadata": {},
   "outputs": [
    {
     "data": {
      "text/plain": [
       "GSM741172      81625.820312\n",
       "GSM741170      79092.406250\n",
       "GSM741171      83106.812500\n",
       "GSM907015     227480.296875\n",
       "GSM1193921      4602.930664\n",
       "dtype: float32"
      ]
     },
     "execution_count": 29,
     "metadata": {},
     "output_type": "execute_result"
    }
   ],
   "source": [
    "si.head()"
   ]
  },
  {
   "cell_type": "code",
   "execution_count": 30,
   "metadata": {},
   "outputs": [],
   "source": [
    "si.astype(int).to_csv(\"si_V10_qnorm.csv\")"
   ]
  },
  {
   "cell_type": "code",
   "execution_count": null,
   "metadata": {},
   "outputs": [],
   "source": []
  }
 ],
 "metadata": {
  "kernelspec": {
   "display_name": "Python 3",
   "language": "python",
   "name": "python3"
  },
  "language_info": {
   "codemirror_mode": {
    "name": "ipython",
    "version": 3
   },
   "file_extension": ".py",
   "mimetype": "text/x-python",
   "name": "python",
   "nbconvert_exporter": "python",
   "pygments_lexer": "ipython3",
   "version": "3.9.4"
  }
 },
 "nbformat": 4,
 "nbformat_minor": 4
}