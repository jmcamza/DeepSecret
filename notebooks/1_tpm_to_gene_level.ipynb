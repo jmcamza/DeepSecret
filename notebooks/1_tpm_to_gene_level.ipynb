{
 "cells": [
  {
   "cell_type": "markdown",
   "metadata": {},
   "source": [
    "## Extracting expression matrix from ARCHS4 dataset"
   ]
  },
  {
   "cell_type": "code",
   "execution_count": 96,
   "metadata": {},
   "outputs": [],
   "source": [
    "import pandas as pd\n",
    "import numpy as np\n",
    "import h5py\n",
    "from pyensembl import EnsemblRelease\n",
    "import squarify \n",
    "from matplotlib import colors, cm, pyplot as plt\n",
    "import seaborn as sns"
   ]
  },
  {
   "cell_type": "code",
   "execution_count": 2,
   "metadata": {},
   "outputs": [],
   "source": [
    "#load RNAse1 data (obtain the file from https://maayanlab.cloud/archs4/download.html and put it into the \"inputs\" folder)\n",
    "f=h5py.File(\"../inputs/human_tpm_v11.h5\",\"r\")"
   ]
  },
  {
   "cell_type": "code",
   "execution_count": 3,
   "metadata": {},
   "outputs": [
    {
     "data": {
      "text/plain": [
       "['data', 'meta']"
      ]
     },
     "execution_count": 3,
     "metadata": {},
     "output_type": "execute_result"
    }
   ],
   "source": [
    "list(f.keys())"
   ]
  },
  {
   "cell_type": "code",
   "execution_count": 4,
   "metadata": {},
   "outputs": [
    {
     "name": "stdout",
     "output_type": "stream",
     "text": [
      "info\n",
      "samples\n",
      "transcripts\n"
     ]
    }
   ],
   "source": [
    "for key in f[\"meta/\"]:\n",
    "    print(key)"
   ]
  },
  {
   "cell_type": "code",
   "execution_count": 5,
   "metadata": {},
   "outputs": [
    {
     "name": "stdout",
     "output_type": "stream",
     "text": [
      "CPU times: user 26.1 s, sys: 5.03 ms, total: 26.1 s\n",
      "Wall time: 26.1 s\n"
     ]
    }
   ],
   "source": [
    "%%time\n",
    "#Retrieving the full list of samples from the hdf5 file in order to get the index of the selected samples\n",
    "geo_accession_array = list(f[\"meta/samples/geo_accession\"].asstr())"
   ]
  },
  {
   "cell_type": "code",
   "execution_count": 6,
   "metadata": {},
   "outputs": [
    {
     "data": {
      "text/plain": [
       "441356"
      ]
     },
     "execution_count": 6,
     "metadata": {},
     "output_type": "execute_result"
    }
   ],
   "source": [
    "len(geo_accession_array)"
   ]
  },
  {
   "cell_type": "code",
   "execution_count": 7,
   "metadata": {},
   "outputs": [
    {
     "data": {
      "text/plain": [
       "['GSM741172',\n",
       " 'GSM742939',\n",
       " 'GSM742942',\n",
       " 'GSM742946',\n",
       " 'GSM741170',\n",
       " 'GSM742947',\n",
       " 'GSM742943',\n",
       " 'GSM742944',\n",
       " 'GSM742951',\n",
       " 'GSM742940']"
      ]
     },
     "execution_count": 7,
     "metadata": {},
     "output_type": "execute_result"
    }
   ],
   "source": [
    "geo_accession_array[0:10]"
   ]
  },
  {
   "cell_type": "code",
   "execution_count": 8,
   "metadata": {},
   "outputs": [],
   "source": [
    "samples_types=pd.read_csv(\"../outputs/samples_types.csv\",index_col=None)"
   ]
  },
  {
   "cell_type": "code",
   "execution_count": 9,
   "metadata": {},
   "outputs": [
    {
     "data": {
      "text/plain": [
       "(71961, 2)"
      ]
     },
     "execution_count": 9,
     "metadata": {},
     "output_type": "execute_result"
    }
   ],
   "source": [
    "samples_types.shape"
   ]
  },
  {
   "cell_type": "code",
   "execution_count": 10,
   "metadata": {},
   "outputs": [
    {
     "data": {
      "text/html": [
       "<div>\n",
       "<style scoped>\n",
       "    .dataframe tbody tr th:only-of-type {\n",
       "        vertical-align: middle;\n",
       "    }\n",
       "\n",
       "    .dataframe tbody tr th {\n",
       "        vertical-align: top;\n",
       "    }\n",
       "\n",
       "    .dataframe thead th {\n",
       "        text-align: right;\n",
       "    }\n",
       "</style>\n",
       "<table border=\"1\" class=\"dataframe\">\n",
       "  <thead>\n",
       "    <tr style=\"text-align: right;\">\n",
       "      <th></th>\n",
       "      <th>geo_id</th>\n",
       "      <th>type</th>\n",
       "    </tr>\n",
       "  </thead>\n",
       "  <tbody>\n",
       "    <tr>\n",
       "      <th>0</th>\n",
       "      <td>GSM1241249</td>\n",
       "      <td>HCT116</td>\n",
       "    </tr>\n",
       "    <tr>\n",
       "      <th>1</th>\n",
       "      <td>GSM1241140</td>\n",
       "      <td>HCT116</td>\n",
       "    </tr>\n",
       "    <tr>\n",
       "      <th>2</th>\n",
       "      <td>GSM1241225</td>\n",
       "      <td>HCT116</td>\n",
       "    </tr>\n",
       "    <tr>\n",
       "      <th>3</th>\n",
       "      <td>GSM1241162</td>\n",
       "      <td>HCT116</td>\n",
       "    </tr>\n",
       "    <tr>\n",
       "      <th>4</th>\n",
       "      <td>GSM1151059</td>\n",
       "      <td>HCT116</td>\n",
       "    </tr>\n",
       "  </tbody>\n",
       "</table>\n",
       "</div>"
      ],
      "text/plain": [
       "       geo_id    type\n",
       "0  GSM1241249  HCT116\n",
       "1  GSM1241140  HCT116\n",
       "2  GSM1241225  HCT116\n",
       "3  GSM1241162  HCT116\n",
       "4  GSM1151059  HCT116"
      ]
     },
     "execution_count": 10,
     "metadata": {},
     "output_type": "execute_result"
    }
   ],
   "source": [
    "samples_types.head()"
   ]
  },
  {
   "cell_type": "code",
   "execution_count": 11,
   "metadata": {},
   "outputs": [],
   "source": [
    "samples_types.set_index(\"geo_id\",drop=False,inplace=True)"
   ]
  },
  {
   "cell_type": "code",
   "execution_count": 12,
   "metadata": {},
   "outputs": [
    {
     "data": {
      "text/html": [
       "<div>\n",
       "<style scoped>\n",
       "    .dataframe tbody tr th:only-of-type {\n",
       "        vertical-align: middle;\n",
       "    }\n",
       "\n",
       "    .dataframe tbody tr th {\n",
       "        vertical-align: top;\n",
       "    }\n",
       "\n",
       "    .dataframe thead th {\n",
       "        text-align: right;\n",
       "    }\n",
       "</style>\n",
       "<table border=\"1\" class=\"dataframe\">\n",
       "  <thead>\n",
       "    <tr style=\"text-align: right;\">\n",
       "      <th></th>\n",
       "      <th>geo_id</th>\n",
       "      <th>type</th>\n",
       "    </tr>\n",
       "    <tr>\n",
       "      <th>geo_id</th>\n",
       "      <th></th>\n",
       "      <th></th>\n",
       "    </tr>\n",
       "  </thead>\n",
       "  <tbody>\n",
       "    <tr>\n",
       "      <th>GSM1241249</th>\n",
       "      <td>GSM1241249</td>\n",
       "      <td>HCT116</td>\n",
       "    </tr>\n",
       "    <tr>\n",
       "      <th>GSM1241140</th>\n",
       "      <td>GSM1241140</td>\n",
       "      <td>HCT116</td>\n",
       "    </tr>\n",
       "    <tr>\n",
       "      <th>GSM1241225</th>\n",
       "      <td>GSM1241225</td>\n",
       "      <td>HCT116</td>\n",
       "    </tr>\n",
       "    <tr>\n",
       "      <th>GSM1241162</th>\n",
       "      <td>GSM1241162</td>\n",
       "      <td>HCT116</td>\n",
       "    </tr>\n",
       "    <tr>\n",
       "      <th>GSM1151059</th>\n",
       "      <td>GSM1151059</td>\n",
       "      <td>HCT116</td>\n",
       "    </tr>\n",
       "  </tbody>\n",
       "</table>\n",
       "</div>"
      ],
      "text/plain": [
       "                geo_id    type\n",
       "geo_id                        \n",
       "GSM1241249  GSM1241249  HCT116\n",
       "GSM1241140  GSM1241140  HCT116\n",
       "GSM1241225  GSM1241225  HCT116\n",
       "GSM1241162  GSM1241162  HCT116\n",
       "GSM1151059  GSM1151059  HCT116"
      ]
     },
     "execution_count": 12,
     "metadata": {},
     "output_type": "execute_result"
    }
   ],
   "source": [
    "samples_types.head()"
   ]
  },
  {
   "cell_type": "code",
   "execution_count": 13,
   "metadata": {},
   "outputs": [],
   "source": [
    "#Getting the index of selected samples\n",
    "geo_accession_array_as_dict = dict(zip(geo_accession_array,range(0,len(geo_accession_array))))\n",
    "samples_index = samples_types.geo_id.map(geo_accession_array_as_dict.get).to_list()"
   ]
  },
  {
   "cell_type": "code",
   "execution_count": 14,
   "metadata": {},
   "outputs": [
    {
     "data": {
      "text/plain": [
       "[47, 65, 141, 142, 164, 271, 287, 312, 365, 374]"
      ]
     },
     "execution_count": 14,
     "metadata": {},
     "output_type": "execute_result"
    }
   ],
   "source": [
    "samples_index[0:10]"
   ]
  },
  {
   "cell_type": "code",
   "execution_count": 15,
   "metadata": {},
   "outputs": [
    {
     "data": {
      "text/plain": [
       "71961"
      ]
     },
     "execution_count": 15,
     "metadata": {},
     "output_type": "execute_result"
    }
   ],
   "source": [
    "len(samples_index)"
   ]
  },
  {
   "cell_type": "code",
   "execution_count": 16,
   "metadata": {},
   "outputs": [],
   "source": [
    "samples_types[\"index\"]=samples_index"
   ]
  },
  {
   "cell_type": "code",
   "execution_count": 17,
   "metadata": {},
   "outputs": [
    {
     "data": {
      "text/html": [
       "<div>\n",
       "<style scoped>\n",
       "    .dataframe tbody tr th:only-of-type {\n",
       "        vertical-align: middle;\n",
       "    }\n",
       "\n",
       "    .dataframe tbody tr th {\n",
       "        vertical-align: top;\n",
       "    }\n",
       "\n",
       "    .dataframe thead th {\n",
       "        text-align: right;\n",
       "    }\n",
       "</style>\n",
       "<table border=\"1\" class=\"dataframe\">\n",
       "  <thead>\n",
       "    <tr style=\"text-align: right;\">\n",
       "      <th></th>\n",
       "      <th>geo_id</th>\n",
       "      <th>type</th>\n",
       "      <th>index</th>\n",
       "    </tr>\n",
       "    <tr>\n",
       "      <th>geo_id</th>\n",
       "      <th></th>\n",
       "      <th></th>\n",
       "      <th></th>\n",
       "    </tr>\n",
       "  </thead>\n",
       "  <tbody>\n",
       "    <tr>\n",
       "      <th>GSM1241249</th>\n",
       "      <td>GSM1241249</td>\n",
       "      <td>HCT116</td>\n",
       "      <td>47</td>\n",
       "    </tr>\n",
       "    <tr>\n",
       "      <th>GSM1241140</th>\n",
       "      <td>GSM1241140</td>\n",
       "      <td>HCT116</td>\n",
       "      <td>65</td>\n",
       "    </tr>\n",
       "    <tr>\n",
       "      <th>GSM1241225</th>\n",
       "      <td>GSM1241225</td>\n",
       "      <td>HCT116</td>\n",
       "      <td>141</td>\n",
       "    </tr>\n",
       "    <tr>\n",
       "      <th>GSM1241162</th>\n",
       "      <td>GSM1241162</td>\n",
       "      <td>HCT116</td>\n",
       "      <td>142</td>\n",
       "    </tr>\n",
       "    <tr>\n",
       "      <th>GSM1151059</th>\n",
       "      <td>GSM1151059</td>\n",
       "      <td>HCT116</td>\n",
       "      <td>164</td>\n",
       "    </tr>\n",
       "  </tbody>\n",
       "</table>\n",
       "</div>"
      ],
      "text/plain": [
       "                geo_id    type  index\n",
       "geo_id                               \n",
       "GSM1241249  GSM1241249  HCT116     47\n",
       "GSM1241140  GSM1241140  HCT116     65\n",
       "GSM1241225  GSM1241225  HCT116    141\n",
       "GSM1241162  GSM1241162  HCT116    142\n",
       "GSM1151059  GSM1151059  HCT116    164"
      ]
     },
     "execution_count": 17,
     "metadata": {},
     "output_type": "execute_result"
    }
   ],
   "source": [
    "samples_types.head()"
   ]
  },
  {
   "cell_type": "code",
   "execution_count": 18,
   "metadata": {},
   "outputs": [
    {
     "data": {
      "text/plain": [
       "'GSM977029'"
      ]
     },
     "execution_count": 18,
     "metadata": {},
     "output_type": "execute_result"
    }
   ],
   "source": [
    "#checking constistency between ids of dataset and selected samples\n",
    "geo_accession_array[78]"
   ]
  },
  {
   "cell_type": "code",
   "execution_count": 19,
   "metadata": {},
   "outputs": [],
   "source": [
    "samples_types.to_csv(\"../outputs/samples_types_tpm.csv\",index=None)"
   ]
  },
  {
   "cell_type": "markdown",
   "metadata": {},
   "source": [
    "## Extracting gene expression matrix from h5"
   ]
  },
  {
   "cell_type": "markdown",
   "metadata": {},
   "source": [
    "Retrieving expression data of selected samples."
   ]
  },
  {
   "cell_type": "code",
   "execution_count": 20,
   "metadata": {},
   "outputs": [],
   "source": [
    "expression_matrix=f[\"data/expression\"][:,78:80]"
   ]
  },
  {
   "cell_type": "code",
   "execution_count": 21,
   "metadata": {},
   "outputs": [
    {
     "data": {
      "text/plain": [
       "(178136, 2)"
      ]
     },
     "execution_count": 21,
     "metadata": {},
     "output_type": "execute_result"
    }
   ],
   "source": [
    "expression_matrix.shape"
   ]
  },
  {
   "cell_type": "code",
   "execution_count": null,
   "metadata": {},
   "outputs": [],
   "source": []
  },
  {
   "cell_type": "code",
   "execution_count": 62,
   "metadata": {},
   "outputs": [
    {
     "ename": "MemoryError",
     "evalue": "Unable to allocate 47.8 GiB for an array with shape (178136, 71961) and data type float32",
     "output_type": "error",
     "traceback": [
      "\u001b[0;31m---------------------------------------------------------------------------\u001b[0m",
      "\u001b[0;31mMemoryError\u001b[0m                               Traceback (most recent call last)",
      "File \u001b[0;32m<timed exec>:2\u001b[0m, in \u001b[0;36m<module>\u001b[0;34m\u001b[0m\n",
      "File \u001b[0;32mh5py/_objects.pyx:54\u001b[0m, in \u001b[0;36mh5py._objects.with_phil.wrapper\u001b[0;34m()\u001b[0m\n",
      "File \u001b[0;32mh5py/_objects.pyx:55\u001b[0m, in \u001b[0;36mh5py._objects.with_phil.wrapper\u001b[0;34m()\u001b[0m\n",
      "File \u001b[0;32m~/.pyenv/versions/3.10.2/envs/manuel/lib/python3.10/site-packages/h5py/_hl/dataset.py:710\u001b[0m, in \u001b[0;36mDataset.__getitem__\u001b[0;34m(self, args, new_dtype)\u001b[0m\n\u001b[1;32m    708\u001b[0m \u001b[38;5;28;01mif\u001b[39;00m \u001b[38;5;28mself\u001b[39m\u001b[38;5;241m.\u001b[39m_fast_read_ok \u001b[38;5;129;01mand\u001b[39;00m (new_dtype \u001b[38;5;129;01mis\u001b[39;00m \u001b[38;5;28;01mNone\u001b[39;00m):\n\u001b[1;32m    709\u001b[0m     \u001b[38;5;28;01mtry\u001b[39;00m:\n\u001b[0;32m--> 710\u001b[0m         \u001b[38;5;28;01mreturn\u001b[39;00m \u001b[38;5;28;43mself\u001b[39;49m\u001b[38;5;241;43m.\u001b[39;49m\u001b[43m_fast_reader\u001b[49m\u001b[38;5;241;43m.\u001b[39;49m\u001b[43mread\u001b[49m\u001b[43m(\u001b[49m\u001b[43margs\u001b[49m\u001b[43m)\u001b[49m\n\u001b[1;32m    711\u001b[0m     \u001b[38;5;28;01mexcept\u001b[39;00m \u001b[38;5;167;01mTypeError\u001b[39;00m:\n\u001b[1;32m    712\u001b[0m         \u001b[38;5;28;01mpass\u001b[39;00m  \u001b[38;5;66;03m# Fall back to Python read pathway below\u001b[39;00m\n",
      "File \u001b[0;32mh5py/_selector.pyx:358\u001b[0m, in \u001b[0;36mh5py._selector.Reader.read\u001b[0;34m()\u001b[0m\n",
      "File \u001b[0;32mh5py/_selector.pyx:332\u001b[0m, in \u001b[0;36mh5py._selector.Reader.make_array\u001b[0;34m()\u001b[0m\n",
      "\u001b[0;31mMemoryError\u001b[0m: Unable to allocate 47.8 GiB for an array with shape (178136, 71961) and data type float32"
     ]
    }
   ],
   "source": [
    "%%time\n",
    "#Retrieving expression data matrix of selected samples from archS4 dataset rows correspond to genes, columns to samples\n",
    "expression_matrix=f[\"data/expression\"][:,sorted(samples_index)]"
   ]
  },
  {
   "cell_type": "code",
   "execution_count": 23,
   "metadata": {},
   "outputs": [
    {
     "name": "stdout",
     "output_type": "stream",
     "text": [
      "CPU times: user 9.48 s, sys: 21.3 s, total: 30.8 s\n",
      "Wall time: 1min 43s\n"
     ]
    }
   ],
   "source": [
    "%%time\n",
    "np.save(\"selected_human_matrix_V11_tpm.npy\",expression_matrix)"
   ]
  },
  {
   "cell_type": "code",
   "execution_count": 22,
   "metadata": {},
   "outputs": [],
   "source": [
    "expression_matrix=np.load(\"selected_human_matrix_V11_tpm.npy\",allow_pickle=True)"
   ]
  },
  {
   "cell_type": "code",
   "execution_count": null,
   "metadata": {},
   "outputs": [],
   "source": []
  },
  {
   "cell_type": "code",
   "execution_count": 23,
   "metadata": {},
   "outputs": [
    {
     "data": {
      "text/plain": [
       "array([[0., 0., 0., 0., 0., 0., 0., 0., 0., 0.],\n",
       "       [0., 0., 0., 0., 0., 0., 0., 0., 0., 0.],\n",
       "       [0., 0., 0., 0., 0., 0., 0., 0., 0., 0.],\n",
       "       [0., 0., 0., 0., 0., 0., 0., 0., 0., 0.],\n",
       "       [0., 0., 0., 0., 0., 0., 0., 0., 0., 0.],\n",
       "       [0., 0., 0., 0., 0., 0., 0., 0., 0., 0.],\n",
       "       [0., 0., 0., 0., 0., 0., 0., 0., 0., 0.],\n",
       "       [0., 0., 0., 0., 0., 0., 0., 0., 0., 0.],\n",
       "       [0., 0., 0., 0., 0., 0., 0., 0., 0., 0.],\n",
       "       [0., 0., 0., 0., 0., 0., 0., 0., 0., 0.]], dtype=float32)"
      ]
     },
     "execution_count": 23,
     "metadata": {},
     "output_type": "execute_result"
    }
   ],
   "source": [
    "expression_matrix[0:10,0:10]"
   ]
  },
  {
   "cell_type": "code",
   "execution_count": 24,
   "metadata": {},
   "outputs": [
    {
     "data": {
      "text/plain": [
       "(178136, 71961)"
      ]
     },
     "execution_count": 24,
     "metadata": {},
     "output_type": "execute_result"
    }
   ],
   "source": [
    "expression_matrix.shape"
   ]
  },
  {
   "cell_type": "markdown",
   "metadata": {},
   "source": [
    "### Generating ID mapping"
   ]
  },
  {
   "cell_type": "code",
   "execution_count": 37,
   "metadata": {},
   "outputs": [
    {
     "name": "stdout",
     "output_type": "stream",
     "text": [
      "chromosome\n",
      "ensembl_gene_id\n",
      "ensembl_transcript_id\n",
      "gene_biotype\n",
      "gene_symbol\n",
      "start_position\n",
      "transcripts\n"
     ]
    }
   ],
   "source": [
    "for key in f[\"meta/transcripts\"]:\n",
    "    print(key)"
   ]
  },
  {
   "cell_type": "code",
   "execution_count": 44,
   "metadata": {},
   "outputs": [],
   "source": [
    "ens_gids=list(f[\"meta/transcripts/ensembl_gene_id\"].asstr())"
   ]
  },
  {
   "cell_type": "code",
   "execution_count": 45,
   "metadata": {},
   "outputs": [
    {
     "data": {
      "text/plain": [
       "['ENSG00000228985',\n",
       " 'ENSG00000282253',\n",
       " 'ENSG00000282431',\n",
       " 'ENSG00000237235',\n",
       " 'ENSG00000223997',\n",
       " 'ENSG00000282274',\n",
       " 'ENSG00000282592',\n",
       " 'ENSG00000270451',\n",
       " 'ENSG00000225825',\n",
       " 'ENSG00000282373']"
      ]
     },
     "execution_count": 45,
     "metadata": {},
     "output_type": "execute_result"
    }
   ],
   "source": [
    "ens_gids[0:10]"
   ]
  },
  {
   "cell_type": "code",
   "execution_count": 46,
   "metadata": {},
   "outputs": [
    {
     "data": {
      "text/plain": [
       "178136"
      ]
     },
     "execution_count": 46,
     "metadata": {},
     "output_type": "execute_result"
    }
   ],
   "source": [
    "len(ens_gids)"
   ]
  },
  {
   "cell_type": "code",
   "execution_count": 47,
   "metadata": {},
   "outputs": [],
   "source": [
    "gene_set=list(set(ens_gids))"
   ]
  },
  {
   "cell_type": "code",
   "execution_count": 48,
   "metadata": {},
   "outputs": [
    {
     "data": {
      "text/plain": [
       "38871"
      ]
     },
     "execution_count": 48,
     "metadata": {},
     "output_type": "execute_result"
    }
   ],
   "source": [
    "len(gene_set)"
   ]
  },
  {
   "cell_type": "code",
   "execution_count": 49,
   "metadata": {},
   "outputs": [
    {
     "data": {
      "text/plain": [
       "True"
      ]
     },
     "execution_count": 49,
     "metadata": {},
     "output_type": "execute_result"
    }
   ],
   "source": [
    "\"missing\" in gene_set"
   ]
  },
  {
   "cell_type": "code",
   "execution_count": 50,
   "metadata": {},
   "outputs": [
    {
     "data": {
      "text/plain": [
       "False"
      ]
     },
     "execution_count": 50,
     "metadata": {},
     "output_type": "execute_result"
    }
   ],
   "source": [
    "\"nan\" in gene_set"
   ]
  },
  {
   "cell_type": "code",
   "execution_count": 51,
   "metadata": {},
   "outputs": [],
   "source": [
    "ens_tids=list(f[\"meta/transcripts/ensembl_transcript_id\"].asstr())"
   ]
  },
  {
   "cell_type": "code",
   "execution_count": 52,
   "metadata": {},
   "outputs": [
    {
     "data": {
      "text/plain": [
       "178136"
      ]
     },
     "execution_count": 52,
     "metadata": {},
     "output_type": "execute_result"
    }
   ],
   "source": [
    "len(ens_tids)"
   ]
  },
  {
   "cell_type": "code",
   "execution_count": 53,
   "metadata": {},
   "outputs": [
    {
     "data": {
      "text/plain": [
       "False"
      ]
     },
     "execution_count": 53,
     "metadata": {},
     "output_type": "execute_result"
    }
   ],
   "source": [
    "\"missing\" in ens_tids"
   ]
  },
  {
   "cell_type": "code",
   "execution_count": 54,
   "metadata": {},
   "outputs": [
    {
     "data": {
      "text/plain": [
       "False"
      ]
     },
     "execution_count": 54,
     "metadata": {},
     "output_type": "execute_result"
    }
   ],
   "source": [
    "\"nan\" in ens_tids"
   ]
  },
  {
   "cell_type": "code",
   "execution_count": 55,
   "metadata": {},
   "outputs": [],
   "source": [
    "gene_symbol=list(f[\"meta/transcripts/gene_symbol\"].asstr())"
   ]
  },
  {
   "cell_type": "code",
   "execution_count": 56,
   "metadata": {
    "tags": []
   },
   "outputs": [
    {
     "data": {
      "text/plain": [
       "178136"
      ]
     },
     "execution_count": 56,
     "metadata": {},
     "output_type": "execute_result"
    }
   ],
   "source": [
    "len(gene_symbol)"
   ]
  },
  {
   "cell_type": "code",
   "execution_count": 57,
   "metadata": {},
   "outputs": [
    {
     "data": {
      "text/plain": [
       "True"
      ]
     },
     "execution_count": 57,
     "metadata": {},
     "output_type": "execute_result"
    }
   ],
   "source": [
    "\"missing\" in gene_symbol"
   ]
  },
  {
   "cell_type": "code",
   "execution_count": 58,
   "metadata": {},
   "outputs": [
    {
     "data": {
      "text/plain": [
       "True"
      ]
     },
     "execution_count": 58,
     "metadata": {},
     "output_type": "execute_result"
    }
   ],
   "source": [
    "\"nan\" in gene_symbol"
   ]
  },
  {
   "cell_type": "code",
   "execution_count": 59,
   "metadata": {},
   "outputs": [],
   "source": [
    "id_mapping=pd.DataFrame(ens_tids)"
   ]
  },
  {
   "cell_type": "code",
   "execution_count": 60,
   "metadata": {},
   "outputs": [],
   "source": [
    "id_mapping[\"ens_gids\"]=ens_gids\n",
    "id_mapping[\"gene_symbol\"]=gene_symbol\n",
    "id_mapping.columns=[\"ens_tids\",\"ens_gids\",\"gene_symbol\"]"
   ]
  },
  {
   "cell_type": "code",
   "execution_count": 61,
   "metadata": {},
   "outputs": [
    {
     "data": {
      "text/html": [
       "<div>\n",
       "<style scoped>\n",
       "    .dataframe tbody tr th:only-of-type {\n",
       "        vertical-align: middle;\n",
       "    }\n",
       "\n",
       "    .dataframe tbody tr th {\n",
       "        vertical-align: top;\n",
       "    }\n",
       "\n",
       "    .dataframe thead th {\n",
       "        text-align: right;\n",
       "    }\n",
       "</style>\n",
       "<table border=\"1\" class=\"dataframe\">\n",
       "  <thead>\n",
       "    <tr style=\"text-align: right;\">\n",
       "      <th></th>\n",
       "      <th>ens_tids</th>\n",
       "      <th>ens_gids</th>\n",
       "      <th>gene_symbol</th>\n",
       "    </tr>\n",
       "  </thead>\n",
       "  <tbody>\n",
       "    <tr>\n",
       "      <th>0</th>\n",
       "      <td>ENST00000448914</td>\n",
       "      <td>ENSG00000228985</td>\n",
       "      <td>TRDD3</td>\n",
       "    </tr>\n",
       "    <tr>\n",
       "      <th>1</th>\n",
       "      <td>ENST00000631435</td>\n",
       "      <td>ENSG00000282253</td>\n",
       "      <td>TRBD1</td>\n",
       "    </tr>\n",
       "    <tr>\n",
       "      <th>2</th>\n",
       "      <td>ENST00000632684</td>\n",
       "      <td>ENSG00000282431</td>\n",
       "      <td>TRBD1</td>\n",
       "    </tr>\n",
       "    <tr>\n",
       "      <th>3</th>\n",
       "      <td>ENST00000434970</td>\n",
       "      <td>ENSG00000237235</td>\n",
       "      <td>TRDD2</td>\n",
       "    </tr>\n",
       "    <tr>\n",
       "      <th>4</th>\n",
       "      <td>ENST00000415118</td>\n",
       "      <td>ENSG00000223997</td>\n",
       "      <td>TRDD1</td>\n",
       "    </tr>\n",
       "  </tbody>\n",
       "</table>\n",
       "</div>"
      ],
      "text/plain": [
       "          ens_tids         ens_gids gene_symbol\n",
       "0  ENST00000448914  ENSG00000228985       TRDD3\n",
       "1  ENST00000631435  ENSG00000282253       TRBD1\n",
       "2  ENST00000632684  ENSG00000282431       TRBD1\n",
       "3  ENST00000434970  ENSG00000237235       TRDD2\n",
       "4  ENST00000415118  ENSG00000223997       TRDD1"
      ]
     },
     "execution_count": 61,
     "metadata": {},
     "output_type": "execute_result"
    }
   ],
   "source": [
    "id_mapping.head()"
   ]
  },
  {
   "cell_type": "markdown",
   "metadata": {},
   "source": [
    "Several ens_tids have no ens_gids or gene_symbol and are assigned as \"missing\" or \"nan\". Searching for missing genes..."
   ]
  },
  {
   "cell_type": "code",
   "execution_count": 62,
   "metadata": {},
   "outputs": [
    {
     "data": {
      "text/plain": [
       "2615"
      ]
     },
     "execution_count": 62,
     "metadata": {},
     "output_type": "execute_result"
    }
   ],
   "source": [
    "len(id_mapping[id_mapping[\"gene_symbol\"]==\"missing\"])"
   ]
  },
  {
   "cell_type": "code",
   "execution_count": 63,
   "metadata": {},
   "outputs": [
    {
     "data": {
      "text/plain": [
       "2615"
      ]
     },
     "execution_count": 63,
     "metadata": {},
     "output_type": "execute_result"
    }
   ],
   "source": [
    "len(id_mapping[id_mapping[\"ens_gids\"]==\"missing\"])"
   ]
  },
  {
   "cell_type": "code",
   "execution_count": 64,
   "metadata": {},
   "outputs": [
    {
     "data": {
      "text/plain": [
       "7598"
      ]
     },
     "execution_count": 64,
     "metadata": {},
     "output_type": "execute_result"
    }
   ],
   "source": [
    "len(id_mapping[id_mapping[\"gene_symbol\"]==\"nan\"])"
   ]
  },
  {
   "cell_type": "code",
   "execution_count": 65,
   "metadata": {},
   "outputs": [
    {
     "data": {
      "text/html": [
       "<div>\n",
       "<style scoped>\n",
       "    .dataframe tbody tr th:only-of-type {\n",
       "        vertical-align: middle;\n",
       "    }\n",
       "\n",
       "    .dataframe tbody tr th {\n",
       "        vertical-align: top;\n",
       "    }\n",
       "\n",
       "    .dataframe thead th {\n",
       "        text-align: right;\n",
       "    }\n",
       "</style>\n",
       "<table border=\"1\" class=\"dataframe\">\n",
       "  <thead>\n",
       "    <tr style=\"text-align: right;\">\n",
       "      <th></th>\n",
       "      <th>ens_tids</th>\n",
       "      <th>ens_gids</th>\n",
       "      <th>gene_symbol</th>\n",
       "    </tr>\n",
       "  </thead>\n",
       "  <tbody>\n",
       "    <tr>\n",
       "      <th>92</th>\n",
       "      <td>ENST00000631639</td>\n",
       "      <td>ENSG00000282054</td>\n",
       "      <td>nan</td>\n",
       "    </tr>\n",
       "    <tr>\n",
       "      <th>94</th>\n",
       "      <td>ENST00000621643</td>\n",
       "      <td>missing</td>\n",
       "      <td>missing</td>\n",
       "    </tr>\n",
       "    <tr>\n",
       "      <th>122</th>\n",
       "      <td>ENST00000631427</td>\n",
       "      <td>ENSG00000282543</td>\n",
       "      <td>nan</td>\n",
       "    </tr>\n",
       "    <tr>\n",
       "      <th>146</th>\n",
       "      <td>ENST00000632148</td>\n",
       "      <td>ENSG00000282353</td>\n",
       "      <td>nan</td>\n",
       "    </tr>\n",
       "    <tr>\n",
       "      <th>227</th>\n",
       "      <td>ENST00000634093</td>\n",
       "      <td>ENSG00000282610</td>\n",
       "      <td>nan</td>\n",
       "    </tr>\n",
       "    <tr>\n",
       "      <th>...</th>\n",
       "      <td>...</td>\n",
       "      <td>...</td>\n",
       "      <td>...</td>\n",
       "    </tr>\n",
       "    <tr>\n",
       "      <th>178121</th>\n",
       "      <td>ENST00000511202</td>\n",
       "      <td>ENSG00000198277</td>\n",
       "      <td>nan</td>\n",
       "    </tr>\n",
       "    <tr>\n",
       "      <th>178123</th>\n",
       "      <td>ENST00000595307</td>\n",
       "      <td>ENSG00000269651</td>\n",
       "      <td>nan</td>\n",
       "    </tr>\n",
       "    <tr>\n",
       "      <th>178124</th>\n",
       "      <td>ENST00000567652</td>\n",
       "      <td>ENSG00000227717</td>\n",
       "      <td>nan</td>\n",
       "    </tr>\n",
       "    <tr>\n",
       "      <th>178125</th>\n",
       "      <td>ENST00000452651</td>\n",
       "      <td>ENSG00000243831</td>\n",
       "      <td>nan</td>\n",
       "    </tr>\n",
       "    <tr>\n",
       "      <th>178129</th>\n",
       "      <td>ENST00000574204</td>\n",
       "      <td>ENSG00000262734</td>\n",
       "      <td>nan</td>\n",
       "    </tr>\n",
       "  </tbody>\n",
       "</table>\n",
       "<p>10213 rows × 3 columns</p>\n",
       "</div>"
      ],
      "text/plain": [
       "               ens_tids         ens_gids gene_symbol\n",
       "92      ENST00000631639  ENSG00000282054         nan\n",
       "94      ENST00000621643          missing     missing\n",
       "122     ENST00000631427  ENSG00000282543         nan\n",
       "146     ENST00000632148  ENSG00000282353         nan\n",
       "227     ENST00000634093  ENSG00000282610         nan\n",
       "...                 ...              ...         ...\n",
       "178121  ENST00000511202  ENSG00000198277         nan\n",
       "178123  ENST00000595307  ENSG00000269651         nan\n",
       "178124  ENST00000567652  ENSG00000227717         nan\n",
       "178125  ENST00000452651  ENSG00000243831         nan\n",
       "178129  ENST00000574204  ENSG00000262734         nan\n",
       "\n",
       "[10213 rows x 3 columns]"
      ]
     },
     "execution_count": 65,
     "metadata": {},
     "output_type": "execute_result"
    }
   ],
   "source": [
    "id_mapping.loc[(id_mapping[\"gene_symbol\"]==\"missing\")|(id_mapping[\"gene_symbol\"]==\"nan\")]"
   ]
  },
  {
   "cell_type": "code",
   "execution_count": 66,
   "metadata": {},
   "outputs": [],
   "source": [
    "id_mapping.loc[(id_mapping[\"gene_symbol\"]==\"missing\")|(id_mapping[\"gene_symbol\"]==\"nan\")].to_csv(\"../outputs/missing_tids.csv\")"
   ]
  },
  {
   "cell_type": "code",
   "execution_count": 67,
   "metadata": {},
   "outputs": [
    {
     "data": {
      "text/plain": [
       "(178136, 3)"
      ]
     },
     "execution_count": 67,
     "metadata": {},
     "output_type": "execute_result"
    }
   ],
   "source": [
    "id_mapping.shape"
   ]
  },
  {
   "cell_type": "markdown",
   "metadata": {},
   "source": [
    "# Mapping missing transcripts to gene ids"
   ]
  },
  {
   "cell_type": "code",
   "execution_count": 50,
   "metadata": {},
   "outputs": [],
   "source": [
    "#extracting gene ids from genome annotation"
   ]
  },
  {
   "cell_type": "code",
   "execution_count": 70,
   "metadata": {},
   "outputs": [
    {
     "name": "stdout",
     "output_type": "stream",
     "text": [
      "2022-02-22 22:58:19,572 - pyensembl.shell - INFO - Running 'install' for EnsemblRelease(release=87, species='homo_sapiens')\n",
      "2022-02-22 22:58:19,572 - pyensembl.download_cache - INFO - Fetching /home/laeb/.cache/pyensembl/GRCh38/ensembl87/Homo_sapiens.GRCh38.87.gtf.gz from URL ftp://ftp.ensembl.org/pub/release-87/gtf/homo_sapiens/Homo_sapiens.GRCh38.87.gtf.gz\n",
      "2022-02-22 22:58:19,572 - datacache.download - INFO - Downloading ftp://ftp.ensembl.org/pub/release-87/gtf/homo_sapiens/Homo_sapiens.GRCh38.87.gtf.gz to /home/laeb/.cache/pyensembl/GRCh38/ensembl87/Homo_sapiens.GRCh38.87.gtf.gz\n",
      "2022-02-22 22:58:26,517 - pyensembl.download_cache - INFO - Fetching /home/laeb/.cache/pyensembl/GRCh38/ensembl87/Homo_sapiens.GRCh38.cdna.all.fa.gz from URL ftp://ftp.ensembl.org/pub/release-87/fasta/homo_sapiens/cdna/Homo_sapiens.GRCh38.cdna.all.fa.gz\n",
      "2022-02-22 22:58:26,517 - datacache.download - INFO - Downloading ftp://ftp.ensembl.org/pub/release-87/fasta/homo_sapiens/cdna/Homo_sapiens.GRCh38.cdna.all.fa.gz to /home/laeb/.cache/pyensembl/GRCh38/ensembl87/Homo_sapiens.GRCh38.cdna.all.fa.gz\n",
      "2022-02-22 22:58:35,323 - pyensembl.download_cache - INFO - Fetching /home/laeb/.cache/pyensembl/GRCh38/ensembl87/Homo_sapiens.GRCh38.ncrna.fa.gz from URL ftp://ftp.ensembl.org/pub/release-87/fasta/homo_sapiens/ncrna/Homo_sapiens.GRCh38.ncrna.fa.gz\n",
      "2022-02-22 22:58:35,324 - datacache.download - INFO - Downloading ftp://ftp.ensembl.org/pub/release-87/fasta/homo_sapiens/ncrna/Homo_sapiens.GRCh38.ncrna.fa.gz to /home/laeb/.cache/pyensembl/GRCh38/ensembl87/Homo_sapiens.GRCh38.ncrna.fa.gz\n",
      "2022-02-22 22:58:36,668 - pyensembl.download_cache - INFO - Fetching /home/laeb/.cache/pyensembl/GRCh38/ensembl87/Homo_sapiens.GRCh38.pep.all.fa.gz from URL ftp://ftp.ensembl.org/pub/release-87/fasta/homo_sapiens/pep/Homo_sapiens.GRCh38.pep.all.fa.gz\n",
      "2022-02-22 22:58:36,668 - datacache.download - INFO - Downloading ftp://ftp.ensembl.org/pub/release-87/fasta/homo_sapiens/pep/Homo_sapiens.GRCh38.pep.all.fa.gz to /home/laeb/.cache/pyensembl/GRCh38/ensembl87/Homo_sapiens.GRCh38.pep.all.fa.gz\n",
      "2022-02-22 22:58:38,451 - pyensembl.database - INFO - Creating database: /home/laeb/.cache/pyensembl/GRCh38/ensembl87/Homo_sapiens.GRCh38.87.gtf.db\n",
      "2022-02-22 22:58:38,451 - pyensembl.database - INFO - Reading GTF from /home/laeb/.cache/pyensembl/GRCh38/ensembl87/Homo_sapiens.GRCh38.87.gtf.gz\n",
      "/home/laeb/PycharmProjects/DeepSecret/venv/lib/python3.9/site-packages/gtfparse/read_gtf.py:82: FutureWarning: The error_bad_lines argument has been deprecated and will be removed in a future version. Use on_bad_lines in the future.\n",
      "\n",
      "\n",
      "  chunk_iterator = pd.read_csv(\n",
      "/home/laeb/PycharmProjects/DeepSecret/venv/lib/python3.9/site-packages/gtfparse/read_gtf.py:82: FutureWarning: The warn_bad_lines argument has been deprecated and will be removed in a future version. Use on_bad_lines in the future.\n",
      "\n",
      "\n",
      "  chunk_iterator = pd.read_csv(\n",
      "2022-02-22 22:59:35,417 - datacache.database_helpers - INFO - Creating database /home/laeb/.cache/pyensembl/GRCh38/ensembl87/Homo_sapiens.GRCh38.87.gtf.db containing: start_codon, transcript, exon, gene, stop_codon, CDS\n",
      "2022-02-22 22:59:35,417 - datacache.database - INFO - Running sqlite query: \"CREATE TABLE start_codon (transcript_id TEXT NOT NULL, transcript_biotype TEXT NOT NULL, protein_id TEXT NOT NULL, exon_number TEXT NOT NULL, ccds_id TEXT NOT NULL, end INT NOT NULL, start INT NOT NULL, protein_version TEXT NOT NULL, transcript_support_level TEXT NOT NULL, exon_version TEXT NOT NULL, source TEXT NOT NULL, gene_id TEXT NOT NULL, feature TEXT NOT NULL, seqname TEXT NOT NULL, exon_id TEXT NOT NULL, transcript_version TEXT NOT NULL, gene_version TEXT NOT NULL, strand TEXT NOT NULL, gene_name TEXT NOT NULL, gene_biotype TEXT NOT NULL, transcript_name TEXT NOT NULL)\"\n",
      "2022-02-22 22:59:35,604 - datacache.database - INFO - Inserting 82657 rows into table start_codon\n",
      "2022-02-22 22:59:35,877 - datacache.database - INFO - Creating index on start_codon (seqname, start, end)\n",
      "2022-02-22 22:59:35,914 - datacache.database - INFO - Creating index on start_codon (gene_name)\n",
      "2022-02-22 22:59:35,952 - datacache.database - INFO - Creating index on start_codon (gene_id)\n",
      "2022-02-22 22:59:35,989 - datacache.database - INFO - Creating index on start_codon (transcript_id)\n",
      "2022-02-22 22:59:36,032 - datacache.database - INFO - Creating index on start_codon (transcript_name)\n",
      "2022-02-22 22:59:36,076 - datacache.database - INFO - Creating index on start_codon (exon_id)\n",
      "2022-02-22 22:59:36,099 - datacache.database - INFO - Creating index on start_codon (protein_id)\n",
      "2022-02-22 22:59:36,121 - datacache.database - INFO - Creating index on start_codon (ccds_id)\n",
      "2022-02-22 22:59:36,156 - datacache.database - INFO - Running sqlite query: \"CREATE TABLE transcript (transcript_id TEXT UNIQUE PRIMARY KEY NOT NULL, transcript_biotype TEXT NOT NULL, protein_id TEXT NOT NULL, exon_number TEXT NOT NULL, ccds_id TEXT NOT NULL, end INT NOT NULL, start INT NOT NULL, protein_version TEXT NOT NULL, transcript_support_level TEXT NOT NULL, exon_version TEXT NOT NULL, source TEXT NOT NULL, gene_id TEXT NOT NULL, feature TEXT NOT NULL, seqname TEXT NOT NULL, exon_id TEXT NOT NULL, transcript_version TEXT NOT NULL, gene_version TEXT NOT NULL, strand TEXT NOT NULL, gene_name TEXT NOT NULL, gene_biotype TEXT NOT NULL, transcript_name TEXT NOT NULL)\"\n",
      "2022-02-22 22:59:36,532 - datacache.database - INFO - Inserting 198002 rows into table transcript\n",
      "2022-02-22 22:59:37,398 - datacache.database - INFO - Creating index on transcript (seqname, start, end)\n",
      "2022-02-22 22:59:37,488 - datacache.database - INFO - Creating index on transcript (gene_name)\n",
      "2022-02-22 22:59:37,583 - datacache.database - INFO - Creating index on transcript (gene_id)\n",
      "2022-02-22 22:59:37,689 - datacache.database - INFO - Creating index on transcript (transcript_name)\n",
      "2022-02-22 22:59:37,791 - datacache.database - INFO - Creating index on transcript (exon_id)\n",
      "2022-02-22 22:59:37,849 - datacache.database - INFO - Creating index on transcript (protein_id)\n",
      "2022-02-22 22:59:37,899 - datacache.database - INFO - Creating index on transcript (ccds_id)\n",
      "2022-02-22 22:59:37,973 - datacache.database - INFO - Running sqlite query: \"CREATE TABLE exon (transcript_id TEXT NOT NULL, transcript_biotype TEXT NOT NULL, protein_id TEXT NOT NULL, exon_number TEXT NOT NULL, ccds_id TEXT NOT NULL, end INT NOT NULL, start INT NOT NULL, protein_version TEXT NOT NULL, transcript_support_level TEXT NOT NULL, exon_version TEXT NOT NULL, source TEXT NOT NULL, gene_id TEXT NOT NULL, feature TEXT NOT NULL, seqname TEXT NOT NULL, exon_id TEXT NOT NULL, transcript_version TEXT NOT NULL, gene_version TEXT NOT NULL, strand TEXT NOT NULL, gene_name TEXT NOT NULL, gene_biotype TEXT NOT NULL, transcript_name TEXT NOT NULL)\"\n",
      "2022-02-22 22:59:39,835 - datacache.database - INFO - Inserting 1182163 rows into table exon\n",
      "2022-02-22 22:59:43,279 - datacache.database - INFO - Creating index on exon (seqname, start, end)\n",
      "2022-02-22 22:59:43,865 - datacache.database - INFO - Creating index on exon (gene_name)\n",
      "2022-02-22 22:59:44,319 - datacache.database - INFO - Creating index on exon (gene_id)\n",
      "2022-02-22 22:59:44,804 - datacache.database - INFO - Creating index on exon (transcript_id)\n",
      "2022-02-22 22:59:45,308 - datacache.database - INFO - Creating index on exon (transcript_name)\n",
      "2022-02-22 22:59:45,805 - datacache.database - INFO - Creating index on exon (exon_id)\n",
      "2022-02-22 22:59:46,401 - datacache.database - INFO - Creating index on exon (protein_id)\n",
      "2022-02-22 22:59:46,721 - datacache.database - INFO - Creating index on exon (ccds_id)\n",
      "2022-02-22 22:59:47,124 - datacache.database - INFO - Running sqlite query: \"CREATE TABLE gene (transcript_id TEXT NOT NULL, transcript_biotype TEXT NOT NULL, protein_id TEXT NOT NULL, exon_number TEXT NOT NULL, ccds_id TEXT NOT NULL, end INT NOT NULL, start INT NOT NULL, protein_version TEXT NOT NULL, transcript_support_level TEXT NOT NULL, exon_version TEXT NOT NULL, source TEXT NOT NULL, gene_id TEXT UNIQUE PRIMARY KEY NOT NULL, feature TEXT NOT NULL, seqname TEXT NOT NULL, exon_id TEXT NOT NULL, transcript_version TEXT NOT NULL, gene_version TEXT NOT NULL, strand TEXT NOT NULL, gene_name TEXT NOT NULL, gene_biotype TEXT NOT NULL, transcript_name TEXT NOT NULL)\"\n",
      "2022-02-22 22:59:47,231 - datacache.database - INFO - Inserting 58051 rows into table gene\n",
      "2022-02-22 22:59:47,484 - datacache.database - INFO - Creating index on gene (seqname, start, end)\n",
      "2022-02-22 22:59:47,508 - datacache.database - INFO - Creating index on gene (gene_name)\n",
      "2022-02-22 22:59:47,537 - datacache.database - INFO - Creating index on gene (transcript_id)\n",
      "2022-02-22 22:59:47,552 - datacache.database - INFO - Creating index on gene (transcript_name)\n",
      "2022-02-22 22:59:47,567 - datacache.database - INFO - Creating index on gene (exon_id)\n",
      "2022-02-22 22:59:47,584 - datacache.database - INFO - Creating index on gene (protein_id)\n",
      "2022-02-22 22:59:47,598 - datacache.database - INFO - Creating index on gene (ccds_id)\n",
      "2022-02-22 22:59:47,612 - datacache.database - INFO - Running sqlite query: \"CREATE TABLE stop_codon (transcript_id TEXT NOT NULL, transcript_biotype TEXT NOT NULL, protein_id TEXT NOT NULL, exon_number TEXT NOT NULL, ccds_id TEXT NOT NULL, end INT NOT NULL, start INT NOT NULL, protein_version TEXT NOT NULL, transcript_support_level TEXT NOT NULL, exon_version TEXT NOT NULL, source TEXT NOT NULL, gene_id TEXT NOT NULL, feature TEXT NOT NULL, seqname TEXT NOT NULL, exon_id TEXT NOT NULL, transcript_version TEXT NOT NULL, gene_version TEXT NOT NULL, strand TEXT NOT NULL, gene_name TEXT NOT NULL, gene_biotype TEXT NOT NULL, transcript_name TEXT NOT NULL)\"\n",
      "2022-02-22 22:59:47,779 - datacache.database - INFO - Inserting 74244 rows into table stop_codon\n",
      "2022-02-22 22:59:48,046 - datacache.database - INFO - Creating index on stop_codon (seqname, start, end)\n",
      "2022-02-22 22:59:48,081 - datacache.database - INFO - Creating index on stop_codon (gene_name)\n",
      "2022-02-22 22:59:48,117 - datacache.database - INFO - Creating index on stop_codon (gene_id)\n",
      "2022-02-22 22:59:48,153 - datacache.database - INFO - Creating index on stop_codon (transcript_id)\n",
      "2022-02-22 22:59:48,194 - datacache.database - INFO - Creating index on stop_codon (transcript_name)\n",
      "2022-02-22 22:59:48,234 - datacache.database - INFO - Creating index on stop_codon (exon_id)\n",
      "2022-02-22 22:59:48,255 - datacache.database - INFO - Creating index on stop_codon (protein_id)\n",
      "2022-02-22 22:59:48,275 - datacache.database - INFO - Creating index on stop_codon (ccds_id)\n",
      "2022-02-22 22:59:48,311 - datacache.database - INFO - Running sqlite query: \"CREATE TABLE CDS (transcript_id TEXT NOT NULL, transcript_biotype TEXT NOT NULL, protein_id TEXT NOT NULL, exon_number TEXT NOT NULL, ccds_id TEXT NOT NULL, end INT NOT NULL, start INT NOT NULL, protein_version TEXT NOT NULL, transcript_support_level TEXT NOT NULL, exon_version TEXT NOT NULL, source TEXT NOT NULL, gene_id TEXT NOT NULL, feature TEXT NOT NULL, seqname TEXT NOT NULL, exon_id TEXT NOT NULL, transcript_version TEXT NOT NULL, gene_version TEXT NOT NULL, strand TEXT NOT NULL, gene_name TEXT NOT NULL, gene_biotype TEXT NOT NULL, transcript_name TEXT NOT NULL)\"\n",
      "2022-02-22 22:59:49,428 - datacache.database - INFO - Inserting 703935 rows into table CDS\n",
      "2022-02-22 22:59:51,471 - datacache.database - INFO - Creating index on CDS (seqname, start, end)\n",
      "2022-02-22 22:59:51,798 - datacache.database - INFO - Creating index on CDS (gene_name)\n",
      "2022-02-22 22:59:52,049 - datacache.database - INFO - Creating index on CDS (gene_id)\n",
      "2022-02-22 22:59:52,310 - datacache.database - INFO - Creating index on CDS (transcript_id)\n",
      "2022-02-22 22:59:52,589 - datacache.database - INFO - Creating index on CDS (transcript_name)\n",
      "2022-02-22 22:59:52,855 - datacache.database - INFO - Creating index on CDS (exon_id)\n",
      "2022-02-22 22:59:53,054 - datacache.database - INFO - Creating index on CDS (protein_id)\n",
      "2022-02-22 22:59:53,333 - datacache.database - INFO - Creating index on CDS (ccds_id)\n",
      "2022-02-22 22:59:53,573 - datacache.database - INFO - Running sqlite query: \"CREATE TABLE _datacache_metadata (version INT)\"\n",
      "2022-02-22 22:59:53,573 - datacache.database - INFO - Running sqlite query: \"INSERT INTO _datacache_metadata VALUES (3)\"\n",
      "2022-02-22 22:59:54,137 - pyensembl.sequence_data - INFO - Parsing sequences from FASTA file at /home/laeb/.cache/pyensembl/GRCh38/ensembl87/Homo_sapiens.GRCh38.cdna.all.fa.gz\n",
      "2022-02-22 22:59:58,188 - pyensembl.sequence_data - INFO - Saving sequence dictionary to /home/laeb/.cache/pyensembl/GRCh38/ensembl87/Homo_sapiens.GRCh38.cdna.all.fa.gz.pickle\n",
      "2022-02-22 22:59:58,596 - pyensembl.sequence_data - INFO - Parsing sequences from FASTA file at /home/laeb/.cache/pyensembl/GRCh38/ensembl87/Homo_sapiens.GRCh38.ncrna.fa.gz\n",
      "2022-02-22 22:59:59,106 - pyensembl.sequence_data - INFO - Saving sequence dictionary to /home/laeb/.cache/pyensembl/GRCh38/ensembl87/Homo_sapiens.GRCh38.ncrna.fa.gz.pickle\n",
      "2022-02-22 22:59:59,139 - pyensembl.sequence_data - INFO - Parsing sequences from FASTA file at /home/laeb/.cache/pyensembl/GRCh38/ensembl87/Homo_sapiens.GRCh38.pep.all.fa.gz\n",
      "2022-02-22 22:59:59,964 - pyensembl.sequence_data - INFO - Saving sequence dictionary to /home/laeb/.cache/pyensembl/GRCh38/ensembl87/Homo_sapiens.GRCh38.pep.all.fa.gz.pickle\n"
     ]
    }
   ],
   "source": [
    "!pyensembl install --release 87 --species homo_sapiens"
   ]
  },
  {
   "cell_type": "code",
   "execution_count": 71,
   "metadata": {},
   "outputs": [
    {
     "data": {
      "text/plain": [
       "198002"
      ]
     },
     "execution_count": 71,
     "metadata": {},
     "output_type": "execute_result"
    }
   ],
   "source": [
    "data = EnsemblRelease(87)\n",
    "transcripts_87=data.transcript_ids()\n",
    "len(transcripts_87)"
   ]
  },
  {
   "cell_type": "code",
   "execution_count": 72,
   "metadata": {},
   "outputs": [],
   "source": [
    "missing_tids=pd.read_csv(\"../outputs/missing_tids.csv\",usecols=[\"ens_tids\",\"ens_gids\",\"gene_symbol\"])"
   ]
  },
  {
   "cell_type": "code",
   "execution_count": 73,
   "metadata": {},
   "outputs": [],
   "source": [
    "missing_tids.set_index(\"ens_tids\",drop=False,inplace=True)"
   ]
  },
  {
   "cell_type": "code",
   "execution_count": 74,
   "metadata": {},
   "outputs": [
    {
     "data": {
      "text/html": [
       "<div>\n",
       "<style scoped>\n",
       "    .dataframe tbody tr th:only-of-type {\n",
       "        vertical-align: middle;\n",
       "    }\n",
       "\n",
       "    .dataframe tbody tr th {\n",
       "        vertical-align: top;\n",
       "    }\n",
       "\n",
       "    .dataframe thead th {\n",
       "        text-align: right;\n",
       "    }\n",
       "</style>\n",
       "<table border=\"1\" class=\"dataframe\">\n",
       "  <thead>\n",
       "    <tr style=\"text-align: right;\">\n",
       "      <th></th>\n",
       "      <th>ens_tids</th>\n",
       "      <th>ens_gids</th>\n",
       "      <th>gene_symbol</th>\n",
       "    </tr>\n",
       "    <tr>\n",
       "      <th>ens_tids</th>\n",
       "      <th></th>\n",
       "      <th></th>\n",
       "      <th></th>\n",
       "    </tr>\n",
       "  </thead>\n",
       "  <tbody>\n",
       "    <tr>\n",
       "      <th>ENST00000631639</th>\n",
       "      <td>ENST00000631639</td>\n",
       "      <td>ENSG00000282054</td>\n",
       "      <td>NaN</td>\n",
       "    </tr>\n",
       "    <tr>\n",
       "      <th>ENST00000621643</th>\n",
       "      <td>ENST00000621643</td>\n",
       "      <td>missing</td>\n",
       "      <td>missing</td>\n",
       "    </tr>\n",
       "    <tr>\n",
       "      <th>ENST00000631427</th>\n",
       "      <td>ENST00000631427</td>\n",
       "      <td>ENSG00000282543</td>\n",
       "      <td>NaN</td>\n",
       "    </tr>\n",
       "    <tr>\n",
       "      <th>ENST00000632148</th>\n",
       "      <td>ENST00000632148</td>\n",
       "      <td>ENSG00000282353</td>\n",
       "      <td>NaN</td>\n",
       "    </tr>\n",
       "    <tr>\n",
       "      <th>ENST00000634093</th>\n",
       "      <td>ENST00000634093</td>\n",
       "      <td>ENSG00000282610</td>\n",
       "      <td>NaN</td>\n",
       "    </tr>\n",
       "  </tbody>\n",
       "</table>\n",
       "</div>"
      ],
      "text/plain": [
       "                        ens_tids         ens_gids gene_symbol\n",
       "ens_tids                                                     \n",
       "ENST00000631639  ENST00000631639  ENSG00000282054         NaN\n",
       "ENST00000621643  ENST00000621643          missing     missing\n",
       "ENST00000631427  ENST00000631427  ENSG00000282543         NaN\n",
       "ENST00000632148  ENST00000632148  ENSG00000282353         NaN\n",
       "ENST00000634093  ENST00000634093  ENSG00000282610         NaN"
      ]
     },
     "execution_count": 74,
     "metadata": {},
     "output_type": "execute_result"
    }
   ],
   "source": [
    "missing_tids.head()"
   ]
  },
  {
   "cell_type": "code",
   "execution_count": 75,
   "metadata": {},
   "outputs": [],
   "source": [
    "missing=[]\n",
    "included=[]\n",
    "for transcript in missing_tids.index.values:\n",
    "    if transcript not in transcripts_87:\n",
    "        missing.append(transcript)\n",
    "    else:\n",
    "        included.append(transcript)"
   ]
  },
  {
   "cell_type": "code",
   "execution_count": 76,
   "metadata": {},
   "outputs": [
    {
     "data": {
      "text/plain": [
       "1033"
      ]
     },
     "execution_count": 76,
     "metadata": {},
     "output_type": "execute_result"
    }
   ],
   "source": [
    "len(missing)"
   ]
  },
  {
   "cell_type": "code",
   "execution_count": 77,
   "metadata": {},
   "outputs": [],
   "source": [
    "missing_genes={}\n",
    "for transcript in included:\n",
    "    gene_symbol=data.gene_name_of_transcript_id(transcript)\n",
    "    gid=data.gene_ids_of_gene_name(gene_symbol)[0]\n",
    "    missing_genes[transcript]=[gid,gene_symbol]"
   ]
  },
  {
   "cell_type": "code",
   "execution_count": 78,
   "metadata": {},
   "outputs": [],
   "source": [
    "mapping_missing=pd.DataFrame.from_dict(missing_genes,orient=\"index\")\n",
    "mapping_missing.reset_index(inplace=True)\n",
    "mapping_missing.columns=[\"ens_tids\",\"ens_gids\",\"gene_symbol\"]\n",
    "mapping_missing.set_index(\"ens_tids\",drop=False,inplace=True)"
   ]
  },
  {
   "cell_type": "code",
   "execution_count": 79,
   "metadata": {},
   "outputs": [
    {
     "data": {
      "text/html": [
       "<div>\n",
       "<style scoped>\n",
       "    .dataframe tbody tr th:only-of-type {\n",
       "        vertical-align: middle;\n",
       "    }\n",
       "\n",
       "    .dataframe tbody tr th {\n",
       "        vertical-align: top;\n",
       "    }\n",
       "\n",
       "    .dataframe thead th {\n",
       "        text-align: right;\n",
       "    }\n",
       "</style>\n",
       "<table border=\"1\" class=\"dataframe\">\n",
       "  <thead>\n",
       "    <tr style=\"text-align: right;\">\n",
       "      <th></th>\n",
       "      <th>ens_tids</th>\n",
       "      <th>ens_gids</th>\n",
       "      <th>gene_symbol</th>\n",
       "    </tr>\n",
       "    <tr>\n",
       "      <th>ens_tids</th>\n",
       "      <th></th>\n",
       "      <th></th>\n",
       "      <th></th>\n",
       "    </tr>\n",
       "  </thead>\n",
       "  <tbody>\n",
       "    <tr>\n",
       "      <th>ENST00000621643</th>\n",
       "      <td>ENST00000621643</td>\n",
       "      <td>ENSG00000211804</td>\n",
       "      <td>TRDV1</td>\n",
       "    </tr>\n",
       "    <tr>\n",
       "      <th>ENST00000623845</th>\n",
       "      <td>ENST00000623845</td>\n",
       "      <td>ENSG00000280314</td>\n",
       "      <td>OR8K3</td>\n",
       "    </tr>\n",
       "    <tr>\n",
       "      <th>ENST00000624470</th>\n",
       "      <td>ENST00000624470</td>\n",
       "      <td>ENSG00000280204</td>\n",
       "      <td>OR1S1</td>\n",
       "    </tr>\n",
       "    <tr>\n",
       "      <th>ENST00000625105</th>\n",
       "      <td>ENST00000625105</td>\n",
       "      <td>ENSG00000279301</td>\n",
       "      <td>OR2T11</td>\n",
       "    </tr>\n",
       "    <tr>\n",
       "      <th>ENST00000380383</th>\n",
       "      <td>ENST00000380383</td>\n",
       "      <td>ENSG00000280021</td>\n",
       "      <td>OR51F1</td>\n",
       "    </tr>\n",
       "  </tbody>\n",
       "</table>\n",
       "</div>"
      ],
      "text/plain": [
       "                        ens_tids         ens_gids gene_symbol\n",
       "ens_tids                                                     \n",
       "ENST00000621643  ENST00000621643  ENSG00000211804       TRDV1\n",
       "ENST00000623845  ENST00000623845  ENSG00000280314       OR8K3\n",
       "ENST00000624470  ENST00000624470  ENSG00000280204       OR1S1\n",
       "ENST00000625105  ENST00000625105  ENSG00000279301      OR2T11\n",
       "ENST00000380383  ENST00000380383  ENSG00000280021      OR51F1"
      ]
     },
     "execution_count": 79,
     "metadata": {},
     "output_type": "execute_result"
    }
   ],
   "source": [
    "mapping_missing.head()"
   ]
  },
  {
   "cell_type": "code",
   "execution_count": 80,
   "metadata": {},
   "outputs": [
    {
     "data": {
      "text/plain": [
       "9180"
      ]
     },
     "execution_count": 80,
     "metadata": {},
     "output_type": "execute_result"
    }
   ],
   "source": [
    "len(mapping_missing.index.values)"
   ]
  },
  {
   "cell_type": "code",
   "execution_count": 81,
   "metadata": {},
   "outputs": [
    {
     "data": {
      "text/plain": [
       "9180"
      ]
     },
     "execution_count": 81,
     "metadata": {},
     "output_type": "execute_result"
    }
   ],
   "source": [
    "len(set(mapping_missing.index.values))"
   ]
  },
  {
   "cell_type": "code",
   "execution_count": 82,
   "metadata": {},
   "outputs": [],
   "source": [
    "id_mapping.set_index(\"ens_tids\",drop='False',inplace=True)"
   ]
  },
  {
   "cell_type": "code",
   "execution_count": 83,
   "metadata": {},
   "outputs": [
    {
     "data": {
      "text/html": [
       "<div>\n",
       "<style scoped>\n",
       "    .dataframe tbody tr th:only-of-type {\n",
       "        vertical-align: middle;\n",
       "    }\n",
       "\n",
       "    .dataframe tbody tr th {\n",
       "        vertical-align: top;\n",
       "    }\n",
       "\n",
       "    .dataframe thead th {\n",
       "        text-align: right;\n",
       "    }\n",
       "</style>\n",
       "<table border=\"1\" class=\"dataframe\">\n",
       "  <thead>\n",
       "    <tr style=\"text-align: right;\">\n",
       "      <th></th>\n",
       "      <th>ens_gids</th>\n",
       "      <th>gene_symbol</th>\n",
       "    </tr>\n",
       "    <tr>\n",
       "      <th>ens_tids</th>\n",
       "      <th></th>\n",
       "      <th></th>\n",
       "    </tr>\n",
       "  </thead>\n",
       "  <tbody>\n",
       "    <tr>\n",
       "      <th>ENST00000448914</th>\n",
       "      <td>ENSG00000228985</td>\n",
       "      <td>TRDD3</td>\n",
       "    </tr>\n",
       "    <tr>\n",
       "      <th>ENST00000631435</th>\n",
       "      <td>ENSG00000282253</td>\n",
       "      <td>TRBD1</td>\n",
       "    </tr>\n",
       "    <tr>\n",
       "      <th>ENST00000632684</th>\n",
       "      <td>ENSG00000282431</td>\n",
       "      <td>TRBD1</td>\n",
       "    </tr>\n",
       "    <tr>\n",
       "      <th>ENST00000434970</th>\n",
       "      <td>ENSG00000237235</td>\n",
       "      <td>TRDD2</td>\n",
       "    </tr>\n",
       "    <tr>\n",
       "      <th>ENST00000415118</th>\n",
       "      <td>ENSG00000223997</td>\n",
       "      <td>TRDD1</td>\n",
       "    </tr>\n",
       "  </tbody>\n",
       "</table>\n",
       "</div>"
      ],
      "text/plain": [
       "                        ens_gids gene_symbol\n",
       "ens_tids                                    \n",
       "ENST00000448914  ENSG00000228985       TRDD3\n",
       "ENST00000631435  ENSG00000282253       TRBD1\n",
       "ENST00000632684  ENSG00000282431       TRBD1\n",
       "ENST00000434970  ENSG00000237235       TRDD2\n",
       "ENST00000415118  ENSG00000223997       TRDD1"
      ]
     },
     "execution_count": 83,
     "metadata": {},
     "output_type": "execute_result"
    }
   ],
   "source": [
    "id_mapping.head()"
   ]
  },
  {
   "cell_type": "code",
   "execution_count": 84,
   "metadata": {},
   "outputs": [
    {
     "data": {
      "text/html": [
       "<div>\n",
       "<style scoped>\n",
       "    .dataframe tbody tr th:only-of-type {\n",
       "        vertical-align: middle;\n",
       "    }\n",
       "\n",
       "    .dataframe tbody tr th {\n",
       "        vertical-align: top;\n",
       "    }\n",
       "\n",
       "    .dataframe thead th {\n",
       "        text-align: right;\n",
       "    }\n",
       "</style>\n",
       "<table border=\"1\" class=\"dataframe\">\n",
       "  <thead>\n",
       "    <tr style=\"text-align: right;\">\n",
       "      <th></th>\n",
       "      <th>ens_gids</th>\n",
       "      <th>gene_symbol</th>\n",
       "    </tr>\n",
       "    <tr>\n",
       "      <th>ens_tids</th>\n",
       "      <th></th>\n",
       "      <th></th>\n",
       "    </tr>\n",
       "  </thead>\n",
       "  <tbody>\n",
       "    <tr>\n",
       "      <th>ENST00000631639</th>\n",
       "      <td>ENSG00000282054</td>\n",
       "      <td>nan</td>\n",
       "    </tr>\n",
       "    <tr>\n",
       "      <th>ENST00000631427</th>\n",
       "      <td>ENSG00000282543</td>\n",
       "      <td>nan</td>\n",
       "    </tr>\n",
       "    <tr>\n",
       "      <th>ENST00000632148</th>\n",
       "      <td>ENSG00000282353</td>\n",
       "      <td>nan</td>\n",
       "    </tr>\n",
       "    <tr>\n",
       "      <th>ENST00000634093</th>\n",
       "      <td>ENSG00000282610</td>\n",
       "      <td>nan</td>\n",
       "    </tr>\n",
       "    <tr>\n",
       "      <th>ENST00000632560</th>\n",
       "      <td>ENSG00000282040</td>\n",
       "      <td>nan</td>\n",
       "    </tr>\n",
       "    <tr>\n",
       "      <th>...</th>\n",
       "      <td>...</td>\n",
       "      <td>...</td>\n",
       "    </tr>\n",
       "    <tr>\n",
       "      <th>ENST00000627090</th>\n",
       "      <td>ENSG00000280794</td>\n",
       "      <td>nan</td>\n",
       "    </tr>\n",
       "    <tr>\n",
       "      <th>ENST00000628916</th>\n",
       "      <td>ENSG00000281510</td>\n",
       "      <td>nan</td>\n",
       "    </tr>\n",
       "    <tr>\n",
       "      <th>ENST00000420073</th>\n",
       "      <td>ENSG00000223798</td>\n",
       "      <td>nan</td>\n",
       "    </tr>\n",
       "    <tr>\n",
       "      <th>ENST00000626581</th>\n",
       "      <td>ENSG00000281073</td>\n",
       "      <td>nan</td>\n",
       "    </tr>\n",
       "    <tr>\n",
       "      <th>ENST00000574204</th>\n",
       "      <td>ENSG00000262734</td>\n",
       "      <td>nan</td>\n",
       "    </tr>\n",
       "  </tbody>\n",
       "</table>\n",
       "<p>1033 rows × 2 columns</p>\n",
       "</div>"
      ],
      "text/plain": [
       "                        ens_gids gene_symbol\n",
       "ens_tids                                    \n",
       "ENST00000631639  ENSG00000282054         nan\n",
       "ENST00000631427  ENSG00000282543         nan\n",
       "ENST00000632148  ENSG00000282353         nan\n",
       "ENST00000634093  ENSG00000282610         nan\n",
       "ENST00000632560  ENSG00000282040         nan\n",
       "...                          ...         ...\n",
       "ENST00000627090  ENSG00000280794         nan\n",
       "ENST00000628916  ENSG00000281510         nan\n",
       "ENST00000420073  ENSG00000223798         nan\n",
       "ENST00000626581  ENSG00000281073         nan\n",
       "ENST00000574204  ENSG00000262734         nan\n",
       "\n",
       "[1033 rows x 2 columns]"
      ]
     },
     "execution_count": 84,
     "metadata": {},
     "output_type": "execute_result"
    }
   ],
   "source": [
    "id_mapping.loc[missing]"
   ]
  },
  {
   "cell_type": "code",
   "execution_count": 85,
   "metadata": {},
   "outputs": [
    {
     "data": {
      "text/html": [
       "<div>\n",
       "<style scoped>\n",
       "    .dataframe tbody tr th:only-of-type {\n",
       "        vertical-align: middle;\n",
       "    }\n",
       "\n",
       "    .dataframe tbody tr th {\n",
       "        vertical-align: top;\n",
       "    }\n",
       "\n",
       "    .dataframe thead th {\n",
       "        text-align: right;\n",
       "    }\n",
       "</style>\n",
       "<table border=\"1\" class=\"dataframe\">\n",
       "  <thead>\n",
       "    <tr style=\"text-align: right;\">\n",
       "      <th></th>\n",
       "      <th>ens_gids</th>\n",
       "      <th>gene_symbol</th>\n",
       "    </tr>\n",
       "    <tr>\n",
       "      <th>ens_tids</th>\n",
       "      <th></th>\n",
       "      <th></th>\n",
       "    </tr>\n",
       "  </thead>\n",
       "  <tbody>\n",
       "    <tr>\n",
       "      <th>ENST00000631639</th>\n",
       "      <td>ENSG00000282054</td>\n",
       "      <td>nan</td>\n",
       "    </tr>\n",
       "    <tr>\n",
       "      <th>ENST00000631427</th>\n",
       "      <td>ENSG00000282543</td>\n",
       "      <td>nan</td>\n",
       "    </tr>\n",
       "    <tr>\n",
       "      <th>ENST00000632148</th>\n",
       "      <td>ENSG00000282353</td>\n",
       "      <td>nan</td>\n",
       "    </tr>\n",
       "    <tr>\n",
       "      <th>ENST00000634093</th>\n",
       "      <td>ENSG00000282610</td>\n",
       "      <td>nan</td>\n",
       "    </tr>\n",
       "    <tr>\n",
       "      <th>ENST00000632560</th>\n",
       "      <td>ENSG00000282040</td>\n",
       "      <td>nan</td>\n",
       "    </tr>\n",
       "    <tr>\n",
       "      <th>...</th>\n",
       "      <td>...</td>\n",
       "      <td>...</td>\n",
       "    </tr>\n",
       "    <tr>\n",
       "      <th>ENST00000511202</th>\n",
       "      <td>ENSG00000198277</td>\n",
       "      <td>nan</td>\n",
       "    </tr>\n",
       "    <tr>\n",
       "      <th>ENST00000595307</th>\n",
       "      <td>ENSG00000269651</td>\n",
       "      <td>nan</td>\n",
       "    </tr>\n",
       "    <tr>\n",
       "      <th>ENST00000567652</th>\n",
       "      <td>ENSG00000227717</td>\n",
       "      <td>nan</td>\n",
       "    </tr>\n",
       "    <tr>\n",
       "      <th>ENST00000452651</th>\n",
       "      <td>ENSG00000243831</td>\n",
       "      <td>nan</td>\n",
       "    </tr>\n",
       "    <tr>\n",
       "      <th>ENST00000574204</th>\n",
       "      <td>ENSG00000262734</td>\n",
       "      <td>nan</td>\n",
       "    </tr>\n",
       "  </tbody>\n",
       "</table>\n",
       "<p>7598 rows × 2 columns</p>\n",
       "</div>"
      ],
      "text/plain": [
       "                        ens_gids gene_symbol\n",
       "ens_tids                                    \n",
       "ENST00000631639  ENSG00000282054         nan\n",
       "ENST00000631427  ENSG00000282543         nan\n",
       "ENST00000632148  ENSG00000282353         nan\n",
       "ENST00000634093  ENSG00000282610         nan\n",
       "ENST00000632560  ENSG00000282040         nan\n",
       "...                          ...         ...\n",
       "ENST00000511202  ENSG00000198277         nan\n",
       "ENST00000595307  ENSG00000269651         nan\n",
       "ENST00000567652  ENSG00000227717         nan\n",
       "ENST00000452651  ENSG00000243831         nan\n",
       "ENST00000574204  ENSG00000262734         nan\n",
       "\n",
       "[7598 rows x 2 columns]"
      ]
     },
     "execution_count": 85,
     "metadata": {},
     "output_type": "execute_result"
    }
   ],
   "source": [
    "id_mapping[id_mapping[\"gene_symbol\"]==\"nan\"]"
   ]
  },
  {
   "cell_type": "code",
   "execution_count": 86,
   "metadata": {},
   "outputs": [],
   "source": [
    "id_mapping.loc[missing].to_csv(\"../outputs/missing_transcript_IDS_2.csv\")"
   ]
  },
  {
   "cell_type": "markdown",
   "metadata": {},
   "source": [
    "generate manually curated mapping of missing transcript ids"
   ]
  },
  {
   "cell_type": "code",
   "execution_count": 67,
   "metadata": {},
   "outputs": [],
   "source": [
    "missing_curated=pd.read_csv(\"missing_ensembl_curated.csv\",usecols=[\"TID\",\"GID\",\"gene_symbol\"])\n",
    "missing_curated.columns=[\"ens_tids\",\"ens_gids\",\"gene_symbol\"]\n",
    "missing_curated.set_index(\"ens_tids\",drop=False,inplace=True)"
   ]
  },
  {
   "cell_type": "code",
   "execution_count": 68,
   "metadata": {},
   "outputs": [
    {
     "data": {
      "text/html": [
       "<div>\n",
       "<style scoped>\n",
       "    .dataframe tbody tr th:only-of-type {\n",
       "        vertical-align: middle;\n",
       "    }\n",
       "\n",
       "    .dataframe tbody tr th {\n",
       "        vertical-align: top;\n",
       "    }\n",
       "\n",
       "    .dataframe thead th {\n",
       "        text-align: right;\n",
       "    }\n",
       "</style>\n",
       "<table border=\"1\" class=\"dataframe\">\n",
       "  <thead>\n",
       "    <tr style=\"text-align: right;\">\n",
       "      <th></th>\n",
       "      <th>ens_tids</th>\n",
       "      <th>ens_gids</th>\n",
       "      <th>gene_symbol</th>\n",
       "    </tr>\n",
       "    <tr>\n",
       "      <th>ens_tids</th>\n",
       "      <th></th>\n",
       "      <th></th>\n",
       "      <th></th>\n",
       "    </tr>\n",
       "  </thead>\n",
       "  <tbody>\n",
       "    <tr>\n",
       "      <th>ENST00000614992</th>\n",
       "      <td>ENST00000614992</td>\n",
       "      <td>ENSG00000276849</td>\n",
       "      <td>TRBC2</td>\n",
       "    </tr>\n",
       "    <tr>\n",
       "      <th>ENST00000620987</th>\n",
       "      <td>ENST00000620987</td>\n",
       "      <td>ENSG00000276849</td>\n",
       "      <td>TRBC2</td>\n",
       "    </tr>\n",
       "    <tr>\n",
       "      <th>ENST00000613720</th>\n",
       "      <td>ENST00000613720</td>\n",
       "      <td>ENSG00000276849</td>\n",
       "      <td>TRBC2</td>\n",
       "    </tr>\n",
       "    <tr>\n",
       "      <th>ENST00000622287</th>\n",
       "      <td>ENST00000622287</td>\n",
       "      <td>ENSG00000282657</td>\n",
       "      <td>IGHM</td>\n",
       "    </tr>\n",
       "    <tr>\n",
       "      <th>ENST00000622547</th>\n",
       "      <td>ENST00000622547</td>\n",
       "      <td>ENSG00000273539</td>\n",
       "      <td>IGHV3-73</td>\n",
       "    </tr>\n",
       "  </tbody>\n",
       "</table>\n",
       "</div>"
      ],
      "text/plain": [
       "                        ens_tids         ens_gids gene_symbol\n",
       "ens_tids                                                     \n",
       "ENST00000614992  ENST00000614992  ENSG00000276849       TRBC2\n",
       "ENST00000620987  ENST00000620987  ENSG00000276849       TRBC2\n",
       "ENST00000613720  ENST00000613720  ENSG00000276849       TRBC2\n",
       "ENST00000622287  ENST00000622287  ENSG00000282657        IGHM\n",
       "ENST00000622547  ENST00000622547  ENSG00000273539    IGHV3-73"
      ]
     },
     "execution_count": 68,
     "metadata": {},
     "output_type": "execute_result"
    }
   ],
   "source": [
    "missing_curated.head()"
   ]
  },
  {
   "cell_type": "code",
   "execution_count": 69,
   "metadata": {},
   "outputs": [
    {
     "data": {
      "text/plain": [
       "(351, 3)"
      ]
     },
     "execution_count": 69,
     "metadata": {},
     "output_type": "execute_result"
    }
   ],
   "source": [
    "missing_curated.shape"
   ]
  },
  {
   "cell_type": "code",
   "execution_count": 70,
   "metadata": {},
   "outputs": [
    {
     "data": {
      "text/plain": [
       "351"
      ]
     },
     "execution_count": 70,
     "metadata": {},
     "output_type": "execute_result"
    }
   ],
   "source": [
    "len(set(missing_curated.index.values))"
   ]
  },
  {
   "cell_type": "code",
   "execution_count": 71,
   "metadata": {},
   "outputs": [],
   "source": [
    "missing_total=[]\n",
    "for transcript in missing:\n",
    "    if transcript not in missing_curated.ens_tids.values:\n",
    "        missing_total.append(transcript)"
   ]
  },
  {
   "cell_type": "code",
   "execution_count": 72,
   "metadata": {},
   "outputs": [
    {
     "data": {
      "text/plain": [
       "682"
      ]
     },
     "execution_count": 72,
     "metadata": {},
     "output_type": "execute_result"
    }
   ],
   "source": [
    "len(missing_total)"
   ]
  },
  {
   "cell_type": "code",
   "execution_count": 73,
   "metadata": {},
   "outputs": [
    {
     "data": {
      "text/plain": [
       "['ENST00000631639',\n",
       " 'ENST00000631427',\n",
       " 'ENST00000632148',\n",
       " 'ENST00000634093',\n",
       " 'ENST00000632560',\n",
       " 'ENST00000633833',\n",
       " 'ENST00000633570',\n",
       " 'ENST00000626108',\n",
       " 'ENST00000631869',\n",
       " 'ENST00000633752']"
      ]
     },
     "execution_count": 73,
     "metadata": {},
     "output_type": "execute_result"
    }
   ],
   "source": [
    "missing_total[0:10]"
   ]
  },
  {
   "cell_type": "code",
   "execution_count": 74,
   "metadata": {},
   "outputs": [
    {
     "data": {
      "text/html": [
       "<div>\n",
       "<style scoped>\n",
       "    .dataframe tbody tr th:only-of-type {\n",
       "        vertical-align: middle;\n",
       "    }\n",
       "\n",
       "    .dataframe tbody tr th {\n",
       "        vertical-align: top;\n",
       "    }\n",
       "\n",
       "    .dataframe thead th {\n",
       "        text-align: right;\n",
       "    }\n",
       "</style>\n",
       "<table border=\"1\" class=\"dataframe\">\n",
       "  <thead>\n",
       "    <tr style=\"text-align: right;\">\n",
       "      <th></th>\n",
       "      <th>ens_gids</th>\n",
       "      <th>gene_symbol</th>\n",
       "    </tr>\n",
       "    <tr>\n",
       "      <th>ens_tids</th>\n",
       "      <th></th>\n",
       "      <th></th>\n",
       "    </tr>\n",
       "  </thead>\n",
       "  <tbody>\n",
       "    <tr>\n",
       "      <th>ENST00000621643</th>\n",
       "      <td>missing</td>\n",
       "      <td>missing</td>\n",
       "    </tr>\n",
       "    <tr>\n",
       "      <th>ENST00000623845</th>\n",
       "      <td>missing</td>\n",
       "      <td>missing</td>\n",
       "    </tr>\n",
       "    <tr>\n",
       "      <th>ENST00000624470</th>\n",
       "      <td>missing</td>\n",
       "      <td>missing</td>\n",
       "    </tr>\n",
       "    <tr>\n",
       "      <th>ENST00000625105</th>\n",
       "      <td>missing</td>\n",
       "      <td>missing</td>\n",
       "    </tr>\n",
       "    <tr>\n",
       "      <th>ENST00000380383</th>\n",
       "      <td>missing</td>\n",
       "      <td>missing</td>\n",
       "    </tr>\n",
       "    <tr>\n",
       "      <th>...</th>\n",
       "      <td>...</td>\n",
       "      <td>...</td>\n",
       "    </tr>\n",
       "    <tr>\n",
       "      <th>ENST00000622239</th>\n",
       "      <td>missing</td>\n",
       "      <td>missing</td>\n",
       "    </tr>\n",
       "    <tr>\n",
       "      <th>ENST00000619824</th>\n",
       "      <td>missing</td>\n",
       "      <td>missing</td>\n",
       "    </tr>\n",
       "    <tr>\n",
       "      <th>ENST00000619807</th>\n",
       "      <td>missing</td>\n",
       "      <td>missing</td>\n",
       "    </tr>\n",
       "    <tr>\n",
       "      <th>ENST00000437993</th>\n",
       "      <td>missing</td>\n",
       "      <td>missing</td>\n",
       "    </tr>\n",
       "    <tr>\n",
       "      <th>ENST00000525705</th>\n",
       "      <td>missing</td>\n",
       "      <td>missing</td>\n",
       "    </tr>\n",
       "  </tbody>\n",
       "</table>\n",
       "<p>2615 rows × 2 columns</p>\n",
       "</div>"
      ],
      "text/plain": [
       "                ens_gids gene_symbol\n",
       "ens_tids                            \n",
       "ENST00000621643  missing     missing\n",
       "ENST00000623845  missing     missing\n",
       "ENST00000624470  missing     missing\n",
       "ENST00000625105  missing     missing\n",
       "ENST00000380383  missing     missing\n",
       "...                  ...         ...\n",
       "ENST00000622239  missing     missing\n",
       "ENST00000619824  missing     missing\n",
       "ENST00000619807  missing     missing\n",
       "ENST00000437993  missing     missing\n",
       "ENST00000525705  missing     missing\n",
       "\n",
       "[2615 rows x 2 columns]"
      ]
     },
     "execution_count": 74,
     "metadata": {},
     "output_type": "execute_result"
    }
   ],
   "source": [
    "id_mapping[id_mapping[\"gene_symbol\"]==\"missing\"]"
   ]
  },
  {
   "cell_type": "code",
   "execution_count": 75,
   "metadata": {},
   "outputs": [
    {
     "data": {
      "text/plain": [
       "2615"
      ]
     },
     "execution_count": 75,
     "metadata": {},
     "output_type": "execute_result"
    }
   ],
   "source": [
    "len(id_mapping[id_mapping[\"gene_symbol\"]==\"missing\"])"
   ]
  },
  {
   "cell_type": "code",
   "execution_count": 76,
   "metadata": {},
   "outputs": [
    {
     "data": {
      "text/html": [
       "<div>\n",
       "<style scoped>\n",
       "    .dataframe tbody tr th:only-of-type {\n",
       "        vertical-align: middle;\n",
       "    }\n",
       "\n",
       "    .dataframe tbody tr th {\n",
       "        vertical-align: top;\n",
       "    }\n",
       "\n",
       "    .dataframe thead th {\n",
       "        text-align: right;\n",
       "    }\n",
       "</style>\n",
       "<table border=\"1\" class=\"dataframe\">\n",
       "  <thead>\n",
       "    <tr style=\"text-align: right;\">\n",
       "      <th></th>\n",
       "      <th>ens_gids</th>\n",
       "      <th>gene_symbol</th>\n",
       "    </tr>\n",
       "    <tr>\n",
       "      <th>ens_tids</th>\n",
       "      <th></th>\n",
       "      <th></th>\n",
       "    </tr>\n",
       "  </thead>\n",
       "  <tbody>\n",
       "    <tr>\n",
       "      <th>ENST00000631639</th>\n",
       "      <td>ENSG00000282054</td>\n",
       "      <td>nan</td>\n",
       "    </tr>\n",
       "    <tr>\n",
       "      <th>ENST00000631427</th>\n",
       "      <td>ENSG00000282543</td>\n",
       "      <td>nan</td>\n",
       "    </tr>\n",
       "    <tr>\n",
       "      <th>ENST00000632148</th>\n",
       "      <td>ENSG00000282353</td>\n",
       "      <td>nan</td>\n",
       "    </tr>\n",
       "    <tr>\n",
       "      <th>ENST00000634093</th>\n",
       "      <td>ENSG00000282610</td>\n",
       "      <td>nan</td>\n",
       "    </tr>\n",
       "    <tr>\n",
       "      <th>ENST00000632560</th>\n",
       "      <td>ENSG00000282040</td>\n",
       "      <td>nan</td>\n",
       "    </tr>\n",
       "    <tr>\n",
       "      <th>...</th>\n",
       "      <td>...</td>\n",
       "      <td>...</td>\n",
       "    </tr>\n",
       "    <tr>\n",
       "      <th>ENST00000511202</th>\n",
       "      <td>ENSG00000198277</td>\n",
       "      <td>nan</td>\n",
       "    </tr>\n",
       "    <tr>\n",
       "      <th>ENST00000595307</th>\n",
       "      <td>ENSG00000269651</td>\n",
       "      <td>nan</td>\n",
       "    </tr>\n",
       "    <tr>\n",
       "      <th>ENST00000567652</th>\n",
       "      <td>ENSG00000227717</td>\n",
       "      <td>nan</td>\n",
       "    </tr>\n",
       "    <tr>\n",
       "      <th>ENST00000452651</th>\n",
       "      <td>ENSG00000243831</td>\n",
       "      <td>nan</td>\n",
       "    </tr>\n",
       "    <tr>\n",
       "      <th>ENST00000574204</th>\n",
       "      <td>ENSG00000262734</td>\n",
       "      <td>nan</td>\n",
       "    </tr>\n",
       "  </tbody>\n",
       "</table>\n",
       "<p>7598 rows × 2 columns</p>\n",
       "</div>"
      ],
      "text/plain": [
       "                        ens_gids gene_symbol\n",
       "ens_tids                                    \n",
       "ENST00000631639  ENSG00000282054         nan\n",
       "ENST00000631427  ENSG00000282543         nan\n",
       "ENST00000632148  ENSG00000282353         nan\n",
       "ENST00000634093  ENSG00000282610         nan\n",
       "ENST00000632560  ENSG00000282040         nan\n",
       "...                          ...         ...\n",
       "ENST00000511202  ENSG00000198277         nan\n",
       "ENST00000595307  ENSG00000269651         nan\n",
       "ENST00000567652  ENSG00000227717         nan\n",
       "ENST00000452651  ENSG00000243831         nan\n",
       "ENST00000574204  ENSG00000262734         nan\n",
       "\n",
       "[7598 rows x 2 columns]"
      ]
     },
     "execution_count": 76,
     "metadata": {},
     "output_type": "execute_result"
    }
   ],
   "source": [
    "id_mapping[id_mapping[\"gene_symbol\"]==\"nan\"]"
   ]
  },
  {
   "cell_type": "code",
   "execution_count": 77,
   "metadata": {},
   "outputs": [
    {
     "data": {
      "text/plain": [
       "7598"
      ]
     },
     "execution_count": 77,
     "metadata": {},
     "output_type": "execute_result"
    }
   ],
   "source": [
    "len(id_mapping[id_mapping[\"gene_symbol\"]==\"nan\"])"
   ]
  },
  {
   "cell_type": "code",
   "execution_count": 78,
   "metadata": {},
   "outputs": [],
   "source": [
    "not_found=[]\n",
    "for transcript in missing_tids.index.values:\n",
    "    if transcript in mapping_missing.index.values:\n",
    "        id_mapping.loc[transcript][\"ens_gids\"]=mapping_missing.loc[transcript][\"ens_gids\"]\n",
    "        id_mapping.loc[transcript][\"gene_symbol\"]=mapping_missing.loc[transcript][\"gene_symbol\"]\n",
    "    elif transcript in missing_curated.index.values:\n",
    "        id_mapping.loc[transcript][\"ens_gids\"]=missing_curated.loc[transcript][\"ens_gids\"]\n",
    "        id_mapping.loc[transcript][\"gene_symbol\"]=missing_curated.loc[transcript][\"gene_symbol\"]\n",
    "    else:\n",
    "        not_found.append(transcript)"
   ]
  },
  {
   "cell_type": "code",
   "execution_count": 79,
   "metadata": {},
   "outputs": [
    {
     "data": {
      "text/plain": [
       "682"
      ]
     },
     "execution_count": 79,
     "metadata": {},
     "output_type": "execute_result"
    }
   ],
   "source": [
    "len(not_found)"
   ]
  },
  {
   "cell_type": "code",
   "execution_count": 80,
   "metadata": {},
   "outputs": [
    {
     "data": {
      "text/plain": [
       "ens_gids       ENSG00000211804\n",
       "gene_symbol              TRDV1\n",
       "Name: ENST00000621643, dtype: object"
      ]
     },
     "execution_count": 80,
     "metadata": {},
     "output_type": "execute_result"
    }
   ],
   "source": [
    "id_mapping.loc[\"ENST00000621643\"]"
   ]
  },
  {
   "cell_type": "code",
   "execution_count": 81,
   "metadata": {},
   "outputs": [
    {
     "data": {
      "text/plain": [
       "ens_gids       ENSG00000282054\n",
       "gene_symbol                nan\n",
       "Name: ENST00000631639, dtype: object"
      ]
     },
     "execution_count": 81,
     "metadata": {},
     "output_type": "execute_result"
    }
   ],
   "source": [
    "id_mapping.loc[\"ENST00000631639\"]"
   ]
  },
  {
   "cell_type": "code",
   "execution_count": 82,
   "metadata": {},
   "outputs": [],
   "source": [
    "for transcript in id_mapping[id_mapping[\"gene_symbol\"]==\"nan\"].index.values:\n",
    "    id_mapping.loc[transcript][\"gene_symbol\"]=id_mapping.loc[transcript][\"ens_gids\"]"
   ]
  },
  {
   "cell_type": "code",
   "execution_count": 83,
   "metadata": {},
   "outputs": [
    {
     "data": {
      "text/plain": [
       "ens_gids       ENSG00000282054\n",
       "gene_symbol    ENSG00000282054\n",
       "Name: ENST00000631639, dtype: object"
      ]
     },
     "execution_count": 83,
     "metadata": {},
     "output_type": "execute_result"
    }
   ],
   "source": [
    "id_mapping.loc[\"ENST00000631639\"]"
   ]
  },
  {
   "cell_type": "code",
   "execution_count": 84,
   "metadata": {},
   "outputs": [
    {
     "data": {
      "text/plain": [
       "(178136, 2)"
      ]
     },
     "execution_count": 84,
     "metadata": {},
     "output_type": "execute_result"
    }
   ],
   "source": [
    "id_mapping.shape"
   ]
  },
  {
   "cell_type": "code",
   "execution_count": 85,
   "metadata": {},
   "outputs": [
    {
     "data": {
      "text/plain": [
       "False"
      ]
     },
     "execution_count": 85,
     "metadata": {},
     "output_type": "execute_result"
    }
   ],
   "source": [
    "\"missing\" in id_mapping[\"gene_symbol\"].values"
   ]
  },
  {
   "cell_type": "code",
   "execution_count": 86,
   "metadata": {},
   "outputs": [
    {
     "data": {
      "text/plain": [
       "False"
      ]
     },
     "execution_count": 86,
     "metadata": {},
     "output_type": "execute_result"
    }
   ],
   "source": [
    "\"nan\" in id_mapping[\"gene_symbol\"].values"
   ]
  },
  {
   "cell_type": "code",
   "execution_count": 87,
   "metadata": {},
   "outputs": [
    {
     "data": {
      "text/html": [
       "<div>\n",
       "<style scoped>\n",
       "    .dataframe tbody tr th:only-of-type {\n",
       "        vertical-align: middle;\n",
       "    }\n",
       "\n",
       "    .dataframe tbody tr th {\n",
       "        vertical-align: top;\n",
       "    }\n",
       "\n",
       "    .dataframe thead th {\n",
       "        text-align: right;\n",
       "    }\n",
       "</style>\n",
       "<table border=\"1\" class=\"dataframe\">\n",
       "  <thead>\n",
       "    <tr style=\"text-align: right;\">\n",
       "      <th></th>\n",
       "      <th>ens_gids</th>\n",
       "      <th>gene_symbol</th>\n",
       "    </tr>\n",
       "    <tr>\n",
       "      <th>ens_tids</th>\n",
       "      <th></th>\n",
       "      <th></th>\n",
       "    </tr>\n",
       "  </thead>\n",
       "  <tbody>\n",
       "  </tbody>\n",
       "</table>\n",
       "</div>"
      ],
      "text/plain": [
       "Empty DataFrame\n",
       "Columns: [ens_gids, gene_symbol]\n",
       "Index: []"
      ]
     },
     "execution_count": 87,
     "metadata": {},
     "output_type": "execute_result"
    }
   ],
   "source": [
    "id_mapping.loc[id_mapping[\"gene_symbol\"]==\"nan\"]"
   ]
  },
  {
   "cell_type": "code",
   "execution_count": 88,
   "metadata": {},
   "outputs": [],
   "source": [
    "id_mapping.to_csv(\"id_mapping_V11.csv\")"
   ]
  },
  {
   "cell_type": "code",
   "execution_count": 89,
   "metadata": {},
   "outputs": [
    {
     "data": {
      "text/html": [
       "<div>\n",
       "<style scoped>\n",
       "    .dataframe tbody tr th:only-of-type {\n",
       "        vertical-align: middle;\n",
       "    }\n",
       "\n",
       "    .dataframe tbody tr th {\n",
       "        vertical-align: top;\n",
       "    }\n",
       "\n",
       "    .dataframe thead th {\n",
       "        text-align: right;\n",
       "    }\n",
       "</style>\n",
       "<table border=\"1\" class=\"dataframe\">\n",
       "  <thead>\n",
       "    <tr style=\"text-align: right;\">\n",
       "      <th></th>\n",
       "      <th>ens_gids</th>\n",
       "      <th>gene_symbol</th>\n",
       "    </tr>\n",
       "    <tr>\n",
       "      <th>ens_tids</th>\n",
       "      <th></th>\n",
       "      <th></th>\n",
       "    </tr>\n",
       "  </thead>\n",
       "  <tbody>\n",
       "    <tr>\n",
       "      <th>ENST00000448914</th>\n",
       "      <td>ENSG00000228985</td>\n",
       "      <td>TRDD3</td>\n",
       "    </tr>\n",
       "    <tr>\n",
       "      <th>ENST00000631435</th>\n",
       "      <td>ENSG00000282253</td>\n",
       "      <td>TRBD1</td>\n",
       "    </tr>\n",
       "    <tr>\n",
       "      <th>ENST00000632684</th>\n",
       "      <td>ENSG00000282431</td>\n",
       "      <td>TRBD1</td>\n",
       "    </tr>\n",
       "    <tr>\n",
       "      <th>ENST00000434970</th>\n",
       "      <td>ENSG00000237235</td>\n",
       "      <td>TRDD2</td>\n",
       "    </tr>\n",
       "    <tr>\n",
       "      <th>ENST00000415118</th>\n",
       "      <td>ENSG00000223997</td>\n",
       "      <td>TRDD1</td>\n",
       "    </tr>\n",
       "  </tbody>\n",
       "</table>\n",
       "</div>"
      ],
      "text/plain": [
       "                        ens_gids gene_symbol\n",
       "ens_tids                                    \n",
       "ENST00000448914  ENSG00000228985       TRDD3\n",
       "ENST00000631435  ENSG00000282253       TRBD1\n",
       "ENST00000632684  ENSG00000282431       TRBD1\n",
       "ENST00000434970  ENSG00000237235       TRDD2\n",
       "ENST00000415118  ENSG00000223997       TRDD1"
      ]
     },
     "execution_count": 89,
     "metadata": {},
     "output_type": "execute_result"
    }
   ],
   "source": [
    "id_mapping.head()"
   ]
  },
  {
   "cell_type": "markdown",
   "metadata": {},
   "source": [
    "## Discard transcripts will null expression in all samples"
   ]
  },
  {
   "cell_type": "code",
   "execution_count": 90,
   "metadata": {},
   "outputs": [],
   "source": [
    "max_expression=np.amax(expression_matrix,axis=1)"
   ]
  },
  {
   "cell_type": "code",
   "execution_count": 91,
   "metadata": {},
   "outputs": [
    {
     "data": {
      "text/plain": [
       "178136"
      ]
     },
     "execution_count": 91,
     "metadata": {},
     "output_type": "execute_result"
    }
   ],
   "source": [
    "len(max_expression)"
   ]
  },
  {
   "cell_type": "code",
   "execution_count": 92,
   "metadata": {},
   "outputs": [
    {
     "data": {
      "text/plain": [
       "array([  0.    ,   0.    ,   0.    ,   0.    ,   0.    ,   0.    ,\n",
       "         0.    ,   0.    ,   0.    , 519.9851], dtype=float32)"
      ]
     },
     "execution_count": 92,
     "metadata": {},
     "output_type": "execute_result"
    }
   ],
   "source": [
    "max_expression[0:10]"
   ]
  },
  {
   "cell_type": "code",
   "execution_count": 93,
   "metadata": {},
   "outputs": [],
   "source": [
    "max_ind=np.argwhere(max_expression==0)"
   ]
  },
  {
   "cell_type": "code",
   "execution_count": 94,
   "metadata": {},
   "outputs": [
    {
     "data": {
      "text/plain": [
       "83"
      ]
     },
     "execution_count": 94,
     "metadata": {},
     "output_type": "execute_result"
    }
   ],
   "source": [
    "len(max_ind)"
   ]
  },
  {
   "cell_type": "code",
   "execution_count": 95,
   "metadata": {},
   "outputs": [],
   "source": [
    "max_index=[int(index[0]) for index in max_ind]"
   ]
  },
  {
   "cell_type": "code",
   "execution_count": 96,
   "metadata": {},
   "outputs": [
    {
     "data": {
      "text/plain": [
       "83"
      ]
     },
     "execution_count": 96,
     "metadata": {},
     "output_type": "execute_result"
    }
   ],
   "source": [
    "len(max_index)"
   ]
  },
  {
   "cell_type": "code",
   "execution_count": 97,
   "metadata": {},
   "outputs": [],
   "source": [
    "exp_mat=pd.DataFrame(expression_matrix)"
   ]
  },
  {
   "cell_type": "code",
   "execution_count": 98,
   "metadata": {},
   "outputs": [
    {
     "data": {
      "text/html": [
       "<div>\n",
       "<style scoped>\n",
       "    .dataframe tbody tr th:only-of-type {\n",
       "        vertical-align: middle;\n",
       "    }\n",
       "\n",
       "    .dataframe tbody tr th {\n",
       "        vertical-align: top;\n",
       "    }\n",
       "\n",
       "    .dataframe thead th {\n",
       "        text-align: right;\n",
       "    }\n",
       "</style>\n",
       "<table border=\"1\" class=\"dataframe\">\n",
       "  <thead>\n",
       "    <tr style=\"text-align: right;\">\n",
       "      <th></th>\n",
       "      <th>0</th>\n",
       "      <th>1</th>\n",
       "      <th>2</th>\n",
       "      <th>3</th>\n",
       "      <th>4</th>\n",
       "      <th>5</th>\n",
       "      <th>6</th>\n",
       "      <th>7</th>\n",
       "      <th>8</th>\n",
       "      <th>9</th>\n",
       "      <th>...</th>\n",
       "      <th>71951</th>\n",
       "      <th>71952</th>\n",
       "      <th>71953</th>\n",
       "      <th>71954</th>\n",
       "      <th>71955</th>\n",
       "      <th>71956</th>\n",
       "      <th>71957</th>\n",
       "      <th>71958</th>\n",
       "      <th>71959</th>\n",
       "      <th>71960</th>\n",
       "    </tr>\n",
       "  </thead>\n",
       "  <tbody>\n",
       "    <tr>\n",
       "      <th>0</th>\n",
       "      <td>0.0</td>\n",
       "      <td>0.0</td>\n",
       "      <td>0.0</td>\n",
       "      <td>0.0</td>\n",
       "      <td>0.0</td>\n",
       "      <td>0.0</td>\n",
       "      <td>0.0</td>\n",
       "      <td>0.0</td>\n",
       "      <td>0.0</td>\n",
       "      <td>0.0</td>\n",
       "      <td>...</td>\n",
       "      <td>0.0</td>\n",
       "      <td>0.0</td>\n",
       "      <td>0.0</td>\n",
       "      <td>0.0</td>\n",
       "      <td>0.0</td>\n",
       "      <td>0.0</td>\n",
       "      <td>0.0</td>\n",
       "      <td>0.0</td>\n",
       "      <td>0.0</td>\n",
       "      <td>0.0</td>\n",
       "    </tr>\n",
       "    <tr>\n",
       "      <th>1</th>\n",
       "      <td>0.0</td>\n",
       "      <td>0.0</td>\n",
       "      <td>0.0</td>\n",
       "      <td>0.0</td>\n",
       "      <td>0.0</td>\n",
       "      <td>0.0</td>\n",
       "      <td>0.0</td>\n",
       "      <td>0.0</td>\n",
       "      <td>0.0</td>\n",
       "      <td>0.0</td>\n",
       "      <td>...</td>\n",
       "      <td>0.0</td>\n",
       "      <td>0.0</td>\n",
       "      <td>0.0</td>\n",
       "      <td>0.0</td>\n",
       "      <td>0.0</td>\n",
       "      <td>0.0</td>\n",
       "      <td>0.0</td>\n",
       "      <td>0.0</td>\n",
       "      <td>0.0</td>\n",
       "      <td>0.0</td>\n",
       "    </tr>\n",
       "    <tr>\n",
       "      <th>2</th>\n",
       "      <td>0.0</td>\n",
       "      <td>0.0</td>\n",
       "      <td>0.0</td>\n",
       "      <td>0.0</td>\n",
       "      <td>0.0</td>\n",
       "      <td>0.0</td>\n",
       "      <td>0.0</td>\n",
       "      <td>0.0</td>\n",
       "      <td>0.0</td>\n",
       "      <td>0.0</td>\n",
       "      <td>...</td>\n",
       "      <td>0.0</td>\n",
       "      <td>0.0</td>\n",
       "      <td>0.0</td>\n",
       "      <td>0.0</td>\n",
       "      <td>0.0</td>\n",
       "      <td>0.0</td>\n",
       "      <td>0.0</td>\n",
       "      <td>0.0</td>\n",
       "      <td>0.0</td>\n",
       "      <td>0.0</td>\n",
       "    </tr>\n",
       "    <tr>\n",
       "      <th>3</th>\n",
       "      <td>0.0</td>\n",
       "      <td>0.0</td>\n",
       "      <td>0.0</td>\n",
       "      <td>0.0</td>\n",
       "      <td>0.0</td>\n",
       "      <td>0.0</td>\n",
       "      <td>0.0</td>\n",
       "      <td>0.0</td>\n",
       "      <td>0.0</td>\n",
       "      <td>0.0</td>\n",
       "      <td>...</td>\n",
       "      <td>0.0</td>\n",
       "      <td>0.0</td>\n",
       "      <td>0.0</td>\n",
       "      <td>0.0</td>\n",
       "      <td>0.0</td>\n",
       "      <td>0.0</td>\n",
       "      <td>0.0</td>\n",
       "      <td>0.0</td>\n",
       "      <td>0.0</td>\n",
       "      <td>0.0</td>\n",
       "    </tr>\n",
       "    <tr>\n",
       "      <th>4</th>\n",
       "      <td>0.0</td>\n",
       "      <td>0.0</td>\n",
       "      <td>0.0</td>\n",
       "      <td>0.0</td>\n",
       "      <td>0.0</td>\n",
       "      <td>0.0</td>\n",
       "      <td>0.0</td>\n",
       "      <td>0.0</td>\n",
       "      <td>0.0</td>\n",
       "      <td>0.0</td>\n",
       "      <td>...</td>\n",
       "      <td>0.0</td>\n",
       "      <td>0.0</td>\n",
       "      <td>0.0</td>\n",
       "      <td>0.0</td>\n",
       "      <td>0.0</td>\n",
       "      <td>0.0</td>\n",
       "      <td>0.0</td>\n",
       "      <td>0.0</td>\n",
       "      <td>0.0</td>\n",
       "      <td>0.0</td>\n",
       "    </tr>\n",
       "  </tbody>\n",
       "</table>\n",
       "<p>5 rows × 71961 columns</p>\n",
       "</div>"
      ],
      "text/plain": [
       "   0      1      2      3      4      5      6      7      8      9      ...  \\\n",
       "0    0.0    0.0    0.0    0.0    0.0    0.0    0.0    0.0    0.0    0.0  ...   \n",
       "1    0.0    0.0    0.0    0.0    0.0    0.0    0.0    0.0    0.0    0.0  ...   \n",
       "2    0.0    0.0    0.0    0.0    0.0    0.0    0.0    0.0    0.0    0.0  ...   \n",
       "3    0.0    0.0    0.0    0.0    0.0    0.0    0.0    0.0    0.0    0.0  ...   \n",
       "4    0.0    0.0    0.0    0.0    0.0    0.0    0.0    0.0    0.0    0.0  ...   \n",
       "\n",
       "   71951  71952  71953  71954  71955  71956  71957  71958  71959  71960  \n",
       "0    0.0    0.0    0.0    0.0    0.0    0.0    0.0    0.0    0.0    0.0  \n",
       "1    0.0    0.0    0.0    0.0    0.0    0.0    0.0    0.0    0.0    0.0  \n",
       "2    0.0    0.0    0.0    0.0    0.0    0.0    0.0    0.0    0.0    0.0  \n",
       "3    0.0    0.0    0.0    0.0    0.0    0.0    0.0    0.0    0.0    0.0  \n",
       "4    0.0    0.0    0.0    0.0    0.0    0.0    0.0    0.0    0.0    0.0  \n",
       "\n",
       "[5 rows x 71961 columns]"
      ]
     },
     "execution_count": 98,
     "metadata": {},
     "output_type": "execute_result"
    }
   ],
   "source": [
    "exp_mat.head()"
   ]
  },
  {
   "cell_type": "markdown",
   "metadata": {},
   "source": [
    "Retrieving geo_ids from the full list of geo_ids extracted from the hdf5 file"
   ]
  },
  {
   "cell_type": "code",
   "execution_count": 91,
   "metadata": {},
   "outputs": [
    {
     "name": "stdout",
     "output_type": "stream",
     "text": [
      "CPU times: user 32.2 s, sys: 47.3 ms, total: 32.2 s\n",
      "Wall time: 32.1 s\n"
     ]
    }
   ],
   "source": [
    "%%time\n",
    "geo_ids=list(f[\"meta/samples/geo_accession\"].asstr()[sorted(samples_index)])"
   ]
  },
  {
   "cell_type": "code",
   "execution_count": 92,
   "metadata": {},
   "outputs": [
    {
     "data": {
      "text/plain": [
       "['GSM741172',\n",
       " 'GSM741170',\n",
       " 'GSM741171',\n",
       " 'GSM907015',\n",
       " 'GSM1193921',\n",
       " 'GSM1098188',\n",
       " 'GSM1193928',\n",
       " 'GSM1048186',\n",
       " 'GSM1216828',\n",
       " 'GSM1241249']"
      ]
     },
     "execution_count": 92,
     "metadata": {},
     "output_type": "execute_result"
    }
   ],
   "source": [
    "geo_ids[0:10]"
   ]
  },
  {
   "cell_type": "code",
   "execution_count": 101,
   "metadata": {},
   "outputs": [],
   "source": [
    "exp_mat.columns=geo_ids"
   ]
  },
  {
   "cell_type": "code",
   "execution_count": 102,
   "metadata": {},
   "outputs": [
    {
     "data": {
      "text/html": [
       "<div>\n",
       "<style scoped>\n",
       "    .dataframe tbody tr th:only-of-type {\n",
       "        vertical-align: middle;\n",
       "    }\n",
       "\n",
       "    .dataframe tbody tr th {\n",
       "        vertical-align: top;\n",
       "    }\n",
       "\n",
       "    .dataframe thead th {\n",
       "        text-align: right;\n",
       "    }\n",
       "</style>\n",
       "<table border=\"1\" class=\"dataframe\">\n",
       "  <thead>\n",
       "    <tr style=\"text-align: right;\">\n",
       "      <th></th>\n",
       "      <th>GSM741172</th>\n",
       "      <th>GSM741170</th>\n",
       "      <th>GSM741171</th>\n",
       "      <th>GSM907015</th>\n",
       "      <th>GSM1193921</th>\n",
       "      <th>GSM1098188</th>\n",
       "      <th>GSM1193928</th>\n",
       "      <th>GSM1048186</th>\n",
       "      <th>GSM1216828</th>\n",
       "      <th>GSM1241249</th>\n",
       "      <th>...</th>\n",
       "      <th>GSM5572862</th>\n",
       "      <th>GSM5577332</th>\n",
       "      <th>GSM5577333</th>\n",
       "      <th>GSM5577334</th>\n",
       "      <th>GSM5577335</th>\n",
       "      <th>GSM5577336</th>\n",
       "      <th>GSM5577337</th>\n",
       "      <th>GSM5580099</th>\n",
       "      <th>GSM5580100</th>\n",
       "      <th>GSM5580102</th>\n",
       "    </tr>\n",
       "  </thead>\n",
       "  <tbody>\n",
       "    <tr>\n",
       "      <th>0</th>\n",
       "      <td>0.0</td>\n",
       "      <td>0.0</td>\n",
       "      <td>0.0</td>\n",
       "      <td>0.0</td>\n",
       "      <td>0.0</td>\n",
       "      <td>0.0</td>\n",
       "      <td>0.0</td>\n",
       "      <td>0.0</td>\n",
       "      <td>0.0</td>\n",
       "      <td>0.0</td>\n",
       "      <td>...</td>\n",
       "      <td>0.0</td>\n",
       "      <td>0.0</td>\n",
       "      <td>0.0</td>\n",
       "      <td>0.0</td>\n",
       "      <td>0.0</td>\n",
       "      <td>0.0</td>\n",
       "      <td>0.0</td>\n",
       "      <td>0.0</td>\n",
       "      <td>0.0</td>\n",
       "      <td>0.0</td>\n",
       "    </tr>\n",
       "    <tr>\n",
       "      <th>1</th>\n",
       "      <td>0.0</td>\n",
       "      <td>0.0</td>\n",
       "      <td>0.0</td>\n",
       "      <td>0.0</td>\n",
       "      <td>0.0</td>\n",
       "      <td>0.0</td>\n",
       "      <td>0.0</td>\n",
       "      <td>0.0</td>\n",
       "      <td>0.0</td>\n",
       "      <td>0.0</td>\n",
       "      <td>...</td>\n",
       "      <td>0.0</td>\n",
       "      <td>0.0</td>\n",
       "      <td>0.0</td>\n",
       "      <td>0.0</td>\n",
       "      <td>0.0</td>\n",
       "      <td>0.0</td>\n",
       "      <td>0.0</td>\n",
       "      <td>0.0</td>\n",
       "      <td>0.0</td>\n",
       "      <td>0.0</td>\n",
       "    </tr>\n",
       "    <tr>\n",
       "      <th>2</th>\n",
       "      <td>0.0</td>\n",
       "      <td>0.0</td>\n",
       "      <td>0.0</td>\n",
       "      <td>0.0</td>\n",
       "      <td>0.0</td>\n",
       "      <td>0.0</td>\n",
       "      <td>0.0</td>\n",
       "      <td>0.0</td>\n",
       "      <td>0.0</td>\n",
       "      <td>0.0</td>\n",
       "      <td>...</td>\n",
       "      <td>0.0</td>\n",
       "      <td>0.0</td>\n",
       "      <td>0.0</td>\n",
       "      <td>0.0</td>\n",
       "      <td>0.0</td>\n",
       "      <td>0.0</td>\n",
       "      <td>0.0</td>\n",
       "      <td>0.0</td>\n",
       "      <td>0.0</td>\n",
       "      <td>0.0</td>\n",
       "    </tr>\n",
       "    <tr>\n",
       "      <th>3</th>\n",
       "      <td>0.0</td>\n",
       "      <td>0.0</td>\n",
       "      <td>0.0</td>\n",
       "      <td>0.0</td>\n",
       "      <td>0.0</td>\n",
       "      <td>0.0</td>\n",
       "      <td>0.0</td>\n",
       "      <td>0.0</td>\n",
       "      <td>0.0</td>\n",
       "      <td>0.0</td>\n",
       "      <td>...</td>\n",
       "      <td>0.0</td>\n",
       "      <td>0.0</td>\n",
       "      <td>0.0</td>\n",
       "      <td>0.0</td>\n",
       "      <td>0.0</td>\n",
       "      <td>0.0</td>\n",
       "      <td>0.0</td>\n",
       "      <td>0.0</td>\n",
       "      <td>0.0</td>\n",
       "      <td>0.0</td>\n",
       "    </tr>\n",
       "    <tr>\n",
       "      <th>4</th>\n",
       "      <td>0.0</td>\n",
       "      <td>0.0</td>\n",
       "      <td>0.0</td>\n",
       "      <td>0.0</td>\n",
       "      <td>0.0</td>\n",
       "      <td>0.0</td>\n",
       "      <td>0.0</td>\n",
       "      <td>0.0</td>\n",
       "      <td>0.0</td>\n",
       "      <td>0.0</td>\n",
       "      <td>...</td>\n",
       "      <td>0.0</td>\n",
       "      <td>0.0</td>\n",
       "      <td>0.0</td>\n",
       "      <td>0.0</td>\n",
       "      <td>0.0</td>\n",
       "      <td>0.0</td>\n",
       "      <td>0.0</td>\n",
       "      <td>0.0</td>\n",
       "      <td>0.0</td>\n",
       "      <td>0.0</td>\n",
       "    </tr>\n",
       "  </tbody>\n",
       "</table>\n",
       "<p>5 rows × 71961 columns</p>\n",
       "</div>"
      ],
      "text/plain": [
       "   GSM741172  GSM741170  GSM741171  GSM907015  GSM1193921  GSM1098188  \\\n",
       "0        0.0        0.0        0.0        0.0         0.0         0.0   \n",
       "1        0.0        0.0        0.0        0.0         0.0         0.0   \n",
       "2        0.0        0.0        0.0        0.0         0.0         0.0   \n",
       "3        0.0        0.0        0.0        0.0         0.0         0.0   \n",
       "4        0.0        0.0        0.0        0.0         0.0         0.0   \n",
       "\n",
       "   GSM1193928  GSM1048186  GSM1216828  GSM1241249  ...  GSM5572862  \\\n",
       "0         0.0         0.0         0.0         0.0  ...         0.0   \n",
       "1         0.0         0.0         0.0         0.0  ...         0.0   \n",
       "2         0.0         0.0         0.0         0.0  ...         0.0   \n",
       "3         0.0         0.0         0.0         0.0  ...         0.0   \n",
       "4         0.0         0.0         0.0         0.0  ...         0.0   \n",
       "\n",
       "   GSM5577332  GSM5577333  GSM5577334  GSM5577335  GSM5577336  GSM5577337  \\\n",
       "0         0.0         0.0         0.0         0.0         0.0         0.0   \n",
       "1         0.0         0.0         0.0         0.0         0.0         0.0   \n",
       "2         0.0         0.0         0.0         0.0         0.0         0.0   \n",
       "3         0.0         0.0         0.0         0.0         0.0         0.0   \n",
       "4         0.0         0.0         0.0         0.0         0.0         0.0   \n",
       "\n",
       "   GSM5580099  GSM5580100  GSM5580102  \n",
       "0         0.0         0.0         0.0  \n",
       "1         0.0         0.0         0.0  \n",
       "2         0.0         0.0         0.0  \n",
       "3         0.0         0.0         0.0  \n",
       "4         0.0         0.0         0.0  \n",
       "\n",
       "[5 rows x 71961 columns]"
      ]
     },
     "execution_count": 102,
     "metadata": {},
     "output_type": "execute_result"
    }
   ],
   "source": [
    "exp_mat.head()"
   ]
  },
  {
   "cell_type": "code",
   "execution_count": 103,
   "metadata": {
    "tags": []
   },
   "outputs": [
    {
     "data": {
      "text/plain": [
       "(178136, 71961)"
      ]
     },
     "execution_count": 103,
     "metadata": {},
     "output_type": "execute_result"
    }
   ],
   "source": [
    "exp_mat.shape"
   ]
  },
  {
   "cell_type": "code",
   "execution_count": 104,
   "metadata": {},
   "outputs": [],
   "source": [
    "exp_mat.drop(index=max_index,inplace=True)"
   ]
  },
  {
   "cell_type": "code",
   "execution_count": 105,
   "metadata": {},
   "outputs": [
    {
     "data": {
      "text/plain": [
       "(178053, 71961)"
      ]
     },
     "execution_count": 105,
     "metadata": {},
     "output_type": "execute_result"
    }
   ],
   "source": [
    "exp_mat.shape"
   ]
  },
  {
   "cell_type": "code",
   "execution_count": 106,
   "metadata": {},
   "outputs": [],
   "source": [
    "id_mapping.reset_index(inplace=True)"
   ]
  },
  {
   "cell_type": "code",
   "execution_count": 107,
   "metadata": {},
   "outputs": [
    {
     "data": {
      "text/html": [
       "<div>\n",
       "<style scoped>\n",
       "    .dataframe tbody tr th:only-of-type {\n",
       "        vertical-align: middle;\n",
       "    }\n",
       "\n",
       "    .dataframe tbody tr th {\n",
       "        vertical-align: top;\n",
       "    }\n",
       "\n",
       "    .dataframe thead th {\n",
       "        text-align: right;\n",
       "    }\n",
       "</style>\n",
       "<table border=\"1\" class=\"dataframe\">\n",
       "  <thead>\n",
       "    <tr style=\"text-align: right;\">\n",
       "      <th></th>\n",
       "      <th>ens_tids</th>\n",
       "      <th>ens_gids</th>\n",
       "      <th>gene_symbol</th>\n",
       "    </tr>\n",
       "  </thead>\n",
       "  <tbody>\n",
       "    <tr>\n",
       "      <th>0</th>\n",
       "      <td>ENST00000448914</td>\n",
       "      <td>ENSG00000228985</td>\n",
       "      <td>TRDD3</td>\n",
       "    </tr>\n",
       "    <tr>\n",
       "      <th>1</th>\n",
       "      <td>ENST00000631435</td>\n",
       "      <td>ENSG00000282253</td>\n",
       "      <td>TRBD1</td>\n",
       "    </tr>\n",
       "    <tr>\n",
       "      <th>2</th>\n",
       "      <td>ENST00000632684</td>\n",
       "      <td>ENSG00000282431</td>\n",
       "      <td>TRBD1</td>\n",
       "    </tr>\n",
       "    <tr>\n",
       "      <th>3</th>\n",
       "      <td>ENST00000434970</td>\n",
       "      <td>ENSG00000237235</td>\n",
       "      <td>TRDD2</td>\n",
       "    </tr>\n",
       "    <tr>\n",
       "      <th>4</th>\n",
       "      <td>ENST00000415118</td>\n",
       "      <td>ENSG00000223997</td>\n",
       "      <td>TRDD1</td>\n",
       "    </tr>\n",
       "  </tbody>\n",
       "</table>\n",
       "</div>"
      ],
      "text/plain": [
       "          ens_tids         ens_gids gene_symbol\n",
       "0  ENST00000448914  ENSG00000228985       TRDD3\n",
       "1  ENST00000631435  ENSG00000282253       TRBD1\n",
       "2  ENST00000632684  ENSG00000282431       TRBD1\n",
       "3  ENST00000434970  ENSG00000237235       TRDD2\n",
       "4  ENST00000415118  ENSG00000223997       TRDD1"
      ]
     },
     "execution_count": 107,
     "metadata": {},
     "output_type": "execute_result"
    }
   ],
   "source": [
    "id_mapping.head()"
   ]
  },
  {
   "cell_type": "code",
   "execution_count": 108,
   "metadata": {},
   "outputs": [
    {
     "data": {
      "text/plain": [
       "(178136, 3)"
      ]
     },
     "execution_count": 108,
     "metadata": {},
     "output_type": "execute_result"
    }
   ],
   "source": [
    "id_mapping.shape"
   ]
  },
  {
   "cell_type": "code",
   "execution_count": 109,
   "metadata": {},
   "outputs": [],
   "source": [
    "id_mapping.iloc[max_index].to_csv(\"null_genes.csv\")"
   ]
  },
  {
   "cell_type": "code",
   "execution_count": 110,
   "metadata": {},
   "outputs": [],
   "source": [
    "id_mapping.drop(index=max_index,inplace=True)"
   ]
  },
  {
   "cell_type": "code",
   "execution_count": 111,
   "metadata": {},
   "outputs": [
    {
     "data": {
      "text/html": [
       "<div>\n",
       "<style scoped>\n",
       "    .dataframe tbody tr th:only-of-type {\n",
       "        vertical-align: middle;\n",
       "    }\n",
       "\n",
       "    .dataframe tbody tr th {\n",
       "        vertical-align: top;\n",
       "    }\n",
       "\n",
       "    .dataframe thead th {\n",
       "        text-align: right;\n",
       "    }\n",
       "</style>\n",
       "<table border=\"1\" class=\"dataframe\">\n",
       "  <thead>\n",
       "    <tr style=\"text-align: right;\">\n",
       "      <th></th>\n",
       "      <th>ens_tids</th>\n",
       "      <th>ens_gids</th>\n",
       "      <th>gene_symbol</th>\n",
       "    </tr>\n",
       "  </thead>\n",
       "  <tbody>\n",
       "    <tr>\n",
       "      <th>9</th>\n",
       "      <td>ENST00000632609</td>\n",
       "      <td>ENSG00000282373</td>\n",
       "      <td>IGHD3-10</td>\n",
       "    </tr>\n",
       "    <tr>\n",
       "      <th>11</th>\n",
       "      <td>ENST00000632911</td>\n",
       "      <td>ENSG00000281939</td>\n",
       "      <td>IGHD3-9</td>\n",
       "    </tr>\n",
       "    <tr>\n",
       "      <th>12</th>\n",
       "      <td>ENST00000633504</td>\n",
       "      <td>ENSG00000282132</td>\n",
       "      <td>IGHD2-8</td>\n",
       "    </tr>\n",
       "    <tr>\n",
       "      <th>25</th>\n",
       "      <td>ENST00000390577</td>\n",
       "      <td>ENSG00000211917</td>\n",
       "      <td>IGHD3-16</td>\n",
       "    </tr>\n",
       "    <tr>\n",
       "      <th>28</th>\n",
       "      <td>ENST00000633353</td>\n",
       "      <td>ENSG00000282754</td>\n",
       "      <td>IGHD3-3</td>\n",
       "    </tr>\n",
       "  </tbody>\n",
       "</table>\n",
       "</div>"
      ],
      "text/plain": [
       "           ens_tids         ens_gids gene_symbol\n",
       "9   ENST00000632609  ENSG00000282373    IGHD3-10\n",
       "11  ENST00000632911  ENSG00000281939     IGHD3-9\n",
       "12  ENST00000633504  ENSG00000282132     IGHD2-8\n",
       "25  ENST00000390577  ENSG00000211917    IGHD3-16\n",
       "28  ENST00000633353  ENSG00000282754     IGHD3-3"
      ]
     },
     "execution_count": 111,
     "metadata": {},
     "output_type": "execute_result"
    }
   ],
   "source": [
    "id_mapping.head()"
   ]
  },
  {
   "cell_type": "code",
   "execution_count": 112,
   "metadata": {},
   "outputs": [
    {
     "data": {
      "text/plain": [
       "(178053, 3)"
      ]
     },
     "execution_count": 112,
     "metadata": {},
     "output_type": "execute_result"
    }
   ],
   "source": [
    "id_mapping.shape"
   ]
  },
  {
   "cell_type": "code",
   "execution_count": 113,
   "metadata": {},
   "outputs": [],
   "source": [
    "id_mapping.to_csv(\"id_mapping_V11_no_null.csv\")"
   ]
  },
  {
   "cell_type": "markdown",
   "metadata": {},
   "source": [
    "## Removing pseudogenes"
   ]
  },
  {
   "cell_type": "code",
   "execution_count": 93,
   "metadata": {},
   "outputs": [],
   "source": [
    "biotype=list(f[\"meta/transcripts/gene_biotype\"].asstr())"
   ]
  },
  {
   "cell_type": "code",
   "execution_count": 94,
   "metadata": {},
   "outputs": [
    {
     "data": {
      "text/plain": [
       "{'IG_C_gene',\n",
       " 'IG_C_pseudogene',\n",
       " 'IG_D_gene',\n",
       " 'IG_J_gene',\n",
       " 'IG_J_pseudogene',\n",
       " 'IG_V_gene',\n",
       " 'IG_V_pseudogene',\n",
       " 'IG_pseudogene',\n",
       " 'TEC',\n",
       " 'TR_C_gene',\n",
       " 'TR_D_gene',\n",
       " 'TR_J_gene',\n",
       " 'TR_J_pseudogene',\n",
       " 'TR_V_gene',\n",
       " 'TR_V_pseudogene',\n",
       " 'lncRNA',\n",
       " 'miRNA',\n",
       " 'missing',\n",
       " 'polymorphic_pseudogene',\n",
       " 'processed_pseudogene',\n",
       " 'protein_coding',\n",
       " 'pseudogene',\n",
       " 'transcribed_processed_pseudogene',\n",
       " 'transcribed_unitary_pseudogene',\n",
       " 'transcribed_unprocessed_pseudogene',\n",
       " 'translated_processed_pseudogene',\n",
       " 'translated_unprocessed_pseudogene',\n",
       " 'unitary_pseudogene',\n",
       " 'unprocessed_pseudogene'}"
      ]
     },
     "execution_count": 94,
     "metadata": {},
     "output_type": "execute_result"
    }
   ],
   "source": [
    "set(biotype)"
   ]
  },
  {
   "cell_type": "code",
   "execution_count": 95,
   "metadata": {},
   "outputs": [
    {
     "data": {
      "text/plain": [
       "178136"
      ]
     },
     "execution_count": 95,
     "metadata": {},
     "output_type": "execute_result"
    }
   ],
   "source": [
    "len(biotype)"
   ]
  },
  {
   "cell_type": "code",
   "execution_count": 117,
   "metadata": {},
   "outputs": [],
   "source": [
    "for index in max_index: del biotype[index]"
   ]
  },
  {
   "cell_type": "code",
   "execution_count": 118,
   "metadata": {},
   "outputs": [
    {
     "data": {
      "text/plain": [
       "178053"
      ]
     },
     "execution_count": 118,
     "metadata": {},
     "output_type": "execute_result"
    }
   ],
   "source": [
    "len(biotype)"
   ]
  },
  {
   "cell_type": "code",
   "execution_count": 119,
   "metadata": {},
   "outputs": [],
   "source": [
    "pseudogenes=[\"IG_C_pseudogene\",\"IG_J_pseudogene\",\"IG_V_pseudogene\",\"IG_pseudogene\",\"TR_J_pseudogene\",\"TR_V_pseudogene\",\"polymorphic_pseudogene\",\"processed_pseudogene\",\"pseudogene\",\"transcribed_processed_pseudogene\",\"transcribed_unitary_pseudogene\",\"transcribed_unprocessed_pseudogene\",\"translated_processed_pseudogene\",\"translated_unprocessed_pseudogene\",\"unitary_pseudogene\",\"unprocessed_pseudogene\"]\n"
   ]
  },
  {
   "cell_type": "code",
   "execution_count": 120,
   "metadata": {},
   "outputs": [],
   "source": [
    "bool_array=[]\n",
    "for x in biotype:\n",
    "    bool_array.append(x not in pseudogenes)"
   ]
  },
  {
   "cell_type": "code",
   "execution_count": 121,
   "metadata": {},
   "outputs": [
    {
     "data": {
      "text/plain": [
       "159117"
      ]
     },
     "execution_count": 121,
     "metadata": {},
     "output_type": "execute_result"
    }
   ],
   "source": [
    "sum(bool_array)# number of not pseudogene trancripts"
   ]
  },
  {
   "cell_type": "code",
   "execution_count": 122,
   "metadata": {},
   "outputs": [
    {
     "data": {
      "text/plain": [
       "(178053, 71961)"
      ]
     },
     "execution_count": 122,
     "metadata": {},
     "output_type": "execute_result"
    }
   ],
   "source": [
    "exp_mat.shape"
   ]
  },
  {
   "cell_type": "code",
   "execution_count": 123,
   "metadata": {},
   "outputs": [
    {
     "data": {
      "text/html": [
       "<div>\n",
       "<style scoped>\n",
       "    .dataframe tbody tr th:only-of-type {\n",
       "        vertical-align: middle;\n",
       "    }\n",
       "\n",
       "    .dataframe tbody tr th {\n",
       "        vertical-align: top;\n",
       "    }\n",
       "\n",
       "    .dataframe thead th {\n",
       "        text-align: right;\n",
       "    }\n",
       "</style>\n",
       "<table border=\"1\" class=\"dataframe\">\n",
       "  <thead>\n",
       "    <tr style=\"text-align: right;\">\n",
       "      <th></th>\n",
       "      <th>GSM741172</th>\n",
       "      <th>GSM741170</th>\n",
       "      <th>GSM741171</th>\n",
       "      <th>GSM907015</th>\n",
       "      <th>GSM1193921</th>\n",
       "      <th>GSM1098188</th>\n",
       "      <th>GSM1193928</th>\n",
       "      <th>GSM1048186</th>\n",
       "      <th>GSM1216828</th>\n",
       "      <th>GSM1241249</th>\n",
       "      <th>...</th>\n",
       "      <th>GSM5572862</th>\n",
       "      <th>GSM5577332</th>\n",
       "      <th>GSM5577333</th>\n",
       "      <th>GSM5577334</th>\n",
       "      <th>GSM5577335</th>\n",
       "      <th>GSM5577336</th>\n",
       "      <th>GSM5577337</th>\n",
       "      <th>GSM5580099</th>\n",
       "      <th>GSM5580100</th>\n",
       "      <th>GSM5580102</th>\n",
       "    </tr>\n",
       "  </thead>\n",
       "  <tbody>\n",
       "    <tr>\n",
       "      <th>9</th>\n",
       "      <td>0.0</td>\n",
       "      <td>0.0</td>\n",
       "      <td>0.0</td>\n",
       "      <td>0.0</td>\n",
       "      <td>0.0</td>\n",
       "      <td>0.0</td>\n",
       "      <td>0.0</td>\n",
       "      <td>0.0</td>\n",
       "      <td>0.0</td>\n",
       "      <td>0.0</td>\n",
       "      <td>...</td>\n",
       "      <td>0.0</td>\n",
       "      <td>0.0</td>\n",
       "      <td>0.0</td>\n",
       "      <td>0.0</td>\n",
       "      <td>0.0</td>\n",
       "      <td>0.0</td>\n",
       "      <td>0.0</td>\n",
       "      <td>0.00000</td>\n",
       "      <td>0.0</td>\n",
       "      <td>0.0</td>\n",
       "    </tr>\n",
       "    <tr>\n",
       "      <th>11</th>\n",
       "      <td>0.0</td>\n",
       "      <td>0.0</td>\n",
       "      <td>0.0</td>\n",
       "      <td>0.0</td>\n",
       "      <td>0.0</td>\n",
       "      <td>0.0</td>\n",
       "      <td>0.0</td>\n",
       "      <td>0.0</td>\n",
       "      <td>0.0</td>\n",
       "      <td>0.0</td>\n",
       "      <td>...</td>\n",
       "      <td>0.0</td>\n",
       "      <td>0.0</td>\n",
       "      <td>0.0</td>\n",
       "      <td>0.0</td>\n",
       "      <td>0.0</td>\n",
       "      <td>0.0</td>\n",
       "      <td>0.0</td>\n",
       "      <td>0.00000</td>\n",
       "      <td>0.0</td>\n",
       "      <td>0.0</td>\n",
       "    </tr>\n",
       "    <tr>\n",
       "      <th>12</th>\n",
       "      <td>0.0</td>\n",
       "      <td>0.0</td>\n",
       "      <td>0.0</td>\n",
       "      <td>0.0</td>\n",
       "      <td>0.0</td>\n",
       "      <td>0.0</td>\n",
       "      <td>0.0</td>\n",
       "      <td>0.0</td>\n",
       "      <td>0.0</td>\n",
       "      <td>0.0</td>\n",
       "      <td>...</td>\n",
       "      <td>0.0</td>\n",
       "      <td>0.0</td>\n",
       "      <td>0.0</td>\n",
       "      <td>0.0</td>\n",
       "      <td>0.0</td>\n",
       "      <td>0.0</td>\n",
       "      <td>0.0</td>\n",
       "      <td>0.00000</td>\n",
       "      <td>0.0</td>\n",
       "      <td>0.0</td>\n",
       "    </tr>\n",
       "    <tr>\n",
       "      <th>25</th>\n",
       "      <td>0.0</td>\n",
       "      <td>0.0</td>\n",
       "      <td>0.0</td>\n",
       "      <td>0.0</td>\n",
       "      <td>0.0</td>\n",
       "      <td>0.0</td>\n",
       "      <td>0.0</td>\n",
       "      <td>0.0</td>\n",
       "      <td>0.0</td>\n",
       "      <td>0.0</td>\n",
       "      <td>...</td>\n",
       "      <td>0.0</td>\n",
       "      <td>0.0</td>\n",
       "      <td>0.0</td>\n",
       "      <td>0.0</td>\n",
       "      <td>0.0</td>\n",
       "      <td>0.0</td>\n",
       "      <td>0.0</td>\n",
       "      <td>2.38166</td>\n",
       "      <td>0.0</td>\n",
       "      <td>0.0</td>\n",
       "    </tr>\n",
       "    <tr>\n",
       "      <th>28</th>\n",
       "      <td>0.0</td>\n",
       "      <td>0.0</td>\n",
       "      <td>0.0</td>\n",
       "      <td>0.0</td>\n",
       "      <td>0.0</td>\n",
       "      <td>0.0</td>\n",
       "      <td>0.0</td>\n",
       "      <td>0.0</td>\n",
       "      <td>0.0</td>\n",
       "      <td>0.0</td>\n",
       "      <td>...</td>\n",
       "      <td>0.0</td>\n",
       "      <td>0.0</td>\n",
       "      <td>0.0</td>\n",
       "      <td>0.0</td>\n",
       "      <td>0.0</td>\n",
       "      <td>0.0</td>\n",
       "      <td>0.0</td>\n",
       "      <td>0.00000</td>\n",
       "      <td>0.0</td>\n",
       "      <td>0.0</td>\n",
       "    </tr>\n",
       "  </tbody>\n",
       "</table>\n",
       "<p>5 rows × 71961 columns</p>\n",
       "</div>"
      ],
      "text/plain": [
       "    GSM741172  GSM741170  GSM741171  GSM907015  GSM1193921  GSM1098188  \\\n",
       "9         0.0        0.0        0.0        0.0         0.0         0.0   \n",
       "11        0.0        0.0        0.0        0.0         0.0         0.0   \n",
       "12        0.0        0.0        0.0        0.0         0.0         0.0   \n",
       "25        0.0        0.0        0.0        0.0         0.0         0.0   \n",
       "28        0.0        0.0        0.0        0.0         0.0         0.0   \n",
       "\n",
       "    GSM1193928  GSM1048186  GSM1216828  GSM1241249  ...  GSM5572862  \\\n",
       "9          0.0         0.0         0.0         0.0  ...         0.0   \n",
       "11         0.0         0.0         0.0         0.0  ...         0.0   \n",
       "12         0.0         0.0         0.0         0.0  ...         0.0   \n",
       "25         0.0         0.0         0.0         0.0  ...         0.0   \n",
       "28         0.0         0.0         0.0         0.0  ...         0.0   \n",
       "\n",
       "    GSM5577332  GSM5577333  GSM5577334  GSM5577335  GSM5577336  GSM5577337  \\\n",
       "9          0.0         0.0         0.0         0.0         0.0         0.0   \n",
       "11         0.0         0.0         0.0         0.0         0.0         0.0   \n",
       "12         0.0         0.0         0.0         0.0         0.0         0.0   \n",
       "25         0.0         0.0         0.0         0.0         0.0         0.0   \n",
       "28         0.0         0.0         0.0         0.0         0.0         0.0   \n",
       "\n",
       "    GSM5580099  GSM5580100  GSM5580102  \n",
       "9      0.00000         0.0         0.0  \n",
       "11     0.00000         0.0         0.0  \n",
       "12     0.00000         0.0         0.0  \n",
       "25     2.38166         0.0         0.0  \n",
       "28     0.00000         0.0         0.0  \n",
       "\n",
       "[5 rows x 71961 columns]"
      ]
     },
     "execution_count": 123,
     "metadata": {},
     "output_type": "execute_result"
    }
   ],
   "source": [
    "exp_mat.head()"
   ]
  },
  {
   "cell_type": "code",
   "execution_count": 124,
   "metadata": {},
   "outputs": [
    {
     "data": {
      "text/plain": [
       "(178053, 71961)"
      ]
     },
     "execution_count": 124,
     "metadata": {},
     "output_type": "execute_result"
    }
   ],
   "source": [
    "exp_mat.shape"
   ]
  },
  {
   "cell_type": "code",
   "execution_count": 125,
   "metadata": {},
   "outputs": [
    {
     "data": {
      "text/plain": [
       "(178053, 3)"
      ]
     },
     "execution_count": 125,
     "metadata": {},
     "output_type": "execute_result"
    }
   ],
   "source": [
    "id_mapping.shape"
   ]
  },
  {
   "cell_type": "code",
   "execution_count": 126,
   "metadata": {},
   "outputs": [],
   "source": [
    "exp_mat.index=id_mapping[\"gene_symbol\"]"
   ]
  },
  {
   "cell_type": "code",
   "execution_count": 127,
   "metadata": {},
   "outputs": [
    {
     "data": {
      "text/html": [
       "<div>\n",
       "<style scoped>\n",
       "    .dataframe tbody tr th:only-of-type {\n",
       "        vertical-align: middle;\n",
       "    }\n",
       "\n",
       "    .dataframe tbody tr th {\n",
       "        vertical-align: top;\n",
       "    }\n",
       "\n",
       "    .dataframe thead th {\n",
       "        text-align: right;\n",
       "    }\n",
       "</style>\n",
       "<table border=\"1\" class=\"dataframe\">\n",
       "  <thead>\n",
       "    <tr style=\"text-align: right;\">\n",
       "      <th></th>\n",
       "      <th>GSM741172</th>\n",
       "      <th>GSM741170</th>\n",
       "      <th>GSM741171</th>\n",
       "      <th>GSM907015</th>\n",
       "      <th>GSM1193921</th>\n",
       "      <th>GSM1098188</th>\n",
       "      <th>GSM1193928</th>\n",
       "      <th>GSM1048186</th>\n",
       "      <th>GSM1216828</th>\n",
       "      <th>GSM1241249</th>\n",
       "      <th>...</th>\n",
       "      <th>GSM5572862</th>\n",
       "      <th>GSM5577332</th>\n",
       "      <th>GSM5577333</th>\n",
       "      <th>GSM5577334</th>\n",
       "      <th>GSM5577335</th>\n",
       "      <th>GSM5577336</th>\n",
       "      <th>GSM5577337</th>\n",
       "      <th>GSM5580099</th>\n",
       "      <th>GSM5580100</th>\n",
       "      <th>GSM5580102</th>\n",
       "    </tr>\n",
       "    <tr>\n",
       "      <th>gene_symbol</th>\n",
       "      <th></th>\n",
       "      <th></th>\n",
       "      <th></th>\n",
       "      <th></th>\n",
       "      <th></th>\n",
       "      <th></th>\n",
       "      <th></th>\n",
       "      <th></th>\n",
       "      <th></th>\n",
       "      <th></th>\n",
       "      <th></th>\n",
       "      <th></th>\n",
       "      <th></th>\n",
       "      <th></th>\n",
       "      <th></th>\n",
       "      <th></th>\n",
       "      <th></th>\n",
       "      <th></th>\n",
       "      <th></th>\n",
       "      <th></th>\n",
       "      <th></th>\n",
       "    </tr>\n",
       "  </thead>\n",
       "  <tbody>\n",
       "    <tr>\n",
       "      <th>IGHD3-10</th>\n",
       "      <td>0.0</td>\n",
       "      <td>0.0</td>\n",
       "      <td>0.0</td>\n",
       "      <td>0.0</td>\n",
       "      <td>0.0</td>\n",
       "      <td>0.0</td>\n",
       "      <td>0.0</td>\n",
       "      <td>0.0</td>\n",
       "      <td>0.0</td>\n",
       "      <td>0.0</td>\n",
       "      <td>...</td>\n",
       "      <td>0.0</td>\n",
       "      <td>0.0</td>\n",
       "      <td>0.0</td>\n",
       "      <td>0.0</td>\n",
       "      <td>0.0</td>\n",
       "      <td>0.0</td>\n",
       "      <td>0.0</td>\n",
       "      <td>0.00000</td>\n",
       "      <td>0.0</td>\n",
       "      <td>0.0</td>\n",
       "    </tr>\n",
       "    <tr>\n",
       "      <th>IGHD3-9</th>\n",
       "      <td>0.0</td>\n",
       "      <td>0.0</td>\n",
       "      <td>0.0</td>\n",
       "      <td>0.0</td>\n",
       "      <td>0.0</td>\n",
       "      <td>0.0</td>\n",
       "      <td>0.0</td>\n",
       "      <td>0.0</td>\n",
       "      <td>0.0</td>\n",
       "      <td>0.0</td>\n",
       "      <td>...</td>\n",
       "      <td>0.0</td>\n",
       "      <td>0.0</td>\n",
       "      <td>0.0</td>\n",
       "      <td>0.0</td>\n",
       "      <td>0.0</td>\n",
       "      <td>0.0</td>\n",
       "      <td>0.0</td>\n",
       "      <td>0.00000</td>\n",
       "      <td>0.0</td>\n",
       "      <td>0.0</td>\n",
       "    </tr>\n",
       "    <tr>\n",
       "      <th>IGHD2-8</th>\n",
       "      <td>0.0</td>\n",
       "      <td>0.0</td>\n",
       "      <td>0.0</td>\n",
       "      <td>0.0</td>\n",
       "      <td>0.0</td>\n",
       "      <td>0.0</td>\n",
       "      <td>0.0</td>\n",
       "      <td>0.0</td>\n",
       "      <td>0.0</td>\n",
       "      <td>0.0</td>\n",
       "      <td>...</td>\n",
       "      <td>0.0</td>\n",
       "      <td>0.0</td>\n",
       "      <td>0.0</td>\n",
       "      <td>0.0</td>\n",
       "      <td>0.0</td>\n",
       "      <td>0.0</td>\n",
       "      <td>0.0</td>\n",
       "      <td>0.00000</td>\n",
       "      <td>0.0</td>\n",
       "      <td>0.0</td>\n",
       "    </tr>\n",
       "    <tr>\n",
       "      <th>IGHD3-16</th>\n",
       "      <td>0.0</td>\n",
       "      <td>0.0</td>\n",
       "      <td>0.0</td>\n",
       "      <td>0.0</td>\n",
       "      <td>0.0</td>\n",
       "      <td>0.0</td>\n",
       "      <td>0.0</td>\n",
       "      <td>0.0</td>\n",
       "      <td>0.0</td>\n",
       "      <td>0.0</td>\n",
       "      <td>...</td>\n",
       "      <td>0.0</td>\n",
       "      <td>0.0</td>\n",
       "      <td>0.0</td>\n",
       "      <td>0.0</td>\n",
       "      <td>0.0</td>\n",
       "      <td>0.0</td>\n",
       "      <td>0.0</td>\n",
       "      <td>2.38166</td>\n",
       "      <td>0.0</td>\n",
       "      <td>0.0</td>\n",
       "    </tr>\n",
       "    <tr>\n",
       "      <th>IGHD3-3</th>\n",
       "      <td>0.0</td>\n",
       "      <td>0.0</td>\n",
       "      <td>0.0</td>\n",
       "      <td>0.0</td>\n",
       "      <td>0.0</td>\n",
       "      <td>0.0</td>\n",
       "      <td>0.0</td>\n",
       "      <td>0.0</td>\n",
       "      <td>0.0</td>\n",
       "      <td>0.0</td>\n",
       "      <td>...</td>\n",
       "      <td>0.0</td>\n",
       "      <td>0.0</td>\n",
       "      <td>0.0</td>\n",
       "      <td>0.0</td>\n",
       "      <td>0.0</td>\n",
       "      <td>0.0</td>\n",
       "      <td>0.0</td>\n",
       "      <td>0.00000</td>\n",
       "      <td>0.0</td>\n",
       "      <td>0.0</td>\n",
       "    </tr>\n",
       "  </tbody>\n",
       "</table>\n",
       "<p>5 rows × 71961 columns</p>\n",
       "</div>"
      ],
      "text/plain": [
       "             GSM741172  GSM741170  GSM741171  GSM907015  GSM1193921  \\\n",
       "gene_symbol                                                           \n",
       "IGHD3-10           0.0        0.0        0.0        0.0         0.0   \n",
       "IGHD3-9            0.0        0.0        0.0        0.0         0.0   \n",
       "IGHD2-8            0.0        0.0        0.0        0.0         0.0   \n",
       "IGHD3-16           0.0        0.0        0.0        0.0         0.0   \n",
       "IGHD3-3            0.0        0.0        0.0        0.0         0.0   \n",
       "\n",
       "             GSM1098188  GSM1193928  GSM1048186  GSM1216828  GSM1241249  ...  \\\n",
       "gene_symbol                                                              ...   \n",
       "IGHD3-10            0.0         0.0         0.0         0.0         0.0  ...   \n",
       "IGHD3-9             0.0         0.0         0.0         0.0         0.0  ...   \n",
       "IGHD2-8             0.0         0.0         0.0         0.0         0.0  ...   \n",
       "IGHD3-16            0.0         0.0         0.0         0.0         0.0  ...   \n",
       "IGHD3-3             0.0         0.0         0.0         0.0         0.0  ...   \n",
       "\n",
       "             GSM5572862  GSM5577332  GSM5577333  GSM5577334  GSM5577335  \\\n",
       "gene_symbol                                                               \n",
       "IGHD3-10            0.0         0.0         0.0         0.0         0.0   \n",
       "IGHD3-9             0.0         0.0         0.0         0.0         0.0   \n",
       "IGHD2-8             0.0         0.0         0.0         0.0         0.0   \n",
       "IGHD3-16            0.0         0.0         0.0         0.0         0.0   \n",
       "IGHD3-3             0.0         0.0         0.0         0.0         0.0   \n",
       "\n",
       "             GSM5577336  GSM5577337  GSM5580099  GSM5580100  GSM5580102  \n",
       "gene_symbol                                                              \n",
       "IGHD3-10            0.0         0.0     0.00000         0.0         0.0  \n",
       "IGHD3-9             0.0         0.0     0.00000         0.0         0.0  \n",
       "IGHD2-8             0.0         0.0     0.00000         0.0         0.0  \n",
       "IGHD3-16            0.0         0.0     2.38166         0.0         0.0  \n",
       "IGHD3-3             0.0         0.0     0.00000         0.0         0.0  \n",
       "\n",
       "[5 rows x 71961 columns]"
      ]
     },
     "execution_count": 127,
     "metadata": {},
     "output_type": "execute_result"
    }
   ],
   "source": [
    "exp_mat.head()"
   ]
  },
  {
   "cell_type": "code",
   "execution_count": 128,
   "metadata": {},
   "outputs": [
    {
     "data": {
      "text/plain": [
       "(178053, 71961)"
      ]
     },
     "execution_count": 128,
     "metadata": {},
     "output_type": "execute_result"
    }
   ],
   "source": [
    "exp_mat.shape"
   ]
  },
  {
   "cell_type": "code",
   "execution_count": 129,
   "metadata": {},
   "outputs": [
    {
     "data": {
      "text/plain": [
       "False"
      ]
     },
     "execution_count": 129,
     "metadata": {},
     "output_type": "execute_result"
    }
   ],
   "source": [
    "\"missing\" in exp_mat.index.values"
   ]
  },
  {
   "cell_type": "code",
   "execution_count": 130,
   "metadata": {},
   "outputs": [
    {
     "data": {
      "text/plain": [
       "False"
      ]
     },
     "execution_count": 130,
     "metadata": {},
     "output_type": "execute_result"
    }
   ],
   "source": [
    "\"nan\" in exp_mat.index.values"
   ]
  },
  {
   "cell_type": "code",
   "execution_count": 131,
   "metadata": {},
   "outputs": [],
   "source": [
    "exp_mat=exp_mat[bool_array]"
   ]
  },
  {
   "cell_type": "code",
   "execution_count": 132,
   "metadata": {},
   "outputs": [
    {
     "data": {
      "text/plain": [
       "(159117, 71961)"
      ]
     },
     "execution_count": 132,
     "metadata": {},
     "output_type": "execute_result"
    }
   ],
   "source": [
    "exp_mat.shape"
   ]
  },
  {
   "cell_type": "code",
   "execution_count": 133,
   "metadata": {},
   "outputs": [
    {
     "data": {
      "text/plain": [
       "20913"
      ]
     },
     "execution_count": 133,
     "metadata": {},
     "output_type": "execute_result"
    }
   ],
   "source": [
    "len(set(exp_mat.index.values))"
   ]
  },
  {
   "cell_type": "code",
   "execution_count": 134,
   "metadata": {},
   "outputs": [
    {
     "data": {
      "text/html": [
       "<div>\n",
       "<style scoped>\n",
       "    .dataframe tbody tr th:only-of-type {\n",
       "        vertical-align: middle;\n",
       "    }\n",
       "\n",
       "    .dataframe tbody tr th {\n",
       "        vertical-align: top;\n",
       "    }\n",
       "\n",
       "    .dataframe thead th {\n",
       "        text-align: right;\n",
       "    }\n",
       "</style>\n",
       "<table border=\"1\" class=\"dataframe\">\n",
       "  <thead>\n",
       "    <tr style=\"text-align: right;\">\n",
       "      <th></th>\n",
       "      <th>GSM741172</th>\n",
       "      <th>GSM741170</th>\n",
       "      <th>GSM741171</th>\n",
       "      <th>GSM907015</th>\n",
       "      <th>GSM1193921</th>\n",
       "      <th>GSM1098188</th>\n",
       "      <th>GSM1193928</th>\n",
       "      <th>GSM1048186</th>\n",
       "      <th>GSM1216828</th>\n",
       "      <th>GSM1241249</th>\n",
       "      <th>...</th>\n",
       "      <th>GSM5572862</th>\n",
       "      <th>GSM5577332</th>\n",
       "      <th>GSM5577333</th>\n",
       "      <th>GSM5577334</th>\n",
       "      <th>GSM5577335</th>\n",
       "      <th>GSM5577336</th>\n",
       "      <th>GSM5577337</th>\n",
       "      <th>GSM5580099</th>\n",
       "      <th>GSM5580100</th>\n",
       "      <th>GSM5580102</th>\n",
       "    </tr>\n",
       "    <tr>\n",
       "      <th>gene_symbol</th>\n",
       "      <th></th>\n",
       "      <th></th>\n",
       "      <th></th>\n",
       "      <th></th>\n",
       "      <th></th>\n",
       "      <th></th>\n",
       "      <th></th>\n",
       "      <th></th>\n",
       "      <th></th>\n",
       "      <th></th>\n",
       "      <th></th>\n",
       "      <th></th>\n",
       "      <th></th>\n",
       "      <th></th>\n",
       "      <th></th>\n",
       "      <th></th>\n",
       "      <th></th>\n",
       "      <th></th>\n",
       "      <th></th>\n",
       "      <th></th>\n",
       "      <th></th>\n",
       "    </tr>\n",
       "  </thead>\n",
       "  <tbody>\n",
       "    <tr>\n",
       "      <th>IGHD3-10</th>\n",
       "      <td>0.0</td>\n",
       "      <td>0.0</td>\n",
       "      <td>0.0</td>\n",
       "      <td>0.0</td>\n",
       "      <td>0.0</td>\n",
       "      <td>0.0</td>\n",
       "      <td>0.0</td>\n",
       "      <td>0.0</td>\n",
       "      <td>0.0</td>\n",
       "      <td>0.0</td>\n",
       "      <td>...</td>\n",
       "      <td>0.0</td>\n",
       "      <td>0.0</td>\n",
       "      <td>0.0</td>\n",
       "      <td>0.0</td>\n",
       "      <td>0.0</td>\n",
       "      <td>0.0</td>\n",
       "      <td>0.0</td>\n",
       "      <td>0.00000</td>\n",
       "      <td>0.0</td>\n",
       "      <td>0.0</td>\n",
       "    </tr>\n",
       "    <tr>\n",
       "      <th>IGHD3-9</th>\n",
       "      <td>0.0</td>\n",
       "      <td>0.0</td>\n",
       "      <td>0.0</td>\n",
       "      <td>0.0</td>\n",
       "      <td>0.0</td>\n",
       "      <td>0.0</td>\n",
       "      <td>0.0</td>\n",
       "      <td>0.0</td>\n",
       "      <td>0.0</td>\n",
       "      <td>0.0</td>\n",
       "      <td>...</td>\n",
       "      <td>0.0</td>\n",
       "      <td>0.0</td>\n",
       "      <td>0.0</td>\n",
       "      <td>0.0</td>\n",
       "      <td>0.0</td>\n",
       "      <td>0.0</td>\n",
       "      <td>0.0</td>\n",
       "      <td>0.00000</td>\n",
       "      <td>0.0</td>\n",
       "      <td>0.0</td>\n",
       "    </tr>\n",
       "    <tr>\n",
       "      <th>IGHD2-8</th>\n",
       "      <td>0.0</td>\n",
       "      <td>0.0</td>\n",
       "      <td>0.0</td>\n",
       "      <td>0.0</td>\n",
       "      <td>0.0</td>\n",
       "      <td>0.0</td>\n",
       "      <td>0.0</td>\n",
       "      <td>0.0</td>\n",
       "      <td>0.0</td>\n",
       "      <td>0.0</td>\n",
       "      <td>...</td>\n",
       "      <td>0.0</td>\n",
       "      <td>0.0</td>\n",
       "      <td>0.0</td>\n",
       "      <td>0.0</td>\n",
       "      <td>0.0</td>\n",
       "      <td>0.0</td>\n",
       "      <td>0.0</td>\n",
       "      <td>0.00000</td>\n",
       "      <td>0.0</td>\n",
       "      <td>0.0</td>\n",
       "    </tr>\n",
       "    <tr>\n",
       "      <th>IGHD3-16</th>\n",
       "      <td>0.0</td>\n",
       "      <td>0.0</td>\n",
       "      <td>0.0</td>\n",
       "      <td>0.0</td>\n",
       "      <td>0.0</td>\n",
       "      <td>0.0</td>\n",
       "      <td>0.0</td>\n",
       "      <td>0.0</td>\n",
       "      <td>0.0</td>\n",
       "      <td>0.0</td>\n",
       "      <td>...</td>\n",
       "      <td>0.0</td>\n",
       "      <td>0.0</td>\n",
       "      <td>0.0</td>\n",
       "      <td>0.0</td>\n",
       "      <td>0.0</td>\n",
       "      <td>0.0</td>\n",
       "      <td>0.0</td>\n",
       "      <td>2.38166</td>\n",
       "      <td>0.0</td>\n",
       "      <td>0.0</td>\n",
       "    </tr>\n",
       "    <tr>\n",
       "      <th>IGHD3-3</th>\n",
       "      <td>0.0</td>\n",
       "      <td>0.0</td>\n",
       "      <td>0.0</td>\n",
       "      <td>0.0</td>\n",
       "      <td>0.0</td>\n",
       "      <td>0.0</td>\n",
       "      <td>0.0</td>\n",
       "      <td>0.0</td>\n",
       "      <td>0.0</td>\n",
       "      <td>0.0</td>\n",
       "      <td>...</td>\n",
       "      <td>0.0</td>\n",
       "      <td>0.0</td>\n",
       "      <td>0.0</td>\n",
       "      <td>0.0</td>\n",
       "      <td>0.0</td>\n",
       "      <td>0.0</td>\n",
       "      <td>0.0</td>\n",
       "      <td>0.00000</td>\n",
       "      <td>0.0</td>\n",
       "      <td>0.0</td>\n",
       "    </tr>\n",
       "  </tbody>\n",
       "</table>\n",
       "<p>5 rows × 71961 columns</p>\n",
       "</div>"
      ],
      "text/plain": [
       "             GSM741172  GSM741170  GSM741171  GSM907015  GSM1193921  \\\n",
       "gene_symbol                                                           \n",
       "IGHD3-10           0.0        0.0        0.0        0.0         0.0   \n",
       "IGHD3-9            0.0        0.0        0.0        0.0         0.0   \n",
       "IGHD2-8            0.0        0.0        0.0        0.0         0.0   \n",
       "IGHD3-16           0.0        0.0        0.0        0.0         0.0   \n",
       "IGHD3-3            0.0        0.0        0.0        0.0         0.0   \n",
       "\n",
       "             GSM1098188  GSM1193928  GSM1048186  GSM1216828  GSM1241249  ...  \\\n",
       "gene_symbol                                                              ...   \n",
       "IGHD3-10            0.0         0.0         0.0         0.0         0.0  ...   \n",
       "IGHD3-9             0.0         0.0         0.0         0.0         0.0  ...   \n",
       "IGHD2-8             0.0         0.0         0.0         0.0         0.0  ...   \n",
       "IGHD3-16            0.0         0.0         0.0         0.0         0.0  ...   \n",
       "IGHD3-3             0.0         0.0         0.0         0.0         0.0  ...   \n",
       "\n",
       "             GSM5572862  GSM5577332  GSM5577333  GSM5577334  GSM5577335  \\\n",
       "gene_symbol                                                               \n",
       "IGHD3-10            0.0         0.0         0.0         0.0         0.0   \n",
       "IGHD3-9             0.0         0.0         0.0         0.0         0.0   \n",
       "IGHD2-8             0.0         0.0         0.0         0.0         0.0   \n",
       "IGHD3-16            0.0         0.0         0.0         0.0         0.0   \n",
       "IGHD3-3             0.0         0.0         0.0         0.0         0.0   \n",
       "\n",
       "             GSM5577336  GSM5577337  GSM5580099  GSM5580100  GSM5580102  \n",
       "gene_symbol                                                              \n",
       "IGHD3-10            0.0         0.0     0.00000         0.0         0.0  \n",
       "IGHD3-9             0.0         0.0     0.00000         0.0         0.0  \n",
       "IGHD2-8             0.0         0.0     0.00000         0.0         0.0  \n",
       "IGHD3-16            0.0         0.0     2.38166         0.0         0.0  \n",
       "IGHD3-3             0.0         0.0     0.00000         0.0         0.0  \n",
       "\n",
       "[5 rows x 71961 columns]"
      ]
     },
     "execution_count": 134,
     "metadata": {},
     "output_type": "execute_result"
    }
   ],
   "source": [
    "exp_mat.head()"
   ]
  },
  {
   "cell_type": "code",
   "execution_count": 135,
   "metadata": {},
   "outputs": [
    {
     "data": {
      "text/plain": [
       "False"
      ]
     },
     "execution_count": 135,
     "metadata": {},
     "output_type": "execute_result"
    }
   ],
   "source": [
    "\"missing\" in exp_mat.index.values"
   ]
  },
  {
   "cell_type": "code",
   "execution_count": 136,
   "metadata": {},
   "outputs": [
    {
     "data": {
      "text/plain": [
       "False"
      ]
     },
     "execution_count": 136,
     "metadata": {},
     "output_type": "execute_result"
    }
   ],
   "source": [
    "\"nan\" in exp_mat.index.values"
   ]
  },
  {
   "cell_type": "code",
   "execution_count": 137,
   "metadata": {},
   "outputs": [
    {
     "data": {
      "text/html": [
       "<div>\n",
       "<style scoped>\n",
       "    .dataframe tbody tr th:only-of-type {\n",
       "        vertical-align: middle;\n",
       "    }\n",
       "\n",
       "    .dataframe tbody tr th {\n",
       "        vertical-align: top;\n",
       "    }\n",
       "\n",
       "    .dataframe thead th {\n",
       "        text-align: right;\n",
       "    }\n",
       "</style>\n",
       "<table border=\"1\" class=\"dataframe\">\n",
       "  <thead>\n",
       "    <tr style=\"text-align: right;\">\n",
       "      <th></th>\n",
       "      <th>ens_tids</th>\n",
       "      <th>ens_gids</th>\n",
       "      <th>gene_symbol</th>\n",
       "    </tr>\n",
       "  </thead>\n",
       "  <tbody>\n",
       "    <tr>\n",
       "      <th>9</th>\n",
       "      <td>ENST00000632609</td>\n",
       "      <td>ENSG00000282373</td>\n",
       "      <td>IGHD3-10</td>\n",
       "    </tr>\n",
       "    <tr>\n",
       "      <th>11</th>\n",
       "      <td>ENST00000632911</td>\n",
       "      <td>ENSG00000281939</td>\n",
       "      <td>IGHD3-9</td>\n",
       "    </tr>\n",
       "    <tr>\n",
       "      <th>12</th>\n",
       "      <td>ENST00000633504</td>\n",
       "      <td>ENSG00000282132</td>\n",
       "      <td>IGHD2-8</td>\n",
       "    </tr>\n",
       "    <tr>\n",
       "      <th>25</th>\n",
       "      <td>ENST00000390577</td>\n",
       "      <td>ENSG00000211917</td>\n",
       "      <td>IGHD3-16</td>\n",
       "    </tr>\n",
       "    <tr>\n",
       "      <th>28</th>\n",
       "      <td>ENST00000633353</td>\n",
       "      <td>ENSG00000282754</td>\n",
       "      <td>IGHD3-3</td>\n",
       "    </tr>\n",
       "  </tbody>\n",
       "</table>\n",
       "</div>"
      ],
      "text/plain": [
       "           ens_tids         ens_gids gene_symbol\n",
       "9   ENST00000632609  ENSG00000282373    IGHD3-10\n",
       "11  ENST00000632911  ENSG00000281939     IGHD3-9\n",
       "12  ENST00000633504  ENSG00000282132     IGHD2-8\n",
       "25  ENST00000390577  ENSG00000211917    IGHD3-16\n",
       "28  ENST00000633353  ENSG00000282754     IGHD3-3"
      ]
     },
     "execution_count": 137,
     "metadata": {},
     "output_type": "execute_result"
    }
   ],
   "source": [
    "id_mapping.head()\n"
   ]
  },
  {
   "cell_type": "code",
   "execution_count": 138,
   "metadata": {},
   "outputs": [
    {
     "data": {
      "text/plain": [
       "(178053, 3)"
      ]
     },
     "execution_count": 138,
     "metadata": {},
     "output_type": "execute_result"
    }
   ],
   "source": [
    "id_mapping.shape"
   ]
  },
  {
   "cell_type": "code",
   "execution_count": 139,
   "metadata": {},
   "outputs": [],
   "source": [
    "id_mapping_nop=id_mapping[bool_array]"
   ]
  },
  {
   "cell_type": "code",
   "execution_count": 140,
   "metadata": {},
   "outputs": [
    {
     "data": {
      "text/plain": [
       "(159117, 3)"
      ]
     },
     "execution_count": 140,
     "metadata": {},
     "output_type": "execute_result"
    }
   ],
   "source": [
    "id_mapping_nop.shape"
   ]
  },
  {
   "cell_type": "code",
   "execution_count": 141,
   "metadata": {},
   "outputs": [
    {
     "data": {
      "text/plain": [
       "False"
      ]
     },
     "execution_count": 141,
     "metadata": {},
     "output_type": "execute_result"
    }
   ],
   "source": [
    "\"nan\" in id_mapping_nop[\"gene_symbol\"]"
   ]
  },
  {
   "cell_type": "code",
   "execution_count": 142,
   "metadata": {},
   "outputs": [
    {
     "data": {
      "text/plain": [
       "False"
      ]
     },
     "execution_count": 142,
     "metadata": {},
     "output_type": "execute_result"
    }
   ],
   "source": [
    "\"missing\" in id_mapping_nop[\"gene_symbol\"]"
   ]
  },
  {
   "cell_type": "code",
   "execution_count": 143,
   "metadata": {},
   "outputs": [
    {
     "data": {
      "text/html": [
       "<div>\n",
       "<style scoped>\n",
       "    .dataframe tbody tr th:only-of-type {\n",
       "        vertical-align: middle;\n",
       "    }\n",
       "\n",
       "    .dataframe tbody tr th {\n",
       "        vertical-align: top;\n",
       "    }\n",
       "\n",
       "    .dataframe thead th {\n",
       "        text-align: right;\n",
       "    }\n",
       "</style>\n",
       "<table border=\"1\" class=\"dataframe\">\n",
       "  <thead>\n",
       "    <tr style=\"text-align: right;\">\n",
       "      <th></th>\n",
       "      <th>ens_tids</th>\n",
       "      <th>ens_gids</th>\n",
       "      <th>gene_symbol</th>\n",
       "    </tr>\n",
       "  </thead>\n",
       "  <tbody>\n",
       "    <tr>\n",
       "      <th>9</th>\n",
       "      <td>ENST00000632609</td>\n",
       "      <td>ENSG00000282373</td>\n",
       "      <td>IGHD3-10</td>\n",
       "    </tr>\n",
       "    <tr>\n",
       "      <th>11</th>\n",
       "      <td>ENST00000632911</td>\n",
       "      <td>ENSG00000281939</td>\n",
       "      <td>IGHD3-9</td>\n",
       "    </tr>\n",
       "    <tr>\n",
       "      <th>12</th>\n",
       "      <td>ENST00000633504</td>\n",
       "      <td>ENSG00000282132</td>\n",
       "      <td>IGHD2-8</td>\n",
       "    </tr>\n",
       "    <tr>\n",
       "      <th>25</th>\n",
       "      <td>ENST00000390577</td>\n",
       "      <td>ENSG00000211917</td>\n",
       "      <td>IGHD3-16</td>\n",
       "    </tr>\n",
       "    <tr>\n",
       "      <th>28</th>\n",
       "      <td>ENST00000633353</td>\n",
       "      <td>ENSG00000282754</td>\n",
       "      <td>IGHD3-3</td>\n",
       "    </tr>\n",
       "  </tbody>\n",
       "</table>\n",
       "</div>"
      ],
      "text/plain": [
       "           ens_tids         ens_gids gene_symbol\n",
       "9   ENST00000632609  ENSG00000282373    IGHD3-10\n",
       "11  ENST00000632911  ENSG00000281939     IGHD3-9\n",
       "12  ENST00000633504  ENSG00000282132     IGHD2-8\n",
       "25  ENST00000390577  ENSG00000211917    IGHD3-16\n",
       "28  ENST00000633353  ENSG00000282754     IGHD3-3"
      ]
     },
     "execution_count": 143,
     "metadata": {},
     "output_type": "execute_result"
    }
   ],
   "source": [
    "id_mapping_nop.head()"
   ]
  },
  {
   "cell_type": "code",
   "execution_count": 144,
   "metadata": {},
   "outputs": [],
   "source": [
    "id_mapping_nop.to_csv(\"id_mapping_V11_nop.csv\")"
   ]
  },
  {
   "cell_type": "code",
   "execution_count": 145,
   "metadata": {},
   "outputs": [],
   "source": [
    "np.save(\"genes_tpm_v11_tlevel.npy\",exp_mat.index.values)\n",
    "np.save(\"samples_tpm_v11_tlevel.npy\",exp_mat.columns.values)\n",
    "np.save(\"results_tpm_v11_tlevel.npy\",exp_mat.values)"
   ]
  },
  {
   "cell_type": "markdown",
   "metadata": {},
   "source": [
    "## Merging transcript level TPM to gene level TPM"
   ]
  },
  {
   "cell_type": "markdown",
   "metadata": {},
   "source": [
    "#### merging synonym genes"
   ]
  },
  {
   "cell_type": "code",
   "execution_count": 71,
   "metadata": {},
   "outputs": [],
   "source": [
    "id_mapping_nop=pd.read_csv(\"id_mapping_V11_nop.csv\",index_col=0)"
   ]
  },
  {
   "cell_type": "code",
   "execution_count": 72,
   "metadata": {},
   "outputs": [
    {
     "data": {
      "text/html": [
       "<div>\n",
       "<style scoped>\n",
       "    .dataframe tbody tr th:only-of-type {\n",
       "        vertical-align: middle;\n",
       "    }\n",
       "\n",
       "    .dataframe tbody tr th {\n",
       "        vertical-align: top;\n",
       "    }\n",
       "\n",
       "    .dataframe thead th {\n",
       "        text-align: right;\n",
       "    }\n",
       "</style>\n",
       "<table border=\"1\" class=\"dataframe\">\n",
       "  <thead>\n",
       "    <tr style=\"text-align: right;\">\n",
       "      <th></th>\n",
       "      <th>ens_tids</th>\n",
       "      <th>ens_gids</th>\n",
       "      <th>gene_symbol</th>\n",
       "    </tr>\n",
       "  </thead>\n",
       "  <tbody>\n",
       "    <tr>\n",
       "      <th>9</th>\n",
       "      <td>ENST00000632609</td>\n",
       "      <td>ENSG00000282373</td>\n",
       "      <td>IGHD3-10</td>\n",
       "    </tr>\n",
       "    <tr>\n",
       "      <th>11</th>\n",
       "      <td>ENST00000632911</td>\n",
       "      <td>ENSG00000281939</td>\n",
       "      <td>IGHD3-9</td>\n",
       "    </tr>\n",
       "    <tr>\n",
       "      <th>12</th>\n",
       "      <td>ENST00000633504</td>\n",
       "      <td>ENSG00000282132</td>\n",
       "      <td>IGHD2-8</td>\n",
       "    </tr>\n",
       "    <tr>\n",
       "      <th>25</th>\n",
       "      <td>ENST00000390577</td>\n",
       "      <td>ENSG00000211917</td>\n",
       "      <td>IGHD3-16</td>\n",
       "    </tr>\n",
       "    <tr>\n",
       "      <th>28</th>\n",
       "      <td>ENST00000633353</td>\n",
       "      <td>ENSG00000282754</td>\n",
       "      <td>IGHD3-3</td>\n",
       "    </tr>\n",
       "  </tbody>\n",
       "</table>\n",
       "</div>"
      ],
      "text/plain": [
       "           ens_tids         ens_gids gene_symbol\n",
       "9   ENST00000632609  ENSG00000282373    IGHD3-10\n",
       "11  ENST00000632911  ENSG00000281939     IGHD3-9\n",
       "12  ENST00000633504  ENSG00000282132     IGHD2-8\n",
       "25  ENST00000390577  ENSG00000211917    IGHD3-16\n",
       "28  ENST00000633353  ENSG00000282754     IGHD3-3"
      ]
     },
     "execution_count": 72,
     "metadata": {},
     "output_type": "execute_result"
    }
   ],
   "source": [
    "id_mapping_nop.head()"
   ]
  },
  {
   "cell_type": "code",
   "execution_count": 73,
   "metadata": {},
   "outputs": [],
   "source": [
    "id_map2=id_mapping_nop.reset_index()\n",
    "id_map2=id_map2.set_index(\"ens_gids\")"
   ]
  },
  {
   "cell_type": "code",
   "execution_count": 74,
   "metadata": {},
   "outputs": [
    {
     "data": {
      "text/html": [
       "<div>\n",
       "<style scoped>\n",
       "    .dataframe tbody tr th:only-of-type {\n",
       "        vertical-align: middle;\n",
       "    }\n",
       "\n",
       "    .dataframe tbody tr th {\n",
       "        vertical-align: top;\n",
       "    }\n",
       "\n",
       "    .dataframe thead th {\n",
       "        text-align: right;\n",
       "    }\n",
       "</style>\n",
       "<table border=\"1\" class=\"dataframe\">\n",
       "  <thead>\n",
       "    <tr style=\"text-align: right;\">\n",
       "      <th></th>\n",
       "      <th>index</th>\n",
       "      <th>ens_tids</th>\n",
       "      <th>gene_symbol</th>\n",
       "    </tr>\n",
       "    <tr>\n",
       "      <th>ens_gids</th>\n",
       "      <th></th>\n",
       "      <th></th>\n",
       "      <th></th>\n",
       "    </tr>\n",
       "  </thead>\n",
       "  <tbody>\n",
       "    <tr>\n",
       "      <th>ENSG00000282373</th>\n",
       "      <td>9</td>\n",
       "      <td>ENST00000632609</td>\n",
       "      <td>IGHD3-10</td>\n",
       "    </tr>\n",
       "    <tr>\n",
       "      <th>ENSG00000281939</th>\n",
       "      <td>11</td>\n",
       "      <td>ENST00000632911</td>\n",
       "      <td>IGHD3-9</td>\n",
       "    </tr>\n",
       "    <tr>\n",
       "      <th>ENSG00000282132</th>\n",
       "      <td>12</td>\n",
       "      <td>ENST00000633504</td>\n",
       "      <td>IGHD2-8</td>\n",
       "    </tr>\n",
       "    <tr>\n",
       "      <th>ENSG00000211917</th>\n",
       "      <td>25</td>\n",
       "      <td>ENST00000390577</td>\n",
       "      <td>IGHD3-16</td>\n",
       "    </tr>\n",
       "    <tr>\n",
       "      <th>ENSG00000282754</th>\n",
       "      <td>28</td>\n",
       "      <td>ENST00000633353</td>\n",
       "      <td>IGHD3-3</td>\n",
       "    </tr>\n",
       "    <tr>\n",
       "      <th>...</th>\n",
       "      <td>...</td>\n",
       "      <td>...</td>\n",
       "      <td>...</td>\n",
       "    </tr>\n",
       "    <tr>\n",
       "      <th>ENSG00000274457</th>\n",
       "      <td>177708</td>\n",
       "      <td>ENST00000619824</td>\n",
       "      <td>AC000041.10</td>\n",
       "    </tr>\n",
       "    <tr>\n",
       "      <th>ENSG00000277208</th>\n",
       "      <td>177718</td>\n",
       "      <td>ENST00000619807</td>\n",
       "      <td>RP11-12A20.11</td>\n",
       "    </tr>\n",
       "    <tr>\n",
       "      <th>ENSG00000279169</th>\n",
       "      <td>177731</td>\n",
       "      <td>ENST00000625019</td>\n",
       "      <td>PRAMEF13</td>\n",
       "    </tr>\n",
       "    <tr>\n",
       "      <th>ENSG00000242879</th>\n",
       "      <td>177773</td>\n",
       "      <td>ENST00000437993</td>\n",
       "      <td>AC006335.11</td>\n",
       "    </tr>\n",
       "    <tr>\n",
       "      <th>ENSG00000254962</th>\n",
       "      <td>177981</td>\n",
       "      <td>ENST00000525705</td>\n",
       "      <td>OR4A14P</td>\n",
       "    </tr>\n",
       "  </tbody>\n",
       "</table>\n",
       "<p>159117 rows × 3 columns</p>\n",
       "</div>"
      ],
      "text/plain": [
       "                  index         ens_tids    gene_symbol\n",
       "ens_gids                                               \n",
       "ENSG00000282373       9  ENST00000632609       IGHD3-10\n",
       "ENSG00000281939      11  ENST00000632911        IGHD3-9\n",
       "ENSG00000282132      12  ENST00000633504        IGHD2-8\n",
       "ENSG00000211917      25  ENST00000390577       IGHD3-16\n",
       "ENSG00000282754      28  ENST00000633353        IGHD3-3\n",
       "...                 ...              ...            ...\n",
       "ENSG00000274457  177708  ENST00000619824    AC000041.10\n",
       "ENSG00000277208  177718  ENST00000619807  RP11-12A20.11\n",
       "ENSG00000279169  177731  ENST00000625019       PRAMEF13\n",
       "ENSG00000242879  177773  ENST00000437993    AC006335.11\n",
       "ENSG00000254962  177981  ENST00000525705        OR4A14P\n",
       "\n",
       "[159117 rows x 3 columns]"
      ]
     },
     "execution_count": 74,
     "metadata": {},
     "output_type": "execute_result"
    }
   ],
   "source": [
    "id_map2"
   ]
  },
  {
   "cell_type": "code",
   "execution_count": 75,
   "metadata": {},
   "outputs": [],
   "source": [
    "id_map2.drop_duplicates(\"gene_symbol\",inplace=True)"
   ]
  },
  {
   "cell_type": "code",
   "execution_count": 76,
   "metadata": {},
   "outputs": [
    {
     "data": {
      "text/html": [
       "<div>\n",
       "<style scoped>\n",
       "    .dataframe tbody tr th:only-of-type {\n",
       "        vertical-align: middle;\n",
       "    }\n",
       "\n",
       "    .dataframe tbody tr th {\n",
       "        vertical-align: top;\n",
       "    }\n",
       "\n",
       "    .dataframe thead th {\n",
       "        text-align: right;\n",
       "    }\n",
       "</style>\n",
       "<table border=\"1\" class=\"dataframe\">\n",
       "  <thead>\n",
       "    <tr style=\"text-align: right;\">\n",
       "      <th></th>\n",
       "      <th>index</th>\n",
       "      <th>ens_tids</th>\n",
       "      <th>gene_symbol</th>\n",
       "    </tr>\n",
       "    <tr>\n",
       "      <th>ens_gids</th>\n",
       "      <th></th>\n",
       "      <th></th>\n",
       "      <th></th>\n",
       "    </tr>\n",
       "  </thead>\n",
       "  <tbody>\n",
       "    <tr>\n",
       "      <th>ENSG00000282373</th>\n",
       "      <td>9</td>\n",
       "      <td>ENST00000632609</td>\n",
       "      <td>IGHD3-10</td>\n",
       "    </tr>\n",
       "    <tr>\n",
       "      <th>ENSG00000281939</th>\n",
       "      <td>11</td>\n",
       "      <td>ENST00000632911</td>\n",
       "      <td>IGHD3-9</td>\n",
       "    </tr>\n",
       "    <tr>\n",
       "      <th>ENSG00000282132</th>\n",
       "      <td>12</td>\n",
       "      <td>ENST00000633504</td>\n",
       "      <td>IGHD2-8</td>\n",
       "    </tr>\n",
       "    <tr>\n",
       "      <th>ENSG00000211917</th>\n",
       "      <td>25</td>\n",
       "      <td>ENST00000390577</td>\n",
       "      <td>IGHD3-16</td>\n",
       "    </tr>\n",
       "    <tr>\n",
       "      <th>ENSG00000282754</th>\n",
       "      <td>28</td>\n",
       "      <td>ENST00000633353</td>\n",
       "      <td>IGHD3-3</td>\n",
       "    </tr>\n",
       "    <tr>\n",
       "      <th>...</th>\n",
       "      <td>...</td>\n",
       "      <td>...</td>\n",
       "      <td>...</td>\n",
       "    </tr>\n",
       "    <tr>\n",
       "      <th>ENSG00000275614</th>\n",
       "      <td>177694</td>\n",
       "      <td>ENST00000622239</td>\n",
       "      <td>RP11-12A20.12</td>\n",
       "    </tr>\n",
       "    <tr>\n",
       "      <th>ENSG00000274457</th>\n",
       "      <td>177708</td>\n",
       "      <td>ENST00000619824</td>\n",
       "      <td>AC000041.10</td>\n",
       "    </tr>\n",
       "    <tr>\n",
       "      <th>ENSG00000277208</th>\n",
       "      <td>177718</td>\n",
       "      <td>ENST00000619807</td>\n",
       "      <td>RP11-12A20.11</td>\n",
       "    </tr>\n",
       "    <tr>\n",
       "      <th>ENSG00000242879</th>\n",
       "      <td>177773</td>\n",
       "      <td>ENST00000437993</td>\n",
       "      <td>AC006335.11</td>\n",
       "    </tr>\n",
       "    <tr>\n",
       "      <th>ENSG00000254962</th>\n",
       "      <td>177981</td>\n",
       "      <td>ENST00000525705</td>\n",
       "      <td>OR4A14P</td>\n",
       "    </tr>\n",
       "  </tbody>\n",
       "</table>\n",
       "<p>20913 rows × 3 columns</p>\n",
       "</div>"
      ],
      "text/plain": [
       "                  index         ens_tids    gene_symbol\n",
       "ens_gids                                               \n",
       "ENSG00000282373       9  ENST00000632609       IGHD3-10\n",
       "ENSG00000281939      11  ENST00000632911        IGHD3-9\n",
       "ENSG00000282132      12  ENST00000633504        IGHD2-8\n",
       "ENSG00000211917      25  ENST00000390577       IGHD3-16\n",
       "ENSG00000282754      28  ENST00000633353        IGHD3-3\n",
       "...                 ...              ...            ...\n",
       "ENSG00000275614  177694  ENST00000622239  RP11-12A20.12\n",
       "ENSG00000274457  177708  ENST00000619824    AC000041.10\n",
       "ENSG00000277208  177718  ENST00000619807  RP11-12A20.11\n",
       "ENSG00000242879  177773  ENST00000437993    AC006335.11\n",
       "ENSG00000254962  177981  ENST00000525705        OR4A14P\n",
       "\n",
       "[20913 rows x 3 columns]"
      ]
     },
     "execution_count": 76,
     "metadata": {},
     "output_type": "execute_result"
    }
   ],
   "source": [
    "id_map2"
   ]
  },
  {
   "cell_type": "code",
   "execution_count": 77,
   "metadata": {},
   "outputs": [],
   "source": [
    "id_map2=id_map2.reset_index()\n",
    "id_map2=id_map2.set_index(\"gene_symbol\")"
   ]
  },
  {
   "cell_type": "code",
   "execution_count": 78,
   "metadata": {},
   "outputs": [
    {
     "data": {
      "text/html": [
       "<div>\n",
       "<style scoped>\n",
       "    .dataframe tbody tr th:only-of-type {\n",
       "        vertical-align: middle;\n",
       "    }\n",
       "\n",
       "    .dataframe tbody tr th {\n",
       "        vertical-align: top;\n",
       "    }\n",
       "\n",
       "    .dataframe thead th {\n",
       "        text-align: right;\n",
       "    }\n",
       "</style>\n",
       "<table border=\"1\" class=\"dataframe\">\n",
       "  <thead>\n",
       "    <tr style=\"text-align: right;\">\n",
       "      <th></th>\n",
       "      <th>ens_gids</th>\n",
       "      <th>index</th>\n",
       "      <th>ens_tids</th>\n",
       "    </tr>\n",
       "    <tr>\n",
       "      <th>gene_symbol</th>\n",
       "      <th></th>\n",
       "      <th></th>\n",
       "      <th></th>\n",
       "    </tr>\n",
       "  </thead>\n",
       "  <tbody>\n",
       "    <tr>\n",
       "      <th>IGHD3-10</th>\n",
       "      <td>ENSG00000282373</td>\n",
       "      <td>9</td>\n",
       "      <td>ENST00000632609</td>\n",
       "    </tr>\n",
       "    <tr>\n",
       "      <th>IGHD3-9</th>\n",
       "      <td>ENSG00000281939</td>\n",
       "      <td>11</td>\n",
       "      <td>ENST00000632911</td>\n",
       "    </tr>\n",
       "    <tr>\n",
       "      <th>IGHD2-8</th>\n",
       "      <td>ENSG00000282132</td>\n",
       "      <td>12</td>\n",
       "      <td>ENST00000633504</td>\n",
       "    </tr>\n",
       "    <tr>\n",
       "      <th>IGHD3-16</th>\n",
       "      <td>ENSG00000211917</td>\n",
       "      <td>25</td>\n",
       "      <td>ENST00000390577</td>\n",
       "    </tr>\n",
       "    <tr>\n",
       "      <th>IGHD3-3</th>\n",
       "      <td>ENSG00000282754</td>\n",
       "      <td>28</td>\n",
       "      <td>ENST00000633353</td>\n",
       "    </tr>\n",
       "    <tr>\n",
       "      <th>...</th>\n",
       "      <td>...</td>\n",
       "      <td>...</td>\n",
       "      <td>...</td>\n",
       "    </tr>\n",
       "    <tr>\n",
       "      <th>RP11-12A20.12</th>\n",
       "      <td>ENSG00000275614</td>\n",
       "      <td>177694</td>\n",
       "      <td>ENST00000622239</td>\n",
       "    </tr>\n",
       "    <tr>\n",
       "      <th>AC000041.10</th>\n",
       "      <td>ENSG00000274457</td>\n",
       "      <td>177708</td>\n",
       "      <td>ENST00000619824</td>\n",
       "    </tr>\n",
       "    <tr>\n",
       "      <th>RP11-12A20.11</th>\n",
       "      <td>ENSG00000277208</td>\n",
       "      <td>177718</td>\n",
       "      <td>ENST00000619807</td>\n",
       "    </tr>\n",
       "    <tr>\n",
       "      <th>AC006335.11</th>\n",
       "      <td>ENSG00000242879</td>\n",
       "      <td>177773</td>\n",
       "      <td>ENST00000437993</td>\n",
       "    </tr>\n",
       "    <tr>\n",
       "      <th>OR4A14P</th>\n",
       "      <td>ENSG00000254962</td>\n",
       "      <td>177981</td>\n",
       "      <td>ENST00000525705</td>\n",
       "    </tr>\n",
       "  </tbody>\n",
       "</table>\n",
       "<p>20913 rows × 3 columns</p>\n",
       "</div>"
      ],
      "text/plain": [
       "                      ens_gids   index         ens_tids\n",
       "gene_symbol                                            \n",
       "IGHD3-10       ENSG00000282373       9  ENST00000632609\n",
       "IGHD3-9        ENSG00000281939      11  ENST00000632911\n",
       "IGHD2-8        ENSG00000282132      12  ENST00000633504\n",
       "IGHD3-16       ENSG00000211917      25  ENST00000390577\n",
       "IGHD3-3        ENSG00000282754      28  ENST00000633353\n",
       "...                        ...     ...              ...\n",
       "RP11-12A20.12  ENSG00000275614  177694  ENST00000622239\n",
       "AC000041.10    ENSG00000274457  177708  ENST00000619824\n",
       "RP11-12A20.11  ENSG00000277208  177718  ENST00000619807\n",
       "AC006335.11    ENSG00000242879  177773  ENST00000437993\n",
       "OR4A14P        ENSG00000254962  177981  ENST00000525705\n",
       "\n",
       "[20913 rows x 3 columns]"
      ]
     },
     "execution_count": 78,
     "metadata": {},
     "output_type": "execute_result"
    }
   ],
   "source": [
    "id_map2"
   ]
  },
  {
   "cell_type": "code",
   "execution_count": 79,
   "metadata": {},
   "outputs": [],
   "source": [
    "duplicated=id_map2[id_map2.duplicated(\"ens_gids\")].ens_gids.values"
   ]
  },
  {
   "cell_type": "code",
   "execution_count": 80,
   "metadata": {},
   "outputs": [],
   "source": [
    "id_map2=id_map2.reset_index()\n",
    "id_map2=id_map2.set_index(\"ens_gids\")"
   ]
  },
  {
   "cell_type": "code",
   "execution_count": 81,
   "metadata": {},
   "outputs": [],
   "source": [
    "id_map2.loc[duplicated].to_csv(\"duplicated_genes.csv\")"
   ]
  },
  {
   "cell_type": "code",
   "execution_count": 82,
   "metadata": {},
   "outputs": [],
   "source": [
    "id_map2=pd.read_csv(\"duplicated_genes_curated.csv\")"
   ]
  },
  {
   "cell_type": "code",
   "execution_count": 83,
   "metadata": {},
   "outputs": [
    {
     "data": {
      "text/html": [
       "<div>\n",
       "<style scoped>\n",
       "    .dataframe tbody tr th:only-of-type {\n",
       "        vertical-align: middle;\n",
       "    }\n",
       "\n",
       "    .dataframe tbody tr th {\n",
       "        vertical-align: top;\n",
       "    }\n",
       "\n",
       "    .dataframe thead th {\n",
       "        text-align: right;\n",
       "    }\n",
       "</style>\n",
       "<table border=\"1\" class=\"dataframe\">\n",
       "  <thead>\n",
       "    <tr style=\"text-align: right;\">\n",
       "      <th></th>\n",
       "      <th>ens_gids</th>\n",
       "      <th>gene_symbol</th>\n",
       "      <th>new_symbol</th>\n",
       "      <th>type</th>\n",
       "    </tr>\n",
       "  </thead>\n",
       "  <tbody>\n",
       "    <tr>\n",
       "      <th>26</th>\n",
       "      <td>ENSG00000204677</td>\n",
       "      <td>FAM153C</td>\n",
       "      <td>FAM153CP</td>\n",
       "      <td>pseudogene</td>\n",
       "    </tr>\n",
       "    <tr>\n",
       "      <th>27</th>\n",
       "      <td>ENSG00000204677</td>\n",
       "      <td>FAM153CP</td>\n",
       "      <td>FAM153CP</td>\n",
       "      <td>pseudogene</td>\n",
       "    </tr>\n",
       "    <tr>\n",
       "      <th>60</th>\n",
       "      <td>ENSG00000212719</td>\n",
       "      <td>C17orf51</td>\n",
       "      <td>LINC02693</td>\n",
       "      <td>RNA</td>\n",
       "    </tr>\n",
       "    <tr>\n",
       "      <th>61</th>\n",
       "      <td>ENSG00000212719</td>\n",
       "      <td>LINC02693</td>\n",
       "      <td>LINC02693</td>\n",
       "      <td>RNA</td>\n",
       "    </tr>\n",
       "    <tr>\n",
       "      <th>62</th>\n",
       "      <td>ENSG00000277288</td>\n",
       "      <td>C10orf142</td>\n",
       "      <td>LINC02881</td>\n",
       "      <td>RNA</td>\n",
       "    </tr>\n",
       "    <tr>\n",
       "      <th>63</th>\n",
       "      <td>ENSG00000277288</td>\n",
       "      <td>LINC02881</td>\n",
       "      <td>LINC02881</td>\n",
       "      <td>RNA</td>\n",
       "    </tr>\n",
       "    <tr>\n",
       "      <th>66</th>\n",
       "      <td>ENSG00000125462</td>\n",
       "      <td>C1orf61</td>\n",
       "      <td>MIR9-1HG</td>\n",
       "      <td>RNA</td>\n",
       "    </tr>\n",
       "    <tr>\n",
       "      <th>67</th>\n",
       "      <td>ENSG00000125462</td>\n",
       "      <td>MIR9-1HG</td>\n",
       "      <td>MIR9-1HG</td>\n",
       "      <td>RNA</td>\n",
       "    </tr>\n",
       "    <tr>\n",
       "      <th>80</th>\n",
       "      <td>ENSG00000188086</td>\n",
       "      <td>PRSS45</td>\n",
       "      <td>PRSS45P</td>\n",
       "      <td>pseudogene</td>\n",
       "    </tr>\n",
       "    <tr>\n",
       "      <th>81</th>\n",
       "      <td>ENSG00000188086</td>\n",
       "      <td>PRSS45P</td>\n",
       "      <td>PRSS45P</td>\n",
       "      <td>pseudogene</td>\n",
       "    </tr>\n",
       "    <tr>\n",
       "      <th>92</th>\n",
       "      <td>ENSG00000188004</td>\n",
       "      <td>C1orf204</td>\n",
       "      <td>SNHG28</td>\n",
       "      <td>RNA</td>\n",
       "    </tr>\n",
       "    <tr>\n",
       "      <th>93</th>\n",
       "      <td>ENSG00000188004</td>\n",
       "      <td>SNHG28</td>\n",
       "      <td>SNHG28</td>\n",
       "      <td>RNA</td>\n",
       "    </tr>\n",
       "    <tr>\n",
       "      <th>98</th>\n",
       "      <td>ENSG00000283528</td>\n",
       "      <td>RP11-298A10.1</td>\n",
       "      <td>TCAF2C</td>\n",
       "      <td>pseudogene</td>\n",
       "    </tr>\n",
       "    <tr>\n",
       "      <th>99</th>\n",
       "      <td>ENSG00000283528</td>\n",
       "      <td>TCAF2C</td>\n",
       "      <td>TCAF2C</td>\n",
       "      <td>pseudogene</td>\n",
       "    </tr>\n",
       "    <tr>\n",
       "      <th>100</th>\n",
       "      <td>ENSG00000275553</td>\n",
       "      <td>ELOA3CP</td>\n",
       "      <td>ELOA3CP</td>\n",
       "      <td>pseudogene</td>\n",
       "    </tr>\n",
       "    <tr>\n",
       "      <th>101</th>\n",
       "      <td>ENSG00000275553</td>\n",
       "      <td>TCEB3CL</td>\n",
       "      <td>ELOA3CP</td>\n",
       "      <td>pseudogene</td>\n",
       "    </tr>\n",
       "    <tr>\n",
       "      <th>106</th>\n",
       "      <td>ENSG00000187600</td>\n",
       "      <td>LINC02583</td>\n",
       "      <td>LINC02583</td>\n",
       "      <td>RNA</td>\n",
       "    </tr>\n",
       "    <tr>\n",
       "      <th>107</th>\n",
       "      <td>ENSG00000187600</td>\n",
       "      <td>TMEM247</td>\n",
       "      <td>LINC02583</td>\n",
       "      <td>RNA</td>\n",
       "    </tr>\n",
       "  </tbody>\n",
       "</table>\n",
       "</div>"
      ],
      "text/plain": [
       "            ens_gids    gene_symbol new_symbol        type\n",
       "26   ENSG00000204677        FAM153C   FAM153CP  pseudogene\n",
       "27   ENSG00000204677       FAM153CP   FAM153CP  pseudogene\n",
       "60   ENSG00000212719       C17orf51  LINC02693         RNA\n",
       "61   ENSG00000212719      LINC02693  LINC02693         RNA\n",
       "62   ENSG00000277288      C10orf142  LINC02881         RNA\n",
       "63   ENSG00000277288      LINC02881  LINC02881         RNA\n",
       "66   ENSG00000125462        C1orf61   MIR9-1HG         RNA\n",
       "67   ENSG00000125462       MIR9-1HG   MIR9-1HG         RNA\n",
       "80   ENSG00000188086         PRSS45    PRSS45P  pseudogene\n",
       "81   ENSG00000188086        PRSS45P    PRSS45P  pseudogene\n",
       "92   ENSG00000188004       C1orf204     SNHG28         RNA\n",
       "93   ENSG00000188004         SNHG28     SNHG28         RNA\n",
       "98   ENSG00000283528  RP11-298A10.1     TCAF2C  pseudogene\n",
       "99   ENSG00000283528         TCAF2C     TCAF2C  pseudogene\n",
       "100  ENSG00000275553        ELOA3CP    ELOA3CP  pseudogene\n",
       "101  ENSG00000275553        TCEB3CL    ELOA3CP  pseudogene\n",
       "106  ENSG00000187600      LINC02583  LINC02583         RNA\n",
       "107  ENSG00000187600        TMEM247  LINC02583         RNA"
      ]
     },
     "execution_count": 83,
     "metadata": {},
     "output_type": "execute_result"
    }
   ],
   "source": [
    "id_map2[id_map2[\"type\"]!=\"protein_coding\"]"
   ]
  },
  {
   "cell_type": "code",
   "execution_count": 85,
   "metadata": {},
   "outputs": [],
   "source": [
    "id_mapping_nop.set_index(\"gene_symbol\",drop=False,inplace=True)"
   ]
  },
  {
   "cell_type": "code",
   "execution_count": 86,
   "metadata": {},
   "outputs": [
    {
     "data": {
      "text/html": [
       "<div>\n",
       "<style scoped>\n",
       "    .dataframe tbody tr th:only-of-type {\n",
       "        vertical-align: middle;\n",
       "    }\n",
       "\n",
       "    .dataframe tbody tr th {\n",
       "        vertical-align: top;\n",
       "    }\n",
       "\n",
       "    .dataframe thead th {\n",
       "        text-align: right;\n",
       "    }\n",
       "</style>\n",
       "<table border=\"1\" class=\"dataframe\">\n",
       "  <thead>\n",
       "    <tr style=\"text-align: right;\">\n",
       "      <th></th>\n",
       "      <th>ens_tids</th>\n",
       "      <th>ens_gids</th>\n",
       "      <th>gene_symbol</th>\n",
       "    </tr>\n",
       "    <tr>\n",
       "      <th>gene_symbol</th>\n",
       "      <th></th>\n",
       "      <th></th>\n",
       "      <th></th>\n",
       "    </tr>\n",
       "  </thead>\n",
       "  <tbody>\n",
       "    <tr>\n",
       "      <th>IGHD3-10</th>\n",
       "      <td>ENST00000632609</td>\n",
       "      <td>ENSG00000282373</td>\n",
       "      <td>IGHD3-10</td>\n",
       "    </tr>\n",
       "    <tr>\n",
       "      <th>IGHD3-9</th>\n",
       "      <td>ENST00000632911</td>\n",
       "      <td>ENSG00000281939</td>\n",
       "      <td>IGHD3-9</td>\n",
       "    </tr>\n",
       "    <tr>\n",
       "      <th>IGHD2-8</th>\n",
       "      <td>ENST00000633504</td>\n",
       "      <td>ENSG00000282132</td>\n",
       "      <td>IGHD2-8</td>\n",
       "    </tr>\n",
       "    <tr>\n",
       "      <th>IGHD3-16</th>\n",
       "      <td>ENST00000390577</td>\n",
       "      <td>ENSG00000211917</td>\n",
       "      <td>IGHD3-16</td>\n",
       "    </tr>\n",
       "    <tr>\n",
       "      <th>IGHD3-3</th>\n",
       "      <td>ENST00000633353</td>\n",
       "      <td>ENSG00000282754</td>\n",
       "      <td>IGHD3-3</td>\n",
       "    </tr>\n",
       "  </tbody>\n",
       "</table>\n",
       "</div>"
      ],
      "text/plain": [
       "                    ens_tids         ens_gids gene_symbol\n",
       "gene_symbol                                              \n",
       "IGHD3-10     ENST00000632609  ENSG00000282373    IGHD3-10\n",
       "IGHD3-9      ENST00000632911  ENSG00000281939     IGHD3-9\n",
       "IGHD2-8      ENST00000633504  ENSG00000282132     IGHD2-8\n",
       "IGHD3-16     ENST00000390577  ENSG00000211917    IGHD3-16\n",
       "IGHD3-3      ENST00000633353  ENSG00000282754     IGHD3-3"
      ]
     },
     "execution_count": 86,
     "metadata": {},
     "output_type": "execute_result"
    }
   ],
   "source": [
    "id_mapping_nop.head()"
   ]
  },
  {
   "cell_type": "code",
   "execution_count": 87,
   "metadata": {},
   "outputs": [
    {
     "data": {
      "text/plain": [
       "(159117, 3)"
      ]
     },
     "execution_count": 87,
     "metadata": {},
     "output_type": "execute_result"
    }
   ],
   "source": [
    "id_mapping_nop.shape"
   ]
  },
  {
   "cell_type": "code",
   "execution_count": 88,
   "metadata": {},
   "outputs": [],
   "source": [
    "id_mapping_nop.drop(id_map2[id_map2[\"type\"]!=\"protein_coding\"].gene_symbol.values,inplace=True)"
   ]
  },
  {
   "cell_type": "code",
   "execution_count": 89,
   "metadata": {},
   "outputs": [
    {
     "data": {
      "text/plain": [
       "(159052, 3)"
      ]
     },
     "execution_count": 89,
     "metadata": {},
     "output_type": "execute_result"
    }
   ],
   "source": [
    "id_mapping_nop.shape"
   ]
  },
  {
   "cell_type": "code",
   "execution_count": 90,
   "metadata": {},
   "outputs": [],
   "source": [
    "id_mapping_nop.to_csv(\"id_mapping_V11_clean.csv\")"
   ]
  },
  {
   "cell_type": "code",
   "execution_count": 21,
   "metadata": {},
   "outputs": [],
   "source": [
    "genes=np.load(\"genes_tpm_v11_tlevel.npy\",allow_pickle=True)\n",
    "samples=np.load(\"samples_tpm_v11_tlevel.npy\",allow_pickle=True)\n",
    "X=np.load(\"results_tpm_v11_tlevel.npy\",allow_pickle=True)\n",
    "results=pd.DataFrame(X,index=genes,columns=samples)"
   ]
  },
  {
   "cell_type": "code",
   "execution_count": 25,
   "metadata": {},
   "outputs": [
    {
     "data": {
      "text/html": [
       "<div>\n",
       "<style scoped>\n",
       "    .dataframe tbody tr th:only-of-type {\n",
       "        vertical-align: middle;\n",
       "    }\n",
       "\n",
       "    .dataframe tbody tr th {\n",
       "        vertical-align: top;\n",
       "    }\n",
       "\n",
       "    .dataframe thead th {\n",
       "        text-align: right;\n",
       "    }\n",
       "</style>\n",
       "<table border=\"1\" class=\"dataframe\">\n",
       "  <thead>\n",
       "    <tr style=\"text-align: right;\">\n",
       "      <th></th>\n",
       "      <th>GSM741172</th>\n",
       "      <th>GSM741170</th>\n",
       "      <th>GSM741171</th>\n",
       "      <th>GSM907015</th>\n",
       "      <th>GSM1193921</th>\n",
       "      <th>GSM1098188</th>\n",
       "      <th>GSM1193928</th>\n",
       "      <th>GSM1048186</th>\n",
       "      <th>GSM1216828</th>\n",
       "      <th>GSM1241249</th>\n",
       "      <th>...</th>\n",
       "      <th>GSM5572862</th>\n",
       "      <th>GSM5577332</th>\n",
       "      <th>GSM5577333</th>\n",
       "      <th>GSM5577334</th>\n",
       "      <th>GSM5577335</th>\n",
       "      <th>GSM5577336</th>\n",
       "      <th>GSM5577337</th>\n",
       "      <th>GSM5580099</th>\n",
       "      <th>GSM5580100</th>\n",
       "      <th>GSM5580102</th>\n",
       "    </tr>\n",
       "  </thead>\n",
       "  <tbody>\n",
       "    <tr>\n",
       "      <th>IGHD3-10</th>\n",
       "      <td>0.0</td>\n",
       "      <td>0.0</td>\n",
       "      <td>0.0</td>\n",
       "      <td>0.0</td>\n",
       "      <td>0.0</td>\n",
       "      <td>0.0</td>\n",
       "      <td>0.0</td>\n",
       "      <td>0.0</td>\n",
       "      <td>0.0</td>\n",
       "      <td>0.0</td>\n",
       "      <td>...</td>\n",
       "      <td>0.0</td>\n",
       "      <td>0.0</td>\n",
       "      <td>0.0</td>\n",
       "      <td>0.0</td>\n",
       "      <td>0.0</td>\n",
       "      <td>0.0</td>\n",
       "      <td>0.0</td>\n",
       "      <td>0.00000</td>\n",
       "      <td>0.0</td>\n",
       "      <td>0.0</td>\n",
       "    </tr>\n",
       "    <tr>\n",
       "      <th>IGHD3-9</th>\n",
       "      <td>0.0</td>\n",
       "      <td>0.0</td>\n",
       "      <td>0.0</td>\n",
       "      <td>0.0</td>\n",
       "      <td>0.0</td>\n",
       "      <td>0.0</td>\n",
       "      <td>0.0</td>\n",
       "      <td>0.0</td>\n",
       "      <td>0.0</td>\n",
       "      <td>0.0</td>\n",
       "      <td>...</td>\n",
       "      <td>0.0</td>\n",
       "      <td>0.0</td>\n",
       "      <td>0.0</td>\n",
       "      <td>0.0</td>\n",
       "      <td>0.0</td>\n",
       "      <td>0.0</td>\n",
       "      <td>0.0</td>\n",
       "      <td>0.00000</td>\n",
       "      <td>0.0</td>\n",
       "      <td>0.0</td>\n",
       "    </tr>\n",
       "    <tr>\n",
       "      <th>IGHD2-8</th>\n",
       "      <td>0.0</td>\n",
       "      <td>0.0</td>\n",
       "      <td>0.0</td>\n",
       "      <td>0.0</td>\n",
       "      <td>0.0</td>\n",
       "      <td>0.0</td>\n",
       "      <td>0.0</td>\n",
       "      <td>0.0</td>\n",
       "      <td>0.0</td>\n",
       "      <td>0.0</td>\n",
       "      <td>...</td>\n",
       "      <td>0.0</td>\n",
       "      <td>0.0</td>\n",
       "      <td>0.0</td>\n",
       "      <td>0.0</td>\n",
       "      <td>0.0</td>\n",
       "      <td>0.0</td>\n",
       "      <td>0.0</td>\n",
       "      <td>0.00000</td>\n",
       "      <td>0.0</td>\n",
       "      <td>0.0</td>\n",
       "    </tr>\n",
       "    <tr>\n",
       "      <th>IGHD3-16</th>\n",
       "      <td>0.0</td>\n",
       "      <td>0.0</td>\n",
       "      <td>0.0</td>\n",
       "      <td>0.0</td>\n",
       "      <td>0.0</td>\n",
       "      <td>0.0</td>\n",
       "      <td>0.0</td>\n",
       "      <td>0.0</td>\n",
       "      <td>0.0</td>\n",
       "      <td>0.0</td>\n",
       "      <td>...</td>\n",
       "      <td>0.0</td>\n",
       "      <td>0.0</td>\n",
       "      <td>0.0</td>\n",
       "      <td>0.0</td>\n",
       "      <td>0.0</td>\n",
       "      <td>0.0</td>\n",
       "      <td>0.0</td>\n",
       "      <td>2.38166</td>\n",
       "      <td>0.0</td>\n",
       "      <td>0.0</td>\n",
       "    </tr>\n",
       "    <tr>\n",
       "      <th>IGHD3-3</th>\n",
       "      <td>0.0</td>\n",
       "      <td>0.0</td>\n",
       "      <td>0.0</td>\n",
       "      <td>0.0</td>\n",
       "      <td>0.0</td>\n",
       "      <td>0.0</td>\n",
       "      <td>0.0</td>\n",
       "      <td>0.0</td>\n",
       "      <td>0.0</td>\n",
       "      <td>0.0</td>\n",
       "      <td>...</td>\n",
       "      <td>0.0</td>\n",
       "      <td>0.0</td>\n",
       "      <td>0.0</td>\n",
       "      <td>0.0</td>\n",
       "      <td>0.0</td>\n",
       "      <td>0.0</td>\n",
       "      <td>0.0</td>\n",
       "      <td>0.00000</td>\n",
       "      <td>0.0</td>\n",
       "      <td>0.0</td>\n",
       "    </tr>\n",
       "  </tbody>\n",
       "</table>\n",
       "<p>5 rows × 71961 columns</p>\n",
       "</div>"
      ],
      "text/plain": [
       "          GSM741172  GSM741170  GSM741171  GSM907015  GSM1193921  GSM1098188  \\\n",
       "IGHD3-10        0.0        0.0        0.0        0.0         0.0         0.0   \n",
       "IGHD3-9         0.0        0.0        0.0        0.0         0.0         0.0   \n",
       "IGHD2-8         0.0        0.0        0.0        0.0         0.0         0.0   \n",
       "IGHD3-16        0.0        0.0        0.0        0.0         0.0         0.0   \n",
       "IGHD3-3         0.0        0.0        0.0        0.0         0.0         0.0   \n",
       "\n",
       "          GSM1193928  GSM1048186  GSM1216828  GSM1241249  ...  GSM5572862  \\\n",
       "IGHD3-10         0.0         0.0         0.0         0.0  ...         0.0   \n",
       "IGHD3-9          0.0         0.0         0.0         0.0  ...         0.0   \n",
       "IGHD2-8          0.0         0.0         0.0         0.0  ...         0.0   \n",
       "IGHD3-16         0.0         0.0         0.0         0.0  ...         0.0   \n",
       "IGHD3-3          0.0         0.0         0.0         0.0  ...         0.0   \n",
       "\n",
       "          GSM5577332  GSM5577333  GSM5577334  GSM5577335  GSM5577336  \\\n",
       "IGHD3-10         0.0         0.0         0.0         0.0         0.0   \n",
       "IGHD3-9          0.0         0.0         0.0         0.0         0.0   \n",
       "IGHD2-8          0.0         0.0         0.0         0.0         0.0   \n",
       "IGHD3-16         0.0         0.0         0.0         0.0         0.0   \n",
       "IGHD3-3          0.0         0.0         0.0         0.0         0.0   \n",
       "\n",
       "          GSM5577337  GSM5580099  GSM5580100  GSM5580102  \n",
       "IGHD3-10         0.0     0.00000         0.0         0.0  \n",
       "IGHD3-9          0.0     0.00000         0.0         0.0  \n",
       "IGHD2-8          0.0     0.00000         0.0         0.0  \n",
       "IGHD3-16         0.0     2.38166         0.0         0.0  \n",
       "IGHD3-3          0.0     0.00000         0.0         0.0  \n",
       "\n",
       "[5 rows x 71961 columns]"
      ]
     },
     "execution_count": 25,
     "metadata": {},
     "output_type": "execute_result"
    }
   ],
   "source": [
    "results.head()"
   ]
  },
  {
   "cell_type": "code",
   "execution_count": 26,
   "metadata": {},
   "outputs": [
    {
     "data": {
      "text/plain": [
       "(159117, 71961)"
      ]
     },
     "execution_count": 26,
     "metadata": {},
     "output_type": "execute_result"
    }
   ],
   "source": [
    "results.shape"
   ]
  },
  {
   "cell_type": "code",
   "execution_count": 27,
   "metadata": {},
   "outputs": [],
   "source": [
    "results.drop(id_map2[id_map2[\"type\"]!=\"protein_coding\"].gene_symbol.values,inplace=True)"
   ]
  },
  {
   "cell_type": "code",
   "execution_count": 28,
   "metadata": {},
   "outputs": [
    {
     "data": {
      "text/plain": [
       "(159052, 71961)"
      ]
     },
     "execution_count": 28,
     "metadata": {},
     "output_type": "execute_result"
    }
   ],
   "source": [
    "results.shape"
   ]
  },
  {
   "cell_type": "code",
   "execution_count": 29,
   "metadata": {},
   "outputs": [
    {
     "data": {
      "text/html": [
       "<div>\n",
       "<style scoped>\n",
       "    .dataframe tbody tr th:only-of-type {\n",
       "        vertical-align: middle;\n",
       "    }\n",
       "\n",
       "    .dataframe tbody tr th {\n",
       "        vertical-align: top;\n",
       "    }\n",
       "\n",
       "    .dataframe thead th {\n",
       "        text-align: right;\n",
       "    }\n",
       "</style>\n",
       "<table border=\"1\" class=\"dataframe\">\n",
       "  <thead>\n",
       "    <tr style=\"text-align: right;\">\n",
       "      <th></th>\n",
       "      <th>ens_gids</th>\n",
       "      <th>gene_symbol</th>\n",
       "      <th>new_symbol</th>\n",
       "      <th>type</th>\n",
       "    </tr>\n",
       "  </thead>\n",
       "  <tbody>\n",
       "    <tr>\n",
       "      <th>0</th>\n",
       "      <td>ENSG00000157399</td>\n",
       "      <td>ARSE</td>\n",
       "      <td>ARSL</td>\n",
       "      <td>protein_coding</td>\n",
       "    </tr>\n",
       "    <tr>\n",
       "      <th>1</th>\n",
       "      <td>ENSG00000157399</td>\n",
       "      <td>ARSL</td>\n",
       "      <td>ARSL</td>\n",
       "      <td>protein_coding</td>\n",
       "    </tr>\n",
       "    <tr>\n",
       "      <th>2</th>\n",
       "      <td>ENSG00000135390</td>\n",
       "      <td>ATP5G2</td>\n",
       "      <td>ATP5MC2</td>\n",
       "      <td>protein_coding</td>\n",
       "    </tr>\n",
       "    <tr>\n",
       "      <th>3</th>\n",
       "      <td>ENSG00000135390</td>\n",
       "      <td>ATP5MC2</td>\n",
       "      <td>ATP5MC2</td>\n",
       "      <td>protein_coding</td>\n",
       "    </tr>\n",
       "    <tr>\n",
       "      <th>4</th>\n",
       "      <td>ENSG00000148120</td>\n",
       "      <td>AOPEP</td>\n",
       "      <td>AOPEP</td>\n",
       "      <td>protein_coding</td>\n",
       "    </tr>\n",
       "    <tr>\n",
       "      <th>...</th>\n",
       "      <td>...</td>\n",
       "      <td>...</td>\n",
       "      <td>...</td>\n",
       "      <td>...</td>\n",
       "    </tr>\n",
       "    <tr>\n",
       "      <th>113</th>\n",
       "      <td>ENSG00000109685</td>\n",
       "      <td>WHSC1</td>\n",
       "      <td>NSD2</td>\n",
       "      <td>protein_coding</td>\n",
       "    </tr>\n",
       "    <tr>\n",
       "      <th>114</th>\n",
       "      <td>ENSG00000112761</td>\n",
       "      <td>CCN6</td>\n",
       "      <td>CCN6</td>\n",
       "      <td>protein_coding</td>\n",
       "    </tr>\n",
       "    <tr>\n",
       "      <th>115</th>\n",
       "      <td>ENSG00000112761</td>\n",
       "      <td>WISP3</td>\n",
       "      <td>CCN6</td>\n",
       "      <td>protein_coding</td>\n",
       "    </tr>\n",
       "    <tr>\n",
       "      <th>116</th>\n",
       "      <td>ENSG00000182093</td>\n",
       "      <td>GET1</td>\n",
       "      <td>GET1</td>\n",
       "      <td>protein_coding</td>\n",
       "    </tr>\n",
       "    <tr>\n",
       "      <th>117</th>\n",
       "      <td>ENSG00000182093</td>\n",
       "      <td>WRB</td>\n",
       "      <td>GET1</td>\n",
       "      <td>protein_coding</td>\n",
       "    </tr>\n",
       "  </tbody>\n",
       "</table>\n",
       "<p>100 rows × 4 columns</p>\n",
       "</div>"
      ],
      "text/plain": [
       "            ens_gids gene_symbol new_symbol            type\n",
       "0    ENSG00000157399        ARSE       ARSL  protein_coding\n",
       "1    ENSG00000157399        ARSL       ARSL  protein_coding\n",
       "2    ENSG00000135390      ATP5G2    ATP5MC2  protein_coding\n",
       "3    ENSG00000135390     ATP5MC2    ATP5MC2  protein_coding\n",
       "4    ENSG00000148120       AOPEP      AOPEP  protein_coding\n",
       "..               ...         ...        ...             ...\n",
       "113  ENSG00000109685       WHSC1       NSD2  protein_coding\n",
       "114  ENSG00000112761        CCN6       CCN6  protein_coding\n",
       "115  ENSG00000112761       WISP3       CCN6  protein_coding\n",
       "116  ENSG00000182093        GET1       GET1  protein_coding\n",
       "117  ENSG00000182093         WRB       GET1  protein_coding\n",
       "\n",
       "[100 rows x 4 columns]"
      ]
     },
     "execution_count": 29,
     "metadata": {},
     "output_type": "execute_result"
    }
   ],
   "source": [
    "id_map2[id_map2[\"type\"]==\"protein_coding\"]"
   ]
  },
  {
   "cell_type": "code",
   "execution_count": 30,
   "metadata": {},
   "outputs": [],
   "source": [
    "change=id_map2[id_map2[\"type\"]==\"protein_coding\"]"
   ]
  },
  {
   "cell_type": "code",
   "execution_count": 31,
   "metadata": {},
   "outputs": [],
   "source": [
    "change.set_index(\"gene_symbol\",inplace=True)"
   ]
  },
  {
   "cell_type": "code",
   "execution_count": 32,
   "metadata": {},
   "outputs": [
    {
     "data": {
      "text/html": [
       "<div>\n",
       "<style scoped>\n",
       "    .dataframe tbody tr th:only-of-type {\n",
       "        vertical-align: middle;\n",
       "    }\n",
       "\n",
       "    .dataframe tbody tr th {\n",
       "        vertical-align: top;\n",
       "    }\n",
       "\n",
       "    .dataframe thead th {\n",
       "        text-align: right;\n",
       "    }\n",
       "</style>\n",
       "<table border=\"1\" class=\"dataframe\">\n",
       "  <thead>\n",
       "    <tr style=\"text-align: right;\">\n",
       "      <th></th>\n",
       "      <th>ens_gids</th>\n",
       "      <th>new_symbol</th>\n",
       "      <th>type</th>\n",
       "    </tr>\n",
       "    <tr>\n",
       "      <th>gene_symbol</th>\n",
       "      <th></th>\n",
       "      <th></th>\n",
       "      <th></th>\n",
       "    </tr>\n",
       "  </thead>\n",
       "  <tbody>\n",
       "    <tr>\n",
       "      <th>ARSE</th>\n",
       "      <td>ENSG00000157399</td>\n",
       "      <td>ARSL</td>\n",
       "      <td>protein_coding</td>\n",
       "    </tr>\n",
       "    <tr>\n",
       "      <th>ARSL</th>\n",
       "      <td>ENSG00000157399</td>\n",
       "      <td>ARSL</td>\n",
       "      <td>protein_coding</td>\n",
       "    </tr>\n",
       "    <tr>\n",
       "      <th>ATP5G2</th>\n",
       "      <td>ENSG00000135390</td>\n",
       "      <td>ATP5MC2</td>\n",
       "      <td>protein_coding</td>\n",
       "    </tr>\n",
       "    <tr>\n",
       "      <th>ATP5MC2</th>\n",
       "      <td>ENSG00000135390</td>\n",
       "      <td>ATP5MC2</td>\n",
       "      <td>protein_coding</td>\n",
       "    </tr>\n",
       "    <tr>\n",
       "      <th>AOPEP</th>\n",
       "      <td>ENSG00000148120</td>\n",
       "      <td>AOPEP</td>\n",
       "      <td>protein_coding</td>\n",
       "    </tr>\n",
       "    <tr>\n",
       "      <th>...</th>\n",
       "      <td>...</td>\n",
       "      <td>...</td>\n",
       "      <td>...</td>\n",
       "    </tr>\n",
       "    <tr>\n",
       "      <th>WHSC1</th>\n",
       "      <td>ENSG00000109685</td>\n",
       "      <td>NSD2</td>\n",
       "      <td>protein_coding</td>\n",
       "    </tr>\n",
       "    <tr>\n",
       "      <th>CCN6</th>\n",
       "      <td>ENSG00000112761</td>\n",
       "      <td>CCN6</td>\n",
       "      <td>protein_coding</td>\n",
       "    </tr>\n",
       "    <tr>\n",
       "      <th>WISP3</th>\n",
       "      <td>ENSG00000112761</td>\n",
       "      <td>CCN6</td>\n",
       "      <td>protein_coding</td>\n",
       "    </tr>\n",
       "    <tr>\n",
       "      <th>GET1</th>\n",
       "      <td>ENSG00000182093</td>\n",
       "      <td>GET1</td>\n",
       "      <td>protein_coding</td>\n",
       "    </tr>\n",
       "    <tr>\n",
       "      <th>WRB</th>\n",
       "      <td>ENSG00000182093</td>\n",
       "      <td>GET1</td>\n",
       "      <td>protein_coding</td>\n",
       "    </tr>\n",
       "  </tbody>\n",
       "</table>\n",
       "<p>100 rows × 3 columns</p>\n",
       "</div>"
      ],
      "text/plain": [
       "                    ens_gids new_symbol            type\n",
       "gene_symbol                                            \n",
       "ARSE         ENSG00000157399       ARSL  protein_coding\n",
       "ARSL         ENSG00000157399       ARSL  protein_coding\n",
       "ATP5G2       ENSG00000135390    ATP5MC2  protein_coding\n",
       "ATP5MC2      ENSG00000135390    ATP5MC2  protein_coding\n",
       "AOPEP        ENSG00000148120      AOPEP  protein_coding\n",
       "...                      ...        ...             ...\n",
       "WHSC1        ENSG00000109685       NSD2  protein_coding\n",
       "CCN6         ENSG00000112761       CCN6  protein_coding\n",
       "WISP3        ENSG00000112761       CCN6  protein_coding\n",
       "GET1         ENSG00000182093       GET1  protein_coding\n",
       "WRB          ENSG00000182093       GET1  protein_coding\n",
       "\n",
       "[100 rows x 3 columns]"
      ]
     },
     "execution_count": 32,
     "metadata": {},
     "output_type": "execute_result"
    }
   ],
   "source": [
    "change"
   ]
  },
  {
   "cell_type": "code",
   "execution_count": 33,
   "metadata": {},
   "outputs": [
    {
     "data": {
      "text/html": [
       "<div>\n",
       "<style scoped>\n",
       "    .dataframe tbody tr th:only-of-type {\n",
       "        vertical-align: middle;\n",
       "    }\n",
       "\n",
       "    .dataframe tbody tr th {\n",
       "        vertical-align: top;\n",
       "    }\n",
       "\n",
       "    .dataframe thead th {\n",
       "        text-align: right;\n",
       "    }\n",
       "</style>\n",
       "<table border=\"1\" class=\"dataframe\">\n",
       "  <thead>\n",
       "    <tr style=\"text-align: right;\">\n",
       "      <th></th>\n",
       "      <th>GSM741172</th>\n",
       "      <th>GSM741170</th>\n",
       "      <th>GSM741171</th>\n",
       "      <th>GSM907015</th>\n",
       "      <th>GSM1193921</th>\n",
       "      <th>GSM1098188</th>\n",
       "      <th>GSM1193928</th>\n",
       "      <th>GSM1048186</th>\n",
       "      <th>GSM1216828</th>\n",
       "      <th>GSM1241249</th>\n",
       "      <th>...</th>\n",
       "      <th>GSM5572862</th>\n",
       "      <th>GSM5577332</th>\n",
       "      <th>GSM5577333</th>\n",
       "      <th>GSM5577334</th>\n",
       "      <th>GSM5577335</th>\n",
       "      <th>GSM5577336</th>\n",
       "      <th>GSM5577337</th>\n",
       "      <th>GSM5580099</th>\n",
       "      <th>GSM5580100</th>\n",
       "      <th>GSM5580102</th>\n",
       "    </tr>\n",
       "  </thead>\n",
       "  <tbody>\n",
       "    <tr>\n",
       "      <th>IGHD3-10</th>\n",
       "      <td>0.0</td>\n",
       "      <td>0.0</td>\n",
       "      <td>0.0</td>\n",
       "      <td>0.0</td>\n",
       "      <td>0.0</td>\n",
       "      <td>0.0</td>\n",
       "      <td>0.0</td>\n",
       "      <td>0.0</td>\n",
       "      <td>0.0</td>\n",
       "      <td>0.0</td>\n",
       "      <td>...</td>\n",
       "      <td>0.0</td>\n",
       "      <td>0.0</td>\n",
       "      <td>0.0</td>\n",
       "      <td>0.0</td>\n",
       "      <td>0.0</td>\n",
       "      <td>0.0</td>\n",
       "      <td>0.0</td>\n",
       "      <td>0.00000</td>\n",
       "      <td>0.0</td>\n",
       "      <td>0.0</td>\n",
       "    </tr>\n",
       "    <tr>\n",
       "      <th>IGHD3-9</th>\n",
       "      <td>0.0</td>\n",
       "      <td>0.0</td>\n",
       "      <td>0.0</td>\n",
       "      <td>0.0</td>\n",
       "      <td>0.0</td>\n",
       "      <td>0.0</td>\n",
       "      <td>0.0</td>\n",
       "      <td>0.0</td>\n",
       "      <td>0.0</td>\n",
       "      <td>0.0</td>\n",
       "      <td>...</td>\n",
       "      <td>0.0</td>\n",
       "      <td>0.0</td>\n",
       "      <td>0.0</td>\n",
       "      <td>0.0</td>\n",
       "      <td>0.0</td>\n",
       "      <td>0.0</td>\n",
       "      <td>0.0</td>\n",
       "      <td>0.00000</td>\n",
       "      <td>0.0</td>\n",
       "      <td>0.0</td>\n",
       "    </tr>\n",
       "    <tr>\n",
       "      <th>IGHD2-8</th>\n",
       "      <td>0.0</td>\n",
       "      <td>0.0</td>\n",
       "      <td>0.0</td>\n",
       "      <td>0.0</td>\n",
       "      <td>0.0</td>\n",
       "      <td>0.0</td>\n",
       "      <td>0.0</td>\n",
       "      <td>0.0</td>\n",
       "      <td>0.0</td>\n",
       "      <td>0.0</td>\n",
       "      <td>...</td>\n",
       "      <td>0.0</td>\n",
       "      <td>0.0</td>\n",
       "      <td>0.0</td>\n",
       "      <td>0.0</td>\n",
       "      <td>0.0</td>\n",
       "      <td>0.0</td>\n",
       "      <td>0.0</td>\n",
       "      <td>0.00000</td>\n",
       "      <td>0.0</td>\n",
       "      <td>0.0</td>\n",
       "    </tr>\n",
       "    <tr>\n",
       "      <th>IGHD3-16</th>\n",
       "      <td>0.0</td>\n",
       "      <td>0.0</td>\n",
       "      <td>0.0</td>\n",
       "      <td>0.0</td>\n",
       "      <td>0.0</td>\n",
       "      <td>0.0</td>\n",
       "      <td>0.0</td>\n",
       "      <td>0.0</td>\n",
       "      <td>0.0</td>\n",
       "      <td>0.0</td>\n",
       "      <td>...</td>\n",
       "      <td>0.0</td>\n",
       "      <td>0.0</td>\n",
       "      <td>0.0</td>\n",
       "      <td>0.0</td>\n",
       "      <td>0.0</td>\n",
       "      <td>0.0</td>\n",
       "      <td>0.0</td>\n",
       "      <td>2.38166</td>\n",
       "      <td>0.0</td>\n",
       "      <td>0.0</td>\n",
       "    </tr>\n",
       "    <tr>\n",
       "      <th>IGHD3-3</th>\n",
       "      <td>0.0</td>\n",
       "      <td>0.0</td>\n",
       "      <td>0.0</td>\n",
       "      <td>0.0</td>\n",
       "      <td>0.0</td>\n",
       "      <td>0.0</td>\n",
       "      <td>0.0</td>\n",
       "      <td>0.0</td>\n",
       "      <td>0.0</td>\n",
       "      <td>0.0</td>\n",
       "      <td>...</td>\n",
       "      <td>0.0</td>\n",
       "      <td>0.0</td>\n",
       "      <td>0.0</td>\n",
       "      <td>0.0</td>\n",
       "      <td>0.0</td>\n",
       "      <td>0.0</td>\n",
       "      <td>0.0</td>\n",
       "      <td>0.00000</td>\n",
       "      <td>0.0</td>\n",
       "      <td>0.0</td>\n",
       "    </tr>\n",
       "  </tbody>\n",
       "</table>\n",
       "<p>5 rows × 71961 columns</p>\n",
       "</div>"
      ],
      "text/plain": [
       "          GSM741172  GSM741170  GSM741171  GSM907015  GSM1193921  GSM1098188  \\\n",
       "IGHD3-10        0.0        0.0        0.0        0.0         0.0         0.0   \n",
       "IGHD3-9         0.0        0.0        0.0        0.0         0.0         0.0   \n",
       "IGHD2-8         0.0        0.0        0.0        0.0         0.0         0.0   \n",
       "IGHD3-16        0.0        0.0        0.0        0.0         0.0         0.0   \n",
       "IGHD3-3         0.0        0.0        0.0        0.0         0.0         0.0   \n",
       "\n",
       "          GSM1193928  GSM1048186  GSM1216828  GSM1241249  ...  GSM5572862  \\\n",
       "IGHD3-10         0.0         0.0         0.0         0.0  ...         0.0   \n",
       "IGHD3-9          0.0         0.0         0.0         0.0  ...         0.0   \n",
       "IGHD2-8          0.0         0.0         0.0         0.0  ...         0.0   \n",
       "IGHD3-16         0.0         0.0         0.0         0.0  ...         0.0   \n",
       "IGHD3-3          0.0         0.0         0.0         0.0  ...         0.0   \n",
       "\n",
       "          GSM5577332  GSM5577333  GSM5577334  GSM5577335  GSM5577336  \\\n",
       "IGHD3-10         0.0         0.0         0.0         0.0         0.0   \n",
       "IGHD3-9          0.0         0.0         0.0         0.0         0.0   \n",
       "IGHD2-8          0.0         0.0         0.0         0.0         0.0   \n",
       "IGHD3-16         0.0         0.0         0.0         0.0         0.0   \n",
       "IGHD3-3          0.0         0.0         0.0         0.0         0.0   \n",
       "\n",
       "          GSM5577337  GSM5580099  GSM5580100  GSM5580102  \n",
       "IGHD3-10         0.0     0.00000         0.0         0.0  \n",
       "IGHD3-9          0.0     0.00000         0.0         0.0  \n",
       "IGHD2-8          0.0     0.00000         0.0         0.0  \n",
       "IGHD3-16         0.0     2.38166         0.0         0.0  \n",
       "IGHD3-3          0.0     0.00000         0.0         0.0  \n",
       "\n",
       "[5 rows x 71961 columns]"
      ]
     },
     "execution_count": 33,
     "metadata": {},
     "output_type": "execute_result"
    }
   ],
   "source": [
    "results.head()"
   ]
  },
  {
   "cell_type": "code",
   "execution_count": 34,
   "metadata": {},
   "outputs": [],
   "source": [
    "for gene in change.index.values:\n",
    "    results.rename(index={gene:change.loc[gene].new_symbol},inplace=True)"
   ]
  },
  {
   "cell_type": "code",
   "execution_count": 35,
   "metadata": {},
   "outputs": [],
   "source": [
    "gene_level_tpm=results.groupby(results.index).sum()"
   ]
  },
  {
   "cell_type": "code",
   "execution_count": 36,
   "metadata": {},
   "outputs": [
    {
     "data": {
      "text/plain": [
       "(20846, 71961)"
      ]
     },
     "execution_count": 36,
     "metadata": {},
     "output_type": "execute_result"
    }
   ],
   "source": [
    "gene_level_tpm.shape"
   ]
  },
  {
   "cell_type": "code",
   "execution_count": 37,
   "metadata": {},
   "outputs": [
    {
     "data": {
      "text/html": [
       "<div>\n",
       "<style scoped>\n",
       "    .dataframe tbody tr th:only-of-type {\n",
       "        vertical-align: middle;\n",
       "    }\n",
       "\n",
       "    .dataframe tbody tr th {\n",
       "        vertical-align: top;\n",
       "    }\n",
       "\n",
       "    .dataframe thead th {\n",
       "        text-align: right;\n",
       "    }\n",
       "</style>\n",
       "<table border=\"1\" class=\"dataframe\">\n",
       "  <thead>\n",
       "    <tr style=\"text-align: right;\">\n",
       "      <th></th>\n",
       "      <th>GSM741172</th>\n",
       "      <th>GSM741170</th>\n",
       "      <th>GSM741171</th>\n",
       "      <th>GSM907015</th>\n",
       "      <th>GSM1193921</th>\n",
       "      <th>GSM1098188</th>\n",
       "      <th>GSM1193928</th>\n",
       "      <th>GSM1048186</th>\n",
       "      <th>GSM1216828</th>\n",
       "      <th>GSM1241249</th>\n",
       "      <th>...</th>\n",
       "      <th>GSM5572862</th>\n",
       "      <th>GSM5577332</th>\n",
       "      <th>GSM5577333</th>\n",
       "      <th>GSM5577334</th>\n",
       "      <th>GSM5577335</th>\n",
       "      <th>GSM5577336</th>\n",
       "      <th>GSM5577337</th>\n",
       "      <th>GSM5580099</th>\n",
       "      <th>GSM5580100</th>\n",
       "      <th>GSM5580102</th>\n",
       "    </tr>\n",
       "  </thead>\n",
       "  <tbody>\n",
       "    <tr>\n",
       "      <th>A1BG</th>\n",
       "      <td>1.514984</td>\n",
       "      <td>1.316501</td>\n",
       "      <td>0.945544</td>\n",
       "      <td>12.863701</td>\n",
       "      <td>71.141045</td>\n",
       "      <td>0.738105</td>\n",
       "      <td>134.292114</td>\n",
       "      <td>10.272301</td>\n",
       "      <td>2.855723</td>\n",
       "      <td>0.000000</td>\n",
       "      <td>...</td>\n",
       "      <td>0.778685</td>\n",
       "      <td>6.074946</td>\n",
       "      <td>6.227352</td>\n",
       "      <td>5.103860</td>\n",
       "      <td>8.809099</td>\n",
       "      <td>7.493229</td>\n",
       "      <td>7.746690</td>\n",
       "      <td>42.761230</td>\n",
       "      <td>35.295048</td>\n",
       "      <td>35.235378</td>\n",
       "    </tr>\n",
       "    <tr>\n",
       "      <th>A1CF</th>\n",
       "      <td>0.208822</td>\n",
       "      <td>0.199274</td>\n",
       "      <td>0.138544</td>\n",
       "      <td>0.058604</td>\n",
       "      <td>0.301775</td>\n",
       "      <td>0.034464</td>\n",
       "      <td>1.374310</td>\n",
       "      <td>0.267306</td>\n",
       "      <td>13.903001</td>\n",
       "      <td>0.000000</td>\n",
       "      <td>...</td>\n",
       "      <td>0.163493</td>\n",
       "      <td>0.129097</td>\n",
       "      <td>0.266828</td>\n",
       "      <td>0.162259</td>\n",
       "      <td>0.165147</td>\n",
       "      <td>0.261044</td>\n",
       "      <td>0.246418</td>\n",
       "      <td>0.013703</td>\n",
       "      <td>0.031029</td>\n",
       "      <td>0.020903</td>\n",
       "    </tr>\n",
       "    <tr>\n",
       "      <th>A2M</th>\n",
       "      <td>61.154045</td>\n",
       "      <td>141.594360</td>\n",
       "      <td>62.881958</td>\n",
       "      <td>109.156868</td>\n",
       "      <td>0.000000</td>\n",
       "      <td>313.137146</td>\n",
       "      <td>0.000000</td>\n",
       "      <td>216.393066</td>\n",
       "      <td>22.510412</td>\n",
       "      <td>0.000000</td>\n",
       "      <td>...</td>\n",
       "      <td>0.000000</td>\n",
       "      <td>0.130720</td>\n",
       "      <td>0.426572</td>\n",
       "      <td>0.000000</td>\n",
       "      <td>0.507422</td>\n",
       "      <td>0.200596</td>\n",
       "      <td>0.000000</td>\n",
       "      <td>314.406342</td>\n",
       "      <td>426.812805</td>\n",
       "      <td>311.372803</td>\n",
       "    </tr>\n",
       "    <tr>\n",
       "      <th>A2ML1</th>\n",
       "      <td>0.373835</td>\n",
       "      <td>0.262869</td>\n",
       "      <td>0.266668</td>\n",
       "      <td>0.799892</td>\n",
       "      <td>0.655797</td>\n",
       "      <td>0.109945</td>\n",
       "      <td>0.366945</td>\n",
       "      <td>4.065595</td>\n",
       "      <td>0.190527</td>\n",
       "      <td>1.748747</td>\n",
       "      <td>...</td>\n",
       "      <td>0.112173</td>\n",
       "      <td>1.403640</td>\n",
       "      <td>2.326312</td>\n",
       "      <td>2.850472</td>\n",
       "      <td>3.334096</td>\n",
       "      <td>3.415315</td>\n",
       "      <td>2.629406</td>\n",
       "      <td>0.064991</td>\n",
       "      <td>0.255675</td>\n",
       "      <td>0.041696</td>\n",
       "    </tr>\n",
       "    <tr>\n",
       "      <th>A3GALT2</th>\n",
       "      <td>0.722773</td>\n",
       "      <td>1.094620</td>\n",
       "      <td>0.645631</td>\n",
       "      <td>0.000000</td>\n",
       "      <td>0.000000</td>\n",
       "      <td>0.458957</td>\n",
       "      <td>0.000000</td>\n",
       "      <td>4.969500</td>\n",
       "      <td>0.000000</td>\n",
       "      <td>0.000000</td>\n",
       "      <td>...</td>\n",
       "      <td>0.000000</td>\n",
       "      <td>0.457722</td>\n",
       "      <td>0.104935</td>\n",
       "      <td>0.179656</td>\n",
       "      <td>0.000000</td>\n",
       "      <td>0.313955</td>\n",
       "      <td>0.304647</td>\n",
       "      <td>0.000000</td>\n",
       "      <td>0.000000</td>\n",
       "      <td>0.151392</td>\n",
       "    </tr>\n",
       "  </tbody>\n",
       "</table>\n",
       "<p>5 rows × 71961 columns</p>\n",
       "</div>"
      ],
      "text/plain": [
       "         GSM741172   GSM741170  GSM741171   GSM907015  GSM1193921  GSM1098188  \\\n",
       "A1BG      1.514984    1.316501   0.945544   12.863701   71.141045    0.738105   \n",
       "A1CF      0.208822    0.199274   0.138544    0.058604    0.301775    0.034464   \n",
       "A2M      61.154045  141.594360  62.881958  109.156868    0.000000  313.137146   \n",
       "A2ML1     0.373835    0.262869   0.266668    0.799892    0.655797    0.109945   \n",
       "A3GALT2   0.722773    1.094620   0.645631    0.000000    0.000000    0.458957   \n",
       "\n",
       "         GSM1193928  GSM1048186  GSM1216828  GSM1241249  ...  GSM5572862  \\\n",
       "A1BG     134.292114   10.272301    2.855723    0.000000  ...    0.778685   \n",
       "A1CF       1.374310    0.267306   13.903001    0.000000  ...    0.163493   \n",
       "A2M        0.000000  216.393066   22.510412    0.000000  ...    0.000000   \n",
       "A2ML1      0.366945    4.065595    0.190527    1.748747  ...    0.112173   \n",
       "A3GALT2    0.000000    4.969500    0.000000    0.000000  ...    0.000000   \n",
       "\n",
       "         GSM5577332  GSM5577333  GSM5577334  GSM5577335  GSM5577336  \\\n",
       "A1BG       6.074946    6.227352    5.103860    8.809099    7.493229   \n",
       "A1CF       0.129097    0.266828    0.162259    0.165147    0.261044   \n",
       "A2M        0.130720    0.426572    0.000000    0.507422    0.200596   \n",
       "A2ML1      1.403640    2.326312    2.850472    3.334096    3.415315   \n",
       "A3GALT2    0.457722    0.104935    0.179656    0.000000    0.313955   \n",
       "\n",
       "         GSM5577337  GSM5580099  GSM5580100  GSM5580102  \n",
       "A1BG       7.746690   42.761230   35.295048   35.235378  \n",
       "A1CF       0.246418    0.013703    0.031029    0.020903  \n",
       "A2M        0.000000  314.406342  426.812805  311.372803  \n",
       "A2ML1      2.629406    0.064991    0.255675    0.041696  \n",
       "A3GALT2    0.304647    0.000000    0.000000    0.151392  \n",
       "\n",
       "[5 rows x 71961 columns]"
      ]
     },
     "execution_count": 37,
     "metadata": {},
     "output_type": "execute_result"
    }
   ],
   "source": [
    "gene_level_tpm.head()"
   ]
  },
  {
   "cell_type": "code",
   "execution_count": 38,
   "metadata": {},
   "outputs": [],
   "source": [
    "np.save(\"genes_tpm_v11\",gene_level_tpm.index.values)\n",
    "np.save(\"samples_tpm_v11\",gene_level_tpm.columns.values)\n",
    "np.save(\"results_tpm_v11\",gene_level_tpm.values)"
   ]
  },
  {
   "cell_type": "code",
   "execution_count": 91,
   "metadata": {},
   "outputs": [],
   "source": [
    "for gene in change.index.values:\n",
    "    id_mapping_nop.rename(index={gene:change.loc[gene].new_symbol},inplace=True)"
   ]
  },
  {
   "cell_type": "code",
   "execution_count": 92,
   "metadata": {},
   "outputs": [],
   "source": [
    "id_mapping_nop.to_csv(\"id_mapping_V11_clean.csv\")"
   ]
  },
  {
   "cell_type": "markdown",
   "metadata": {},
   "source": [
    "### Plot"
   ]
  },
  {
   "cell_type": "code",
   "execution_count": 42,
   "metadata": {},
   "outputs": [],
   "source": [
    "samples_types=pd.read_csv(\"samples_types_tpm.csv\",index_col=0)"
   ]
  },
  {
   "cell_type": "code",
   "execution_count": 43,
   "metadata": {},
   "outputs": [
    {
     "data": {
      "text/html": [
       "<div>\n",
       "<style scoped>\n",
       "    .dataframe tbody tr th:only-of-type {\n",
       "        vertical-align: middle;\n",
       "    }\n",
       "\n",
       "    .dataframe tbody tr th {\n",
       "        vertical-align: top;\n",
       "    }\n",
       "\n",
       "    .dataframe thead th {\n",
       "        text-align: right;\n",
       "    }\n",
       "</style>\n",
       "<table border=\"1\" class=\"dataframe\">\n",
       "  <thead>\n",
       "    <tr style=\"text-align: right;\">\n",
       "      <th></th>\n",
       "      <th>type</th>\n",
       "      <th>index</th>\n",
       "    </tr>\n",
       "    <tr>\n",
       "      <th>geo_id</th>\n",
       "      <th></th>\n",
       "      <th></th>\n",
       "    </tr>\n",
       "  </thead>\n",
       "  <tbody>\n",
       "    <tr>\n",
       "      <th>GSM2132128</th>\n",
       "      <td>Podocyte</td>\n",
       "      <td>25734</td>\n",
       "    </tr>\n",
       "    <tr>\n",
       "      <th>GSM2132132</th>\n",
       "      <td>Podocyte</td>\n",
       "      <td>25883</td>\n",
       "    </tr>\n",
       "    <tr>\n",
       "      <th>GSM2132130</th>\n",
       "      <td>Podocyte</td>\n",
       "      <td>27800</td>\n",
       "    </tr>\n",
       "    <tr>\n",
       "      <th>GSM2132129</th>\n",
       "      <td>Podocyte</td>\n",
       "      <td>28666</td>\n",
       "    </tr>\n",
       "    <tr>\n",
       "      <th>GSM2132133</th>\n",
       "      <td>Podocyte</td>\n",
       "      <td>34044</td>\n",
       "    </tr>\n",
       "    <tr>\n",
       "      <th>...</th>\n",
       "      <td>...</td>\n",
       "      <td>...</td>\n",
       "    </tr>\n",
       "    <tr>\n",
       "      <th>GSM4117418</th>\n",
       "      <td>T47D</td>\n",
       "      <td>369814</td>\n",
       "    </tr>\n",
       "    <tr>\n",
       "      <th>GSM5533967</th>\n",
       "      <td>T47D</td>\n",
       "      <td>440883</td>\n",
       "    </tr>\n",
       "    <tr>\n",
       "      <th>GSM5533968</th>\n",
       "      <td>T47D</td>\n",
       "      <td>440884</td>\n",
       "    </tr>\n",
       "    <tr>\n",
       "      <th>GSM5533969</th>\n",
       "      <td>T47D</td>\n",
       "      <td>440885</td>\n",
       "    </tr>\n",
       "    <tr>\n",
       "      <th>GSM5533970</th>\n",
       "      <td>T47D</td>\n",
       "      <td>440886</td>\n",
       "    </tr>\n",
       "  </tbody>\n",
       "</table>\n",
       "<p>71961 rows × 2 columns</p>\n",
       "</div>"
      ],
      "text/plain": [
       "                type   index\n",
       "geo_id                      \n",
       "GSM2132128  Podocyte   25734\n",
       "GSM2132132  Podocyte   25883\n",
       "GSM2132130  Podocyte   27800\n",
       "GSM2132129  Podocyte   28666\n",
       "GSM2132133  Podocyte   34044\n",
       "...              ...     ...\n",
       "GSM4117418      T47D  369814\n",
       "GSM5533967      T47D  440883\n",
       "GSM5533968      T47D  440884\n",
       "GSM5533969      T47D  440885\n",
       "GSM5533970      T47D  440886\n",
       "\n",
       "[71961 rows x 2 columns]"
      ]
     },
     "execution_count": 43,
     "metadata": {},
     "output_type": "execute_result"
    }
   ],
   "source": [
    "samples_types"
   ]
  },
  {
   "cell_type": "code",
   "execution_count": 44,
   "metadata": {},
   "outputs": [],
   "source": [
    "n_samples=pd.DataFrame(samples_types[\"type\"].value_counts(ascending=False))\n",
    "n_samples.columns=[\"counts\"]"
   ]
  },
  {
   "cell_type": "code",
   "execution_count": 45,
   "metadata": {},
   "outputs": [
    {
     "data": {
      "text/html": [
       "<div>\n",
       "<style scoped>\n",
       "    .dataframe tbody tr th:only-of-type {\n",
       "        vertical-align: middle;\n",
       "    }\n",
       "\n",
       "    .dataframe tbody tr th {\n",
       "        vertical-align: top;\n",
       "    }\n",
       "\n",
       "    .dataframe thead th {\n",
       "        text-align: right;\n",
       "    }\n",
       "</style>\n",
       "<table border=\"1\" class=\"dataframe\">\n",
       "  <thead>\n",
       "    <tr style=\"text-align: right;\">\n",
       "      <th></th>\n",
       "      <th>counts</th>\n",
       "    </tr>\n",
       "  </thead>\n",
       "  <tbody>\n",
       "    <tr>\n",
       "      <th>Pancreatic Islet</th>\n",
       "      <td>11519</td>\n",
       "    </tr>\n",
       "    <tr>\n",
       "      <th>Fibroblast</th>\n",
       "      <td>8662</td>\n",
       "    </tr>\n",
       "    <tr>\n",
       "      <th>Neuron</th>\n",
       "      <td>5323</td>\n",
       "    </tr>\n",
       "    <tr>\n",
       "      <th>HEK293</th>\n",
       "      <td>4003</td>\n",
       "    </tr>\n",
       "    <tr>\n",
       "      <th>MCF7</th>\n",
       "      <td>3957</td>\n",
       "    </tr>\n",
       "  </tbody>\n",
       "</table>\n",
       "</div>"
      ],
      "text/plain": [
       "                  counts\n",
       "Pancreatic Islet   11519\n",
       "Fibroblast          8662\n",
       "Neuron              5323\n",
       "HEK293              4003\n",
       "MCF7                3957"
      ]
     },
     "execution_count": 45,
     "metadata": {},
     "output_type": "execute_result"
    }
   ],
   "source": [
    "n_samples.head()"
   ]
  },
  {
   "cell_type": "code",
   "execution_count": 46,
   "metadata": {},
   "outputs": [
    {
     "data": {
      "text/html": [
       "<div>\n",
       "<style scoped>\n",
       "    .dataframe tbody tr th:only-of-type {\n",
       "        vertical-align: middle;\n",
       "    }\n",
       "\n",
       "    .dataframe tbody tr th {\n",
       "        vertical-align: top;\n",
       "    }\n",
       "\n",
       "    .dataframe thead th {\n",
       "        text-align: right;\n",
       "    }\n",
       "</style>\n",
       "<table border=\"1\" class=\"dataframe\">\n",
       "  <thead>\n",
       "    <tr style=\"text-align: right;\">\n",
       "      <th></th>\n",
       "      <th>counts</th>\n",
       "    </tr>\n",
       "  </thead>\n",
       "  <tbody>\n",
       "    <tr>\n",
       "      <th>Thymocyte</th>\n",
       "      <td>11</td>\n",
       "    </tr>\n",
       "    <tr>\n",
       "      <th>Kupffe</th>\n",
       "      <td>8</td>\n",
       "    </tr>\n",
       "    <tr>\n",
       "      <th>MT4</th>\n",
       "      <td>8</td>\n",
       "    </tr>\n",
       "    <tr>\n",
       "      <th>Gastric Epithelial Cell</th>\n",
       "      <td>4</td>\n",
       "    </tr>\n",
       "    <tr>\n",
       "      <th>Primary Liver Cell</th>\n",
       "      <td>2</td>\n",
       "    </tr>\n",
       "  </tbody>\n",
       "</table>\n",
       "</div>"
      ],
      "text/plain": [
       "                         counts\n",
       "Thymocyte                    11\n",
       "Kupffe                        8\n",
       "MT4                           8\n",
       "Gastric Epithelial Cell       4\n",
       "Primary Liver Cell            2"
      ]
     },
     "execution_count": 46,
     "metadata": {},
     "output_type": "execute_result"
    }
   ],
   "source": [
    "n_samples.tail()"
   ]
  },
  {
   "cell_type": "markdown",
   "metadata": {},
   "source": [
    "### Dropping out cell types with less than 10 samples"
   ]
  },
  {
   "cell_type": "code",
   "execution_count": 47,
   "metadata": {},
   "outputs": [],
   "source": [
    "low_samps=[]\n",
    "drop_cell=[]\n",
    "for cell_type in n_samples[n_samples[\"counts\"]<10].index.values:\n",
    "    low_samps.extend(list(samples_types[samples_types[\"type\"]==cell_type].index.values))\n",
    "    drop_cell.append(cell_type)\n",
    "    "
   ]
  },
  {
   "cell_type": "code",
   "execution_count": 48,
   "metadata": {},
   "outputs": [
    {
     "data": {
      "text/plain": [
       "22"
      ]
     },
     "execution_count": 48,
     "metadata": {},
     "output_type": "execute_result"
    }
   ],
   "source": [
    "len(low_samps)"
   ]
  },
  {
   "cell_type": "code",
   "execution_count": 49,
   "metadata": {},
   "outputs": [
    {
     "data": {
      "text/plain": [
       "['GSM1686453',\n",
       " 'GSM1686448',\n",
       " 'GSM1686446',\n",
       " 'GSM1686450',\n",
       " 'GSM1686451',\n",
       " 'GSM1686447',\n",
       " 'GSM1686452',\n",
       " 'GSM1686449',\n",
       " 'GSM1908210',\n",
       " 'GSM1908209',\n",
       " 'GSM1908206',\n",
       " 'GSM1908205',\n",
       " 'GSM1908212',\n",
       " 'GSM1908208',\n",
       " 'GSM1908211',\n",
       " 'GSM1908207',\n",
       " 'GSM1536833',\n",
       " 'GSM1536834',\n",
       " 'GSM1536835',\n",
       " 'GSM1536836',\n",
       " 'GSM2326089',\n",
       " 'GSM2326088']"
      ]
     },
     "execution_count": 49,
     "metadata": {},
     "output_type": "execute_result"
    }
   ],
   "source": [
    "low_samps"
   ]
  },
  {
   "cell_type": "code",
   "execution_count": 50,
   "metadata": {},
   "outputs": [
    {
     "data": {
      "text/plain": [
       "['Kupffe', 'MT4', 'Gastric Epithelial Cell', 'Primary Liver Cell']"
      ]
     },
     "execution_count": 50,
     "metadata": {},
     "output_type": "execute_result"
    }
   ],
   "source": [
    "drop_cell"
   ]
  },
  {
   "cell_type": "code",
   "execution_count": 51,
   "metadata": {},
   "outputs": [
    {
     "data": {
      "text/plain": [
       "(20846, 71961)"
      ]
     },
     "execution_count": 51,
     "metadata": {},
     "output_type": "execute_result"
    }
   ],
   "source": [
    "gene_level_tpm.shape"
   ]
  },
  {
   "cell_type": "code",
   "execution_count": 52,
   "metadata": {},
   "outputs": [],
   "source": [
    "gene_level_tpm.drop(columns=low_samps,inplace=True)"
   ]
  },
  {
   "cell_type": "code",
   "execution_count": 53,
   "metadata": {},
   "outputs": [
    {
     "data": {
      "text/plain": [
       "(20846, 71939)"
      ]
     },
     "execution_count": 53,
     "metadata": {},
     "output_type": "execute_result"
    }
   ],
   "source": [
    "gene_level_tpm.shape"
   ]
  },
  {
   "cell_type": "code",
   "execution_count": 54,
   "metadata": {},
   "outputs": [
    {
     "data": {
      "text/html": [
       "<div>\n",
       "<style scoped>\n",
       "    .dataframe tbody tr th:only-of-type {\n",
       "        vertical-align: middle;\n",
       "    }\n",
       "\n",
       "    .dataframe tbody tr th {\n",
       "        vertical-align: top;\n",
       "    }\n",
       "\n",
       "    .dataframe thead th {\n",
       "        text-align: right;\n",
       "    }\n",
       "</style>\n",
       "<table border=\"1\" class=\"dataframe\">\n",
       "  <thead>\n",
       "    <tr style=\"text-align: right;\">\n",
       "      <th></th>\n",
       "      <th>type</th>\n",
       "      <th>index</th>\n",
       "    </tr>\n",
       "    <tr>\n",
       "      <th>geo_id</th>\n",
       "      <th></th>\n",
       "      <th></th>\n",
       "    </tr>\n",
       "  </thead>\n",
       "  <tbody>\n",
       "    <tr>\n",
       "      <th>GSM2132128</th>\n",
       "      <td>Podocyte</td>\n",
       "      <td>25734</td>\n",
       "    </tr>\n",
       "    <tr>\n",
       "      <th>GSM2132132</th>\n",
       "      <td>Podocyte</td>\n",
       "      <td>25883</td>\n",
       "    </tr>\n",
       "    <tr>\n",
       "      <th>GSM2132130</th>\n",
       "      <td>Podocyte</td>\n",
       "      <td>27800</td>\n",
       "    </tr>\n",
       "    <tr>\n",
       "      <th>GSM2132129</th>\n",
       "      <td>Podocyte</td>\n",
       "      <td>28666</td>\n",
       "    </tr>\n",
       "    <tr>\n",
       "      <th>GSM2132133</th>\n",
       "      <td>Podocyte</td>\n",
       "      <td>34044</td>\n",
       "    </tr>\n",
       "  </tbody>\n",
       "</table>\n",
       "</div>"
      ],
      "text/plain": [
       "                type  index\n",
       "geo_id                     \n",
       "GSM2132128  Podocyte  25734\n",
       "GSM2132132  Podocyte  25883\n",
       "GSM2132130  Podocyte  27800\n",
       "GSM2132129  Podocyte  28666\n",
       "GSM2132133  Podocyte  34044"
      ]
     },
     "execution_count": 54,
     "metadata": {},
     "output_type": "execute_result"
    }
   ],
   "source": [
    "samples_types.head()"
   ]
  },
  {
   "cell_type": "code",
   "execution_count": 55,
   "metadata": {},
   "outputs": [],
   "source": [
    "samples_types.drop(index=low_samps,inplace=True)"
   ]
  },
  {
   "cell_type": "code",
   "execution_count": 56,
   "metadata": {},
   "outputs": [],
   "source": [
    "n_samples=pd.DataFrame(samples_types[\"type\"].value_counts(ascending=False))\n",
    "n_samples.columns=[\"counts\"]"
   ]
  },
  {
   "cell_type": "code",
   "execution_count": 57,
   "metadata": {},
   "outputs": [
    {
     "data": {
      "text/html": [
       "<div>\n",
       "<style scoped>\n",
       "    .dataframe tbody tr th:only-of-type {\n",
       "        vertical-align: middle;\n",
       "    }\n",
       "\n",
       "    .dataframe tbody tr th {\n",
       "        vertical-align: top;\n",
       "    }\n",
       "\n",
       "    .dataframe thead th {\n",
       "        text-align: right;\n",
       "    }\n",
       "</style>\n",
       "<table border=\"1\" class=\"dataframe\">\n",
       "  <thead>\n",
       "    <tr style=\"text-align: right;\">\n",
       "      <th></th>\n",
       "      <th>counts</th>\n",
       "    </tr>\n",
       "  </thead>\n",
       "  <tbody>\n",
       "    <tr>\n",
       "      <th>Alpha Cell</th>\n",
       "      <td>24</td>\n",
       "    </tr>\n",
       "    <tr>\n",
       "      <th>JEG3</th>\n",
       "      <td>22</td>\n",
       "    </tr>\n",
       "    <tr>\n",
       "      <th>MG63</th>\n",
       "      <td>22</td>\n",
       "    </tr>\n",
       "    <tr>\n",
       "      <th>NCIH460</th>\n",
       "      <td>14</td>\n",
       "    </tr>\n",
       "    <tr>\n",
       "      <th>Thymocyte</th>\n",
       "      <td>11</td>\n",
       "    </tr>\n",
       "  </tbody>\n",
       "</table>\n",
       "</div>"
      ],
      "text/plain": [
       "            counts\n",
       "Alpha Cell      24\n",
       "JEG3            22\n",
       "MG63            22\n",
       "NCIH460         14\n",
       "Thymocyte       11"
      ]
     },
     "execution_count": 57,
     "metadata": {},
     "output_type": "execute_result"
    }
   ],
   "source": [
    "n_samples.tail()"
   ]
  },
  {
   "cell_type": "code",
   "execution_count": 58,
   "metadata": {},
   "outputs": [],
   "source": [
    "n_samples.to_csv(\"n_samples.csv\")"
   ]
  },
  {
   "cell_type": "code",
   "execution_count": 59,
   "metadata": {},
   "outputs": [],
   "source": [
    "np.save(\"genes_tpm_v11_clean\",gene_level_tpm.index.values)\n",
    "np.save(\"samples_tpm_v11_clean\",gene_level_tpm.columns.values)\n",
    "np.save(\"results_tpm_v11_clean\",gene_level_tpm.values)"
   ]
  },
  {
   "cell_type": "code",
   "execution_count": 60,
   "metadata": {},
   "outputs": [],
   "source": [
    "genes=np.load(\"genes_tpm_v11_clean.npy\",allow_pickle=True)\n",
    "samples=np.load(\"samples_tpm_v11_clean.npy\",allow_pickle=True)\n",
    "X=np.load(\"results_tpm_v11_clean.npy\",allow_pickle=True)\n",
    "results=pd.DataFrame(X,index=genes,columns=samples)"
   ]
  },
  {
   "cell_type": "code",
   "execution_count": 61,
   "metadata": {},
   "outputs": [],
   "source": []
  },
  {
   "cell_type": "code",
   "execution_count": 62,
   "metadata": {},
   "outputs": [
    {
     "data": {
      "image/png": "[encoded data removed]",
      "text/plain": [
       "<Figure size 1440x144 with 1 Axes>"
      ]
     },
     "metadata": {
      "needs_background": "light"
     },
     "output_type": "display_data"
    }
   ],
   "source": [
    "plt.figure(figsize=(20, 2))\n",
    "ax=sns.barplot(data=n_samples,x=n_samples.index.values,y=n_samples[\"counts\"].values, linewidth=0.6,palette=\"Set2\",order=n_samples.index.values)\n",
    "ax.set_xlabel(\"Cell type\",fontsize=23)\n",
    "ax.set_ylabel(\"Number of samples\",fontsize=12)\n",
    "ax.tick_params(labelsize=12)\n",
    "ax.set_xticklabels(ax.get_xticklabels(),rotation=90)\n",
    "ax.figure.savefig(\"tpm_nsamps.svg\",bbox_inches=\"tight\",facecolor=\"w\")\n"
   ]
  },
  {
   "cell_type": "code",
   "execution_count": 63,
   "metadata": {},
   "outputs": [],
   "source": [
    "percentage=pd.DataFrame((n_samples[\"counts\"]/n_samples[\"counts\"].sum())*100)"
   ]
  },
  {
   "cell_type": "code",
   "execution_count": 64,
   "metadata": {},
   "outputs": [
    {
     "data": {
      "image/png": "[encoded data removed]",
      "text/plain": [
       "<Figure size 1440x360 with 1 Axes>"
      ]
     },
     "metadata": {},
     "output_type": "display_data"
    }
   ],
   "source": [
    "#Seaborn Horizontal barplot\n",
    "sns.set_style(\"whitegrid\")\n",
    "bar,ax = plt.subplots(figsize=(20,5))\n",
    "ax = sns.barplot(x=percentage.index, y=\"counts\", data=percentage, ci=None, palette=\"muted\",orient='v' )\n",
    "ax.set_title(\"Distribution of Cell Types\", fontsize=15)\n",
    "ax.set_xlabel (\"Cell Types\")\n",
    "ax.set_ylabel (\"% total samples\")\n",
    "ax.set_xticklabels(ax.get_xticklabels(),rotation=90)\n",
    "for rect in ax.patches:\n",
    "    ax.text (rect.get_x() + (rect.get_width()/2) / 2,rect.get_height()+0.5,\"%.2f %%\"% rect.get_height(), weight='light',rotation=90 )\n",
    "bar.savefig(\"cell_types_percentage.svg\",bbox_inches=\"tight\")"
   ]
  },
  {
   "cell_type": "code",
   "execution_count": 65,
   "metadata": {},
   "outputs": [],
   "source": []
  },
  {
   "cell_type": "code",
   "execution_count": 66,
   "metadata": {},
   "outputs": [
    {
     "data": {
      "text/plain": [
       "array(['Pancreatic Islet', 'Fibroblast', 'Neuron', 'HEK293', 'MCF7',\n",
       "       'K562', 'Macrophage', 'HELA', 'IMR90', 'HEPG2', 'LNCAP', 'HCT116',\n",
       "       'A549', 'JURKAT', 'Dendritic', 'Myoblast', 'THP1', 'MDAMB231',\n",
       "       'MCF10', 'Hepatocyte', 'HUVEC', 'Neutrophil', 'Plasma Cell',\n",
       "       'Keratinocyte', 'ES2', 'PC3', 'T47D', 'Astrocyte', 'Stromal Cell',\n",
       "       'Basal Cell', 'Alveola', 'Adipocyte', 'HT29', 'DU145',\n",
       "       'Oligodendrocyte', 'H1299', 'MDAMB468', 'IMR32', 'PANC1', 'C42',\n",
       "       'U937', 'Tlymphocyte', 'Osteoblast', 'Oocyte', 'REH', 'Melanocyte',\n",
       "       'HNSCC', 'Chondrocyte', 'Hepatic Stellate Cell', 'Granulosa',\n",
       "       'HACAT', 'SKBR3', 'RKO', 'NALM6', 'Blymphocyte', 'Beta Cell',\n",
       "       'MRC5', 'SKNSH', 'Podocyte', 'SKOV3', 'NHBE', 'FLPIN TREX 293',\n",
       "       'HT1080', 'NHDF', 'RPMI8226', '293F', 'DAOY',\n",
       "       'Intestinal Epithelial Cell', 'Myofibroblast', 'Granulocyte',\n",
       "       'Hair Follicle', 'A431', 'LHCNM2', 'Alpha Cell', 'JEG3', 'MG63',\n",
       "       'NCIH460', 'Thymocyte'], dtype=object)"
      ]
     },
     "execution_count": 66,
     "metadata": {},
     "output_type": "execute_result"
    }
   ],
   "source": [
    "n_samples.index.values"
   ]
  },
  {
   "cell_type": "code",
   "execution_count": 67,
   "metadata": {},
   "outputs": [],
   "source": [
    "def cell_type_dist(n_samples):\n",
    "    sizes=list(n_samples[\"counts\"].values)\n",
    "    label=list(n_samples.index.values)\n",
    "    norm = colors.Normalize(vmin=min(n_samples.counts), vmax=max(n_samples.counts))\n",
    "    colors = [cm.coolwarm(norm(value)) for value in n_samples.counts]\n",
    "    #color=['red','blue','green','pink','orange','grey']\n",
    "    squarify.plot(sizes=sizes, label=label, alpha=0.6, pad=True,color=colors)\n",
    "    plt.axis('off')\n",
    "    name=\"n_samples.svg\"\n",
    "    plt.savefig(name)\n",
    "    plt.show()"
   ]
  },
  {
   "cell_type": "code",
   "execution_count": 68,
   "metadata": {},
   "outputs": [
    {
     "data": {
      "image/png": "[encoded data removed]",
      "text/plain": [
       "<Figure size 432x288 with 1 Axes>"
      ]
     },
     "metadata": {},
     "output_type": "display_data"
    }
   ],
   "source": [
    "cell_type_dist(n_samples)"
   ]
  },
  {
   "cell_type": "code",
   "execution_count": null,
   "metadata": {},
   "outputs": [],
   "source": []
  }
 ],
 "metadata": {
  "kernelspec": {
   "display_name": "Python 3 (ipykernel)",
   "language": "python",
   "name": "python3"
  },
  "language_info": {
   "codemirror_mode": {
    "name": "ipython",
    "version": 3
   },
   "file_extension": ".py",
   "mimetype": "text/x-python",
   "name": "python",
   "nbconvert_exporter": "python",
   "pygments_lexer": "ipython3",
   "version": "3.9.7"
  }
 },
 "nbformat": 4,
 "nbformat_minor": 4
}
