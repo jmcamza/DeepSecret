{
 "cells": [
  {
   "cell_type": "markdown",
   "metadata": {},
   "source": [
    "# Data Stratification"
   ]
  },
  {
   "cell_type": "code",
   "execution_count": 133,
   "metadata": {},
   "outputs": [],
   "source": [
    "#Importing libraries\n",
    "import pandas as pd\n",
    "import numpy as np\n",
    "from sklearn.model_selection import train_test_split"
   ]
  },
  {
   "cell_type": "code",
   "execution_count": 139,
   "metadata": {},
   "outputs": [],
   "source": [
    "#Importing dataset\n",
    "genes=np.load(\"genes_qnorm_v11_clean_noutliers_nosecret.npy\",allow_pickle=True)\n",
    "samples=np.load(\"samples_qnorm_v11_clean_noutliers_nosecret.npy\",allow_pickle=True)\n",
    "X=np.load(\"results_qnorm_v11_clean_noutliers_nosecret.npy\",allow_pickle=True)\n",
    "results=pd.DataFrame(X,index=genes,columns=samples)"
   ]
  },
  {
   "cell_type": "code",
   "execution_count": 140,
   "metadata": {},
   "outputs": [
    {
     "data": {
      "text/html": [
       "<div>\n",
       "<style scoped>\n",
       "    .dataframe tbody tr th:only-of-type {\n",
       "        vertical-align: middle;\n",
       "    }\n",
       "\n",
       "    .dataframe tbody tr th {\n",
       "        vertical-align: top;\n",
       "    }\n",
       "\n",
       "    .dataframe thead th {\n",
       "        text-align: right;\n",
       "    }\n",
       "</style>\n",
       "<table border=\"1\" class=\"dataframe\">\n",
       "  <thead>\n",
       "    <tr style=\"text-align: right;\">\n",
       "      <th></th>\n",
       "      <th>GSM741172</th>\n",
       "      <th>GSM741170</th>\n",
       "      <th>GSM741171</th>\n",
       "      <th>GSM907015</th>\n",
       "      <th>GSM1193921</th>\n",
       "      <th>GSM1098188</th>\n",
       "      <th>GSM1193928</th>\n",
       "      <th>GSM1048186</th>\n",
       "      <th>GSM1216828</th>\n",
       "      <th>GSM1241249</th>\n",
       "      <th>...</th>\n",
       "      <th>GSM5572862</th>\n",
       "      <th>GSM5577332</th>\n",
       "      <th>GSM5577333</th>\n",
       "      <th>GSM5577334</th>\n",
       "      <th>GSM5577335</th>\n",
       "      <th>GSM5577336</th>\n",
       "      <th>GSM5577337</th>\n",
       "      <th>GSM5580099</th>\n",
       "      <th>GSM5580100</th>\n",
       "      <th>GSM5580102</th>\n",
       "    </tr>\n",
       "  </thead>\n",
       "  <tbody>\n",
       "    <tr>\n",
       "      <th>A1CF</th>\n",
       "      <td>0</td>\n",
       "      <td>0</td>\n",
       "      <td>0</td>\n",
       "      <td>0</td>\n",
       "      <td>0</td>\n",
       "      <td>0</td>\n",
       "      <td>0</td>\n",
       "      <td>0</td>\n",
       "      <td>8</td>\n",
       "      <td>0</td>\n",
       "      <td>...</td>\n",
       "      <td>0</td>\n",
       "      <td>0</td>\n",
       "      <td>0</td>\n",
       "      <td>0</td>\n",
       "      <td>0</td>\n",
       "      <td>0</td>\n",
       "      <td>0</td>\n",
       "      <td>0</td>\n",
       "      <td>0</td>\n",
       "      <td>0</td>\n",
       "    </tr>\n",
       "    <tr>\n",
       "      <th>A3GALT2</th>\n",
       "      <td>0</td>\n",
       "      <td>0</td>\n",
       "      <td>0</td>\n",
       "      <td>0</td>\n",
       "      <td>0</td>\n",
       "      <td>0</td>\n",
       "      <td>0</td>\n",
       "      <td>0</td>\n",
       "      <td>0</td>\n",
       "      <td>0</td>\n",
       "      <td>...</td>\n",
       "      <td>0</td>\n",
       "      <td>0</td>\n",
       "      <td>0</td>\n",
       "      <td>0</td>\n",
       "      <td>0</td>\n",
       "      <td>0</td>\n",
       "      <td>0</td>\n",
       "      <td>0</td>\n",
       "      <td>0</td>\n",
       "      <td>0</td>\n",
       "    </tr>\n",
       "    <tr>\n",
       "      <th>A4GALT</th>\n",
       "      <td>23</td>\n",
       "      <td>23</td>\n",
       "      <td>23</td>\n",
       "      <td>1</td>\n",
       "      <td>8</td>\n",
       "      <td>22</td>\n",
       "      <td>11</td>\n",
       "      <td>3</td>\n",
       "      <td>0</td>\n",
       "      <td>0</td>\n",
       "      <td>...</td>\n",
       "      <td>19</td>\n",
       "      <td>1</td>\n",
       "      <td>2</td>\n",
       "      <td>2</td>\n",
       "      <td>2</td>\n",
       "      <td>1</td>\n",
       "      <td>2</td>\n",
       "      <td>0</td>\n",
       "      <td>0</td>\n",
       "      <td>0</td>\n",
       "    </tr>\n",
       "    <tr>\n",
       "      <th>A4GNT</th>\n",
       "      <td>0</td>\n",
       "      <td>0</td>\n",
       "      <td>0</td>\n",
       "      <td>1</td>\n",
       "      <td>0</td>\n",
       "      <td>0</td>\n",
       "      <td>0</td>\n",
       "      <td>0</td>\n",
       "      <td>0</td>\n",
       "      <td>0</td>\n",
       "      <td>...</td>\n",
       "      <td>0</td>\n",
       "      <td>0</td>\n",
       "      <td>0</td>\n",
       "      <td>0</td>\n",
       "      <td>0</td>\n",
       "      <td>0</td>\n",
       "      <td>0</td>\n",
       "      <td>0</td>\n",
       "      <td>0</td>\n",
       "      <td>0</td>\n",
       "    </tr>\n",
       "    <tr>\n",
       "      <th>AAAS</th>\n",
       "      <td>39</td>\n",
       "      <td>38</td>\n",
       "      <td>37</td>\n",
       "      <td>21</td>\n",
       "      <td>17</td>\n",
       "      <td>30</td>\n",
       "      <td>15</td>\n",
       "      <td>29</td>\n",
       "      <td>22</td>\n",
       "      <td>24</td>\n",
       "      <td>...</td>\n",
       "      <td>44</td>\n",
       "      <td>74</td>\n",
       "      <td>63</td>\n",
       "      <td>61</td>\n",
       "      <td>88</td>\n",
       "      <td>96</td>\n",
       "      <td>93</td>\n",
       "      <td>34</td>\n",
       "      <td>40</td>\n",
       "      <td>25</td>\n",
       "    </tr>\n",
       "  </tbody>\n",
       "</table>\n",
       "<p>5 rows × 62571 columns</p>\n",
       "</div>"
      ],
      "text/plain": [
       "         GSM741172  GSM741170  GSM741171  GSM907015  GSM1193921  GSM1098188  \\\n",
       "A1CF             0          0          0          0           0           0   \n",
       "A3GALT2          0          0          0          0           0           0   \n",
       "A4GALT          23         23         23          1           8          22   \n",
       "A4GNT            0          0          0          1           0           0   \n",
       "AAAS            39         38         37         21          17          30   \n",
       "\n",
       "         GSM1193928  GSM1048186  GSM1216828  GSM1241249  ...  GSM5572862  \\\n",
       "A1CF              0           0           8           0  ...           0   \n",
       "A3GALT2           0           0           0           0  ...           0   \n",
       "A4GALT           11           3           0           0  ...          19   \n",
       "A4GNT             0           0           0           0  ...           0   \n",
       "AAAS             15          29          22          24  ...          44   \n",
       "\n",
       "         GSM5577332  GSM5577333  GSM5577334  GSM5577335  GSM5577336  \\\n",
       "A1CF              0           0           0           0           0   \n",
       "A3GALT2           0           0           0           0           0   \n",
       "A4GALT            1           2           2           2           1   \n",
       "A4GNT             0           0           0           0           0   \n",
       "AAAS             74          63          61          88          96   \n",
       "\n",
       "         GSM5577337  GSM5580099  GSM5580100  GSM5580102  \n",
       "A1CF              0           0           0           0  \n",
       "A3GALT2           0           0           0           0  \n",
       "A4GALT            2           0           0           0  \n",
       "A4GNT             0           0           0           0  \n",
       "AAAS             93          34          40          25  \n",
       "\n",
       "[5 rows x 62571 columns]"
      ]
     },
     "execution_count": 140,
     "metadata": {},
     "output_type": "execute_result"
    }
   ],
   "source": [
    "results.head()"
   ]
  },
  {
   "cell_type": "code",
   "execution_count": 141,
   "metadata": {},
   "outputs": [
    {
     "data": {
      "text/plain": [
       "(18952, 62571)"
      ]
     },
     "execution_count": 141,
     "metadata": {},
     "output_type": "execute_result"
    }
   ],
   "source": [
    "results.shape"
   ]
  },
  {
   "cell_type": "code",
   "execution_count": 136,
   "metadata": {},
   "outputs": [],
   "source": [
    "#Importing secretome list\n",
    "secretome=np.load(\"secretome_included_V11.npy\",allow_pickle=True).tolist()"
   ]
  },
  {
   "cell_type": "code",
   "execution_count": 142,
   "metadata": {},
   "outputs": [],
   "source": [
    "#Removing secretome genes from dataset\n",
    "results.drop(labels=secretome,axis=0,inplace=True)"
   ]
  },
  {
   "cell_type": "code",
   "execution_count": 138,
   "metadata": {},
   "outputs": [
    {
     "data": {
      "text/html": [
       "<div>\n",
       "<style scoped>\n",
       "    .dataframe tbody tr th:only-of-type {\n",
       "        vertical-align: middle;\n",
       "    }\n",
       "\n",
       "    .dataframe tbody tr th {\n",
       "        vertical-align: top;\n",
       "    }\n",
       "\n",
       "    .dataframe thead th {\n",
       "        text-align: right;\n",
       "    }\n",
       "</style>\n",
       "<table border=\"1\" class=\"dataframe\">\n",
       "  <thead>\n",
       "    <tr style=\"text-align: right;\">\n",
       "      <th></th>\n",
       "      <th>GSM741172</th>\n",
       "      <th>GSM741170</th>\n",
       "      <th>GSM741171</th>\n",
       "      <th>GSM907015</th>\n",
       "      <th>GSM1193921</th>\n",
       "      <th>GSM1098188</th>\n",
       "      <th>GSM1193928</th>\n",
       "      <th>GSM1048186</th>\n",
       "      <th>GSM1216828</th>\n",
       "      <th>GSM1241249</th>\n",
       "      <th>...</th>\n",
       "      <th>GSM5572862</th>\n",
       "      <th>GSM5577332</th>\n",
       "      <th>GSM5577333</th>\n",
       "      <th>GSM5577334</th>\n",
       "      <th>GSM5577335</th>\n",
       "      <th>GSM5577336</th>\n",
       "      <th>GSM5577337</th>\n",
       "      <th>GSM5580099</th>\n",
       "      <th>GSM5580100</th>\n",
       "      <th>GSM5580102</th>\n",
       "    </tr>\n",
       "  </thead>\n",
       "  <tbody>\n",
       "    <tr>\n",
       "      <th>A1CF</th>\n",
       "      <td>0</td>\n",
       "      <td>0</td>\n",
       "      <td>0</td>\n",
       "      <td>0</td>\n",
       "      <td>0</td>\n",
       "      <td>0</td>\n",
       "      <td>0</td>\n",
       "      <td>0</td>\n",
       "      <td>8</td>\n",
       "      <td>0</td>\n",
       "      <td>...</td>\n",
       "      <td>0</td>\n",
       "      <td>0</td>\n",
       "      <td>0</td>\n",
       "      <td>0</td>\n",
       "      <td>0</td>\n",
       "      <td>0</td>\n",
       "      <td>0</td>\n",
       "      <td>0</td>\n",
       "      <td>0</td>\n",
       "      <td>0</td>\n",
       "    </tr>\n",
       "    <tr>\n",
       "      <th>A3GALT2</th>\n",
       "      <td>0</td>\n",
       "      <td>0</td>\n",
       "      <td>0</td>\n",
       "      <td>0</td>\n",
       "      <td>0</td>\n",
       "      <td>0</td>\n",
       "      <td>0</td>\n",
       "      <td>0</td>\n",
       "      <td>0</td>\n",
       "      <td>0</td>\n",
       "      <td>...</td>\n",
       "      <td>0</td>\n",
       "      <td>0</td>\n",
       "      <td>0</td>\n",
       "      <td>0</td>\n",
       "      <td>0</td>\n",
       "      <td>0</td>\n",
       "      <td>0</td>\n",
       "      <td>0</td>\n",
       "      <td>0</td>\n",
       "      <td>0</td>\n",
       "    </tr>\n",
       "    <tr>\n",
       "      <th>A4GALT</th>\n",
       "      <td>23</td>\n",
       "      <td>23</td>\n",
       "      <td>23</td>\n",
       "      <td>1</td>\n",
       "      <td>8</td>\n",
       "      <td>22</td>\n",
       "      <td>11</td>\n",
       "      <td>3</td>\n",
       "      <td>0</td>\n",
       "      <td>0</td>\n",
       "      <td>...</td>\n",
       "      <td>19</td>\n",
       "      <td>1</td>\n",
       "      <td>2</td>\n",
       "      <td>2</td>\n",
       "      <td>2</td>\n",
       "      <td>1</td>\n",
       "      <td>2</td>\n",
       "      <td>0</td>\n",
       "      <td>0</td>\n",
       "      <td>0</td>\n",
       "    </tr>\n",
       "    <tr>\n",
       "      <th>A4GNT</th>\n",
       "      <td>0</td>\n",
       "      <td>0</td>\n",
       "      <td>0</td>\n",
       "      <td>1</td>\n",
       "      <td>0</td>\n",
       "      <td>0</td>\n",
       "      <td>0</td>\n",
       "      <td>0</td>\n",
       "      <td>0</td>\n",
       "      <td>0</td>\n",
       "      <td>...</td>\n",
       "      <td>0</td>\n",
       "      <td>0</td>\n",
       "      <td>0</td>\n",
       "      <td>0</td>\n",
       "      <td>0</td>\n",
       "      <td>0</td>\n",
       "      <td>0</td>\n",
       "      <td>0</td>\n",
       "      <td>0</td>\n",
       "      <td>0</td>\n",
       "    </tr>\n",
       "    <tr>\n",
       "      <th>AAAS</th>\n",
       "      <td>39</td>\n",
       "      <td>38</td>\n",
       "      <td>37</td>\n",
       "      <td>21</td>\n",
       "      <td>17</td>\n",
       "      <td>30</td>\n",
       "      <td>15</td>\n",
       "      <td>29</td>\n",
       "      <td>22</td>\n",
       "      <td>24</td>\n",
       "      <td>...</td>\n",
       "      <td>44</td>\n",
       "      <td>74</td>\n",
       "      <td>63</td>\n",
       "      <td>61</td>\n",
       "      <td>88</td>\n",
       "      <td>96</td>\n",
       "      <td>93</td>\n",
       "      <td>34</td>\n",
       "      <td>40</td>\n",
       "      <td>25</td>\n",
       "    </tr>\n",
       "  </tbody>\n",
       "</table>\n",
       "<p>5 rows × 62571 columns</p>\n",
       "</div>"
      ],
      "text/plain": [
       "         GSM741172  GSM741170  GSM741171  GSM907015  GSM1193921  GSM1098188  \\\n",
       "A1CF             0          0          0          0           0           0   \n",
       "A3GALT2          0          0          0          0           0           0   \n",
       "A4GALT          23         23         23          1           8          22   \n",
       "A4GNT            0          0          0          1           0           0   \n",
       "AAAS            39         38         37         21          17          30   \n",
       "\n",
       "         GSM1193928  GSM1048186  GSM1216828  GSM1241249  ...  GSM5572862  \\\n",
       "A1CF              0           0           8           0  ...           0   \n",
       "A3GALT2           0           0           0           0  ...           0   \n",
       "A4GALT           11           3           0           0  ...          19   \n",
       "A4GNT             0           0           0           0  ...           0   \n",
       "AAAS             15          29          22          24  ...          44   \n",
       "\n",
       "         GSM5577332  GSM5577333  GSM5577334  GSM5577335  GSM5577336  \\\n",
       "A1CF              0           0           0           0           0   \n",
       "A3GALT2           0           0           0           0           0   \n",
       "A4GALT            1           2           2           2           1   \n",
       "A4GNT             0           0           0           0           0   \n",
       "AAAS             74          63          61          88          96   \n",
       "\n",
       "         GSM5577337  GSM5580099  GSM5580100  GSM5580102  \n",
       "A1CF              0           0           0           0  \n",
       "A3GALT2           0           0           0           0  \n",
       "A4GALT            2           0           0           0  \n",
       "A4GNT             0           0           0           0  \n",
       "AAAS             93          34          40          25  \n",
       "\n",
       "[5 rows x 62571 columns]"
      ]
     },
     "execution_count": 138,
     "metadata": {},
     "output_type": "execute_result"
    }
   ],
   "source": [
    "results.head()"
   ]
  },
  {
   "cell_type": "code",
   "execution_count": 143,
   "metadata": {},
   "outputs": [
    {
     "data": {
      "text/plain": [
       "(18952, 62571)"
      ]
     },
     "execution_count": 143,
     "metadata": {},
     "output_type": "execute_result"
    }
   ],
   "source": [
    "results.shape"
   ]
  },
  {
   "cell_type": "code",
   "execution_count": 144,
   "metadata": {},
   "outputs": [],
   "source": [
    "#Importing secretory index table\n",
    "si=pd.read_csv(\"si_V11_TPM_noutliers.csv\",index_col=0)\n",
    "si.drop(columns=\"cell_type\",inplace=True)\n",
    "si.columns=[\"secreted\"]"
   ]
  },
  {
   "cell_type": "code",
   "execution_count": 145,
   "metadata": {},
   "outputs": [
    {
     "data": {
      "text/html": [
       "<div>\n",
       "<style scoped>\n",
       "    .dataframe tbody tr th:only-of-type {\n",
       "        vertical-align: middle;\n",
       "    }\n",
       "\n",
       "    .dataframe tbody tr th {\n",
       "        vertical-align: top;\n",
       "    }\n",
       "\n",
       "    .dataframe thead th {\n",
       "        text-align: right;\n",
       "    }\n",
       "</style>\n",
       "<table border=\"1\" class=\"dataframe\">\n",
       "  <thead>\n",
       "    <tr style=\"text-align: right;\">\n",
       "      <th></th>\n",
       "      <th>GSM741172</th>\n",
       "      <th>GSM741170</th>\n",
       "      <th>GSM741171</th>\n",
       "      <th>GSM907015</th>\n",
       "      <th>GSM1193921</th>\n",
       "      <th>GSM1098188</th>\n",
       "      <th>GSM1193928</th>\n",
       "      <th>GSM1048186</th>\n",
       "      <th>GSM1216828</th>\n",
       "      <th>GSM1241249</th>\n",
       "      <th>...</th>\n",
       "      <th>GSM5572862</th>\n",
       "      <th>GSM5577332</th>\n",
       "      <th>GSM5577333</th>\n",
       "      <th>GSM5577334</th>\n",
       "      <th>GSM5577335</th>\n",
       "      <th>GSM5577336</th>\n",
       "      <th>GSM5577337</th>\n",
       "      <th>GSM5580099</th>\n",
       "      <th>GSM5580100</th>\n",
       "      <th>GSM5580102</th>\n",
       "    </tr>\n",
       "  </thead>\n",
       "  <tbody>\n",
       "    <tr>\n",
       "      <th>A1CF</th>\n",
       "      <td>0</td>\n",
       "      <td>0</td>\n",
       "      <td>0</td>\n",
       "      <td>0</td>\n",
       "      <td>0</td>\n",
       "      <td>0</td>\n",
       "      <td>0</td>\n",
       "      <td>0</td>\n",
       "      <td>8</td>\n",
       "      <td>0</td>\n",
       "      <td>...</td>\n",
       "      <td>0</td>\n",
       "      <td>0</td>\n",
       "      <td>0</td>\n",
       "      <td>0</td>\n",
       "      <td>0</td>\n",
       "      <td>0</td>\n",
       "      <td>0</td>\n",
       "      <td>0</td>\n",
       "      <td>0</td>\n",
       "      <td>0</td>\n",
       "    </tr>\n",
       "    <tr>\n",
       "      <th>A3GALT2</th>\n",
       "      <td>0</td>\n",
       "      <td>0</td>\n",
       "      <td>0</td>\n",
       "      <td>0</td>\n",
       "      <td>0</td>\n",
       "      <td>0</td>\n",
       "      <td>0</td>\n",
       "      <td>0</td>\n",
       "      <td>0</td>\n",
       "      <td>0</td>\n",
       "      <td>...</td>\n",
       "      <td>0</td>\n",
       "      <td>0</td>\n",
       "      <td>0</td>\n",
       "      <td>0</td>\n",
       "      <td>0</td>\n",
       "      <td>0</td>\n",
       "      <td>0</td>\n",
       "      <td>0</td>\n",
       "      <td>0</td>\n",
       "      <td>0</td>\n",
       "    </tr>\n",
       "    <tr>\n",
       "      <th>A4GALT</th>\n",
       "      <td>23</td>\n",
       "      <td>23</td>\n",
       "      <td>23</td>\n",
       "      <td>1</td>\n",
       "      <td>8</td>\n",
       "      <td>22</td>\n",
       "      <td>11</td>\n",
       "      <td>3</td>\n",
       "      <td>0</td>\n",
       "      <td>0</td>\n",
       "      <td>...</td>\n",
       "      <td>19</td>\n",
       "      <td>1</td>\n",
       "      <td>2</td>\n",
       "      <td>2</td>\n",
       "      <td>2</td>\n",
       "      <td>1</td>\n",
       "      <td>2</td>\n",
       "      <td>0</td>\n",
       "      <td>0</td>\n",
       "      <td>0</td>\n",
       "    </tr>\n",
       "    <tr>\n",
       "      <th>A4GNT</th>\n",
       "      <td>0</td>\n",
       "      <td>0</td>\n",
       "      <td>0</td>\n",
       "      <td>1</td>\n",
       "      <td>0</td>\n",
       "      <td>0</td>\n",
       "      <td>0</td>\n",
       "      <td>0</td>\n",
       "      <td>0</td>\n",
       "      <td>0</td>\n",
       "      <td>...</td>\n",
       "      <td>0</td>\n",
       "      <td>0</td>\n",
       "      <td>0</td>\n",
       "      <td>0</td>\n",
       "      <td>0</td>\n",
       "      <td>0</td>\n",
       "      <td>0</td>\n",
       "      <td>0</td>\n",
       "      <td>0</td>\n",
       "      <td>0</td>\n",
       "    </tr>\n",
       "    <tr>\n",
       "      <th>AAAS</th>\n",
       "      <td>39</td>\n",
       "      <td>38</td>\n",
       "      <td>37</td>\n",
       "      <td>21</td>\n",
       "      <td>17</td>\n",
       "      <td>30</td>\n",
       "      <td>15</td>\n",
       "      <td>29</td>\n",
       "      <td>22</td>\n",
       "      <td>24</td>\n",
       "      <td>...</td>\n",
       "      <td>44</td>\n",
       "      <td>74</td>\n",
       "      <td>63</td>\n",
       "      <td>61</td>\n",
       "      <td>88</td>\n",
       "      <td>96</td>\n",
       "      <td>93</td>\n",
       "      <td>34</td>\n",
       "      <td>40</td>\n",
       "      <td>25</td>\n",
       "    </tr>\n",
       "  </tbody>\n",
       "</table>\n",
       "<p>5 rows × 62571 columns</p>\n",
       "</div>"
      ],
      "text/plain": [
       "         GSM741172  GSM741170  GSM741171  GSM907015  GSM1193921  GSM1098188  \\\n",
       "A1CF             0          0          0          0           0           0   \n",
       "A3GALT2          0          0          0          0           0           0   \n",
       "A4GALT          23         23         23          1           8          22   \n",
       "A4GNT            0          0          0          1           0           0   \n",
       "AAAS            39         38         37         21          17          30   \n",
       "\n",
       "         GSM1193928  GSM1048186  GSM1216828  GSM1241249  ...  GSM5572862  \\\n",
       "A1CF              0           0           8           0  ...           0   \n",
       "A3GALT2           0           0           0           0  ...           0   \n",
       "A4GALT           11           3           0           0  ...          19   \n",
       "A4GNT             0           0           0           0  ...           0   \n",
       "AAAS             15          29          22          24  ...          44   \n",
       "\n",
       "         GSM5577332  GSM5577333  GSM5577334  GSM5577335  GSM5577336  \\\n",
       "A1CF              0           0           0           0           0   \n",
       "A3GALT2           0           0           0           0           0   \n",
       "A4GALT            1           2           2           2           1   \n",
       "A4GNT             0           0           0           0           0   \n",
       "AAAS             74          63          61          88          96   \n",
       "\n",
       "         GSM5577337  GSM5580099  GSM5580100  GSM5580102  \n",
       "A1CF              0           0           0           0  \n",
       "A3GALT2           0           0           0           0  \n",
       "A4GALT            2           0           0           0  \n",
       "A4GNT             0           0           0           0  \n",
       "AAAS             93          34          40          25  \n",
       "\n",
       "[5 rows x 62571 columns]"
      ]
     },
     "execution_count": 145,
     "metadata": {},
     "output_type": "execute_result"
    }
   ],
   "source": [
    "results.head()"
   ]
  },
  {
   "cell_type": "code",
   "execution_count": 146,
   "metadata": {},
   "outputs": [
    {
     "data": {
      "text/plain": [
       "(18952, 62571)"
      ]
     },
     "execution_count": 146,
     "metadata": {},
     "output_type": "execute_result"
    }
   ],
   "source": [
    "results.shape"
   ]
  },
  {
   "cell_type": "code",
   "execution_count": 147,
   "metadata": {},
   "outputs": [
    {
     "data": {
      "text/plain": [
       "(62571, 1)"
      ]
     },
     "execution_count": 147,
     "metadata": {},
     "output_type": "execute_result"
    }
   ],
   "source": [
    "si.shape"
   ]
  },
  {
   "cell_type": "code",
   "execution_count": 148,
   "metadata": {},
   "outputs": [
    {
     "data": {
      "text/html": [
       "<div>\n",
       "<style scoped>\n",
       "    .dataframe tbody tr th:only-of-type {\n",
       "        vertical-align: middle;\n",
       "    }\n",
       "\n",
       "    .dataframe tbody tr th {\n",
       "        vertical-align: top;\n",
       "    }\n",
       "\n",
       "    .dataframe thead th {\n",
       "        text-align: right;\n",
       "    }\n",
       "</style>\n",
       "<table border=\"1\" class=\"dataframe\">\n",
       "  <thead>\n",
       "    <tr style=\"text-align: right;\">\n",
       "      <th></th>\n",
       "      <th>secreted</th>\n",
       "    </tr>\n",
       "  </thead>\n",
       "  <tbody>\n",
       "    <tr>\n",
       "      <th>GSM741172</th>\n",
       "      <td>451</td>\n",
       "    </tr>\n",
       "    <tr>\n",
       "      <th>GSM741170</th>\n",
       "      <td>458</td>\n",
       "    </tr>\n",
       "    <tr>\n",
       "      <th>GSM741171</th>\n",
       "      <td>486</td>\n",
       "    </tr>\n",
       "    <tr>\n",
       "      <th>GSM907015</th>\n",
       "      <td>1470</td>\n",
       "    </tr>\n",
       "    <tr>\n",
       "      <th>GSM1193921</th>\n",
       "      <td>280</td>\n",
       "    </tr>\n",
       "  </tbody>\n",
       "</table>\n",
       "</div>"
      ],
      "text/plain": [
       "            secreted\n",
       "GSM741172        451\n",
       "GSM741170        458\n",
       "GSM741171        486\n",
       "GSM907015       1470\n",
       "GSM1193921       280"
      ]
     },
     "execution_count": 148,
     "metadata": {},
     "output_type": "execute_result"
    }
   ],
   "source": [
    "si.head()"
   ]
  },
  {
   "cell_type": "code",
   "execution_count": 149,
   "metadata": {},
   "outputs": [],
   "source": [
    "si=si.loc[results.columns]"
   ]
  },
  {
   "cell_type": "code",
   "execution_count": 150,
   "metadata": {},
   "outputs": [
    {
     "data": {
      "text/plain": [
       "(62571, 1)"
      ]
     },
     "execution_count": 150,
     "metadata": {},
     "output_type": "execute_result"
    }
   ],
   "source": [
    "si.shape"
   ]
  },
  {
   "cell_type": "code",
   "execution_count": 151,
   "metadata": {},
   "outputs": [],
   "source": [
    "###### SKIP IF WHOLE DATASET IS TO BE USED #############\n",
    "#Select percentage of dataset to use (top and lowest samples in terms of SI).\n",
    "top_percent=int(np.round(results.shape[1]*0.50))\n",
    "low_percent=int(np.round(results.shape[1]*0.50))\n",
    "\n",
    "keep_top=list(si.sort_values(by=\"secreted\",ascending=False).index[0:top_percent])\n",
    "keep_bottom=list(si.sort_values(by=\"secreted\",ascending=False).index[-low_percent:])\n",
    "keep=keep_top+keep_bottom"
   ]
  },
  {
   "cell_type": "code",
   "execution_count": 17,
   "metadata": {},
   "outputs": [],
   "source": [
    "####### USE ONLY WHEN PARTIAL DATASET IS TO BE USED (SEE ABOVE) ###############\n",
    "results=results.copy().T.loc[keep]\n",
    "secreted_sum=si.copy().loc[keep]"
   ]
  },
  {
   "cell_type": "code",
   "execution_count": 152,
   "metadata": {},
   "outputs": [],
   "source": [
    "######### USE ONLY IF FULL DATASET IS USED ############\n",
    "results=results.copy().T\n",
    "secreted_sum=si.copy()"
   ]
  },
  {
   "cell_type": "code",
   "execution_count": 153,
   "metadata": {},
   "outputs": [
    {
     "data": {
      "text/plain": [
       "(62571, 18952)"
      ]
     },
     "execution_count": 153,
     "metadata": {},
     "output_type": "execute_result"
    }
   ],
   "source": [
    "results.shape"
   ]
  },
  {
   "cell_type": "code",
   "execution_count": 154,
   "metadata": {},
   "outputs": [
    {
     "data": {
      "text/plain": [
       "(62571, 1)"
      ]
     },
     "execution_count": 154,
     "metadata": {},
     "output_type": "execute_result"
    }
   ],
   "source": [
    "secreted_sum.shape"
   ]
  },
  {
   "cell_type": "code",
   "execution_count": 155,
   "metadata": {},
   "outputs": [],
   "source": [
    "# Import sample types for stratification (this file includes samples removed after pre-processing)\n",
    "sample_types=pd.read_csv(\"samples_types_tpm.csv\")"
   ]
  },
  {
   "cell_type": "code",
   "execution_count": 156,
   "metadata": {},
   "outputs": [
    {
     "data": {
      "text/plain": [
       "(62571,)"
      ]
     },
     "execution_count": 156,
     "metadata": {},
     "output_type": "execute_result"
    }
   ],
   "source": [
    "samples.shape"
   ]
  },
  {
   "cell_type": "code",
   "execution_count": 157,
   "metadata": {},
   "outputs": [
    {
     "data": {
      "text/html": [
       "<div>\n",
       "<style scoped>\n",
       "    .dataframe tbody tr th:only-of-type {\n",
       "        vertical-align: middle;\n",
       "    }\n",
       "\n",
       "    .dataframe tbody tr th {\n",
       "        vertical-align: top;\n",
       "    }\n",
       "\n",
       "    .dataframe thead th {\n",
       "        text-align: right;\n",
       "    }\n",
       "</style>\n",
       "<table border=\"1\" class=\"dataframe\">\n",
       "  <thead>\n",
       "    <tr style=\"text-align: right;\">\n",
       "      <th></th>\n",
       "      <th>geo_id</th>\n",
       "      <th>type</th>\n",
       "    </tr>\n",
       "    <tr>\n",
       "      <th>geo_id</th>\n",
       "      <th></th>\n",
       "      <th></th>\n",
       "    </tr>\n",
       "  </thead>\n",
       "  <tbody>\n",
       "    <tr>\n",
       "      <th>GSM2132128</th>\n",
       "      <td>GSM2132128</td>\n",
       "      <td>Podocyte</td>\n",
       "    </tr>\n",
       "    <tr>\n",
       "      <th>GSM2132132</th>\n",
       "      <td>GSM2132132</td>\n",
       "      <td>Podocyte</td>\n",
       "    </tr>\n",
       "    <tr>\n",
       "      <th>GSM2132130</th>\n",
       "      <td>GSM2132130</td>\n",
       "      <td>Podocyte</td>\n",
       "    </tr>\n",
       "    <tr>\n",
       "      <th>GSM2132129</th>\n",
       "      <td>GSM2132129</td>\n",
       "      <td>Podocyte</td>\n",
       "    </tr>\n",
       "    <tr>\n",
       "      <th>GSM2132133</th>\n",
       "      <td>GSM2132133</td>\n",
       "      <td>Podocyte</td>\n",
       "    </tr>\n",
       "  </tbody>\n",
       "</table>\n",
       "</div>"
      ],
      "text/plain": [
       "                geo_id      type\n",
       "geo_id                          \n",
       "GSM2132128  GSM2132128  Podocyte\n",
       "GSM2132132  GSM2132132  Podocyte\n",
       "GSM2132130  GSM2132130  Podocyte\n",
       "GSM2132129  GSM2132129  Podocyte\n",
       "GSM2132133  GSM2132133  Podocyte"
      ]
     },
     "execution_count": 157,
     "metadata": {},
     "output_type": "execute_result"
    }
   ],
   "source": [
    "sample_types.drop(labels=\"index\",axis=1,inplace=True)\n",
    "sample_types.set_index(\"geo_id\",inplace=True,drop=False)\n",
    "sample_types.head()"
   ]
  },
  {
   "cell_type": "code",
   "execution_count": 158,
   "metadata": {},
   "outputs": [
    {
     "data": {
      "text/plain": [
       "(71961, 2)"
      ]
     },
     "execution_count": 158,
     "metadata": {},
     "output_type": "execute_result"
    }
   ],
   "source": [
    "sample_types.shape"
   ]
  },
  {
   "cell_type": "code",
   "execution_count": 159,
   "metadata": {},
   "outputs": [
    {
     "data": {
      "text/plain": [
       "(62571, 18952)"
      ]
     },
     "execution_count": 159,
     "metadata": {},
     "output_type": "execute_result"
    }
   ],
   "source": [
    "results.shape"
   ]
  },
  {
   "cell_type": "code",
   "execution_count": 160,
   "metadata": {},
   "outputs": [
    {
     "data": {
      "text/plain": [
       "(62571, 2)"
      ]
     },
     "execution_count": 160,
     "metadata": {},
     "output_type": "execute_result"
    }
   ],
   "source": [
    "#Select only sample types of processed dataset\n",
    "sample_types=sample_types.loc[results.index.values]\n",
    "sample_types.shape"
   ]
  },
  {
   "cell_type": "code",
   "execution_count": 26,
   "metadata": {},
   "outputs": [],
   "source": [
    "##### only when using partial dataset\n",
    "sample_types=sample_types.loc[keep]"
   ]
  },
  {
   "cell_type": "code",
   "execution_count": 161,
   "metadata": {},
   "outputs": [
    {
     "data": {
      "text/plain": [
       "(62571, 2)"
      ]
     },
     "execution_count": 161,
     "metadata": {},
     "output_type": "execute_result"
    }
   ],
   "source": [
    "sample_types.shape"
   ]
  },
  {
   "cell_type": "code",
   "execution_count": 162,
   "metadata": {},
   "outputs": [
    {
     "data": {
      "text/plain": [
       "(62571, 18952)"
      ]
     },
     "execution_count": 162,
     "metadata": {},
     "output_type": "execute_result"
    }
   ],
   "source": [
    "results.shape"
   ]
  },
  {
   "cell_type": "code",
   "execution_count": 163,
   "metadata": {},
   "outputs": [
    {
     "data": {
      "text/html": [
       "<div>\n",
       "<style scoped>\n",
       "    .dataframe tbody tr th:only-of-type {\n",
       "        vertical-align: middle;\n",
       "    }\n",
       "\n",
       "    .dataframe tbody tr th {\n",
       "        vertical-align: top;\n",
       "    }\n",
       "\n",
       "    .dataframe thead th {\n",
       "        text-align: right;\n",
       "    }\n",
       "</style>\n",
       "<table border=\"1\" class=\"dataframe\">\n",
       "  <thead>\n",
       "    <tr style=\"text-align: right;\">\n",
       "      <th></th>\n",
       "      <th>count</th>\n",
       "    </tr>\n",
       "    <tr>\n",
       "      <th>type</th>\n",
       "      <th></th>\n",
       "    </tr>\n",
       "  </thead>\n",
       "  <tbody>\n",
       "    <tr>\n",
       "      <th>Thymocyte</th>\n",
       "      <td>9</td>\n",
       "    </tr>\n",
       "    <tr>\n",
       "      <th>NCIH460</th>\n",
       "      <td>14</td>\n",
       "    </tr>\n",
       "    <tr>\n",
       "      <th>JEG3</th>\n",
       "      <td>19</td>\n",
       "    </tr>\n",
       "    <tr>\n",
       "      <th>MG63</th>\n",
       "      <td>20</td>\n",
       "    </tr>\n",
       "    <tr>\n",
       "      <th>Alpha Cell</th>\n",
       "      <td>23</td>\n",
       "    </tr>\n",
       "    <tr>\n",
       "      <th>...</th>\n",
       "      <td>...</td>\n",
       "    </tr>\n",
       "    <tr>\n",
       "      <th>HEK293</th>\n",
       "      <td>3251</td>\n",
       "    </tr>\n",
       "    <tr>\n",
       "      <th>MCF7</th>\n",
       "      <td>3384</td>\n",
       "    </tr>\n",
       "    <tr>\n",
       "      <th>Neuron</th>\n",
       "      <td>4475</td>\n",
       "    </tr>\n",
       "    <tr>\n",
       "      <th>Fibroblast</th>\n",
       "      <td>8005</td>\n",
       "    </tr>\n",
       "    <tr>\n",
       "      <th>Pancreatic Islet</th>\n",
       "      <td>10410</td>\n",
       "    </tr>\n",
       "  </tbody>\n",
       "</table>\n",
       "<p>78 rows × 1 columns</p>\n",
       "</div>"
      ],
      "text/plain": [
       "                  count\n",
       "type                   \n",
       "Thymocyte             9\n",
       "NCIH460              14\n",
       "JEG3                 19\n",
       "MG63                 20\n",
       "Alpha Cell           23\n",
       "...                 ...\n",
       "HEK293             3251\n",
       "MCF7               3384\n",
       "Neuron             4475\n",
       "Fibroblast         8005\n",
       "Pancreatic Islet  10410\n",
       "\n",
       "[78 rows x 1 columns]"
      ]
     },
     "execution_count": 163,
     "metadata": {},
     "output_type": "execute_result"
    }
   ],
   "source": [
    "### Counting number of samples per cell type\n",
    "n_samples=sample_types.groupby(\"type\").count()\n",
    "n_samples.columns=[\"count\"]\n",
    "n_samples.sort_values(by=\"count\")"
   ]
  },
  {
   "cell_type": "code",
   "execution_count": 164,
   "metadata": {},
   "outputs": [
    {
     "data": {
      "text/plain": [
       "array(['GSM1131197', 'GSM1131193', 'GSM1131192', 'GSM1131195',\n",
       "       'GSM1215102', 'GSM1215105', 'GSM1131194', 'GSM1215104',\n",
       "       'GSM1215106', 'GSM1131196', 'GSM1215103', 'GSM1519571',\n",
       "       'GSM1519563', 'GSM1519568', 'GSM1519566', 'GSM1519562',\n",
       "       'GSM1519560', 'GSM1519567', 'GSM1519570', 'GSM1519564',\n",
       "       'GSM1519565', 'GSM1519561', 'GSM1519569', 'GSM2877888',\n",
       "       'GSM2877889', 'GSM2877890', 'GSM2877892', 'GSM2877893',\n",
       "       'GSM2877895', 'GSM2877896', 'GSM2877897', 'GSM2877898',\n",
       "       'GSM2877899', 'GSM2877900', 'GSM2877901', 'GSM2877902',\n",
       "       'GSM2877903', 'GSM2877904', 'GSM2877905', 'GSM2877906',\n",
       "       'GSM2877907', 'GSM2877908', 'GSM2877909', 'GSM2877910',\n",
       "       'GSM2877911', 'GSM2877912', 'GSM2877913', 'GSM2877914',\n",
       "       'GSM2877915', 'GSM2877916', 'GSM2877917', 'GSM2877918',\n",
       "       'GSM2877919', 'GSM2877920', 'GSM2877921', 'GSM2877922',\n",
       "       'GSM2877923', 'GSM2877924', 'GSM2877925', 'GSM2877926',\n",
       "       'GSM2877927', 'GSM2877928', 'GSM2877929', 'GSM2877930',\n",
       "       'GSM2877931', 'GSM2877932', 'GSM2877933', 'GSM2877934',\n",
       "       'GSM2877935', 'GSM2877936', 'GSM2877937', 'GSM2877938',\n",
       "       'GSM2877939', 'GSM2877940', 'GSM2877949', 'GSM2877950',\n",
       "       'GSM2877951', 'GSM2877953', 'GSM2877954', 'GSM2877955',\n",
       "       'GSM2877956', 'GSM2877957', 'GSM2877958', 'GSM3560280',\n",
       "       'GSM3560281', 'GSM4162514', 'GSM4162515', 'GSM4162516',\n",
       "       'GSM4162517', 'GSM4162518', 'GSM4162519', 'GSM4162520',\n",
       "       'GSM4162521', 'GSM4162522', 'GSM4162523', 'GSM4162524',\n",
       "       'GSM4162525', 'GSM4905064', 'GSM4905065', 'GSM4905066',\n",
       "       'GSM5071253', 'GSM5071254', 'GSM5071255', 'GSM5071256',\n",
       "       'GSM5071257', 'GSM5071258', 'GSM5071259', 'GSM5071260',\n",
       "       'GSM5134106', 'GSM5134108', 'GSM5134110', 'GSM5134111'],\n",
       "      dtype=object)"
      ]
     },
     "execution_count": 164,
     "metadata": {},
     "output_type": "execute_result"
    }
   ],
   "source": [
    "sample_types[sample_types.type==\"Granulosa\"].index.values"
   ]
  },
  {
   "cell_type": "code",
   "execution_count": 165,
   "metadata": {},
   "outputs": [
    {
     "data": {
      "text/html": [
       "<div>\n",
       "<style scoped>\n",
       "    .dataframe tbody tr th:only-of-type {\n",
       "        vertical-align: middle;\n",
       "    }\n",
       "\n",
       "    .dataframe tbody tr th {\n",
       "        vertical-align: top;\n",
       "    }\n",
       "\n",
       "    .dataframe thead th {\n",
       "        text-align: right;\n",
       "    }\n",
       "</style>\n",
       "<table border=\"1\" class=\"dataframe\">\n",
       "  <thead>\n",
       "    <tr style=\"text-align: right;\">\n",
       "      <th></th>\n",
       "      <th>geo_id</th>\n",
       "      <th>type</th>\n",
       "    </tr>\n",
       "    <tr>\n",
       "      <th>geo_id</th>\n",
       "      <th></th>\n",
       "      <th></th>\n",
       "    </tr>\n",
       "  </thead>\n",
       "  <tbody>\n",
       "    <tr>\n",
       "      <th>GSM741172</th>\n",
       "      <td>GSM741172</td>\n",
       "      <td>HELA</td>\n",
       "    </tr>\n",
       "    <tr>\n",
       "      <th>GSM741170</th>\n",
       "      <td>GSM741170</td>\n",
       "      <td>HELA</td>\n",
       "    </tr>\n",
       "    <tr>\n",
       "      <th>GSM741171</th>\n",
       "      <td>GSM741171</td>\n",
       "      <td>HELA</td>\n",
       "    </tr>\n",
       "    <tr>\n",
       "      <th>GSM907015</th>\n",
       "      <td>GSM907015</td>\n",
       "      <td>Macrophage</td>\n",
       "    </tr>\n",
       "    <tr>\n",
       "      <th>GSM1193921</th>\n",
       "      <td>GSM1193921</td>\n",
       "      <td>MDAMB231</td>\n",
       "    </tr>\n",
       "    <tr>\n",
       "      <th>...</th>\n",
       "      <td>...</td>\n",
       "      <td>...</td>\n",
       "    </tr>\n",
       "    <tr>\n",
       "      <th>GSM5577336</th>\n",
       "      <td>GSM5577336</td>\n",
       "      <td>HUVEC</td>\n",
       "    </tr>\n",
       "    <tr>\n",
       "      <th>GSM5577337</th>\n",
       "      <td>GSM5577337</td>\n",
       "      <td>HUVEC</td>\n",
       "    </tr>\n",
       "    <tr>\n",
       "      <th>GSM5580099</th>\n",
       "      <td>GSM5580099</td>\n",
       "      <td>Macrophage</td>\n",
       "    </tr>\n",
       "    <tr>\n",
       "      <th>GSM5580100</th>\n",
       "      <td>GSM5580100</td>\n",
       "      <td>Macrophage</td>\n",
       "    </tr>\n",
       "    <tr>\n",
       "      <th>GSM5580102</th>\n",
       "      <td>GSM5580102</td>\n",
       "      <td>Macrophage</td>\n",
       "    </tr>\n",
       "  </tbody>\n",
       "</table>\n",
       "<p>62571 rows × 2 columns</p>\n",
       "</div>"
      ],
      "text/plain": [
       "                geo_id        type\n",
       "geo_id                            \n",
       "GSM741172    GSM741172        HELA\n",
       "GSM741170    GSM741170        HELA\n",
       "GSM741171    GSM741171        HELA\n",
       "GSM907015    GSM907015  Macrophage\n",
       "GSM1193921  GSM1193921    MDAMB231\n",
       "...                ...         ...\n",
       "GSM5577336  GSM5577336       HUVEC\n",
       "GSM5577337  GSM5577337       HUVEC\n",
       "GSM5580099  GSM5580099  Macrophage\n",
       "GSM5580100  GSM5580100  Macrophage\n",
       "GSM5580102  GSM5580102  Macrophage\n",
       "\n",
       "[62571 rows x 2 columns]"
      ]
     },
     "execution_count": 165,
     "metadata": {},
     "output_type": "execute_result"
    }
   ],
   "source": [
    "sample_types"
   ]
  },
  {
   "cell_type": "code",
   "execution_count": 166,
   "metadata": {},
   "outputs": [
    {
     "data": {
      "text/plain": [
       "array([], dtype=object)"
      ]
     },
     "execution_count": 166,
     "metadata": {},
     "output_type": "execute_result"
    }
   ],
   "source": [
    "n_samples[n_samples[\"count\"]==1].index.values"
   ]
  },
  {
   "cell_type": "code",
   "execution_count": 167,
   "metadata": {},
   "outputs": [],
   "source": [
    "drop_samples=[]\n",
    "for sample in n_samples[n_samples[\"count\"]==1].index.values:\n",
    "    drop_samples.extend(sample_types[sample_types.type==sample].index.values)"
   ]
  },
  {
   "cell_type": "code",
   "execution_count": 168,
   "metadata": {},
   "outputs": [
    {
     "data": {
      "text/plain": [
       "[]"
      ]
     },
     "execution_count": 168,
     "metadata": {},
     "output_type": "execute_result"
    }
   ],
   "source": [
    "drop_samples"
   ]
  },
  {
   "cell_type": "code",
   "execution_count": 169,
   "metadata": {},
   "outputs": [],
   "source": [
    "X=results.copy()"
   ]
  },
  {
   "cell_type": "code",
   "execution_count": 170,
   "metadata": {},
   "outputs": [],
   "source": [
    "y=secreted_sum.copy()"
   ]
  },
  {
   "cell_type": "code",
   "execution_count": 171,
   "metadata": {},
   "outputs": [
    {
     "data": {
      "text/plain": [
       "(62571, 18952)"
      ]
     },
     "execution_count": 171,
     "metadata": {},
     "output_type": "execute_result"
    }
   ],
   "source": [
    "X.shape"
   ]
  },
  {
   "cell_type": "code",
   "execution_count": 172,
   "metadata": {},
   "outputs": [
    {
     "data": {
      "text/plain": [
       "(62571, 1)"
      ]
     },
     "execution_count": 172,
     "metadata": {},
     "output_type": "execute_result"
    }
   ],
   "source": [
    "y.shape"
   ]
  },
  {
   "cell_type": "code",
   "execution_count": 173,
   "metadata": {},
   "outputs": [],
   "source": [
    "if len(drop_samples)>0:\n",
    "    X.drop(index=drop_samples,inplace=True)\n",
    "    y.drop(index=drop_samples,inplace=True)"
   ]
  },
  {
   "cell_type": "code",
   "execution_count": 174,
   "metadata": {},
   "outputs": [
    {
     "name": "stdout",
     "output_type": "stream",
     "text": [
      "X_in shape: (62571, 18952)\n",
      "y_in shape: (62571, 1)\n"
     ]
    }
   ],
   "source": [
    "print(\"X_in shape: %s\"%(str(X.shape)))\n",
    "print(\"y_in shape: %s\"%(str(y.shape)))"
   ]
  },
  {
   "cell_type": "code",
   "execution_count": 175,
   "metadata": {},
   "outputs": [],
   "source": [
    "selected_samples=sample_types.loc[X.index.values]"
   ]
  },
  {
   "cell_type": "code",
   "execution_count": 176,
   "metadata": {},
   "outputs": [],
   "source": [
    "X_in, X_out, y_in, y_out=train_test_split(X,y,test_size=0.2,random_state=0,stratify=selected_samples.type)"
   ]
  },
  {
   "cell_type": "code",
   "execution_count": 177,
   "metadata": {},
   "outputs": [
    {
     "data": {
      "text/plain": [
       "(50056, 18952)"
      ]
     },
     "execution_count": 177,
     "metadata": {},
     "output_type": "execute_result"
    }
   ],
   "source": [
    "X_in.shape"
   ]
  },
  {
   "cell_type": "code",
   "execution_count": 178,
   "metadata": {},
   "outputs": [
    {
     "data": {
      "text/plain": [
       "(12515, 18952)"
      ]
     },
     "execution_count": 178,
     "metadata": {},
     "output_type": "execute_result"
    }
   ],
   "source": [
    "X_out.shape"
   ]
  },
  {
   "cell_type": "code",
   "execution_count": 179,
   "metadata": {},
   "outputs": [],
   "source": [
    "selected_samples=sample_types.loc[X_in.index.values]"
   ]
  },
  {
   "cell_type": "code",
   "execution_count": 180,
   "metadata": {},
   "outputs": [
    {
     "data": {
      "text/html": [
       "<div>\n",
       "<style scoped>\n",
       "    .dataframe tbody tr th:only-of-type {\n",
       "        vertical-align: middle;\n",
       "    }\n",
       "\n",
       "    .dataframe tbody tr th {\n",
       "        vertical-align: top;\n",
       "    }\n",
       "\n",
       "    .dataframe thead th {\n",
       "        text-align: right;\n",
       "    }\n",
       "</style>\n",
       "<table border=\"1\" class=\"dataframe\">\n",
       "  <thead>\n",
       "    <tr style=\"text-align: right;\">\n",
       "      <th></th>\n",
       "      <th>geo_id</th>\n",
       "      <th>type</th>\n",
       "    </tr>\n",
       "    <tr>\n",
       "      <th>geo_id</th>\n",
       "      <th></th>\n",
       "      <th></th>\n",
       "    </tr>\n",
       "  </thead>\n",
       "  <tbody>\n",
       "    <tr>\n",
       "      <th>GSM3545074</th>\n",
       "      <td>GSM3545074</td>\n",
       "      <td>Pancreatic Islet</td>\n",
       "    </tr>\n",
       "    <tr>\n",
       "      <th>GSM4749746</th>\n",
       "      <td>GSM4749746</td>\n",
       "      <td>HEK293</td>\n",
       "    </tr>\n",
       "    <tr>\n",
       "      <th>GSM4586052</th>\n",
       "      <td>GSM4586052</td>\n",
       "      <td>JURKAT</td>\n",
       "    </tr>\n",
       "    <tr>\n",
       "      <th>GSM4213523</th>\n",
       "      <td>GSM4213523</td>\n",
       "      <td>A549</td>\n",
       "    </tr>\n",
       "    <tr>\n",
       "      <th>GSM1401372</th>\n",
       "      <td>GSM1401372</td>\n",
       "      <td>Osteoblast</td>\n",
       "    </tr>\n",
       "  </tbody>\n",
       "</table>\n",
       "</div>"
      ],
      "text/plain": [
       "                geo_id              type\n",
       "geo_id                                  \n",
       "GSM3545074  GSM3545074  Pancreatic Islet\n",
       "GSM4749746  GSM4749746            HEK293\n",
       "GSM4586052  GSM4586052            JURKAT\n",
       "GSM4213523  GSM4213523              A549\n",
       "GSM1401372  GSM1401372        Osteoblast"
      ]
     },
     "execution_count": 180,
     "metadata": {},
     "output_type": "execute_result"
    }
   ],
   "source": [
    "selected_samples.head()"
   ]
  },
  {
   "cell_type": "code",
   "execution_count": 181,
   "metadata": {},
   "outputs": [
    {
     "data": {
      "text/plain": [
       "(50056, 2)"
      ]
     },
     "execution_count": 181,
     "metadata": {},
     "output_type": "execute_result"
    }
   ],
   "source": [
    "selected_samples.shape"
   ]
  },
  {
   "cell_type": "code",
   "execution_count": 182,
   "metadata": {},
   "outputs": [
    {
     "data": {
      "text/html": [
       "<div>\n",
       "<style scoped>\n",
       "    .dataframe tbody tr th:only-of-type {\n",
       "        vertical-align: middle;\n",
       "    }\n",
       "\n",
       "    .dataframe tbody tr th {\n",
       "        vertical-align: top;\n",
       "    }\n",
       "\n",
       "    .dataframe thead th {\n",
       "        text-align: right;\n",
       "    }\n",
       "</style>\n",
       "<table border=\"1\" class=\"dataframe\">\n",
       "  <thead>\n",
       "    <tr style=\"text-align: right;\">\n",
       "      <th></th>\n",
       "      <th>count</th>\n",
       "    </tr>\n",
       "    <tr>\n",
       "      <th>type</th>\n",
       "      <th></th>\n",
       "    </tr>\n",
       "  </thead>\n",
       "  <tbody>\n",
       "    <tr>\n",
       "      <th>Thymocyte</th>\n",
       "      <td>7</td>\n",
       "    </tr>\n",
       "    <tr>\n",
       "      <th>NCIH460</th>\n",
       "      <td>11</td>\n",
       "    </tr>\n",
       "    <tr>\n",
       "      <th>JEG3</th>\n",
       "      <td>15</td>\n",
       "    </tr>\n",
       "    <tr>\n",
       "      <th>MG63</th>\n",
       "      <td>16</td>\n",
       "    </tr>\n",
       "    <tr>\n",
       "      <th>Alpha Cell</th>\n",
       "      <td>19</td>\n",
       "    </tr>\n",
       "    <tr>\n",
       "      <th>...</th>\n",
       "      <td>...</td>\n",
       "    </tr>\n",
       "    <tr>\n",
       "      <th>HEK293</th>\n",
       "      <td>2601</td>\n",
       "    </tr>\n",
       "    <tr>\n",
       "      <th>MCF7</th>\n",
       "      <td>2707</td>\n",
       "    </tr>\n",
       "    <tr>\n",
       "      <th>Neuron</th>\n",
       "      <td>3580</td>\n",
       "    </tr>\n",
       "    <tr>\n",
       "      <th>Fibroblast</th>\n",
       "      <td>6404</td>\n",
       "    </tr>\n",
       "    <tr>\n",
       "      <th>Pancreatic Islet</th>\n",
       "      <td>8328</td>\n",
       "    </tr>\n",
       "  </tbody>\n",
       "</table>\n",
       "<p>78 rows × 1 columns</p>\n",
       "</div>"
      ],
      "text/plain": [
       "                  count\n",
       "type                   \n",
       "Thymocyte             7\n",
       "NCIH460              11\n",
       "JEG3                 15\n",
       "MG63                 16\n",
       "Alpha Cell           19\n",
       "...                 ...\n",
       "HEK293             2601\n",
       "MCF7               2707\n",
       "Neuron             3580\n",
       "Fibroblast         6404\n",
       "Pancreatic Islet   8328\n",
       "\n",
       "[78 rows x 1 columns]"
      ]
     },
     "execution_count": 182,
     "metadata": {},
     "output_type": "execute_result"
    }
   ],
   "source": [
    "n_samples=selected_samples.groupby(\"type\").count()\n",
    "n_samples.columns=[\"count\"]\n",
    "n_samples.sort_values(by=\"count\")"
   ]
  },
  {
   "cell_type": "code",
   "execution_count": 183,
   "metadata": {},
   "outputs": [
    {
     "data": {
      "text/plain": [
       "array([], dtype=object)"
      ]
     },
     "execution_count": 183,
     "metadata": {},
     "output_type": "execute_result"
    }
   ],
   "source": [
    "n_samples[n_samples[\"count\"]==1].index.values"
   ]
  },
  {
   "cell_type": "code",
   "execution_count": 184,
   "metadata": {},
   "outputs": [],
   "source": [
    "drop_samples=[]\n",
    "for sample in n_samples[n_samples[\"count\"]==1].index.values:\n",
    "    drop_samples.extend(selected_samples[selected_samples.type==sample].index.values)"
   ]
  },
  {
   "cell_type": "code",
   "execution_count": 185,
   "metadata": {},
   "outputs": [
    {
     "data": {
      "text/plain": [
       "[]"
      ]
     },
     "execution_count": 185,
     "metadata": {},
     "output_type": "execute_result"
    }
   ],
   "source": [
    "drop_samples"
   ]
  },
  {
   "cell_type": "code",
   "execution_count": 186,
   "metadata": {},
   "outputs": [
    {
     "data": {
      "text/plain": [
       "(50056, 18952)"
      ]
     },
     "execution_count": 186,
     "metadata": {},
     "output_type": "execute_result"
    }
   ],
   "source": [
    "X_in.shape"
   ]
  },
  {
   "cell_type": "code",
   "execution_count": 187,
   "metadata": {},
   "outputs": [],
   "source": [
    "if len(drop_samples)>0:\n",
    "    X_in.drop(index=drop_samples,inplace=True)\n",
    "    y_in.drop(index=drop_samples,inplace=True)"
   ]
  },
  {
   "cell_type": "code",
   "execution_count": 188,
   "metadata": {},
   "outputs": [
    {
     "name": "stdout",
     "output_type": "stream",
     "text": [
      "X_in shape: (50056, 18952)\n",
      "y_in shape: (50056, 1)\n"
     ]
    }
   ],
   "source": [
    "print(\"X_in shape: %s\"%(str(X_in.shape)))\n",
    "print(\"y_in shape: %s\"%(str(y_in.shape)))"
   ]
  },
  {
   "cell_type": "code",
   "execution_count": 189,
   "metadata": {},
   "outputs": [],
   "source": [
    "X_train, X_test, y_train, y_test=train_test_split(X_in,y_in,test_size=0.5,random_state=1,stratify=selected_samples.type)\n"
   ]
  },
  {
   "cell_type": "code",
   "execution_count": 190,
   "metadata": {},
   "outputs": [
    {
     "name": "stdout",
     "output_type": "stream",
     "text": [
      "X_train shape: (25028, 18952)\n",
      "y_train shape: (25028, 1)\n",
      "X_test shape: (25028, 18952)\n",
      "y_test shape: (25028, 1)\n"
     ]
    }
   ],
   "source": [
    "print(\"X_train shape: %s\"%(str(X_train.shape)))\n",
    "print(\"y_train shape: %s\"%(str(y_train.shape)))\n",
    "print(\"X_test shape: %s\"%(str(X_test.shape)))\n",
    "print(\"y_test shape: %s\"%(str(y_test.shape)))"
   ]
  },
  {
   "cell_type": "code",
   "execution_count": 191,
   "metadata": {},
   "outputs": [],
   "source": [
    "np.save(\"./datasets/genes_clean_v11_train_qnorm_100_nos\",X_train.columns.values)\n",
    "np.save(\"./datasets/samples_clean_v11_train_qnorm_100_nos\",X_train.index.values)\n",
    "np.save(\"./datasets/results_clean_v11_X_train_qnorm_100_nos\", X_train.values)\n",
    "np.save(\"./datasets/results_clean_v11_y_train_qnorm_100_nos\", y_train.values)"
   ]
  },
  {
   "cell_type": "code",
   "execution_count": 192,
   "metadata": {},
   "outputs": [],
   "source": [
    "np.save(\"./datasets/genes_clean_v11_test_qnorm_100_nos\",X_test.columns.values)\n",
    "np.save(\"./datasets/samples_clean_v11_test_qnorm_100_nos\",X_test.index.values)\n",
    "np.save(\"./datasets/results_clean_v11_X_test_qnorm_100_nos\", X_test.values)\n",
    "np.save(\"./datasets/results_clean_v11_y_test_qnorm_100_nos\", y_test.values)"
   ]
  },
  {
   "cell_type": "code",
   "execution_count": 193,
   "metadata": {},
   "outputs": [],
   "source": [
    "np.save(\"./datasets/genes_clean_v11_out_qnorm_100_nos\",X_out.columns.values)\n",
    "np.save(\"./datasets/samples_clean_v11_out_qnorm_100_nos\",X_out.index.values)\n",
    "np.save(\"./datasets/results_clean_v11_out_qnorm_100_nos\", X_out.values)\n",
    "np.save(\"./datasets/results_clean_v11_yout_qnorm_100_nos\", y_out.values)"
   ]
  },
  {
   "cell_type": "code",
   "execution_count": null,
   "metadata": {},
   "outputs": [],
   "source": []
  },
  {
   "cell_type": "code",
   "execution_count": 194,
   "metadata": {},
   "outputs": [],
   "source": [
    "genes=np.load(\"genes_qnorm_v11_clean_noutliers_nosecret.npy\",allow_pickle=True)\n",
    "samples=np.load(\"samples_qnorm_v11_clean_noutliers_nosecret.npy\",allow_pickle=True)\n",
    "X=np.load(\"results_qnorm_v11_clean_noutliers_nosecret.npy\",allow_pickle=True)\n",
    "results=pd.DataFrame(X,index=genes,columns=samples)"
   ]
  },
  {
   "cell_type": "code",
   "execution_count": null,
   "metadata": {},
   "outputs": [],
   "source": [
    "from scipy.stats import spearmanr\n",
    "corr_results=[]\n",
    "for (index,row) in subset_secretory.T.iterrows():\n",
    "    cval=spearmanr((si.secreted.values+1),(row.values+1))\n",
    "    corr_results.append(cval)"
   ]
  },
  {
   "cell_type": "code",
   "execution_count": null,
   "metadata": {},
   "outputs": [],
   "source": [
    "corr_df=pd.DataFrame(corr_results)\n",
    "corr_df.index=subset_secretory.columns.values\n",
    "corr_df.columns=[\"spearman\",\"pval\"]"
   ]
  },
  {
   "cell_type": "code",
   "execution_count": null,
   "metadata": {},
   "outputs": [],
   "source": []
  },
  {
   "cell_type": "code",
   "execution_count": 92,
   "metadata": {},
   "outputs": [],
   "source": [
    "dataset_file=np.load(\"./datasets/results_clean_v10_out_tpm_20.npy\",allow_pickle=True)\n",
    "genes=np.load(\"./datasets/genes_clean_v10_out_tpm_20.npy\",allow_pickle=True)\n",
    "samples=np.load(\"./datasets/samples_clean_v10_out_tpm_20.npy\",allow_pickle=True)\n",
    "\n",
    "X_out=pd.DataFrame(dataset_file,index=samples,columns=genes)"
   ]
  },
  {
   "cell_type": "code",
   "execution_count": 93,
   "metadata": {},
   "outputs": [
    {
     "data": {
      "text/html": [
       "<div>\n",
       "<style scoped>\n",
       "    .dataframe tbody tr th:only-of-type {\n",
       "        vertical-align: middle;\n",
       "    }\n",
       "\n",
       "    .dataframe tbody tr th {\n",
       "        vertical-align: top;\n",
       "    }\n",
       "\n",
       "    .dataframe thead th {\n",
       "        text-align: right;\n",
       "    }\n",
       "</style>\n",
       "<table border=\"1\" class=\"dataframe\">\n",
       "  <thead>\n",
       "    <tr style=\"text-align: right;\">\n",
       "      <th></th>\n",
       "      <th>A1CF</th>\n",
       "      <th>A3GALT2</th>\n",
       "      <th>A4GALT</th>\n",
       "      <th>A4GNT</th>\n",
       "      <th>AAAS</th>\n",
       "      <th>AACS</th>\n",
       "      <th>AADAC</th>\n",
       "      <th>AADACL3</th>\n",
       "      <th>AADACL4</th>\n",
       "      <th>AADAT</th>\n",
       "      <th>...</th>\n",
       "      <th>ZWILCH</th>\n",
       "      <th>ZWINT</th>\n",
       "      <th>ZXDA</th>\n",
       "      <th>ZXDB</th>\n",
       "      <th>ZXDC</th>\n",
       "      <th>ZYG11A</th>\n",
       "      <th>ZYG11B</th>\n",
       "      <th>ZYX</th>\n",
       "      <th>ZZEF1</th>\n",
       "      <th>ZZZ3</th>\n",
       "    </tr>\n",
       "  </thead>\n",
       "  <tbody>\n",
       "    <tr>\n",
       "      <th>GSM2158920</th>\n",
       "      <td>19.439800</td>\n",
       "      <td>0.000000</td>\n",
       "      <td>0.000000</td>\n",
       "      <td>0.000000</td>\n",
       "      <td>3.846130</td>\n",
       "      <td>11.260251</td>\n",
       "      <td>0.645464</td>\n",
       "      <td>0.0</td>\n",
       "      <td>0.000000</td>\n",
       "      <td>0.000000</td>\n",
       "      <td>...</td>\n",
       "      <td>0.000000</td>\n",
       "      <td>0.000000</td>\n",
       "      <td>0.00000</td>\n",
       "      <td>0.000000</td>\n",
       "      <td>0.000000</td>\n",
       "      <td>2.557630</td>\n",
       "      <td>1.679580</td>\n",
       "      <td>0.000000</td>\n",
       "      <td>272.306641</td>\n",
       "      <td>92.155090</td>\n",
       "    </tr>\n",
       "    <tr>\n",
       "      <th>GSM1631494</th>\n",
       "      <td>0.166142</td>\n",
       "      <td>0.215129</td>\n",
       "      <td>1.351443</td>\n",
       "      <td>0.075909</td>\n",
       "      <td>96.477875</td>\n",
       "      <td>19.965361</td>\n",
       "      <td>0.000000</td>\n",
       "      <td>0.0</td>\n",
       "      <td>0.043294</td>\n",
       "      <td>25.086010</td>\n",
       "      <td>...</td>\n",
       "      <td>58.663837</td>\n",
       "      <td>218.287598</td>\n",
       "      <td>2.38937</td>\n",
       "      <td>7.172050</td>\n",
       "      <td>31.910250</td>\n",
       "      <td>11.787792</td>\n",
       "      <td>17.410915</td>\n",
       "      <td>45.045559</td>\n",
       "      <td>20.287897</td>\n",
       "      <td>71.497681</td>\n",
       "    </tr>\n",
       "    <tr>\n",
       "      <th>GSM2154425</th>\n",
       "      <td>0.000000</td>\n",
       "      <td>0.000000</td>\n",
       "      <td>0.000000</td>\n",
       "      <td>0.000000</td>\n",
       "      <td>5.190340</td>\n",
       "      <td>35.188431</td>\n",
       "      <td>0.000000</td>\n",
       "      <td>0.0</td>\n",
       "      <td>0.000000</td>\n",
       "      <td>0.000000</td>\n",
       "      <td>...</td>\n",
       "      <td>0.000000</td>\n",
       "      <td>0.000000</td>\n",
       "      <td>0.00000</td>\n",
       "      <td>0.000000</td>\n",
       "      <td>0.000000</td>\n",
       "      <td>0.542605</td>\n",
       "      <td>21.453501</td>\n",
       "      <td>0.000000</td>\n",
       "      <td>35.743801</td>\n",
       "      <td>0.000000</td>\n",
       "    </tr>\n",
       "    <tr>\n",
       "      <th>GSM2574605</th>\n",
       "      <td>179.622711</td>\n",
       "      <td>0.000000</td>\n",
       "      <td>0.000000</td>\n",
       "      <td>0.000000</td>\n",
       "      <td>62.163139</td>\n",
       "      <td>75.295403</td>\n",
       "      <td>0.000000</td>\n",
       "      <td>0.0</td>\n",
       "      <td>0.000000</td>\n",
       "      <td>0.943416</td>\n",
       "      <td>...</td>\n",
       "      <td>1.090153</td>\n",
       "      <td>0.000000</td>\n",
       "      <td>0.00000</td>\n",
       "      <td>0.315082</td>\n",
       "      <td>0.000000</td>\n",
       "      <td>0.000000</td>\n",
       "      <td>16.049129</td>\n",
       "      <td>0.000000</td>\n",
       "      <td>9.144324</td>\n",
       "      <td>499.279053</td>\n",
       "    </tr>\n",
       "    <tr>\n",
       "      <th>GSM2154096</th>\n",
       "      <td>0.000000</td>\n",
       "      <td>0.000000</td>\n",
       "      <td>0.000000</td>\n",
       "      <td>0.000000</td>\n",
       "      <td>11.141200</td>\n",
       "      <td>24.880426</td>\n",
       "      <td>0.000000</td>\n",
       "      <td>0.0</td>\n",
       "      <td>0.000000</td>\n",
       "      <td>5.131199</td>\n",
       "      <td>...</td>\n",
       "      <td>246.554733</td>\n",
       "      <td>165.219574</td>\n",
       "      <td>0.00000</td>\n",
       "      <td>0.000000</td>\n",
       "      <td>0.000000</td>\n",
       "      <td>3.097280</td>\n",
       "      <td>6.443410</td>\n",
       "      <td>116.758400</td>\n",
       "      <td>1.625126</td>\n",
       "      <td>36.091789</td>\n",
       "    </tr>\n",
       "    <tr>\n",
       "      <th>...</th>\n",
       "      <td>...</td>\n",
       "      <td>...</td>\n",
       "      <td>...</td>\n",
       "      <td>...</td>\n",
       "      <td>...</td>\n",
       "      <td>...</td>\n",
       "      <td>...</td>\n",
       "      <td>...</td>\n",
       "      <td>...</td>\n",
       "      <td>...</td>\n",
       "      <td>...</td>\n",
       "      <td>...</td>\n",
       "      <td>...</td>\n",
       "      <td>...</td>\n",
       "      <td>...</td>\n",
       "      <td>...</td>\n",
       "      <td>...</td>\n",
       "      <td>...</td>\n",
       "      <td>...</td>\n",
       "      <td>...</td>\n",
       "      <td>...</td>\n",
       "    </tr>\n",
       "    <tr>\n",
       "      <th>GSM1585236</th>\n",
       "      <td>0.055114</td>\n",
       "      <td>0.000000</td>\n",
       "      <td>0.630710</td>\n",
       "      <td>0.000000</td>\n",
       "      <td>49.172337</td>\n",
       "      <td>30.128473</td>\n",
       "      <td>0.224386</td>\n",
       "      <td>0.0</td>\n",
       "      <td>0.000000</td>\n",
       "      <td>4.285915</td>\n",
       "      <td>...</td>\n",
       "      <td>78.729507</td>\n",
       "      <td>86.998085</td>\n",
       "      <td>2.22654</td>\n",
       "      <td>3.776230</td>\n",
       "      <td>19.779474</td>\n",
       "      <td>8.674609</td>\n",
       "      <td>24.597490</td>\n",
       "      <td>23.551407</td>\n",
       "      <td>21.692587</td>\n",
       "      <td>58.198353</td>\n",
       "    </tr>\n",
       "    <tr>\n",
       "      <th>GSM4477395</th>\n",
       "      <td>136.553223</td>\n",
       "      <td>0.000000</td>\n",
       "      <td>0.000000</td>\n",
       "      <td>0.000000</td>\n",
       "      <td>38.222187</td>\n",
       "      <td>123.713776</td>\n",
       "      <td>0.000000</td>\n",
       "      <td>0.0</td>\n",
       "      <td>0.000000</td>\n",
       "      <td>0.000000</td>\n",
       "      <td>...</td>\n",
       "      <td>0.000000</td>\n",
       "      <td>0.000000</td>\n",
       "      <td>0.00000</td>\n",
       "      <td>0.000000</td>\n",
       "      <td>0.000000</td>\n",
       "      <td>2.753640</td>\n",
       "      <td>0.208330</td>\n",
       "      <td>0.000000</td>\n",
       "      <td>5.298901</td>\n",
       "      <td>296.105499</td>\n",
       "    </tr>\n",
       "    <tr>\n",
       "      <th>GSM2154427</th>\n",
       "      <td>0.000000</td>\n",
       "      <td>0.000000</td>\n",
       "      <td>0.000000</td>\n",
       "      <td>0.000000</td>\n",
       "      <td>0.000000</td>\n",
       "      <td>11.355700</td>\n",
       "      <td>0.000000</td>\n",
       "      <td>0.0</td>\n",
       "      <td>0.000000</td>\n",
       "      <td>0.000000</td>\n",
       "      <td>...</td>\n",
       "      <td>10.518980</td>\n",
       "      <td>1.218190</td>\n",
       "      <td>0.00000</td>\n",
       "      <td>0.000000</td>\n",
       "      <td>0.000000</td>\n",
       "      <td>0.453258</td>\n",
       "      <td>4.614790</td>\n",
       "      <td>0.000000</td>\n",
       "      <td>1.213870</td>\n",
       "      <td>20.786400</td>\n",
       "    </tr>\n",
       "    <tr>\n",
       "      <th>GSM1528620</th>\n",
       "      <td>0.088469</td>\n",
       "      <td>0.066329</td>\n",
       "      <td>21.939816</td>\n",
       "      <td>0.000000</td>\n",
       "      <td>35.746002</td>\n",
       "      <td>16.949837</td>\n",
       "      <td>0.000000</td>\n",
       "      <td>0.0</td>\n",
       "      <td>0.000000</td>\n",
       "      <td>7.544860</td>\n",
       "      <td>...</td>\n",
       "      <td>41.123173</td>\n",
       "      <td>72.612282</td>\n",
       "      <td>1.72787</td>\n",
       "      <td>4.016170</td>\n",
       "      <td>7.136343</td>\n",
       "      <td>0.311345</td>\n",
       "      <td>20.283871</td>\n",
       "      <td>327.580444</td>\n",
       "      <td>13.371572</td>\n",
       "      <td>29.449060</td>\n",
       "    </tr>\n",
       "    <tr>\n",
       "      <th>GSM3035210</th>\n",
       "      <td>0.000000</td>\n",
       "      <td>0.000000</td>\n",
       "      <td>0.000000</td>\n",
       "      <td>0.000000</td>\n",
       "      <td>15.209331</td>\n",
       "      <td>6.897060</td>\n",
       "      <td>0.000000</td>\n",
       "      <td>0.0</td>\n",
       "      <td>0.000000</td>\n",
       "      <td>7.475245</td>\n",
       "      <td>...</td>\n",
       "      <td>22.818331</td>\n",
       "      <td>24.085602</td>\n",
       "      <td>0.00000</td>\n",
       "      <td>0.533101</td>\n",
       "      <td>1.400983</td>\n",
       "      <td>0.140101</td>\n",
       "      <td>4.749630</td>\n",
       "      <td>1.470090</td>\n",
       "      <td>0.354590</td>\n",
       "      <td>18.273825</td>\n",
       "    </tr>\n",
       "  </tbody>\n",
       "</table>\n",
       "<p>4291 rows × 18980 columns</p>\n",
       "</div>"
      ],
      "text/plain": [
       "                  A1CF   A3GALT2     A4GALT     A4GNT       AAAS        AACS  \\\n",
       "GSM2158920   19.439800  0.000000   0.000000  0.000000   3.846130   11.260251   \n",
       "GSM1631494    0.166142  0.215129   1.351443  0.075909  96.477875   19.965361   \n",
       "GSM2154425    0.000000  0.000000   0.000000  0.000000   5.190340   35.188431   \n",
       "GSM2574605  179.622711  0.000000   0.000000  0.000000  62.163139   75.295403   \n",
       "GSM2154096    0.000000  0.000000   0.000000  0.000000  11.141200   24.880426   \n",
       "...                ...       ...        ...       ...        ...         ...   \n",
       "GSM1585236    0.055114  0.000000   0.630710  0.000000  49.172337   30.128473   \n",
       "GSM4477395  136.553223  0.000000   0.000000  0.000000  38.222187  123.713776   \n",
       "GSM2154427    0.000000  0.000000   0.000000  0.000000   0.000000   11.355700   \n",
       "GSM1528620    0.088469  0.066329  21.939816  0.000000  35.746002   16.949837   \n",
       "GSM3035210    0.000000  0.000000   0.000000  0.000000  15.209331    6.897060   \n",
       "\n",
       "               AADAC  AADACL3   AADACL4      AADAT  ...      ZWILCH  \\\n",
       "GSM2158920  0.645464      0.0  0.000000   0.000000  ...    0.000000   \n",
       "GSM1631494  0.000000      0.0  0.043294  25.086010  ...   58.663837   \n",
       "GSM2154425  0.000000      0.0  0.000000   0.000000  ...    0.000000   \n",
       "GSM2574605  0.000000      0.0  0.000000   0.943416  ...    1.090153   \n",
       "GSM2154096  0.000000      0.0  0.000000   5.131199  ...  246.554733   \n",
       "...              ...      ...       ...        ...  ...         ...   \n",
       "GSM1585236  0.224386      0.0  0.000000   4.285915  ...   78.729507   \n",
       "GSM4477395  0.000000      0.0  0.000000   0.000000  ...    0.000000   \n",
       "GSM2154427  0.000000      0.0  0.000000   0.000000  ...   10.518980   \n",
       "GSM1528620  0.000000      0.0  0.000000   7.544860  ...   41.123173   \n",
       "GSM3035210  0.000000      0.0  0.000000   7.475245  ...   22.818331   \n",
       "\n",
       "                 ZWINT     ZXDA      ZXDB       ZXDC     ZYG11A     ZYG11B  \\\n",
       "GSM2158920    0.000000  0.00000  0.000000   0.000000   2.557630   1.679580   \n",
       "GSM1631494  218.287598  2.38937  7.172050  31.910250  11.787792  17.410915   \n",
       "GSM2154425    0.000000  0.00000  0.000000   0.000000   0.542605  21.453501   \n",
       "GSM2574605    0.000000  0.00000  0.315082   0.000000   0.000000  16.049129   \n",
       "GSM2154096  165.219574  0.00000  0.000000   0.000000   3.097280   6.443410   \n",
       "...                ...      ...       ...        ...        ...        ...   \n",
       "GSM1585236   86.998085  2.22654  3.776230  19.779474   8.674609  24.597490   \n",
       "GSM4477395    0.000000  0.00000  0.000000   0.000000   2.753640   0.208330   \n",
       "GSM2154427    1.218190  0.00000  0.000000   0.000000   0.453258   4.614790   \n",
       "GSM1528620   72.612282  1.72787  4.016170   7.136343   0.311345  20.283871   \n",
       "GSM3035210   24.085602  0.00000  0.533101   1.400983   0.140101   4.749630   \n",
       "\n",
       "                   ZYX       ZZEF1        ZZZ3  \n",
       "GSM2158920    0.000000  272.306641   92.155090  \n",
       "GSM1631494   45.045559   20.287897   71.497681  \n",
       "GSM2154425    0.000000   35.743801    0.000000  \n",
       "GSM2574605    0.000000    9.144324  499.279053  \n",
       "GSM2154096  116.758400    1.625126   36.091789  \n",
       "...                ...         ...         ...  \n",
       "GSM1585236   23.551407   21.692587   58.198353  \n",
       "GSM4477395    0.000000    5.298901  296.105499  \n",
       "GSM2154427    0.000000    1.213870   20.786400  \n",
       "GSM1528620  327.580444   13.371572   29.449060  \n",
       "GSM3035210    1.470090    0.354590   18.273825  \n",
       "\n",
       "[4291 rows x 18980 columns]"
      ]
     },
     "execution_count": 93,
     "metadata": {},
     "output_type": "execute_result"
    }
   ],
   "source": [
    "X_out"
   ]
  },
  {
   "cell_type": "code",
   "execution_count": 83,
   "metadata": {},
   "outputs": [],
   "source": [
    "y_out=np.load(\"datasets/results_clean_v10_yout_tpm_50.npy\",allow_pickle=True)"
   ]
  },
  {
   "cell_type": "code",
   "execution_count": 90,
   "metadata": {},
   "outputs": [
    {
     "data": {
      "text/plain": [
       "array([ 43661, 498245, 232180, ...,  70765,  42574,  45042])"
      ]
     },
     "execution_count": 90,
     "metadata": {},
     "output_type": "execute_result"
    }
   ],
   "source": [
    "y_out.T[0]"
   ]
  },
  {
   "cell_type": "code",
   "execution_count": null,
   "metadata": {},
   "outputs": [],
   "source": []
  },
  {
   "cell_type": "code",
   "execution_count": 146,
   "metadata": {},
   "outputs": [],
   "source": [
    "from random import choices\n",
    "n_samps=20\n",
    "samples=np.load(\"samples_qnorm_clean_v7_train_01.npy\",allow_pickle=True)\n",
    "samples=choices(samples,k=int(n_samps))"
   ]
  },
  {
   "cell_type": "code",
   "execution_count": 147,
   "metadata": {},
   "outputs": [
    {
     "data": {
      "text/plain": [
       "['GSM2343127',\n",
       " 'GSM2691360',\n",
       " 'GSM2072364',\n",
       " 'GSM1838577',\n",
       " 'GSM1602255',\n",
       " 'GSM2138888',\n",
       " 'GSM1646683',\n",
       " 'GSM2050828',\n",
       " 'GSM2574647',\n",
       " 'GSM1958508',\n",
       " 'GSM3032922',\n",
       " 'GSM2344183',\n",
       " 'GSM2458800',\n",
       " 'GSM1333397',\n",
       " 'GSM2343494',\n",
       " 'GSM897081',\n",
       " 'GSM2343517',\n",
       " 'GSM2343799',\n",
       " 'GSM1978810',\n",
       " 'GSM2794425']"
      ]
     },
     "execution_count": 147,
     "metadata": {},
     "output_type": "execute_result"
    }
   ],
   "source": [
    "samples"
   ]
  },
  {
   "cell_type": "code",
   "execution_count": null,
   "metadata": {},
   "outputs": [],
   "source": []
  },
  {
   "cell_type": "code",
   "execution_count": null,
   "metadata": {},
   "outputs": [],
   "source": []
  },
  {
   "cell_type": "code",
   "execution_count": null,
   "metadata": {},
   "outputs": [],
   "source": []
  },
  {
   "cell_type": "code",
   "execution_count": 71,
   "metadata": {},
   "outputs": [],
   "source": [
    "dataset_file=np.load(\"results_qnorm_clean_v7_X_train.npy\",allow_pickle=True)\n",
    "genes=np.load(\"genes_qnorm_clean_v7_train.npy\",allow_pickle=True)\n",
    "samples=np.load(\"samples_qnorm_clean_v7_train.npy\",allow_pickle=True)\n",
    "\n",
    "X_train=pd.DataFrame(dataset_file,index=samples,columns=genes)\n",
    "y_train=np.load(\"results_qnorm_clean_v7_y_train.npy\",allow_pickle=True)\n"
   ]
  },
  {
   "cell_type": "code",
   "execution_count": 72,
   "metadata": {},
   "outputs": [
    {
     "data": {
      "text/html": [
       "<div>\n",
       "<style scoped>\n",
       "    .dataframe tbody tr th:only-of-type {\n",
       "        vertical-align: middle;\n",
       "    }\n",
       "\n",
       "    .dataframe tbody tr th {\n",
       "        vertical-align: top;\n",
       "    }\n",
       "\n",
       "    .dataframe thead th {\n",
       "        text-align: right;\n",
       "    }\n",
       "</style>\n",
       "<table border=\"1\" class=\"dataframe\">\n",
       "  <thead>\n",
       "    <tr style=\"text-align: right;\">\n",
       "      <th></th>\n",
       "      <th>A1CF</th>\n",
       "      <th>A3GALT2</th>\n",
       "      <th>A4GALT</th>\n",
       "      <th>A4GNT</th>\n",
       "      <th>AAAS</th>\n",
       "      <th>AACS</th>\n",
       "      <th>AADAC</th>\n",
       "      <th>AADACL3</th>\n",
       "      <th>AADACL4</th>\n",
       "      <th>AADAT</th>\n",
       "      <th>...</th>\n",
       "      <th>BP-21201H5.1</th>\n",
       "      <th>BP-21264C1.1</th>\n",
       "      <th>BP-2168N6.1</th>\n",
       "      <th>BP-2168N6.3</th>\n",
       "      <th>BP-2171C21.2</th>\n",
       "      <th>BP-2171C21.4</th>\n",
       "      <th>BP-2171C21.5</th>\n",
       "      <th>BP-2171C21.6</th>\n",
       "      <th>BP-2189O9.2</th>\n",
       "      <th>YR211F11.2</th>\n",
       "    </tr>\n",
       "  </thead>\n",
       "  <tbody>\n",
       "    <tr>\n",
       "      <th>GSM1665961</th>\n",
       "      <td>26</td>\n",
       "      <td>0</td>\n",
       "      <td>0</td>\n",
       "      <td>0</td>\n",
       "      <td>839</td>\n",
       "      <td>1099</td>\n",
       "      <td>4</td>\n",
       "      <td>0</td>\n",
       "      <td>0</td>\n",
       "      <td>1332</td>\n",
       "      <td>...</td>\n",
       "      <td>0</td>\n",
       "      <td>333</td>\n",
       "      <td>0</td>\n",
       "      <td>0</td>\n",
       "      <td>4</td>\n",
       "      <td>0</td>\n",
       "      <td>0</td>\n",
       "      <td>0</td>\n",
       "      <td>52</td>\n",
       "      <td>0</td>\n",
       "    </tr>\n",
       "    <tr>\n",
       "      <th>GSM1382450</th>\n",
       "      <td>12</td>\n",
       "      <td>0</td>\n",
       "      <td>31</td>\n",
       "      <td>0</td>\n",
       "      <td>1444</td>\n",
       "      <td>1313</td>\n",
       "      <td>3</td>\n",
       "      <td>0</td>\n",
       "      <td>0</td>\n",
       "      <td>741</td>\n",
       "      <td>...</td>\n",
       "      <td>6</td>\n",
       "      <td>28</td>\n",
       "      <td>0</td>\n",
       "      <td>0</td>\n",
       "      <td>0</td>\n",
       "      <td>8</td>\n",
       "      <td>0</td>\n",
       "      <td>0</td>\n",
       "      <td>124</td>\n",
       "      <td>0</td>\n",
       "    </tr>\n",
       "    <tr>\n",
       "      <th>GSM2175057</th>\n",
       "      <td>26</td>\n",
       "      <td>0</td>\n",
       "      <td>0</td>\n",
       "      <td>0</td>\n",
       "      <td>2151</td>\n",
       "      <td>594</td>\n",
       "      <td>0</td>\n",
       "      <td>0</td>\n",
       "      <td>0</td>\n",
       "      <td>110</td>\n",
       "      <td>...</td>\n",
       "      <td>48</td>\n",
       "      <td>132</td>\n",
       "      <td>0</td>\n",
       "      <td>0</td>\n",
       "      <td>6</td>\n",
       "      <td>0</td>\n",
       "      <td>0</td>\n",
       "      <td>110</td>\n",
       "      <td>859</td>\n",
       "      <td>0</td>\n",
       "    </tr>\n",
       "    <tr>\n",
       "      <th>GSM3021856</th>\n",
       "      <td>5</td>\n",
       "      <td>0</td>\n",
       "      <td>0</td>\n",
       "      <td>0</td>\n",
       "      <td>947</td>\n",
       "      <td>611</td>\n",
       "      <td>0</td>\n",
       "      <td>0</td>\n",
       "      <td>0</td>\n",
       "      <td>1087</td>\n",
       "      <td>...</td>\n",
       "      <td>0</td>\n",
       "      <td>100</td>\n",
       "      <td>0</td>\n",
       "      <td>0</td>\n",
       "      <td>10</td>\n",
       "      <td>0</td>\n",
       "      <td>0</td>\n",
       "      <td>0</td>\n",
       "      <td>24</td>\n",
       "      <td>0</td>\n",
       "    </tr>\n",
       "    <tr>\n",
       "      <th>GSM2392612</th>\n",
       "      <td>7</td>\n",
       "      <td>0</td>\n",
       "      <td>483</td>\n",
       "      <td>1</td>\n",
       "      <td>1399</td>\n",
       "      <td>2151</td>\n",
       "      <td>24</td>\n",
       "      <td>2</td>\n",
       "      <td>0</td>\n",
       "      <td>165</td>\n",
       "      <td>...</td>\n",
       "      <td>21</td>\n",
       "      <td>62</td>\n",
       "      <td>0</td>\n",
       "      <td>0</td>\n",
       "      <td>1</td>\n",
       "      <td>0</td>\n",
       "      <td>1</td>\n",
       "      <td>5</td>\n",
       "      <td>64</td>\n",
       "      <td>0</td>\n",
       "    </tr>\n",
       "  </tbody>\n",
       "</table>\n",
       "<p>5 rows × 25420 columns</p>\n",
       "</div>"
      ],
      "text/plain": [
       "            A1CF  A3GALT2  A4GALT  A4GNT  AAAS  AACS  AADAC  AADACL3  AADACL4  \\\n",
       "GSM1665961    26        0       0      0   839  1099      4        0        0   \n",
       "GSM1382450    12        0      31      0  1444  1313      3        0        0   \n",
       "GSM2175057    26        0       0      0  2151   594      0        0        0   \n",
       "GSM3021856     5        0       0      0   947   611      0        0        0   \n",
       "GSM2392612     7        0     483      1  1399  2151     24        2        0   \n",
       "\n",
       "            AADAT  ...  BP-21201H5.1  BP-21264C1.1  BP-2168N6.1  BP-2168N6.3  \\\n",
       "GSM1665961   1332  ...             0           333            0            0   \n",
       "GSM1382450    741  ...             6            28            0            0   \n",
       "GSM2175057    110  ...            48           132            0            0   \n",
       "GSM3021856   1087  ...             0           100            0            0   \n",
       "GSM2392612    165  ...            21            62            0            0   \n",
       "\n",
       "            BP-2171C21.2  BP-2171C21.4  BP-2171C21.5  BP-2171C21.6  \\\n",
       "GSM1665961             4             0             0             0   \n",
       "GSM1382450             0             8             0             0   \n",
       "GSM2175057             6             0             0           110   \n",
       "GSM3021856            10             0             0             0   \n",
       "GSM2392612             1             0             1             5   \n",
       "\n",
       "            BP-2189O9.2  YR211F11.2  \n",
       "GSM1665961           52           0  \n",
       "GSM1382450          124           0  \n",
       "GSM2175057          859           0  \n",
       "GSM3021856           24           0  \n",
       "GSM2392612           64           0  \n",
       "\n",
       "[5 rows x 25420 columns]"
      ]
     },
     "execution_count": 72,
     "metadata": {},
     "output_type": "execute_result"
    }
   ],
   "source": [
    "X_train.head()"
   ]
  },
  {
   "cell_type": "code",
   "execution_count": 73,
   "metadata": {},
   "outputs": [
    {
     "data": {
      "text/plain": [
       "(2286, 25420)"
      ]
     },
     "execution_count": 73,
     "metadata": {},
     "output_type": "execute_result"
    }
   ],
   "source": [
    "X_train.shape"
   ]
  },
  {
   "cell_type": "code",
   "execution_count": 76,
   "metadata": {},
   "outputs": [
    {
     "data": {
      "text/plain": [
       "(2286, 1)"
      ]
     },
     "execution_count": 76,
     "metadata": {},
     "output_type": "execute_result"
    }
   ],
   "source": [
    "y_train.shape"
   ]
  },
  {
   "cell_type": "code",
   "execution_count": 79,
   "metadata": {},
   "outputs": [],
   "source": [
    "dataset_file=np.load(\"results_qnorm_clean_v7_X_test.npy\",allow_pickle=True)\n",
    "genes=np.load(\"genes_qnorm_clean_v7_test.npy\",allow_pickle=True)\n",
    "samples=np.load(\"samples_qnorm_clean_v7_test.npy\",allow_pickle=True)\n",
    "\n",
    "X_test=pd.DataFrame(dataset_file,index=samples,columns=genes)\n",
    "y_test=np.load(\"results_qnorm_clean_v7_y_test.npy\",allow_pickle=True)"
   ]
  },
  {
   "cell_type": "code",
   "execution_count": 80,
   "metadata": {},
   "outputs": [
    {
     "data": {
      "text/html": [
       "<div>\n",
       "<style scoped>\n",
       "    .dataframe tbody tr th:only-of-type {\n",
       "        vertical-align: middle;\n",
       "    }\n",
       "\n",
       "    .dataframe tbody tr th {\n",
       "        vertical-align: top;\n",
       "    }\n",
       "\n",
       "    .dataframe thead th {\n",
       "        text-align: right;\n",
       "    }\n",
       "</style>\n",
       "<table border=\"1\" class=\"dataframe\">\n",
       "  <thead>\n",
       "    <tr style=\"text-align: right;\">\n",
       "      <th></th>\n",
       "      <th>A1CF</th>\n",
       "      <th>A3GALT2</th>\n",
       "      <th>A4GALT</th>\n",
       "      <th>A4GNT</th>\n",
       "      <th>AAAS</th>\n",
       "      <th>AACS</th>\n",
       "      <th>AADAC</th>\n",
       "      <th>AADACL3</th>\n",
       "      <th>AADACL4</th>\n",
       "      <th>AADAT</th>\n",
       "      <th>...</th>\n",
       "      <th>BP-21201H5.1</th>\n",
       "      <th>BP-21264C1.1</th>\n",
       "      <th>BP-2168N6.1</th>\n",
       "      <th>BP-2168N6.3</th>\n",
       "      <th>BP-2171C21.2</th>\n",
       "      <th>BP-2171C21.4</th>\n",
       "      <th>BP-2171C21.5</th>\n",
       "      <th>BP-2171C21.6</th>\n",
       "      <th>BP-2189O9.2</th>\n",
       "      <th>YR211F11.2</th>\n",
       "    </tr>\n",
       "  </thead>\n",
       "  <tbody>\n",
       "    <tr>\n",
       "      <th>GSM1333407</th>\n",
       "      <td>6</td>\n",
       "      <td>0</td>\n",
       "      <td>537</td>\n",
       "      <td>39</td>\n",
       "      <td>893</td>\n",
       "      <td>903</td>\n",
       "      <td>0</td>\n",
       "      <td>1</td>\n",
       "      <td>0</td>\n",
       "      <td>273</td>\n",
       "      <td>...</td>\n",
       "      <td>26</td>\n",
       "      <td>50</td>\n",
       "      <td>0</td>\n",
       "      <td>0</td>\n",
       "      <td>0</td>\n",
       "      <td>0</td>\n",
       "      <td>5</td>\n",
       "      <td>15</td>\n",
       "      <td>28</td>\n",
       "      <td>0</td>\n",
       "    </tr>\n",
       "    <tr>\n",
       "      <th>GSM2026968</th>\n",
       "      <td>8</td>\n",
       "      <td>0</td>\n",
       "      <td>57</td>\n",
       "      <td>0</td>\n",
       "      <td>1789</td>\n",
       "      <td>588</td>\n",
       "      <td>0</td>\n",
       "      <td>0</td>\n",
       "      <td>2</td>\n",
       "      <td>238</td>\n",
       "      <td>...</td>\n",
       "      <td>4</td>\n",
       "      <td>20</td>\n",
       "      <td>0</td>\n",
       "      <td>0</td>\n",
       "      <td>0</td>\n",
       "      <td>13</td>\n",
       "      <td>0</td>\n",
       "      <td>9</td>\n",
       "      <td>15</td>\n",
       "      <td>0</td>\n",
       "    </tr>\n",
       "    <tr>\n",
       "      <th>GSM2685866</th>\n",
       "      <td>1307</td>\n",
       "      <td>0</td>\n",
       "      <td>138</td>\n",
       "      <td>7</td>\n",
       "      <td>805</td>\n",
       "      <td>772</td>\n",
       "      <td>196</td>\n",
       "      <td>0</td>\n",
       "      <td>0</td>\n",
       "      <td>1554</td>\n",
       "      <td>...</td>\n",
       "      <td>12</td>\n",
       "      <td>735</td>\n",
       "      <td>7</td>\n",
       "      <td>0</td>\n",
       "      <td>0</td>\n",
       "      <td>7</td>\n",
       "      <td>0</td>\n",
       "      <td>0</td>\n",
       "      <td>48</td>\n",
       "      <td>0</td>\n",
       "    </tr>\n",
       "    <tr>\n",
       "      <th>GSM2277146</th>\n",
       "      <td>712</td>\n",
       "      <td>0</td>\n",
       "      <td>89</td>\n",
       "      <td>3</td>\n",
       "      <td>2051</td>\n",
       "      <td>2317</td>\n",
       "      <td>0</td>\n",
       "      <td>1</td>\n",
       "      <td>0</td>\n",
       "      <td>2485</td>\n",
       "      <td>...</td>\n",
       "      <td>54</td>\n",
       "      <td>98</td>\n",
       "      <td>0</td>\n",
       "      <td>0</td>\n",
       "      <td>0</td>\n",
       "      <td>34</td>\n",
       "      <td>0</td>\n",
       "      <td>24</td>\n",
       "      <td>142</td>\n",
       "      <td>0</td>\n",
       "    </tr>\n",
       "    <tr>\n",
       "      <th>GSM2138748</th>\n",
       "      <td>5718</td>\n",
       "      <td>1</td>\n",
       "      <td>13</td>\n",
       "      <td>0</td>\n",
       "      <td>1257</td>\n",
       "      <td>2265</td>\n",
       "      <td>113</td>\n",
       "      <td>3</td>\n",
       "      <td>0</td>\n",
       "      <td>396</td>\n",
       "      <td>...</td>\n",
       "      <td>34</td>\n",
       "      <td>2082</td>\n",
       "      <td>0</td>\n",
       "      <td>0</td>\n",
       "      <td>1</td>\n",
       "      <td>0</td>\n",
       "      <td>1</td>\n",
       "      <td>7</td>\n",
       "      <td>12</td>\n",
       "      <td>0</td>\n",
       "    </tr>\n",
       "  </tbody>\n",
       "</table>\n",
       "<p>5 rows × 25420 columns</p>\n",
       "</div>"
      ],
      "text/plain": [
       "            A1CF  A3GALT2  A4GALT  A4GNT  AAAS  AACS  AADAC  AADACL3  AADACL4  \\\n",
       "GSM1333407     6        0     537     39   893   903      0        1        0   \n",
       "GSM2026968     8        0      57      0  1789   588      0        0        2   \n",
       "GSM2685866  1307        0     138      7   805   772    196        0        0   \n",
       "GSM2277146   712        0      89      3  2051  2317      0        1        0   \n",
       "GSM2138748  5718        1      13      0  1257  2265    113        3        0   \n",
       "\n",
       "            AADAT  ...  BP-21201H5.1  BP-21264C1.1  BP-2168N6.1  BP-2168N6.3  \\\n",
       "GSM1333407    273  ...            26            50            0            0   \n",
       "GSM2026968    238  ...             4            20            0            0   \n",
       "GSM2685866   1554  ...            12           735            7            0   \n",
       "GSM2277146   2485  ...            54            98            0            0   \n",
       "GSM2138748    396  ...            34          2082            0            0   \n",
       "\n",
       "            BP-2171C21.2  BP-2171C21.4  BP-2171C21.5  BP-2171C21.6  \\\n",
       "GSM1333407             0             0             5            15   \n",
       "GSM2026968             0            13             0             9   \n",
       "GSM2685866             0             7             0             0   \n",
       "GSM2277146             0            34             0            24   \n",
       "GSM2138748             1             0             1             7   \n",
       "\n",
       "            BP-2189O9.2  YR211F11.2  \n",
       "GSM1333407           28           0  \n",
       "GSM2026968           15           0  \n",
       "GSM2685866           48           0  \n",
       "GSM2277146          142           0  \n",
       "GSM2138748           12           0  \n",
       "\n",
       "[5 rows x 25420 columns]"
      ]
     },
     "execution_count": 80,
     "metadata": {},
     "output_type": "execute_result"
    }
   ],
   "source": [
    "X_test.head()"
   ]
  },
  {
   "cell_type": "code",
   "execution_count": 81,
   "metadata": {},
   "outputs": [
    {
     "data": {
      "text/plain": [
       "(2286, 25420)"
      ]
     },
     "execution_count": 81,
     "metadata": {},
     "output_type": "execute_result"
    }
   ],
   "source": [
    "X_test.shape"
   ]
  },
  {
   "cell_type": "code",
   "execution_count": 82,
   "metadata": {},
   "outputs": [
    {
     "data": {
      "text/plain": [
       "(2286, 1)"
      ]
     },
     "execution_count": 82,
     "metadata": {},
     "output_type": "execute_result"
    }
   ],
   "source": [
    "y_test.shape"
   ]
  },
  {
   "cell_type": "code",
   "execution_count": null,
   "metadata": {},
   "outputs": [],
   "source": []
  },
  {
   "cell_type": "code",
   "execution_count": null,
   "metadata": {},
   "outputs": [],
   "source": []
  },
  {
   "cell_type": "code",
   "execution_count": null,
   "metadata": {},
   "outputs": [],
   "source": []
  },
  {
   "cell_type": "code",
   "execution_count": 101,
   "metadata": {},
   "outputs": [
    {
     "data": {
      "text/plain": [
       "(1144, 25420)"
      ]
     },
     "execution_count": 101,
     "metadata": {},
     "output_type": "execute_result"
    }
   ],
   "source": [
    "dataset_file.shape"
   ]
  },
  {
   "cell_type": "code",
   "execution_count": 102,
   "metadata": {},
   "outputs": [
    {
     "data": {
      "text/plain": [
       "(25420,)"
      ]
     },
     "execution_count": 102,
     "metadata": {},
     "output_type": "execute_result"
    }
   ],
   "source": [
    "genes.shape"
   ]
  },
  {
   "cell_type": "code",
   "execution_count": 103,
   "metadata": {},
   "outputs": [
    {
     "data": {
      "text/plain": [
       "(1144,)"
      ]
     },
     "execution_count": 103,
     "metadata": {},
     "output_type": "execute_result"
    }
   ],
   "source": [
    "samples.shape"
   ]
  },
  {
   "cell_type": "code",
   "execution_count": null,
   "metadata": {},
   "outputs": [],
   "source": []
  },
  {
   "cell_type": "code",
   "execution_count": 104,
   "metadata": {},
   "outputs": [],
   "source": [
    "results=pd.DataFrame(dataset_file,index=samples,columns=genes)"
   ]
  },
  {
   "cell_type": "code",
   "execution_count": null,
   "metadata": {},
   "outputs": [],
   "source": []
  },
  {
   "cell_type": "code",
   "execution_count": 105,
   "metadata": {},
   "outputs": [
    {
     "data": {
      "text/html": [
       "<div>\n",
       "<style scoped>\n",
       "    .dataframe tbody tr th:only-of-type {\n",
       "        vertical-align: middle;\n",
       "    }\n",
       "\n",
       "    .dataframe tbody tr th {\n",
       "        vertical-align: top;\n",
       "    }\n",
       "\n",
       "    .dataframe thead th {\n",
       "        text-align: right;\n",
       "    }\n",
       "</style>\n",
       "<table border=\"1\" class=\"dataframe\">\n",
       "  <thead>\n",
       "    <tr style=\"text-align: right;\">\n",
       "      <th></th>\n",
       "      <th>A1CF</th>\n",
       "      <th>A3GALT2</th>\n",
       "      <th>A4GALT</th>\n",
       "      <th>A4GNT</th>\n",
       "      <th>AAAS</th>\n",
       "      <th>AACS</th>\n",
       "      <th>AADAC</th>\n",
       "      <th>AADACL3</th>\n",
       "      <th>AADACL4</th>\n",
       "      <th>AADAT</th>\n",
       "      <th>...</th>\n",
       "      <th>BP-21201H5.1</th>\n",
       "      <th>BP-21264C1.1</th>\n",
       "      <th>BP-2168N6.1</th>\n",
       "      <th>BP-2168N6.3</th>\n",
       "      <th>BP-2171C21.2</th>\n",
       "      <th>BP-2171C21.4</th>\n",
       "      <th>BP-2171C21.5</th>\n",
       "      <th>BP-2171C21.6</th>\n",
       "      <th>BP-2189O9.2</th>\n",
       "      <th>YR211F11.2</th>\n",
       "    </tr>\n",
       "  </thead>\n",
       "  <tbody>\n",
       "    <tr>\n",
       "      <th>GSM3032921</th>\n",
       "      <td>8</td>\n",
       "      <td>0</td>\n",
       "      <td>1086</td>\n",
       "      <td>0</td>\n",
       "      <td>770</td>\n",
       "      <td>2783</td>\n",
       "      <td>35</td>\n",
       "      <td>0</td>\n",
       "      <td>0</td>\n",
       "      <td>247</td>\n",
       "      <td>...</td>\n",
       "      <td>60</td>\n",
       "      <td>37</td>\n",
       "      <td>0</td>\n",
       "      <td>0</td>\n",
       "      <td>0</td>\n",
       "      <td>0</td>\n",
       "      <td>0</td>\n",
       "      <td>8</td>\n",
       "      <td>4</td>\n",
       "      <td>0</td>\n",
       "    </tr>\n",
       "    <tr>\n",
       "      <th>GSM1657147</th>\n",
       "      <td>7942</td>\n",
       "      <td>0</td>\n",
       "      <td>190</td>\n",
       "      <td>0</td>\n",
       "      <td>691</td>\n",
       "      <td>1434</td>\n",
       "      <td>662</td>\n",
       "      <td>0</td>\n",
       "      <td>0</td>\n",
       "      <td>490</td>\n",
       "      <td>...</td>\n",
       "      <td>0</td>\n",
       "      <td>10</td>\n",
       "      <td>0</td>\n",
       "      <td>0</td>\n",
       "      <td>0</td>\n",
       "      <td>0</td>\n",
       "      <td>0</td>\n",
       "      <td>1</td>\n",
       "      <td>1</td>\n",
       "      <td>0</td>\n",
       "    </tr>\n",
       "    <tr>\n",
       "      <th>GSM2667643</th>\n",
       "      <td>4</td>\n",
       "      <td>0</td>\n",
       "      <td>482</td>\n",
       "      <td>0</td>\n",
       "      <td>1493</td>\n",
       "      <td>803</td>\n",
       "      <td>0</td>\n",
       "      <td>0</td>\n",
       "      <td>0</td>\n",
       "      <td>283</td>\n",
       "      <td>...</td>\n",
       "      <td>129</td>\n",
       "      <td>4</td>\n",
       "      <td>0</td>\n",
       "      <td>0</td>\n",
       "      <td>0</td>\n",
       "      <td>8</td>\n",
       "      <td>0</td>\n",
       "      <td>0</td>\n",
       "      <td>12</td>\n",
       "      <td>0</td>\n",
       "    </tr>\n",
       "    <tr>\n",
       "      <th>GSM2550462</th>\n",
       "      <td>5</td>\n",
       "      <td>3</td>\n",
       "      <td>554</td>\n",
       "      <td>8</td>\n",
       "      <td>1451</td>\n",
       "      <td>764</td>\n",
       "      <td>17</td>\n",
       "      <td>0</td>\n",
       "      <td>0</td>\n",
       "      <td>448</td>\n",
       "      <td>...</td>\n",
       "      <td>35</td>\n",
       "      <td>11</td>\n",
       "      <td>0</td>\n",
       "      <td>0</td>\n",
       "      <td>0</td>\n",
       "      <td>0</td>\n",
       "      <td>0</td>\n",
       "      <td>5</td>\n",
       "      <td>0</td>\n",
       "      <td>0</td>\n",
       "    </tr>\n",
       "    <tr>\n",
       "      <th>GSM1647047</th>\n",
       "      <td>0</td>\n",
       "      <td>0</td>\n",
       "      <td>1706</td>\n",
       "      <td>0</td>\n",
       "      <td>703</td>\n",
       "      <td>794</td>\n",
       "      <td>0</td>\n",
       "      <td>0</td>\n",
       "      <td>0</td>\n",
       "      <td>0</td>\n",
       "      <td>...</td>\n",
       "      <td>74</td>\n",
       "      <td>0</td>\n",
       "      <td>0</td>\n",
       "      <td>0</td>\n",
       "      <td>0</td>\n",
       "      <td>0</td>\n",
       "      <td>0</td>\n",
       "      <td>21</td>\n",
       "      <td>0</td>\n",
       "      <td>0</td>\n",
       "    </tr>\n",
       "  </tbody>\n",
       "</table>\n",
       "<p>5 rows × 25420 columns</p>\n",
       "</div>"
      ],
      "text/plain": [
       "            A1CF  A3GALT2  A4GALT  A4GNT  AAAS  AACS  AADAC  AADACL3  AADACL4  \\\n",
       "GSM3032921     8        0    1086      0   770  2783     35        0        0   \n",
       "GSM1657147  7942        0     190      0   691  1434    662        0        0   \n",
       "GSM2667643     4        0     482      0  1493   803      0        0        0   \n",
       "GSM2550462     5        3     554      8  1451   764     17        0        0   \n",
       "GSM1647047     0        0    1706      0   703   794      0        0        0   \n",
       "\n",
       "            AADAT  ...  BP-21201H5.1  BP-21264C1.1  BP-2168N6.1  BP-2168N6.3  \\\n",
       "GSM3032921    247  ...            60            37            0            0   \n",
       "GSM1657147    490  ...             0            10            0            0   \n",
       "GSM2667643    283  ...           129             4            0            0   \n",
       "GSM2550462    448  ...            35            11            0            0   \n",
       "GSM1647047      0  ...            74             0            0            0   \n",
       "\n",
       "            BP-2171C21.2  BP-2171C21.4  BP-2171C21.5  BP-2171C21.6  \\\n",
       "GSM3032921             0             0             0             8   \n",
       "GSM1657147             0             0             0             1   \n",
       "GSM2667643             0             8             0             0   \n",
       "GSM2550462             0             0             0             5   \n",
       "GSM1647047             0             0             0            21   \n",
       "\n",
       "            BP-2189O9.2  YR211F11.2  \n",
       "GSM3032921            4           0  \n",
       "GSM1657147            1           0  \n",
       "GSM2667643           12           0  \n",
       "GSM2550462            0           0  \n",
       "GSM1647047            0           0  \n",
       "\n",
       "[5 rows x 25420 columns]"
      ]
     },
     "execution_count": 105,
     "metadata": {},
     "output_type": "execute_result"
    }
   ],
   "source": [
    "results.head()"
   ]
  },
  {
   "cell_type": "code",
   "execution_count": 91,
   "metadata": {},
   "outputs": [
    {
     "data": {
      "text/plain": [
       "False"
      ]
     },
     "execution_count": 91,
     "metadata": {},
     "output_type": "execute_result"
    }
   ],
   "source": [
    "\"RP11-146N23.1\" in genes"
   ]
  },
  {
   "cell_type": "code",
   "execution_count": 92,
   "metadata": {},
   "outputs": [
    {
     "data": {
      "text/plain": [
       "array(['GSM3032921', 'GSM1657147', 'GSM2667643', ..., 'GSM2138837',\n",
       "       'GSM2011508', 'GSM2041392'], dtype=object)"
      ]
     },
     "execution_count": 92,
     "metadata": {},
     "output_type": "execute_result"
    }
   ],
   "source": [
    "genes"
   ]
  },
  {
   "cell_type": "code",
   "execution_count": 85,
   "metadata": {},
   "outputs": [],
   "source": [
    "y=np.load(\"results_dseq2_clean_v7_clean_yout.npy\",allow_pickle=True)"
   ]
  },
  {
   "cell_type": "code",
   "execution_count": 87,
   "metadata": {},
   "outputs": [
    {
     "data": {
      "text/plain": [
       "(1144, 1)"
      ]
     },
     "execution_count": 87,
     "metadata": {},
     "output_type": "execute_result"
    }
   ],
   "source": [
    "y.shape"
   ]
  },
  {
   "cell_type": "code",
   "execution_count": null,
   "metadata": {},
   "outputs": [],
   "source": []
  }
 ],
 "metadata": {
  "kernelspec": {
   "display_name": "Python 3",
   "language": "python",
   "name": "python3"
  },
  "language_info": {
   "codemirror_mode": {
    "name": "ipython",
    "version": 3
   },
   "file_extension": ".py",
   "mimetype": "text/x-python",
   "name": "python",
   "nbconvert_exporter": "python",
   "pygments_lexer": "ipython3",
   "version": "3.9.4"
  }
 },
 "nbformat": 4,
 "nbformat_minor": 4
}
