{
 "cells": [
  {
   "cell_type": "markdown",
   "metadata": {},
   "source": [
    "The following script will parse the GEO IDs (samples) from the R scripts that were retrieved manually from archS4 for each individual cell type category.\n",
    "The aim is to extract the expression vectors of the selected samples from the hdf5 file downloaded from archS4 dataset version V11."
   ]
  },
  {
   "cell_type": "code",
   "execution_count": 2,
   "metadata": {},
   "outputs": [],
   "source": [
    "import pandas as pd\n",
    "import os"
   ]
  },
  {
   "cell_type": "markdown",
   "metadata": {},
   "source": [
    "### Loading samples list"
   ]
  },
  {
   "cell_type": "markdown",
   "metadata": {},
   "source": [
    "### Parsing R scripts from archs4 to extract sample geo_ids and cell types"
   ]
  },
  {
   "cell_type": "code",
   "execution_count": 27,
   "metadata": {},
   "outputs": [],
   "source": [
    "labels=[]\n",
    "for subdir, dirs, files in os.walk(\"../\"):\n",
    "    for file in files:\n",
    "        samples=[]\n",
    "        filepath = subdir + os.sep + file\n",
    "        if filepath.endswith(\".r\"):\n",
    "            with open(filepath) as inf:\n",
    "                temp_df=pd.DataFrame(columns=[\"geo_id\",\"type\"])\n",
    "                content=inf.read().splitlines()\n",
    "                content=str(content[16:-18]).strip()\n",
    "                for sample in content[content.find(\"(\")+1:content.find(\")\")].split(\",\"):\n",
    "                    clean_sample=sample.strip(\" \\\\'\\\"\")\n",
    "                    if clean_sample!=\"\":\n",
    "                        samples.append(clean_sample)\n",
    "            temp_df[\"geo_id\"]=samples\n",
    "            temp_df[\"type\"]=file.strip(\".r\")\n",
    "            labels.append(temp_df)\n",
    "labels = pd.concat(labels, ignore_index=True)"
   ]
  },
  {
   "cell_type": "code",
   "execution_count": 28,
   "metadata": {},
   "outputs": [
    {
     "data": {
      "text/plain": "       geo_id    type\n0  GSM1241249  HCT116\n1  GSM1241140  HCT116\n2  GSM1241225  HCT116\n3  GSM1241162  HCT116\n4  GSM1151059  HCT116",
      "text/html": "<div>\n<style scoped>\n    .dataframe tbody tr th:only-of-type {\n        vertical-align: middle;\n    }\n\n    .dataframe tbody tr th {\n        vertical-align: top;\n    }\n\n    .dataframe thead th {\n        text-align: right;\n    }\n</style>\n<table border=\"1\" class=\"dataframe\">\n  <thead>\n    <tr style=\"text-align: right;\">\n      <th></th>\n      <th>geo_id</th>\n      <th>type</th>\n    </tr>\n  </thead>\n  <tbody>\n    <tr>\n      <th>0</th>\n      <td>GSM1241249</td>\n      <td>HCT116</td>\n    </tr>\n    <tr>\n      <th>1</th>\n      <td>GSM1241140</td>\n      <td>HCT116</td>\n    </tr>\n    <tr>\n      <th>2</th>\n      <td>GSM1241225</td>\n      <td>HCT116</td>\n    </tr>\n    <tr>\n      <th>3</th>\n      <td>GSM1241162</td>\n      <td>HCT116</td>\n    </tr>\n    <tr>\n      <th>4</th>\n      <td>GSM1151059</td>\n      <td>HCT116</td>\n    </tr>\n  </tbody>\n</table>\n</div>"
     },
     "execution_count": 28,
     "metadata": {},
     "output_type": "execute_result"
    }
   ],
   "source": [
    "labels.head()"
   ]
  },
  {
   "cell_type": "code",
   "execution_count": 29,
   "metadata": {},
   "outputs": [
    {
     "data": {
      "text/plain": "(74989, 2)"
     },
     "execution_count": 29,
     "metadata": {},
     "output_type": "execute_result"
    }
   ],
   "source": [
    "labels.shape"
   ]
  },
  {
   "cell_type": "code",
   "execution_count": 30,
   "metadata": {},
   "outputs": [
    {
     "data": {
      "text/plain": "5326"
     },
     "execution_count": 30,
     "metadata": {},
     "output_type": "execute_result"
    }
   ],
   "source": [
    "neuron=labels[labels[\"type\"]==\"Neuron\"].index\n",
    "len(neuron)"
   ]
  },
  {
   "cell_type": "markdown",
   "metadata": {},
   "source": [
    "searching for duplicated samples..."
   ]
  },
  {
   "cell_type": "code",
   "execution_count": 31,
   "metadata": {},
   "outputs": [
    {
     "data": {
      "text/plain": "74989"
     },
     "execution_count": 31,
     "metadata": {},
     "output_type": "execute_result"
    }
   ],
   "source": [
    "len(labels[\"geo_id\"])"
   ]
  },
  {
   "cell_type": "code",
   "execution_count": 32,
   "metadata": {},
   "outputs": [
    {
     "data": {
      "text/plain": "71965"
     },
     "execution_count": 32,
     "metadata": {},
     "output_type": "execute_result"
    }
   ],
   "source": [
    "len(set(labels[\"geo_id\"]))"
   ]
  },
  {
   "cell_type": "code",
   "execution_count": 45,
   "metadata": {},
   "outputs": [],
   "source": [
    "duplicated=(labels.geo_id.value_counts()>1)[(labels.geo_id.value_counts()>1)].index"
   ]
  },
  {
   "cell_type": "code",
   "execution_count": 46,
   "metadata": {},
   "outputs": [
    {
     "data": {
      "text/plain": "3023"
     },
     "execution_count": 46,
     "metadata": {},
     "output_type": "execute_result"
    }
   ],
   "source": [
    "len(duplicated)"
   ]
  },
  {
   "cell_type": "code",
   "execution_count": 47,
   "metadata": {},
   "outputs": [
    {
     "data": {
      "text/plain": "Index(['GSM4150378', 'GSM3496100', 'GSM2493018', 'GSM2493039', 'GSM2493037',\n       'GSM2493036', 'GSM2493032', 'GSM2493030', 'GSM2493024', 'GSM2493023'],\n      dtype='object')"
     },
     "execution_count": 47,
     "metadata": {},
     "output_type": "execute_result"
    }
   ],
   "source": [
    "duplicated[0:10]"
   ]
  },
  {
   "cell_type": "code",
   "execution_count": 48,
   "metadata": {
    "scrolled": true
   },
   "outputs": [
    {
     "data": {
      "text/plain": "           geo_id        type\n30714  GSM2493511       IMR90\n40114  GSM2493511  Fibroblast",
      "text/html": "<div>\n<style scoped>\n    .dataframe tbody tr th:only-of-type {\n        vertical-align: middle;\n    }\n\n    .dataframe tbody tr th {\n        vertical-align: top;\n    }\n\n    .dataframe thead th {\n        text-align: right;\n    }\n</style>\n<table border=\"1\" class=\"dataframe\">\n  <thead>\n    <tr style=\"text-align: right;\">\n      <th></th>\n      <th>geo_id</th>\n      <th>type</th>\n    </tr>\n  </thead>\n  <tbody>\n    <tr>\n      <th>30714</th>\n      <td>GSM2493511</td>\n      <td>IMR90</td>\n    </tr>\n    <tr>\n      <th>40114</th>\n      <td>GSM2493511</td>\n      <td>Fibroblast</td>\n    </tr>\n  </tbody>\n</table>\n</div>"
     },
     "execution_count": 48,
     "metadata": {},
     "output_type": "execute_result"
    }
   ],
   "source": [
    "#What are these duplicated samples? They belong to the same experiment, they were just labeled both as tissues and cell lines\n",
    "labels[labels[\"geo_id\"]==\"GSM2493511\"]"
   ]
  },
  {
   "cell_type": "code",
   "execution_count": 49,
   "metadata": {},
   "outputs": [
    {
     "data": {
      "text/plain": "           geo_id                         type\n71792  GSM3177890                    Dendritic\n74146  GSM3177890  Plasmacytoid Dendritic Cell",
      "text/html": "<div>\n<style scoped>\n    .dataframe tbody tr th:only-of-type {\n        vertical-align: middle;\n    }\n\n    .dataframe tbody tr th {\n        vertical-align: top;\n    }\n\n    .dataframe thead th {\n        text-align: right;\n    }\n</style>\n<table border=\"1\" class=\"dataframe\">\n  <thead>\n    <tr style=\"text-align: right;\">\n      <th></th>\n      <th>geo_id</th>\n      <th>type</th>\n    </tr>\n  </thead>\n  <tbody>\n    <tr>\n      <th>71792</th>\n      <td>GSM3177890</td>\n      <td>Dendritic</td>\n    </tr>\n    <tr>\n      <th>74146</th>\n      <td>GSM3177890</td>\n      <td>Plasmacytoid Dendritic Cell</td>\n    </tr>\n  </tbody>\n</table>\n</div>"
     },
     "execution_count": 49,
     "metadata": {},
     "output_type": "execute_result"
    }
   ],
   "source": [
    "labels[labels[\"geo_id\"]==\"GSM3177890\"]"
   ]
  },
  {
   "cell_type": "code",
   "execution_count": 50,
   "metadata": {},
   "outputs": [],
   "source": [
    "labels.set_index(\"geo_id\",drop=False,inplace=True)"
   ]
  },
  {
   "cell_type": "code",
   "execution_count": 51,
   "metadata": {},
   "outputs": [],
   "source": [
    "#dropping out duplicated samples keeping just the first one\n",
    "labels.drop_duplicates(subset=\"geo_id\",keep=\"last\",inplace=True)"
   ]
  },
  {
   "cell_type": "code",
   "execution_count": 52,
   "metadata": {},
   "outputs": [
    {
     "data": {
      "text/plain": "(71965, 2)"
     },
     "execution_count": 52,
     "metadata": {},
     "output_type": "execute_result"
    }
   ],
   "source": [
    "labels.shape"
   ]
  },
  {
   "cell_type": "code",
   "execution_count": 53,
   "metadata": {
    "pycharm": {
     "name": "#%%\n"
    }
   },
   "outputs": [],
   "source": [
    "labels.to_csv(\"samples_types.csv\",index=None)"
   ]
  }
 ],
 "metadata": {
  "kernelspec": {
   "display_name": "Python 3",
   "language": "python",
   "name": "python3"
  },
  "language_info": {
   "codemirror_mode": {
    "name": "ipython",
    "version": 3
   },
   "file_extension": ".py",
   "mimetype": "text/x-python",
   "name": "python",
   "nbconvert_exporter": "python",
   "pygments_lexer": "ipython3",
   "version": "3.9.4"
  }
 },
 "nbformat": 4,
 "nbformat_minor": 4
}